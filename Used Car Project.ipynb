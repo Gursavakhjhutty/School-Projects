{
 "cells": [
  {
   "cell_type": "markdown",
   "metadata": {},
   "source": [
    "# What sells a car?\n",
    "\n",
    "We're an analyst at Crankshaft List. Hundreds of free advertisements for vehicles are published on your site every day. You need to study data collected over the last few years and determine which factors influence the price of a vehicle."
   ]
  },
  {
   "cell_type": "markdown",
   "metadata": {},
   "source": [
    "## Initialization"
   ]
  },
  {
   "cell_type": "code",
   "execution_count": 2,
   "metadata": {},
   "outputs": [],
   "source": [
    "# Loading all the libraries\n",
    "import pandas as pd\n",
    "import numpy as np\n",
    "from scipy import stats\n",
    "import matplotlib.pyplot as plt\n",
    "import matplotlib.pyplot\n",
    "import matplotlib.dates\n",
    "from datetime import datetime"
   ]
  },
  {
   "cell_type": "markdown",
   "metadata": {},
   "source": [
    "### Load data"
   ]
  },
  {
   "cell_type": "code",
   "execution_count": 3,
   "metadata": {},
   "outputs": [],
   "source": [
    "# Load the data file into a DataFrame\n",
    "\n",
    "data = pd.read_csv('/datasets/vehicles_us.csv')"
   ]
  },
  {
   "cell_type": "markdown",
   "metadata": {},
   "source": [
    "### Explore initial data"
   ]
  },
  {
   "cell_type": "markdown",
   "metadata": {},
   "source": [
    "The dataset contains the following fields:\n",
    "- `price`\n",
    "- `model_year`\n",
    "- `model`\n",
    "- `condition`\n",
    "- `cylinders`\n",
    "- `fuel` — gas, diesel, etc.\n",
    "- `odometer` — the vehicle's mileage when the ad was published\n",
    "- `transmission`\n",
    "- `paint_color`\n",
    "- `is_4wd` — whether the vehicle has 4-wheel drive (Boolean type)\n",
    "- `date_posted` — the date the ad was published\n",
    "- `days_listed` — from publication to removal"
   ]
  },
  {
   "cell_type": "code",
   "execution_count": 4,
   "metadata": {},
   "outputs": [
    {
     "name": "stdout",
     "output_type": "stream",
     "text": [
      "<class 'pandas.core.frame.DataFrame'>\n",
      "RangeIndex: 51525 entries, 0 to 51524\n",
      "Data columns (total 13 columns):\n",
      " #   Column        Non-Null Count  Dtype  \n",
      "---  ------        --------------  -----  \n",
      " 0   price         51525 non-null  int64  \n",
      " 1   model_year    47906 non-null  float64\n",
      " 2   model         51525 non-null  object \n",
      " 3   condition     51525 non-null  object \n",
      " 4   cylinders     46265 non-null  float64\n",
      " 5   fuel          51525 non-null  object \n",
      " 6   odometer      43633 non-null  float64\n",
      " 7   transmission  51525 non-null  object \n",
      " 8   type          51525 non-null  object \n",
      " 9   paint_color   42258 non-null  object \n",
      " 10  is_4wd        25572 non-null  float64\n",
      " 11  date_posted   51525 non-null  object \n",
      " 12  days_listed   51525 non-null  int64  \n",
      "dtypes: float64(4), int64(2), object(7)\n",
      "memory usage: 5.1+ MB\n"
     ]
    }
   ],
   "source": [
    "# print the general/summary information about the DataFrame\n",
    "data.info()\n"
   ]
  },
  {
   "cell_type": "code",
   "execution_count": 5,
   "metadata": {},
   "outputs": [
    {
     "data": {
      "text/html": [
       "<div>\n",
       "<style scoped>\n",
       "    .dataframe tbody tr th:only-of-type {\n",
       "        vertical-align: middle;\n",
       "    }\n",
       "\n",
       "    .dataframe tbody tr th {\n",
       "        vertical-align: top;\n",
       "    }\n",
       "\n",
       "    .dataframe thead th {\n",
       "        text-align: right;\n",
       "    }\n",
       "</style>\n",
       "<table border=\"1\" class=\"dataframe\">\n",
       "  <thead>\n",
       "    <tr style=\"text-align: right;\">\n",
       "      <th></th>\n",
       "      <th>price</th>\n",
       "      <th>model_year</th>\n",
       "      <th>model</th>\n",
       "      <th>condition</th>\n",
       "      <th>cylinders</th>\n",
       "      <th>fuel</th>\n",
       "      <th>odometer</th>\n",
       "      <th>transmission</th>\n",
       "      <th>type</th>\n",
       "      <th>paint_color</th>\n",
       "      <th>is_4wd</th>\n",
       "      <th>date_posted</th>\n",
       "      <th>days_listed</th>\n",
       "    </tr>\n",
       "  </thead>\n",
       "  <tbody>\n",
       "    <tr>\n",
       "      <th>0</th>\n",
       "      <td>9400</td>\n",
       "      <td>2011.0</td>\n",
       "      <td>bmw x5</td>\n",
       "      <td>good</td>\n",
       "      <td>6.0</td>\n",
       "      <td>gas</td>\n",
       "      <td>145000.0</td>\n",
       "      <td>automatic</td>\n",
       "      <td>SUV</td>\n",
       "      <td>NaN</td>\n",
       "      <td>1.0</td>\n",
       "      <td>2018-06-23</td>\n",
       "      <td>19</td>\n",
       "    </tr>\n",
       "    <tr>\n",
       "      <th>1</th>\n",
       "      <td>25500</td>\n",
       "      <td>NaN</td>\n",
       "      <td>ford f-150</td>\n",
       "      <td>good</td>\n",
       "      <td>6.0</td>\n",
       "      <td>gas</td>\n",
       "      <td>88705.0</td>\n",
       "      <td>automatic</td>\n",
       "      <td>pickup</td>\n",
       "      <td>white</td>\n",
       "      <td>1.0</td>\n",
       "      <td>2018-10-19</td>\n",
       "      <td>50</td>\n",
       "    </tr>\n",
       "    <tr>\n",
       "      <th>2</th>\n",
       "      <td>5500</td>\n",
       "      <td>2013.0</td>\n",
       "      <td>hyundai sonata</td>\n",
       "      <td>like new</td>\n",
       "      <td>4.0</td>\n",
       "      <td>gas</td>\n",
       "      <td>110000.0</td>\n",
       "      <td>automatic</td>\n",
       "      <td>sedan</td>\n",
       "      <td>red</td>\n",
       "      <td>NaN</td>\n",
       "      <td>2019-02-07</td>\n",
       "      <td>79</td>\n",
       "    </tr>\n",
       "    <tr>\n",
       "      <th>3</th>\n",
       "      <td>1500</td>\n",
       "      <td>2003.0</td>\n",
       "      <td>ford f-150</td>\n",
       "      <td>fair</td>\n",
       "      <td>8.0</td>\n",
       "      <td>gas</td>\n",
       "      <td>NaN</td>\n",
       "      <td>automatic</td>\n",
       "      <td>pickup</td>\n",
       "      <td>NaN</td>\n",
       "      <td>NaN</td>\n",
       "      <td>2019-03-22</td>\n",
       "      <td>9</td>\n",
       "    </tr>\n",
       "    <tr>\n",
       "      <th>4</th>\n",
       "      <td>14900</td>\n",
       "      <td>2017.0</td>\n",
       "      <td>chrysler 200</td>\n",
       "      <td>excellent</td>\n",
       "      <td>4.0</td>\n",
       "      <td>gas</td>\n",
       "      <td>80903.0</td>\n",
       "      <td>automatic</td>\n",
       "      <td>sedan</td>\n",
       "      <td>black</td>\n",
       "      <td>NaN</td>\n",
       "      <td>2019-04-02</td>\n",
       "      <td>28</td>\n",
       "    </tr>\n",
       "  </tbody>\n",
       "</table>\n",
       "</div>"
      ],
      "text/plain": [
       "   price  model_year           model  condition  cylinders fuel  odometer  \\\n",
       "0   9400      2011.0          bmw x5       good        6.0  gas  145000.0   \n",
       "1  25500         NaN      ford f-150       good        6.0  gas   88705.0   \n",
       "2   5500      2013.0  hyundai sonata   like new        4.0  gas  110000.0   \n",
       "3   1500      2003.0      ford f-150       fair        8.0  gas       NaN   \n",
       "4  14900      2017.0    chrysler 200  excellent        4.0  gas   80903.0   \n",
       "\n",
       "  transmission    type paint_color  is_4wd date_posted  days_listed  \n",
       "0    automatic     SUV         NaN     1.0  2018-06-23           19  \n",
       "1    automatic  pickup       white     1.0  2018-10-19           50  \n",
       "2    automatic   sedan         red     NaN  2019-02-07           79  \n",
       "3    automatic  pickup         NaN     NaN  2019-03-22            9  \n",
       "4    automatic   sedan       black     NaN  2019-04-02           28  "
      ]
     },
     "execution_count": 5,
     "metadata": {},
     "output_type": "execute_result"
    }
   ],
   "source": [
    "# print a sample of data\n",
    "data.head(5)\n"
   ]
  },
  {
   "cell_type": "markdown",
   "metadata": {},
   "source": [
    "Price should be a float dtype, and lets check on the NaN in model year. Lets also change is_4wd to True and False. There is also NaN's in paint_color, and odometer. "
   ]
  },
  {
   "cell_type": "markdown",
   "metadata": {},
   "source": [
    "Columns with inaccurate data types:\n",
    "Price, is_4wd, odometer, cylinders, date_posted should be in datetime."
   ]
  },
  {
   "cell_type": "markdown",
   "metadata": {},
   "source": [
    "Columns with Missing Values:"
   ]
  },
  {
   "cell_type": "markdown",
   "metadata": {},
   "source": [
    "is_4wd, odometer, model_year, Paint_color"
   ]
  },
  {
   "cell_type": "markdown",
   "metadata": {},
   "source": [
    "### Conclusions and further steps"
   ]
  },
  {
   "cell_type": "markdown",
   "metadata": {},
   "source": [
    "The Model looks pretty typical. Fuel looks pretty normal as well. Type also looks fine. Date_posted and days_listed look fine as well. Next we clean up the data types, find fixes for the missing values and start our analysis. "
   ]
  },
  {
   "cell_type": "markdown",
   "metadata": {},
   "source": [
    "## Treat missing values (if any)"
   ]
  },
  {
   "cell_type": "code",
   "execution_count": 5,
   "metadata": {
    "scrolled": true
   },
   "outputs": [
    {
     "data": {
      "text/plain": [
       "price              0\n",
       "model_year      3619\n",
       "model              0\n",
       "condition          0\n",
       "cylinders       5260\n",
       "fuel               0\n",
       "odometer        7892\n",
       "transmission       0\n",
       "type               0\n",
       "paint_color        0\n",
       "is_4wd             0\n",
       "date_posted        0\n",
       "days_listed        0\n",
       "dtype: int64"
      ]
     },
     "execution_count": 5,
     "metadata": {},
     "output_type": "execute_result"
    }
   ],
   "source": [
    "data['is_4wd'].astype('bool')\n",
    "data['is_4wd'].fillna(value= False, inplace= True)\n",
    "data['is_4wd'].replace(to_replace= 1.0, value= True, inplace= True)\n",
    "data['price'].astype('float')\n",
    "data['paint_color'].fillna('Unknown Color', inplace= True)\n",
    "data.isna().sum()"
   ]
  },
  {
   "cell_type": "code",
   "execution_count": 6,
   "metadata": {},
   "outputs": [],
   "source": [
    "data['model_year'] = data['model_year'].fillna(data.groupby('model')['model_year'].transform('median'))\n",
    "data['cylinders'] = data['cylinders'].fillna(data.groupby('model')['cylinders'].transform('median'))\n",
    "data['odometer'] = data['odometer'].fillna(data.groupby('model_year')['odometer'].transform('mean'))"
   ]
  },
  {
   "cell_type": "markdown",
   "metadata": {},
   "source": [
    "This code snippet \n",
    "data['odometer'] = data['odometer'].fillna(data.groupby('model')['model_year'].transform('mean'))\n",
    "fills missing values with mean odometer by year"
   ]
  },
  {
   "cell_type": "markdown",
   "metadata": {},
   "source": [
    "SO I changed the code snippet from data['odometer'] = data['odometer'].fillna(data.groupby('model')['model_year'].transform('mean'))\n",
    "to data['odometer'] = data['odometer'].fillna(data.groupby('model')['odometer'].transform('mean'))"
   ]
  },
  {
   "cell_type": "markdown",
   "metadata": {},
   "source": [
    "## Fix data types"
   ]
  },
  {
   "cell_type": "code",
   "execution_count": 7,
   "metadata": {},
   "outputs": [],
   "source": [
    "data['date_posted_datetime'] = pd.to_datetime(data['date_posted'])\n",
    "data['model_year_datetime'] = pd.to_datetime(data['model_year'])\n"
   ]
  },
  {
   "cell_type": "markdown",
   "metadata": {},
   "source": [
    "## Enrich data"
   ]
  },
  {
   "cell_type": "code",
   "execution_count": 8,
   "metadata": {},
   "outputs": [
    {
     "data": {
      "text/plain": [
       "0        2018\n",
       "1        2018\n",
       "2        2019\n",
       "3        2019\n",
       "4        2019\n",
       "         ... \n",
       "51520    2018\n",
       "51521    2018\n",
       "51522    2018\n",
       "51523    2018\n",
       "51524    2018\n",
       "Name: ad_placed, Length: 51525, dtype: int64"
      ]
     },
     "execution_count": 8,
     "metadata": {},
     "output_type": "execute_result"
    }
   ],
   "source": [
    "# Add datetime values for when the ad was placed\n",
    "data['ad_placed'] = data['date_posted_datetime'].dt.year\n",
    "data['ad_placed']"
   ]
  },
  {
   "cell_type": "code",
   "execution_count": 9,
   "metadata": {},
   "outputs": [
    {
     "data": {
      "text/plain": [
       "0         8.0\n",
       "1         8.0\n",
       "2         7.0\n",
       "3        17.0\n",
       "4         3.0\n",
       "         ... \n",
       "51520     6.0\n",
       "51521    17.0\n",
       "51522    10.0\n",
       "51523     6.0\n",
       "51524     5.0\n",
       "Name: vehicle_age_for_ad, Length: 51525, dtype: float64"
      ]
     },
     "execution_count": 9,
     "metadata": {},
     "output_type": "execute_result"
    }
   ],
   "source": [
    "# Add the vehicle's age when the ad was placed\n",
    "data['vehicle_age_for_ad'] = (data['date_posted_datetime'].dt.year -data['model_year'])+1\n",
    "data['vehicle_age_for_ad']"
   ]
  },
  {
   "cell_type": "code",
   "execution_count": 10,
   "metadata": {},
   "outputs": [
    {
     "data": {
      "text/plain": [
       "0        18125.000000\n",
       "1        11088.125000\n",
       "2        15714.285714\n",
       "3         9533.632413\n",
       "4        26967.666667\n",
       "             ...     \n",
       "51520    14689.333333\n",
       "51521    10676.470588\n",
       "51522    12800.000000\n",
       "51523    23262.166667\n",
       "51524    18729.740664\n",
       "Name: vehicle_avg_mileage, Length: 51525, dtype: float64"
      ]
     },
     "execution_count": 10,
     "metadata": {},
     "output_type": "execute_result"
    }
   ],
   "source": [
    "# Add the vehicle's average mileage per year\n",
    "data['vehicle_avg_mileage'] = (data['odometer'] / (data['vehicle_age_for_ad']))\n",
    "data['vehicle_avg_mileage'] "
   ]
  },
  {
   "cell_type": "code",
   "execution_count": 11,
   "metadata": {},
   "outputs": [],
   "source": [
    "# It might help to replace the condition values with something that can be manipulated more easily\n",
    "data['condition'].unique() #'good', 'like new', 'fair', 'excellent', 'salvage', 'new'\n",
    "def value_formatting(condition):\n",
    "        if condition== 'salvage':\n",
    "            return 1\n",
    "        elif condition== 'fair':\n",
    "            return 2\n",
    "        elif condition== 'good':\n",
    "            return 3\n",
    "        elif condition== 'excellent':\n",
    "            return 4\n",
    "        elif condition== 'like new':\n",
    "            return 5\n",
    "        elif condition== 'new':\n",
    "            return 6\n",
    "data['conditional_values'] = data['condition'].apply(value_formatting)"
   ]
  },
  {
   "cell_type": "code",
   "execution_count": 12,
   "metadata": {},
   "outputs": [],
   "source": [
    "data['paint_color'].unique()#'Unknown Color', 'white', 'red', 'black', 'blue', 'grey', 'silver','custom', 'orange', 'yellow', 'brown', 'green', 'purple'\n",
    "def color_formatting(condition):\n",
    "    if condition== 'Unknown Color':\n",
    "        return 0\n",
    "    elif condition== 'black':\n",
    "        return 1\n",
    "    elif condition== 'grey':\n",
    "        return 2\n",
    "    elif condition== 'silver':\n",
    "        return 3\n",
    "    elif condition== 'white':\n",
    "        return 4\n",
    "    elif condition== 'red':\n",
    "        return 5\n",
    "    elif condition== 'brown':\n",
    "        return 6\n",
    "    elif condition== 'orange':\n",
    "        return 7\n",
    "    elif condition== 'yellow':\n",
    "        return 8\n",
    "    elif condition== 'green':\n",
    "        return 9\n",
    "    elif condition== 'blue':\n",
    "        return 10\n",
    "    elif condition== 'purple':\n",
    "        return 11\n",
    "    elif condition== 'custom':\n",
    "        return 12\n",
    "data['paint_color_values'] = data['paint_color'].apply(color_formatting)\n",
    "        "
   ]
  },
  {
   "cell_type": "markdown",
   "metadata": {},
   "source": [
    "## Check clean data"
   ]
  },
  {
   "cell_type": "code",
   "execution_count": 13,
   "metadata": {},
   "outputs": [
    {
     "name": "stdout",
     "output_type": "stream",
     "text": [
      "<class 'pandas.core.frame.DataFrame'>\n",
      "RangeIndex: 51525 entries, 0 to 51524\n",
      "Data columns (total 20 columns):\n",
      " #   Column                Non-Null Count  Dtype         \n",
      "---  ------                --------------  -----         \n",
      " 0   price                 51525 non-null  int64         \n",
      " 1   model_year            51525 non-null  float64       \n",
      " 2   model                 51525 non-null  object        \n",
      " 3   condition             51525 non-null  object        \n",
      " 4   cylinders             51525 non-null  float64       \n",
      " 5   fuel                  51525 non-null  object        \n",
      " 6   odometer              51524 non-null  float64       \n",
      " 7   transmission          51525 non-null  object        \n",
      " 8   type                  51525 non-null  object        \n",
      " 9   paint_color           51525 non-null  object        \n",
      " 10  is_4wd                51525 non-null  bool          \n",
      " 11  date_posted           51525 non-null  object        \n",
      " 12  days_listed           51525 non-null  int64         \n",
      " 13  date_posted_datetime  51525 non-null  datetime64[ns]\n",
      " 14  model_year_datetime   51525 non-null  datetime64[ns]\n",
      " 15  ad_placed             51525 non-null  int64         \n",
      " 16  vehicle_age_for_ad    51525 non-null  float64       \n",
      " 17  vehicle_avg_mileage   51524 non-null  float64       \n",
      " 18  conditional_values    51525 non-null  int64         \n",
      " 19  paint_color_values    51525 non-null  int64         \n",
      "dtypes: bool(1), datetime64[ns](2), float64(5), int64(5), object(7)\n",
      "memory usage: 7.5+ MB\n"
     ]
    }
   ],
   "source": [
    "# print the general/summary information about the DataFrame\n",
    "data.info()\n"
   ]
  },
  {
   "cell_type": "code",
   "execution_count": 14,
   "metadata": {
    "scrolled": true
   },
   "outputs": [],
   "source": [
    "# print a sample of data\n",
    "data.sample(10)\n",
    "data['model_year']=data.apply(lambda x:int(x['model_year'])   ,axis=1)\n",
    "data['vehicle_age_for_ad'] = data['vehicle_age_for_ad'].fillna(data['vehicle_age_for_ad'].mean())\n",
    "data['vehicle_avg_mileage'] = data['vehicle_avg_mileage'].fillna(data['vehicle_avg_mileage'].mean())\n",
    "data['vehicle_age_for_ad'] = data['vehicle_age_for_ad'].astype(int)\n",
    "data['vehicle_avg_mileage'] = data['vehicle_avg_mileage'].astype(int)"
   ]
  },
  {
   "cell_type": "markdown",
   "metadata": {},
   "source": [
    "I added this to the code to make that happen\n",
    "data['vehicle_age_for_ad'].astype(int)\n",
    "data['vehicle_avg_mileage'].astype(int)"
   ]
  },
  {
   "cell_type": "code",
   "execution_count": 15,
   "metadata": {},
   "outputs": [
    {
     "name": "stdout",
     "output_type": "stream",
     "text": [
      "<class 'pandas.core.frame.DataFrame'>\n",
      "RangeIndex: 51525 entries, 0 to 51524\n",
      "Data columns (total 20 columns):\n",
      " #   Column                Non-Null Count  Dtype         \n",
      "---  ------                --------------  -----         \n",
      " 0   price                 51525 non-null  int64         \n",
      " 1   model_year            51525 non-null  int64         \n",
      " 2   model                 51525 non-null  object        \n",
      " 3   condition             51525 non-null  object        \n",
      " 4   cylinders             51525 non-null  float64       \n",
      " 5   fuel                  51525 non-null  object        \n",
      " 6   odometer              51524 non-null  float64       \n",
      " 7   transmission          51525 non-null  object        \n",
      " 8   type                  51525 non-null  object        \n",
      " 9   paint_color           51525 non-null  object        \n",
      " 10  is_4wd                51525 non-null  bool          \n",
      " 11  date_posted           51525 non-null  object        \n",
      " 12  days_listed           51525 non-null  int64         \n",
      " 13  date_posted_datetime  51525 non-null  datetime64[ns]\n",
      " 14  model_year_datetime   51525 non-null  datetime64[ns]\n",
      " 15  ad_placed             51525 non-null  int64         \n",
      " 16  vehicle_age_for_ad    51525 non-null  int64         \n",
      " 17  vehicle_avg_mileage   51525 non-null  int64         \n",
      " 18  conditional_values    51525 non-null  int64         \n",
      " 19  paint_color_values    51525 non-null  int64         \n",
      "dtypes: bool(1), datetime64[ns](2), float64(2), int64(8), object(7)\n",
      "memory usage: 7.5+ MB\n"
     ]
    }
   ],
   "source": [
    "data.info()"
   ]
  },
  {
   "cell_type": "markdown",
   "metadata": {},
   "source": [
    "## Study core parameters\n",
    "\n",
    "The parameters are\n",
    "- Price\n",
    "- The vehicle's age when the ad was placed\n",
    "- Mileage\n",
    "- Number of cylinders\n",
    "- Condition"
   ]
  },
  {
   "cell_type": "code",
   "execution_count": 16,
   "metadata": {},
   "outputs": [
    {
     "data": {
      "text/plain": [
       "373200"
      ]
     },
     "execution_count": 16,
     "metadata": {},
     "output_type": "execute_result"
    }
   ],
   "source": [
    "data['vehicle_avg_mileage'].max()"
   ]
  },
  {
   "cell_type": "code",
   "execution_count": 17,
   "metadata": {
    "scrolled": true
   },
   "outputs": [
    {
     "data": {
      "image/png": "[encoded data removed]",
      "text/plain": [
       "<Figure size 432x288 with 1 Axes>"
      ]
     },
     "metadata": {
      "needs_background": "light"
     },
     "output_type": "display_data"
    },
    {
     "data": {
      "image/png": "[encoded data removed]",
      "text/plain": [
       "<Figure size 432x288 with 1 Axes>"
      ]
     },
     "metadata": {
      "needs_background": "light"
     },
     "output_type": "display_data"
    },
    {
     "data": {
      "image/png": "[encoded data removed]",
      "text/plain": [
       "<Figure size 432x288 with 1 Axes>"
      ]
     },
     "metadata": {
      "needs_background": "light"
     },
     "output_type": "display_data"
    },
    {
     "data": {
      "image/png": "[encoded data removed]",
      "text/plain": [
       "<Figure size 432x288 with 1 Axes>"
      ]
     },
     "metadata": {
      "needs_background": "light"
     },
     "output_type": "display_data"
    },
    {
     "data": {
      "image/png": "[encoded data removed]",
      "text/plain": [
       "<Figure size 432x288 with 1 Axes>"
      ]
     },
     "metadata": {
      "needs_background": "light"
     },
     "output_type": "display_data"
    },
    {
     "data": {
      "text/plain": [
       "<Figure size 432x288 with 0 Axes>"
      ]
     },
     "metadata": {},
     "output_type": "display_data"
    }
   ],
   "source": [
    "for i in ['price','vehicle_age_for_ad','vehicle_avg_mileage','cylinders','condition']:\n",
    "    data[i].hist()\n",
    "    plt.title(i)\n",
    "    plt.xlabel(i)\n",
    "    plt.figure()"
   ]
  },
  {
   "cell_type": "markdown",
   "metadata": {},
   "source": [
    "Graph Conclousion: \n",
    "These histograms show the outliers and form of the data. The ouliers for the data in price, vehicle_age_for_ad, vehicile_avg_mileage the shortest section is the outlier section."
   ]
  },
  {
   "cell_type": "code",
   "execution_count": 18,
   "metadata": {},
   "outputs": [
    {
     "data": {
      "text/plain": [
       "<AxesSubplot:xlabel='days_listed', ylabel='price'>"
      ]
     },
     "execution_count": 18,
     "metadata": {},
     "output_type": "execute_result"
    },
    {
     "data": {
      "image/png": "[encoded data removed]",
      "text/plain": [
       "<Figure size 432x288 with 1 Axes>"
      ]
     },
     "metadata": {
      "needs_background": "light"
     },
     "output_type": "display_data"
    },
    {
     "data": {
      "image/png": "[encoded data removed]",
      "text/plain": [
       "<Figure size 432x288 with 1 Axes>"
      ]
     },
     "metadata": {
      "needs_background": "light"
     },
     "output_type": "display_data"
    }
   ],
   "source": [
    "#\n",
    "data['days_listed'].hist()\n",
    "data.plot.scatter(x='days_listed', y='price')\n"
   ]
  },
  {
   "cell_type": "code",
   "execution_count": 19,
   "metadata": {},
   "outputs": [
    {
     "data": {
      "text/plain": [
       "0             good\n",
       "1             good\n",
       "2         like new\n",
       "3             fair\n",
       "4        excellent\n",
       "           ...    \n",
       "51520     like new\n",
       "51521      salvage\n",
       "51522    excellent\n",
       "51523         good\n",
       "51524         good\n",
       "Name: condition, Length: 51525, dtype: object"
      ]
     },
     "execution_count": 19,
     "metadata": {},
     "output_type": "execute_result"
    }
   ],
   "source": [
    "data['condition']"
   ]
  },
  {
   "cell_type": "code",
   "execution_count": 20,
   "metadata": {},
   "outputs": [
    {
     "name": "stdout",
     "output_type": "stream",
     "text": [
      "outliers for price are\n",
      "188      52000\n",
      "360      44900\n",
      "434      47995\n",
      "536      46988\n",
      "610      45500\n",
      "         ...  \n",
      "50715    44995\n",
      "50994    57000\n",
      "51096    42900\n",
      "51122    48000\n",
      "51291    47995\n",
      "Name: price, Length: 619, dtype: int64\n",
      "outliers for ad_placed are\n",
      "Series([], Name: ad_placed, dtype: int64)\n",
      "outliers for vehicle_avg_mileage are\n",
      "95       52992\n",
      "220      74229\n",
      "517      45694\n",
      "545      60693\n",
      "579      51683\n",
      "         ...  \n",
      "51035    40858\n",
      "51109    61593\n",
      "51212    55621\n",
      "51397    44900\n",
      "51446    50502\n",
      "Name: vehicle_avg_mileage, Length: 723, dtype: int64\n",
      "outliers for cylinders are\n",
      "12615    12.0\n",
      "44117    12.0\n",
      "Name: cylinders, dtype: float64\n"
     ]
    }
   ],
   "source": [
    "#\n",
    "for i in ['price','ad_placed','vehicle_avg_mileage','cylinders']:\n",
    "    #outliers\n",
    "    data2 = data[(np.abs(stats.zscore(data[i])) > 3)]\n",
    "    print('outliers for '+i+' are')\n",
    "    print(data2[i])"
   ]
  },
  {
   "cell_type": "code",
   "execution_count": 21,
   "metadata": {},
   "outputs": [
    {
     "data": {
      "image/png": "[encoded data removed]",
      "text/plain": [
       "<Figure size 432x288 with 1 Axes>"
      ]
     },
     "metadata": {
      "needs_background": "light"
     },
     "output_type": "display_data"
    },
    {
     "data": {
      "image/png": "[encoded data removed]",
      "text/plain": [
       "<Figure size 432x288 with 1 Axes>"
      ]
     },
     "metadata": {
      "needs_background": "light"
     },
     "output_type": "display_data"
    },
    {
     "data": {
      "image/png": "[encoded data removed]",
      "text/plain": [
       "<Figure size 432x288 with 1 Axes>"
      ]
     },
     "metadata": {
      "needs_background": "light"
     },
     "output_type": "display_data"
    },
    {
     "data": {
      "image/png": "[encoded data removed]",
      "text/plain": [
       "<Figure size 432x288 with 1 Axes>"
      ]
     },
     "metadata": {
      "needs_background": "light"
     },
     "output_type": "display_data"
    },
    {
     "data": {
      "text/plain": [
       "<Figure size 432x288 with 0 Axes>"
      ]
     },
     "metadata": {},
     "output_type": "display_data"
    }
   ],
   "source": [
    "for i in ['price','ad_placed','vehicle_avg_mileage','cylinders']:\n",
    "    #data without outliers\n",
    "    data3=data[(np.abs(stats.zscore(data[i])) < 3)]\n",
    "    data3[i].hist()\n",
    "    plt.title(i+'filtred')\n",
    "    plt.figure()"
   ]
  },
  {
   "cell_type": "markdown",
   "metadata": {},
   "source": [
    "Using this Z-score method removes then need to study outliers, as anything above a Z-score of 3 is an outlier. If I want access to the outlier data. Outlier_data contains this data. Can using the corr method be a replacement to analyzing histograms? As analyzing the histograms might result in human error on my part. \n"
   ]
  },
  {
   "cell_type": "markdown",
   "metadata": {},
   "source": [
    "## I have used z_score to eliminate outliers and stock data without outliers on data3"
   ]
  },
  {
   "cell_type": "code",
   "execution_count": 22,
   "metadata": {},
   "outputs": [
    {
     "data": {
      "text/plain": [
       "<AxesSubplot:xlabel='odometer', ylabel='conditional_values'>"
      ]
     },
     "execution_count": 22,
     "metadata": {},
     "output_type": "execute_result"
    },
    {
     "data": {
      "image/png": "[encoded data removed]",
      "text/plain": [
       "<Figure size 432x288 with 1 Axes>"
      ]
     },
     "metadata": {
      "needs_background": "light"
     },
     "output_type": "display_data"
    }
   ],
   "source": [
    "#\n",
    "data.plot.scatter(x='odometer', y='conditional_values')\n"
   ]
  },
  {
   "cell_type": "code",
   "execution_count": 23,
   "metadata": {},
   "outputs": [
    {
     "data": {
      "text/plain": [
       "<AxesSubplot:>"
      ]
     },
     "execution_count": 23,
     "metadata": {},
     "output_type": "execute_result"
    },
    {
     "data": {
      "image/png": "[encoded data removed]",
      "text/plain": [
       "<Figure size 432x288 with 1 Axes>"
      ]
     },
     "metadata": {
      "needs_background": "light"
     },
     "output_type": "display_data"
    }
   ],
   "source": [
    "#\n",
    "data['ad_placed'].hist()\n",
    "#dates = matplotlib.dates.date2num('ad_placed')\n",
    "#matplotlib.pyplot.plot_date(dates, 'price')"
   ]
  },
  {
   "cell_type": "code",
   "execution_count": 24,
   "metadata": {},
   "outputs": [
    {
     "name": "stdout",
     "output_type": "stream",
     "text": [
      "<class 'pandas.core.frame.DataFrame'>\n",
      "RangeIndex: 51525 entries, 0 to 51524\n",
      "Data columns (total 20 columns):\n",
      " #   Column                Non-Null Count  Dtype         \n",
      "---  ------                --------------  -----         \n",
      " 0   price                 51525 non-null  int64         \n",
      " 1   model_year            51525 non-null  int64         \n",
      " 2   model                 51525 non-null  object        \n",
      " 3   condition             51525 non-null  object        \n",
      " 4   cylinders             51525 non-null  float64       \n",
      " 5   fuel                  51525 non-null  object        \n",
      " 6   odometer              51524 non-null  float64       \n",
      " 7   transmission          51525 non-null  object        \n",
      " 8   type                  51525 non-null  object        \n",
      " 9   paint_color           51525 non-null  object        \n",
      " 10  is_4wd                51525 non-null  bool          \n",
      " 11  date_posted           51525 non-null  object        \n",
      " 12  days_listed           51525 non-null  int64         \n",
      " 13  date_posted_datetime  51525 non-null  datetime64[ns]\n",
      " 14  model_year_datetime   51525 non-null  datetime64[ns]\n",
      " 15  ad_placed             51525 non-null  int64         \n",
      " 16  vehicle_age_for_ad    51525 non-null  int64         \n",
      " 17  vehicle_avg_mileage   51525 non-null  int64         \n",
      " 18  conditional_values    51525 non-null  int64         \n",
      " 19  paint_color_values    51525 non-null  int64         \n",
      "dtypes: bool(1), datetime64[ns](2), float64(2), int64(8), object(7)\n",
      "memory usage: 7.5+ MB\n"
     ]
    }
   ],
   "source": [
    "#\n",
    "data.info()\n"
   ]
  },
  {
   "cell_type": "markdown",
   "metadata": {},
   "source": [
    "## Study and treat outliers\n"
   ]
  },
  {
   "cell_type": "code",
   "execution_count": 25,
   "metadata": {},
   "outputs": [
    {
     "data": {
      "text/plain": [
       "[-17989.944126388116,\n",
       " -8.82543237662893,\n",
       " -11431.06656979265,\n",
       " 1.148697875228816,\n",
       " 1.500193460042242]"
      ]
     },
     "execution_count": 25,
     "metadata": {},
     "output_type": "execute_result"
    }
   ],
   "source": [
    "# Determine the lower limits for outliers\n",
    "lower=[]\n",
    "for i in [ 'price','vehicle_age_for_ad','vehicle_avg_mileage','cylinders','conditional_values']:\n",
    "    lower .append( data[i].mean() -3*data[i].std())\n",
    "lower"
   ]
  },
  {
   "cell_type": "code",
   "execution_count": 26,
   "metadata": {},
   "outputs": [
    {
     "data": {
      "image/png": "[encoded data removed]",
      "text/plain": [
       "<Figure size 432x288 with 1 Axes>"
      ]
     },
     "metadata": {
      "needs_background": "light"
     },
     "output_type": "display_data"
    },
    {
     "data": {
      "image/png": "[encoded data removed]",
      "text/plain": [
       "<Figure size 432x288 with 1 Axes>"
      ]
     },
     "metadata": {
      "needs_background": "light"
     },
     "output_type": "display_data"
    },
    {
     "data": {
      "image/png": "[encoded data removed]",
      "text/plain": [
       "<Figure size 432x288 with 1 Axes>"
      ]
     },
     "metadata": {
      "needs_background": "light"
     },
     "output_type": "display_data"
    },
    {
     "data": {
      "image/png": "[encoded data removed]",
      "text/plain": [
       "<Figure size 432x288 with 1 Axes>"
      ]
     },
     "metadata": {
      "needs_background": "light"
     },
     "output_type": "display_data"
    },
    {
     "data": {
      "image/png": "[encoded data removed]",
      "text/plain": [
       "<Figure size 432x288 with 1 Axes>"
      ]
     },
     "metadata": {
      "needs_background": "light"
     },
     "output_type": "display_data"
    },
    {
     "data": {
      "text/plain": [
       "<Figure size 432x288 with 0 Axes>"
      ]
     },
     "metadata": {},
     "output_type": "display_data"
    }
   ],
   "source": [
    "# Determine the upper limits for outliers\n",
    "upper=[]\n",
    "for i in ['price','vehicle_age_for_ad','vehicle_avg_mileage','cylinders','conditional_values']:\n",
    "    upper.append(data[i].mean() + 3*data[i].std())\n",
    "upper\n",
    "for i in ['price','vehicle_age_for_ad','vehicle_avg_mileage','cylinders','conditional_values']:\n",
    "    data[i].hist()\n",
    "    plt.title(i)\n",
    "    plt.xlabel(i)\n",
    "    plt.figure()"
   ]
  },
  {
   "cell_type": "markdown",
   "metadata": {},
   "source": [
    "The code snippet:\n",
    "lower=[]\n",
    "for i in [ 'price','vehicle_age_for_ad','vehicle_avg_mileage','cylinders','conditional_values']:\n",
    "    lower .append( data[i].mean() -3*data[i].std())\n",
    "lower\n",
    "upper=[]\n",
    "for i in ['price','vehicle_age_for_ad','vehicle_avg_mileage','cylinders','conditional_values']:\n",
    "    upper.append(data[i].mean() + 3*data[i].std())\n",
    "upper\n",
    "These remove outliers. Then I went ahead and printed the graphs for those columns. Doesnt seem like this had much effect as I had accidentally gotten ahead of myself in a earler section and checked and removed outliers in some columns."
   ]
  },
  {
   "cell_type": "markdown",
   "metadata": {},
   "source": [
    "## Study core parameters without outliers"
   ]
  },
  {
   "cell_type": "code",
   "execution_count": 27,
   "metadata": {},
   "outputs": [
    {
     "data": {
      "text/html": [
       "<div>\n",
       "<style scoped>\n",
       "    .dataframe tbody tr th:only-of-type {\n",
       "        vertical-align: middle;\n",
       "    }\n",
       "\n",
       "    .dataframe tbody tr th {\n",
       "        vertical-align: top;\n",
       "    }\n",
       "\n",
       "    .dataframe thead th {\n",
       "        text-align: right;\n",
       "    }\n",
       "</style>\n",
       "<table border=\"1\" class=\"dataframe\">\n",
       "  <thead>\n",
       "    <tr style=\"text-align: right;\">\n",
       "      <th></th>\n",
       "      <th>price</th>\n",
       "      <th>model_year</th>\n",
       "      <th>cylinders</th>\n",
       "      <th>odometer</th>\n",
       "      <th>is_4wd</th>\n",
       "      <th>days_listed</th>\n",
       "      <th>ad_placed</th>\n",
       "      <th>vehicle_age_for_ad</th>\n",
       "      <th>vehicle_avg_mileage</th>\n",
       "      <th>conditional_values</th>\n",
       "      <th>paint_color_values</th>\n",
       "    </tr>\n",
       "  </thead>\n",
       "  <tbody>\n",
       "    <tr>\n",
       "      <th>price</th>\n",
       "      <td>1.000000</td>\n",
       "      <td>0.412969</td>\n",
       "      <td>0.300342</td>\n",
       "      <td>-0.423622</td>\n",
       "      <td>0.315145</td>\n",
       "      <td>-0.000682</td>\n",
       "      <td>0.004726</td>\n",
       "      <td>-0.411669</td>\n",
       "      <td>0.146455</td>\n",
       "      <td>0.221518</td>\n",
       "      <td>-0.075426</td>\n",
       "    </tr>\n",
       "    <tr>\n",
       "      <th>model_year</th>\n",
       "      <td>0.412969</td>\n",
       "      <td>1.000000</td>\n",
       "      <td>-0.148119</td>\n",
       "      <td>-0.486935</td>\n",
       "      <td>0.039103</td>\n",
       "      <td>-0.005321</td>\n",
       "      <td>0.008333</td>\n",
       "      <td>-0.997135</td>\n",
       "      <td>0.432800</td>\n",
       "      <td>0.269698</td>\n",
       "      <td>-0.116505</td>\n",
       "    </tr>\n",
       "    <tr>\n",
       "      <th>cylinders</th>\n",
       "      <td>0.300342</td>\n",
       "      <td>-0.148119</td>\n",
       "      <td>1.000000</td>\n",
       "      <td>0.091453</td>\n",
       "      <td>0.407298</td>\n",
       "      <td>0.003181</td>\n",
       "      <td>-0.000329</td>\n",
       "      <td>0.147708</td>\n",
       "      <td>-0.031314</td>\n",
       "      <td>-0.065661</td>\n",
       "      <td>-0.005472</td>\n",
       "    </tr>\n",
       "    <tr>\n",
       "      <th>odometer</th>\n",
       "      <td>-0.423622</td>\n",
       "      <td>-0.486935</td>\n",
       "      <td>0.091453</td>\n",
       "      <td>1.000000</td>\n",
       "      <td>0.031365</td>\n",
       "      <td>0.002708</td>\n",
       "      <td>-0.006627</td>\n",
       "      <td>0.485255</td>\n",
       "      <td>0.236989</td>\n",
       "      <td>-0.292016</td>\n",
       "      <td>0.061727</td>\n",
       "    </tr>\n",
       "    <tr>\n",
       "      <th>is_4wd</th>\n",
       "      <td>0.315145</td>\n",
       "      <td>0.039103</td>\n",
       "      <td>0.407298</td>\n",
       "      <td>0.031365</td>\n",
       "      <td>1.000000</td>\n",
       "      <td>0.002003</td>\n",
       "      <td>-0.002476</td>\n",
       "      <td>-0.039150</td>\n",
       "      <td>0.056645</td>\n",
       "      <td>0.012856</td>\n",
       "      <td>-0.005168</td>\n",
       "    </tr>\n",
       "    <tr>\n",
       "      <th>days_listed</th>\n",
       "      <td>-0.000682</td>\n",
       "      <td>-0.005321</td>\n",
       "      <td>0.003181</td>\n",
       "      <td>0.002708</td>\n",
       "      <td>0.002003</td>\n",
       "      <td>1.000000</td>\n",
       "      <td>0.011273</td>\n",
       "      <td>0.006175</td>\n",
       "      <td>-0.006698</td>\n",
       "      <td>-0.002404</td>\n",
       "      <td>0.004466</td>\n",
       "    </tr>\n",
       "    <tr>\n",
       "      <th>ad_placed</th>\n",
       "      <td>0.004726</td>\n",
       "      <td>0.008333</td>\n",
       "      <td>-0.000329</td>\n",
       "      <td>-0.006627</td>\n",
       "      <td>-0.002476</td>\n",
       "      <td>0.011273</td>\n",
       "      <td>1.000000</td>\n",
       "      <td>0.067191</td>\n",
       "      <td>-0.127237</td>\n",
       "      <td>0.003788</td>\n",
       "      <td>0.000253</td>\n",
       "    </tr>\n",
       "    <tr>\n",
       "      <th>vehicle_age_for_ad</th>\n",
       "      <td>-0.411669</td>\n",
       "      <td>-0.997135</td>\n",
       "      <td>0.147708</td>\n",
       "      <td>0.485255</td>\n",
       "      <td>-0.039150</td>\n",
       "      <td>0.006175</td>\n",
       "      <td>0.067191</td>\n",
       "      <td>1.000000</td>\n",
       "      <td>-0.441464</td>\n",
       "      <td>-0.268790</td>\n",
       "      <td>0.116262</td>\n",
       "    </tr>\n",
       "    <tr>\n",
       "      <th>vehicle_avg_mileage</th>\n",
       "      <td>0.146455</td>\n",
       "      <td>0.432800</td>\n",
       "      <td>-0.031314</td>\n",
       "      <td>0.236989</td>\n",
       "      <td>0.056645</td>\n",
       "      <td>-0.006698</td>\n",
       "      <td>-0.127237</td>\n",
       "      <td>-0.441464</td>\n",
       "      <td>1.000000</td>\n",
       "      <td>0.039891</td>\n",
       "      <td>-0.054217</td>\n",
       "    </tr>\n",
       "    <tr>\n",
       "      <th>conditional_values</th>\n",
       "      <td>0.221518</td>\n",
       "      <td>0.269698</td>\n",
       "      <td>-0.065661</td>\n",
       "      <td>-0.292016</td>\n",
       "      <td>0.012856</td>\n",
       "      <td>-0.002404</td>\n",
       "      <td>0.003788</td>\n",
       "      <td>-0.268790</td>\n",
       "      <td>0.039891</td>\n",
       "      <td>1.000000</td>\n",
       "      <td>-0.046413</td>\n",
       "    </tr>\n",
       "    <tr>\n",
       "      <th>paint_color_values</th>\n",
       "      <td>-0.075426</td>\n",
       "      <td>-0.116505</td>\n",
       "      <td>-0.005472</td>\n",
       "      <td>0.061727</td>\n",
       "      <td>-0.005168</td>\n",
       "      <td>0.004466</td>\n",
       "      <td>0.000253</td>\n",
       "      <td>0.116262</td>\n",
       "      <td>-0.054217</td>\n",
       "      <td>-0.046413</td>\n",
       "      <td>1.000000</td>\n",
       "    </tr>\n",
       "  </tbody>\n",
       "</table>\n",
       "</div>"
      ],
      "text/plain": [
       "                        price  model_year  cylinders  odometer    is_4wd  \\\n",
       "price                1.000000    0.412969   0.300342 -0.423622  0.315145   \n",
       "model_year           0.412969    1.000000  -0.148119 -0.486935  0.039103   \n",
       "cylinders            0.300342   -0.148119   1.000000  0.091453  0.407298   \n",
       "odometer            -0.423622   -0.486935   0.091453  1.000000  0.031365   \n",
       "is_4wd               0.315145    0.039103   0.407298  0.031365  1.000000   \n",
       "days_listed         -0.000682   -0.005321   0.003181  0.002708  0.002003   \n",
       "ad_placed            0.004726    0.008333  -0.000329 -0.006627 -0.002476   \n",
       "vehicle_age_for_ad  -0.411669   -0.997135   0.147708  0.485255 -0.039150   \n",
       "vehicle_avg_mileage  0.146455    0.432800  -0.031314  0.236989  0.056645   \n",
       "conditional_values   0.221518    0.269698  -0.065661 -0.292016  0.012856   \n",
       "paint_color_values  -0.075426   -0.116505  -0.005472  0.061727 -0.005168   \n",
       "\n",
       "                     days_listed  ad_placed  vehicle_age_for_ad  \\\n",
       "price                  -0.000682   0.004726           -0.411669   \n",
       "model_year             -0.005321   0.008333           -0.997135   \n",
       "cylinders               0.003181  -0.000329            0.147708   \n",
       "odometer                0.002708  -0.006627            0.485255   \n",
       "is_4wd                  0.002003  -0.002476           -0.039150   \n",
       "days_listed             1.000000   0.011273            0.006175   \n",
       "ad_placed               0.011273   1.000000            0.067191   \n",
       "vehicle_age_for_ad      0.006175   0.067191            1.000000   \n",
       "vehicle_avg_mileage    -0.006698  -0.127237           -0.441464   \n",
       "conditional_values     -0.002404   0.003788           -0.268790   \n",
       "paint_color_values      0.004466   0.000253            0.116262   \n",
       "\n",
       "                     vehicle_avg_mileage  conditional_values  \\\n",
       "price                           0.146455            0.221518   \n",
       "model_year                      0.432800            0.269698   \n",
       "cylinders                      -0.031314           -0.065661   \n",
       "odometer                        0.236989           -0.292016   \n",
       "is_4wd                          0.056645            0.012856   \n",
       "days_listed                    -0.006698           -0.002404   \n",
       "ad_placed                      -0.127237            0.003788   \n",
       "vehicle_age_for_ad             -0.441464           -0.268790   \n",
       "vehicle_avg_mileage             1.000000            0.039891   \n",
       "conditional_values              0.039891            1.000000   \n",
       "paint_color_values             -0.054217           -0.046413   \n",
       "\n",
       "                     paint_color_values  \n",
       "price                         -0.075426  \n",
       "model_year                    -0.116505  \n",
       "cylinders                     -0.005472  \n",
       "odometer                       0.061727  \n",
       "is_4wd                        -0.005168  \n",
       "days_listed                    0.004466  \n",
       "ad_placed                      0.000253  \n",
       "vehicle_age_for_ad             0.116262  \n",
       "vehicle_avg_mileage           -0.054217  \n",
       "conditional_values            -0.046413  \n",
       "paint_color_values             1.000000  "
      ]
     },
     "execution_count": 27,
     "metadata": {},
     "output_type": "execute_result"
    }
   ],
   "source": [
    "data.corr()\n",
    "# Excluding values that extend into the outlier terriory(Z-scores above or equal to 3)\n",
    "# Shows an increase in correlation in price/model_year, as well as in price/is_4wd,\n",
    "# a negative increase in odometer/price\n",
    "#"
   ]
  },
  {
   "cell_type": "code",
   "execution_count": 28,
   "metadata": {},
   "outputs": [
    {
     "data": {
      "image/png": "[encoded data removed]",
      "text/plain": [
       "<Figure size 432x288 with 1 Axes>"
      ]
     },
     "metadata": {
      "needs_background": "light"
     },
     "output_type": "display_data"
    },
    {
     "data": {
      "image/png": "[encoded data removed]",
      "text/plain": [
       "<Figure size 432x288 with 1 Axes>"
      ]
     },
     "metadata": {
      "needs_background": "light"
     },
     "output_type": "display_data"
    },
    {
     "data": {
      "image/png": "[encoded data removed]",
      "text/plain": [
       "<Figure size 432x288 with 1 Axes>"
      ]
     },
     "metadata": {
      "needs_background": "light"
     },
     "output_type": "display_data"
    },
    {
     "data": {
      "image/png": "[encoded data removed]",
      "text/plain": [
       "<Figure size 432x288 with 1 Axes>"
      ]
     },
     "metadata": {
      "needs_background": "light"
     },
     "output_type": "display_data"
    },
    {
     "data": {
      "image/png": "[encoded data removed]",
      "text/plain": [
       "<Figure size 432x288 with 1 Axes>"
      ]
     },
     "metadata": {
      "needs_background": "light"
     },
     "output_type": "display_data"
    },
    {
     "data": {
      "text/plain": [
       "<Figure size 432x288 with 0 Axes>"
      ]
     },
     "metadata": {},
     "output_type": "display_data"
    }
   ],
   "source": [
    "for i in ['price','vehicle_age_for_ad','vehicle_avg_mileage','cylinders','conditional_values']:\n",
    "    data[i].hist()\n",
    "    plt.title(i)\n",
    "    plt.figure()"
   ]
  },
  {
   "cell_type": "markdown",
   "metadata": {},
   "source": [
    "## Ads lifetime\n",
    "\n",
    "[Study how many days advertisements were displayed (`days_listed`). Calculate the mean and median. Describe the typical lifetime of an ad. Determine when ads were removed quickly, and when they were listed for an abnormally long time.]"
   ]
  },
  {
   "cell_type": "code",
   "execution_count": 29,
   "metadata": {},
   "outputs": [
    {
     "name": "stdout",
     "output_type": "stream",
     "text": [
      "39.55475982532751\n",
      "33.0\n",
      "0\n",
      "271\n",
      "Ads removed quickly\n",
      "       price  model_year             model  condition  cylinders fuel  \\\n",
      "0       9400        2011            bmw x5       good        6.0  gas   \n",
      "3       1500        2003        ford f-150       fair        8.0  gas   \n",
      "4      14900        2017      chrysler 200  excellent        4.0  gas   \n",
      "5      14990        2014      chrysler 300  excellent        6.0  gas   \n",
      "8      11500        2012       kia sorento  excellent        4.0  gas   \n",
      "...      ...         ...               ...        ...        ...  ...   \n",
      "51514   4800        2012  volkswagen jetta       good        4.0  gas   \n",
      "51520   9249        2013     nissan maxima   like new        6.0  gas   \n",
      "51521   2700        2002       honda civic    salvage        4.0  gas   \n",
      "51522   3950        2009    hyundai sonata  excellent        4.0  gas   \n",
      "51524   6300        2014     nissan altima       good        4.0  gas   \n",
      "\n",
      "            odometer transmission    type    paint_color  is_4wd date_posted  \\\n",
      "0      145000.000000    automatic     SUV  Unknown Color    True  2018-06-23   \n",
      "3      162071.751024    automatic  pickup  Unknown Color   False  2019-03-22   \n",
      "4       80903.000000    automatic   sedan          black   False  2019-04-02   \n",
      "5       57954.000000    automatic   sedan          black    True  2018-06-20   \n",
      "8      104174.000000    automatic     SUV  Unknown Color    True  2018-07-16   \n",
      "...              ...          ...     ...            ...     ...         ...   \n",
      "51514  138000.000000    automatic   sedan         silver   False  2018-07-19   \n",
      "51520   88136.000000    automatic   sedan          black   False  2018-10-03   \n",
      "51521  181500.000000    automatic   sedan          white   False  2018-11-14   \n",
      "51522  128000.000000    automatic   sedan           blue   False  2018-11-15   \n",
      "51524   93648.703319    automatic   sedan  Unknown Color   False  2018-06-05   \n",
      "\n",
      "       days_listed date_posted_datetime           model_year_datetime  \\\n",
      "0               19           2018-06-23 1970-01-01 00:00:00.000002011   \n",
      "3                9           2019-03-22 1970-01-01 00:00:00.000002003   \n",
      "4               28           2019-04-02 1970-01-01 00:00:00.000002017   \n",
      "5               15           2018-06-20 1970-01-01 00:00:00.000002014   \n",
      "8               19           2018-07-16 1970-01-01 00:00:00.000002012   \n",
      "...            ...                  ...                           ...   \n",
      "51514           39           2018-07-19 1970-01-01 00:00:00.000002012   \n",
      "51520           37           2018-10-03 1970-01-01 00:00:00.000002013   \n",
      "51521           22           2018-11-14 1970-01-01 00:00:00.000002002   \n",
      "51522           32           2018-11-15 1970-01-01 00:00:00.000002009   \n",
      "51524           10           2018-06-05 1970-01-01 00:00:00.000002014   \n",
      "\n",
      "       ad_placed  vehicle_age_for_ad  vehicle_avg_mileage  conditional_values  \\\n",
      "0           2018                   8                18125                   3   \n",
      "3           2019                  17                 9533                   2   \n",
      "4           2019                   3                26967                   4   \n",
      "5           2018                   5                11590                   4   \n",
      "8           2018                   7                14882                   4   \n",
      "...          ...                 ...                  ...                 ...   \n",
      "51514       2018                   7                19714                   3   \n",
      "51520       2018                   6                14689                   5   \n",
      "51521       2018                  17                10676                   1   \n",
      "51522       2018                  10                12800                   4   \n",
      "51524       2018                   5                18729                   3   \n",
      "\n",
      "       paint_color_values  \n",
      "0                       0  \n",
      "3                       0  \n",
      "4                       1  \n",
      "5                       1  \n",
      "8                       0  \n",
      "...                   ...  \n",
      "51514                   3  \n",
      "51520                   1  \n",
      "51521                   4  \n",
      "51522                  10  \n",
      "51524                   0  \n",
      "\n",
      "[30617 rows x 20 columns]\n",
      "Ads listed for an abnormally long time\n"
     ]
    },
    {
     "data": {
      "text/html": [
       "<div>\n",
       "<style scoped>\n",
       "    .dataframe tbody tr th:only-of-type {\n",
       "        vertical-align: middle;\n",
       "    }\n",
       "\n",
       "    .dataframe tbody tr th {\n",
       "        vertical-align: top;\n",
       "    }\n",
       "\n",
       "    .dataframe thead th {\n",
       "        text-align: right;\n",
       "    }\n",
       "</style>\n",
       "<table border=\"1\" class=\"dataframe\">\n",
       "  <thead>\n",
       "    <tr style=\"text-align: right;\">\n",
       "      <th></th>\n",
       "      <th>price</th>\n",
       "      <th>model_year</th>\n",
       "      <th>model</th>\n",
       "      <th>condition</th>\n",
       "      <th>cylinders</th>\n",
       "      <th>fuel</th>\n",
       "      <th>odometer</th>\n",
       "      <th>transmission</th>\n",
       "      <th>type</th>\n",
       "      <th>paint_color</th>\n",
       "      <th>is_4wd</th>\n",
       "      <th>date_posted</th>\n",
       "      <th>days_listed</th>\n",
       "      <th>date_posted_datetime</th>\n",
       "      <th>model_year_datetime</th>\n",
       "      <th>ad_placed</th>\n",
       "      <th>vehicle_age_for_ad</th>\n",
       "      <th>vehicle_avg_mileage</th>\n",
       "      <th>conditional_values</th>\n",
       "      <th>paint_color_values</th>\n",
       "    </tr>\n",
       "  </thead>\n",
       "  <tbody>\n",
       "    <tr>\n",
       "      <th>1</th>\n",
       "      <td>25500</td>\n",
       "      <td>2011</td>\n",
       "      <td>ford f-150</td>\n",
       "      <td>good</td>\n",
       "      <td>6.0</td>\n",
       "      <td>gas</td>\n",
       "      <td>88705.000000</td>\n",
       "      <td>automatic</td>\n",
       "      <td>pickup</td>\n",
       "      <td>white</td>\n",
       "      <td>True</td>\n",
       "      <td>2018-10-19</td>\n",
       "      <td>50</td>\n",
       "      <td>2018-10-19</td>\n",
       "      <td>1970-01-01 00:00:00.000002011</td>\n",
       "      <td>2018</td>\n",
       "      <td>8</td>\n",
       "      <td>11088</td>\n",
       "      <td>3</td>\n",
       "      <td>4</td>\n",
       "    </tr>\n",
       "    <tr>\n",
       "      <th>2</th>\n",
       "      <td>5500</td>\n",
       "      <td>2013</td>\n",
       "      <td>hyundai sonata</td>\n",
       "      <td>like new</td>\n",
       "      <td>4.0</td>\n",
       "      <td>gas</td>\n",
       "      <td>110000.000000</td>\n",
       "      <td>automatic</td>\n",
       "      <td>sedan</td>\n",
       "      <td>red</td>\n",
       "      <td>False</td>\n",
       "      <td>2019-02-07</td>\n",
       "      <td>79</td>\n",
       "      <td>2019-02-07</td>\n",
       "      <td>1970-01-01 00:00:00.000002013</td>\n",
       "      <td>2019</td>\n",
       "      <td>7</td>\n",
       "      <td>15714</td>\n",
       "      <td>5</td>\n",
       "      <td>5</td>\n",
       "    </tr>\n",
       "    <tr>\n",
       "      <th>6</th>\n",
       "      <td>12990</td>\n",
       "      <td>2015</td>\n",
       "      <td>toyota camry</td>\n",
       "      <td>excellent</td>\n",
       "      <td>4.0</td>\n",
       "      <td>gas</td>\n",
       "      <td>79212.000000</td>\n",
       "      <td>automatic</td>\n",
       "      <td>sedan</td>\n",
       "      <td>white</td>\n",
       "      <td>False</td>\n",
       "      <td>2018-12-27</td>\n",
       "      <td>73</td>\n",
       "      <td>2018-12-27</td>\n",
       "      <td>1970-01-01 00:00:00.000002015</td>\n",
       "      <td>2018</td>\n",
       "      <td>4</td>\n",
       "      <td>19803</td>\n",
       "      <td>4</td>\n",
       "      <td>4</td>\n",
       "    </tr>\n",
       "    <tr>\n",
       "      <th>7</th>\n",
       "      <td>15990</td>\n",
       "      <td>2013</td>\n",
       "      <td>honda pilot</td>\n",
       "      <td>excellent</td>\n",
       "      <td>6.0</td>\n",
       "      <td>gas</td>\n",
       "      <td>109473.000000</td>\n",
       "      <td>automatic</td>\n",
       "      <td>SUV</td>\n",
       "      <td>black</td>\n",
       "      <td>True</td>\n",
       "      <td>2019-01-07</td>\n",
       "      <td>68</td>\n",
       "      <td>2019-01-07</td>\n",
       "      <td>1970-01-01 00:00:00.000002013</td>\n",
       "      <td>2019</td>\n",
       "      <td>7</td>\n",
       "      <td>15639</td>\n",
       "      <td>4</td>\n",
       "      <td>1</td>\n",
       "    </tr>\n",
       "    <tr>\n",
       "      <th>15</th>\n",
       "      <td>17990</td>\n",
       "      <td>2013</td>\n",
       "      <td>ram 1500</td>\n",
       "      <td>excellent</td>\n",
       "      <td>8.0</td>\n",
       "      <td>gas</td>\n",
       "      <td>102880.891908</td>\n",
       "      <td>automatic</td>\n",
       "      <td>pickup</td>\n",
       "      <td>red</td>\n",
       "      <td>True</td>\n",
       "      <td>2018-05-15</td>\n",
       "      <td>111</td>\n",
       "      <td>2018-05-15</td>\n",
       "      <td>1970-01-01 00:00:00.000002013</td>\n",
       "      <td>2018</td>\n",
       "      <td>6</td>\n",
       "      <td>17146</td>\n",
       "      <td>4</td>\n",
       "      <td>5</td>\n",
       "    </tr>\n",
       "    <tr>\n",
       "      <th>...</th>\n",
       "      <td>...</td>\n",
       "      <td>...</td>\n",
       "      <td>...</td>\n",
       "      <td>...</td>\n",
       "      <td>...</td>\n",
       "      <td>...</td>\n",
       "      <td>...</td>\n",
       "      <td>...</td>\n",
       "      <td>...</td>\n",
       "      <td>...</td>\n",
       "      <td>...</td>\n",
       "      <td>...</td>\n",
       "      <td>...</td>\n",
       "      <td>...</td>\n",
       "      <td>...</td>\n",
       "      <td>...</td>\n",
       "      <td>...</td>\n",
       "      <td>...</td>\n",
       "      <td>...</td>\n",
       "      <td>...</td>\n",
       "    </tr>\n",
       "    <tr>\n",
       "      <th>51516</th>\n",
       "      <td>8999</td>\n",
       "      <td>2011</td>\n",
       "      <td>jeep grand cherokee</td>\n",
       "      <td>good</td>\n",
       "      <td>6.0</td>\n",
       "      <td>gas</td>\n",
       "      <td>124883.614978</td>\n",
       "      <td>automatic</td>\n",
       "      <td>SUV</td>\n",
       "      <td>white</td>\n",
       "      <td>True</td>\n",
       "      <td>2018-11-01</td>\n",
       "      <td>51</td>\n",
       "      <td>2018-11-01</td>\n",
       "      <td>1970-01-01 00:00:00.000002011</td>\n",
       "      <td>2018</td>\n",
       "      <td>8</td>\n",
       "      <td>15610</td>\n",
       "      <td>3</td>\n",
       "      <td>4</td>\n",
       "    </tr>\n",
       "    <tr>\n",
       "      <th>51517</th>\n",
       "      <td>11000</td>\n",
       "      <td>2012</td>\n",
       "      <td>dodge charger</td>\n",
       "      <td>excellent</td>\n",
       "      <td>8.0</td>\n",
       "      <td>gas</td>\n",
       "      <td>81000.000000</td>\n",
       "      <td>automatic</td>\n",
       "      <td>sedan</td>\n",
       "      <td>black</td>\n",
       "      <td>False</td>\n",
       "      <td>2019-04-19</td>\n",
       "      <td>44</td>\n",
       "      <td>2019-04-19</td>\n",
       "      <td>1970-01-01 00:00:00.000002012</td>\n",
       "      <td>2019</td>\n",
       "      <td>8</td>\n",
       "      <td>10125</td>\n",
       "      <td>4</td>\n",
       "      <td>1</td>\n",
       "    </tr>\n",
       "    <tr>\n",
       "      <th>51518</th>\n",
       "      <td>3750</td>\n",
       "      <td>2005</td>\n",
       "      <td>ford taurus</td>\n",
       "      <td>excellent</td>\n",
       "      <td>6.0</td>\n",
       "      <td>gas</td>\n",
       "      <td>110200.000000</td>\n",
       "      <td>automatic</td>\n",
       "      <td>sedan</td>\n",
       "      <td>silver</td>\n",
       "      <td>False</td>\n",
       "      <td>2018-08-10</td>\n",
       "      <td>63</td>\n",
       "      <td>2018-08-10</td>\n",
       "      <td>1970-01-01 00:00:00.000002005</td>\n",
       "      <td>2018</td>\n",
       "      <td>14</td>\n",
       "      <td>7871</td>\n",
       "      <td>4</td>\n",
       "      <td>3</td>\n",
       "    </tr>\n",
       "    <tr>\n",
       "      <th>51519</th>\n",
       "      <td>11750</td>\n",
       "      <td>2015</td>\n",
       "      <td>honda accord</td>\n",
       "      <td>excellent</td>\n",
       "      <td>4.0</td>\n",
       "      <td>gas</td>\n",
       "      <td>82503.819348</td>\n",
       "      <td>automatic</td>\n",
       "      <td>coupe</td>\n",
       "      <td>Unknown Color</td>\n",
       "      <td>False</td>\n",
       "      <td>2018-11-24</td>\n",
       "      <td>89</td>\n",
       "      <td>2018-11-24</td>\n",
       "      <td>1970-01-01 00:00:00.000002015</td>\n",
       "      <td>2018</td>\n",
       "      <td>4</td>\n",
       "      <td>20625</td>\n",
       "      <td>4</td>\n",
       "      <td>0</td>\n",
       "    </tr>\n",
       "    <tr>\n",
       "      <th>51523</th>\n",
       "      <td>7455</td>\n",
       "      <td>2013</td>\n",
       "      <td>toyota corolla</td>\n",
       "      <td>good</td>\n",
       "      <td>4.0</td>\n",
       "      <td>gas</td>\n",
       "      <td>139573.000000</td>\n",
       "      <td>automatic</td>\n",
       "      <td>sedan</td>\n",
       "      <td>black</td>\n",
       "      <td>False</td>\n",
       "      <td>2018-07-02</td>\n",
       "      <td>71</td>\n",
       "      <td>2018-07-02</td>\n",
       "      <td>1970-01-01 00:00:00.000002013</td>\n",
       "      <td>2018</td>\n",
       "      <td>6</td>\n",
       "      <td>23262</td>\n",
       "      <td>3</td>\n",
       "      <td>1</td>\n",
       "    </tr>\n",
       "  </tbody>\n",
       "</table>\n",
       "<p>20908 rows × 20 columns</p>\n",
       "</div>"
      ],
      "text/plain": [
       "       price  model_year                model  condition  cylinders fuel  \\\n",
       "1      25500        2011           ford f-150       good        6.0  gas   \n",
       "2       5500        2013       hyundai sonata   like new        4.0  gas   \n",
       "6      12990        2015         toyota camry  excellent        4.0  gas   \n",
       "7      15990        2013          honda pilot  excellent        6.0  gas   \n",
       "15     17990        2013             ram 1500  excellent        8.0  gas   \n",
       "...      ...         ...                  ...        ...        ...  ...   \n",
       "51516   8999        2011  jeep grand cherokee       good        6.0  gas   \n",
       "51517  11000        2012        dodge charger  excellent        8.0  gas   \n",
       "51518   3750        2005          ford taurus  excellent        6.0  gas   \n",
       "51519  11750        2015         honda accord  excellent        4.0  gas   \n",
       "51523   7455        2013       toyota corolla       good        4.0  gas   \n",
       "\n",
       "            odometer transmission    type    paint_color  is_4wd date_posted  \\\n",
       "1       88705.000000    automatic  pickup          white    True  2018-10-19   \n",
       "2      110000.000000    automatic   sedan            red   False  2019-02-07   \n",
       "6       79212.000000    automatic   sedan          white   False  2018-12-27   \n",
       "7      109473.000000    automatic     SUV          black    True  2019-01-07   \n",
       "15     102880.891908    automatic  pickup            red    True  2018-05-15   \n",
       "...              ...          ...     ...            ...     ...         ...   \n",
       "51516  124883.614978    automatic     SUV          white    True  2018-11-01   \n",
       "51517   81000.000000    automatic   sedan          black   False  2019-04-19   \n",
       "51518  110200.000000    automatic   sedan         silver   False  2018-08-10   \n",
       "51519   82503.819348    automatic   coupe  Unknown Color   False  2018-11-24   \n",
       "51523  139573.000000    automatic   sedan          black   False  2018-07-02   \n",
       "\n",
       "       days_listed date_posted_datetime           model_year_datetime  \\\n",
       "1               50           2018-10-19 1970-01-01 00:00:00.000002011   \n",
       "2               79           2019-02-07 1970-01-01 00:00:00.000002013   \n",
       "6               73           2018-12-27 1970-01-01 00:00:00.000002015   \n",
       "7               68           2019-01-07 1970-01-01 00:00:00.000002013   \n",
       "15             111           2018-05-15 1970-01-01 00:00:00.000002013   \n",
       "...            ...                  ...                           ...   \n",
       "51516           51           2018-11-01 1970-01-01 00:00:00.000002011   \n",
       "51517           44           2019-04-19 1970-01-01 00:00:00.000002012   \n",
       "51518           63           2018-08-10 1970-01-01 00:00:00.000002005   \n",
       "51519           89           2018-11-24 1970-01-01 00:00:00.000002015   \n",
       "51523           71           2018-07-02 1970-01-01 00:00:00.000002013   \n",
       "\n",
       "       ad_placed  vehicle_age_for_ad  vehicle_avg_mileage  conditional_values  \\\n",
       "1           2018                   8                11088                   3   \n",
       "2           2019                   7                15714                   5   \n",
       "6           2018                   4                19803                   4   \n",
       "7           2019                   7                15639                   4   \n",
       "15          2018                   6                17146                   4   \n",
       "...          ...                 ...                  ...                 ...   \n",
       "51516       2018                   8                15610                   3   \n",
       "51517       2019                   8                10125                   4   \n",
       "51518       2018                  14                 7871                   4   \n",
       "51519       2018                   4                20625                   4   \n",
       "51523       2018                   6                23262                   3   \n",
       "\n",
       "       paint_color_values  \n",
       "1                       4  \n",
       "2                       5  \n",
       "6                       4  \n",
       "7                       1  \n",
       "15                      5  \n",
       "...                   ...  \n",
       "51516                   4  \n",
       "51517                   1  \n",
       "51518                   3  \n",
       "51519                   0  \n",
       "51523                   1  \n",
       "\n",
       "[20908 rows x 20 columns]"
      ]
     },
     "execution_count": 29,
     "metadata": {},
     "output_type": "execute_result"
    }
   ],
   "source": [
    "print(data['days_listed'].mean())\n",
    "print(data['days_listed'].median())\n",
    "print(data['days_listed'].min())\n",
    "print(data['days_listed'].max())\n",
    "print('Ads removed quickly')\n",
    "print(data[data['days_listed']<data['days_listed'].mean()])\n",
    "print('Ads listed for an abnormally long time')\n",
    "data[data['days_listed']>data['days_listed'].mean()]"
   ]
  },
  {
   "cell_type": "markdown",
   "metadata": {},
   "source": [
    "Ads Lifetime Conculsion:\n",
    "The data represented here shows the data that was listed for a upbove mean time. There are 20908 rows of data that are over the mean. "
   ]
  },
  {
   "cell_type": "markdown",
   "metadata": {},
   "source": [
    "## Average price per each type of vehicle"
   ]
  },
  {
   "cell_type": "code",
   "execution_count": 30,
   "metadata": {},
   "outputs": [
    {
     "data": {
      "text/plain": [
       "([0, 1, 2, 3, 4, 5, 6, 7, 8, 9, 10, 11, 12],\n",
       " [Text(0, 0, ''),\n",
       "  Text(0, 0, ''),\n",
       "  Text(0, 0, ''),\n",
       "  Text(0, 0, ''),\n",
       "  Text(0, 0, ''),\n",
       "  Text(0, 0, ''),\n",
       "  Text(0, 0, ''),\n",
       "  Text(0, 0, ''),\n",
       "  Text(0, 0, ''),\n",
       "  Text(0, 0, ''),\n",
       "  Text(0, 0, ''),\n",
       "  Text(0, 0, ''),\n",
       "  Text(0, 0, '')])"
      ]
     },
     "execution_count": 30,
     "metadata": {},
     "output_type": "execute_result"
    },
    {
     "data": {
      "image/png": "[encoded data removed]",
      "text/plain": [
       "<Figure size 432x288 with 1 Axes>"
      ]
     },
     "metadata": {
      "needs_background": "light"
     },
     "output_type": "display_data"
    }
   ],
   "source": [
    "plt.bar(list(data['type'].unique()),[len(data[data['type']==i]) for i in list(data['type'].unique())])\n",
    "plt.xticks(rotation='vertical')"
   ]
  },
  {
   "cell_type": "code",
   "execution_count": 31,
   "metadata": {},
   "outputs": [
    {
     "data": {
      "text/plain": [
       "([0, 1, 2, 3, 4, 5, 6, 7, 8, 9, 10, 11, 12],\n",
       " [Text(0, 0, ''),\n",
       "  Text(0, 0, ''),\n",
       "  Text(0, 0, ''),\n",
       "  Text(0, 0, ''),\n",
       "  Text(0, 0, ''),\n",
       "  Text(0, 0, ''),\n",
       "  Text(0, 0, ''),\n",
       "  Text(0, 0, ''),\n",
       "  Text(0, 0, ''),\n",
       "  Text(0, 0, ''),\n",
       "  Text(0, 0, ''),\n",
       "  Text(0, 0, ''),\n",
       "  Text(0, 0, '')])"
      ]
     },
     "execution_count": 31,
     "metadata": {},
     "output_type": "execute_result"
    },
    {
     "data": {
      "image/png": "[encoded data removed]",
      "text/plain": [
       "<Figure size 432x288 with 1 Axes>"
      ]
     },
     "metadata": {
      "needs_background": "light"
     },
     "output_type": "display_data"
    }
   ],
   "source": [
    "plt.bar(list(data['type'].unique()),[data[data['type']==i]['price'].mean() for i in list(data['type'].unique())])\n",
    "plt.xticks(rotation='vertical')"
   ]
  },
  {
   "cell_type": "code",
   "execution_count": 32,
   "metadata": {},
   "outputs": [
    {
     "data": {
      "text/plain": [
       "Text(0.5, 1.0, 'Number of days')"
      ]
     },
     "execution_count": 32,
     "metadata": {},
     "output_type": "execute_result"
    },
    {
     "data": {
      "image/png": "[encoded data removed]",
      "text/plain": [
       "<Figure size 432x288 with 1 Axes>"
      ]
     },
     "metadata": {
      "needs_background": "light"
     },
     "output_type": "display_data"
    }
   ],
   "source": [
    "s=[]\n",
    "for i in data['type'].unique():\n",
    "    s.append(data[data['type']==i]['days_listed'].count())\n",
    "plt.bar(data['type'].unique(),s)\n",
    "plt.xticks(rotation=90)\n",
    "plt.title('Number of days')"
   ]
  },
  {
   "cell_type": "code",
   "execution_count": 33,
   "metadata": {},
   "outputs": [
    {
     "data": {
      "text/plain": [
       "Text(0.5, 1.0, 'Number of days')"
      ]
     },
     "execution_count": 33,
     "metadata": {},
     "output_type": "execute_result"
    },
    {
     "data": {
      "image/png": "[encoded data removed]",
      "text/plain": [
       "<Figure size 432x288 with 1 Axes>"
      ]
     },
     "metadata": {
      "needs_background": "light"
     },
     "output_type": "display_data"
    }
   ],
   "source": [
    "w=[]\n",
    "for i in data['type'].unique():\n",
    "    w.append(data[data['type']==i]['price'].mean())\n",
    "plt.bar(data['type'].unique(),s)\n",
    "plt.xticks(rotation=90)\n",
    "plt.title('Number of days')"
   ]
  },
  {
   "cell_type": "code",
   "execution_count": 34,
   "metadata": {},
   "outputs": [],
   "source": [
    "#We have SUV, sedan and truck have the most number of ads"
   ]
  },
  {
   "cell_type": "markdown",
   "metadata": {},
   "source": [
    "## Price factors"
   ]
  },
  {
   "cell_type": "code",
   "execution_count": 35,
   "metadata": {
    "scrolled": true
   },
   "outputs": [
    {
     "data": {
      "text/html": [
       "<div>\n",
       "<style scoped>\n",
       "    .dataframe tbody tr th:only-of-type {\n",
       "        vertical-align: middle;\n",
       "    }\n",
       "\n",
       "    .dataframe tbody tr th {\n",
       "        vertical-align: top;\n",
       "    }\n",
       "\n",
       "    .dataframe thead th {\n",
       "        text-align: right;\n",
       "    }\n",
       "</style>\n",
       "<table border=\"1\" class=\"dataframe\">\n",
       "  <thead>\n",
       "    <tr style=\"text-align: right;\">\n",
       "      <th></th>\n",
       "      <th>price</th>\n",
       "      <th>model_year</th>\n",
       "      <th>cylinders</th>\n",
       "      <th>odometer</th>\n",
       "      <th>is_4wd</th>\n",
       "      <th>days_listed</th>\n",
       "      <th>ad_placed</th>\n",
       "      <th>vehicle_age_for_ad</th>\n",
       "      <th>vehicle_avg_mileage</th>\n",
       "      <th>conditional_values</th>\n",
       "      <th>paint_color_values</th>\n",
       "    </tr>\n",
       "  </thead>\n",
       "  <tbody>\n",
       "    <tr>\n",
       "      <th>price</th>\n",
       "      <td>1.000000</td>\n",
       "      <td>0.412969</td>\n",
       "      <td>0.300342</td>\n",
       "      <td>-0.423622</td>\n",
       "      <td>0.315145</td>\n",
       "      <td>-0.000682</td>\n",
       "      <td>0.004726</td>\n",
       "      <td>-0.411669</td>\n",
       "      <td>0.146455</td>\n",
       "      <td>0.221518</td>\n",
       "      <td>-0.075426</td>\n",
       "    </tr>\n",
       "    <tr>\n",
       "      <th>model_year</th>\n",
       "      <td>0.412969</td>\n",
       "      <td>1.000000</td>\n",
       "      <td>-0.148119</td>\n",
       "      <td>-0.486935</td>\n",
       "      <td>0.039103</td>\n",
       "      <td>-0.005321</td>\n",
       "      <td>0.008333</td>\n",
       "      <td>-0.997135</td>\n",
       "      <td>0.432800</td>\n",
       "      <td>0.269698</td>\n",
       "      <td>-0.116505</td>\n",
       "    </tr>\n",
       "    <tr>\n",
       "      <th>cylinders</th>\n",
       "      <td>0.300342</td>\n",
       "      <td>-0.148119</td>\n",
       "      <td>1.000000</td>\n",
       "      <td>0.091453</td>\n",
       "      <td>0.407298</td>\n",
       "      <td>0.003181</td>\n",
       "      <td>-0.000329</td>\n",
       "      <td>0.147708</td>\n",
       "      <td>-0.031314</td>\n",
       "      <td>-0.065661</td>\n",
       "      <td>-0.005472</td>\n",
       "    </tr>\n",
       "    <tr>\n",
       "      <th>odometer</th>\n",
       "      <td>-0.423622</td>\n",
       "      <td>-0.486935</td>\n",
       "      <td>0.091453</td>\n",
       "      <td>1.000000</td>\n",
       "      <td>0.031365</td>\n",
       "      <td>0.002708</td>\n",
       "      <td>-0.006627</td>\n",
       "      <td>0.485255</td>\n",
       "      <td>0.236989</td>\n",
       "      <td>-0.292016</td>\n",
       "      <td>0.061727</td>\n",
       "    </tr>\n",
       "    <tr>\n",
       "      <th>is_4wd</th>\n",
       "      <td>0.315145</td>\n",
       "      <td>0.039103</td>\n",
       "      <td>0.407298</td>\n",
       "      <td>0.031365</td>\n",
       "      <td>1.000000</td>\n",
       "      <td>0.002003</td>\n",
       "      <td>-0.002476</td>\n",
       "      <td>-0.039150</td>\n",
       "      <td>0.056645</td>\n",
       "      <td>0.012856</td>\n",
       "      <td>-0.005168</td>\n",
       "    </tr>\n",
       "    <tr>\n",
       "      <th>days_listed</th>\n",
       "      <td>-0.000682</td>\n",
       "      <td>-0.005321</td>\n",
       "      <td>0.003181</td>\n",
       "      <td>0.002708</td>\n",
       "      <td>0.002003</td>\n",
       "      <td>1.000000</td>\n",
       "      <td>0.011273</td>\n",
       "      <td>0.006175</td>\n",
       "      <td>-0.006698</td>\n",
       "      <td>-0.002404</td>\n",
       "      <td>0.004466</td>\n",
       "    </tr>\n",
       "    <tr>\n",
       "      <th>ad_placed</th>\n",
       "      <td>0.004726</td>\n",
       "      <td>0.008333</td>\n",
       "      <td>-0.000329</td>\n",
       "      <td>-0.006627</td>\n",
       "      <td>-0.002476</td>\n",
       "      <td>0.011273</td>\n",
       "      <td>1.000000</td>\n",
       "      <td>0.067191</td>\n",
       "      <td>-0.127237</td>\n",
       "      <td>0.003788</td>\n",
       "      <td>0.000253</td>\n",
       "    </tr>\n",
       "    <tr>\n",
       "      <th>vehicle_age_for_ad</th>\n",
       "      <td>-0.411669</td>\n",
       "      <td>-0.997135</td>\n",
       "      <td>0.147708</td>\n",
       "      <td>0.485255</td>\n",
       "      <td>-0.039150</td>\n",
       "      <td>0.006175</td>\n",
       "      <td>0.067191</td>\n",
       "      <td>1.000000</td>\n",
       "      <td>-0.441464</td>\n",
       "      <td>-0.268790</td>\n",
       "      <td>0.116262</td>\n",
       "    </tr>\n",
       "    <tr>\n",
       "      <th>vehicle_avg_mileage</th>\n",
       "      <td>0.146455</td>\n",
       "      <td>0.432800</td>\n",
       "      <td>-0.031314</td>\n",
       "      <td>0.236989</td>\n",
       "      <td>0.056645</td>\n",
       "      <td>-0.006698</td>\n",
       "      <td>-0.127237</td>\n",
       "      <td>-0.441464</td>\n",
       "      <td>1.000000</td>\n",
       "      <td>0.039891</td>\n",
       "      <td>-0.054217</td>\n",
       "    </tr>\n",
       "    <tr>\n",
       "      <th>conditional_values</th>\n",
       "      <td>0.221518</td>\n",
       "      <td>0.269698</td>\n",
       "      <td>-0.065661</td>\n",
       "      <td>-0.292016</td>\n",
       "      <td>0.012856</td>\n",
       "      <td>-0.002404</td>\n",
       "      <td>0.003788</td>\n",
       "      <td>-0.268790</td>\n",
       "      <td>0.039891</td>\n",
       "      <td>1.000000</td>\n",
       "      <td>-0.046413</td>\n",
       "    </tr>\n",
       "    <tr>\n",
       "      <th>paint_color_values</th>\n",
       "      <td>-0.075426</td>\n",
       "      <td>-0.116505</td>\n",
       "      <td>-0.005472</td>\n",
       "      <td>0.061727</td>\n",
       "      <td>-0.005168</td>\n",
       "      <td>0.004466</td>\n",
       "      <td>0.000253</td>\n",
       "      <td>0.116262</td>\n",
       "      <td>-0.054217</td>\n",
       "      <td>-0.046413</td>\n",
       "      <td>1.000000</td>\n",
       "    </tr>\n",
       "  </tbody>\n",
       "</table>\n",
       "</div>"
      ],
      "text/plain": [
       "                        price  model_year  cylinders  odometer    is_4wd  \\\n",
       "price                1.000000    0.412969   0.300342 -0.423622  0.315145   \n",
       "model_year           0.412969    1.000000  -0.148119 -0.486935  0.039103   \n",
       "cylinders            0.300342   -0.148119   1.000000  0.091453  0.407298   \n",
       "odometer            -0.423622   -0.486935   0.091453  1.000000  0.031365   \n",
       "is_4wd               0.315145    0.039103   0.407298  0.031365  1.000000   \n",
       "days_listed         -0.000682   -0.005321   0.003181  0.002708  0.002003   \n",
       "ad_placed            0.004726    0.008333  -0.000329 -0.006627 -0.002476   \n",
       "vehicle_age_for_ad  -0.411669   -0.997135   0.147708  0.485255 -0.039150   \n",
       "vehicle_avg_mileage  0.146455    0.432800  -0.031314  0.236989  0.056645   \n",
       "conditional_values   0.221518    0.269698  -0.065661 -0.292016  0.012856   \n",
       "paint_color_values  -0.075426   -0.116505  -0.005472  0.061727 -0.005168   \n",
       "\n",
       "                     days_listed  ad_placed  vehicle_age_for_ad  \\\n",
       "price                  -0.000682   0.004726           -0.411669   \n",
       "model_year             -0.005321   0.008333           -0.997135   \n",
       "cylinders               0.003181  -0.000329            0.147708   \n",
       "odometer                0.002708  -0.006627            0.485255   \n",
       "is_4wd                  0.002003  -0.002476           -0.039150   \n",
       "days_listed             1.000000   0.011273            0.006175   \n",
       "ad_placed               0.011273   1.000000            0.067191   \n",
       "vehicle_age_for_ad      0.006175   0.067191            1.000000   \n",
       "vehicle_avg_mileage    -0.006698  -0.127237           -0.441464   \n",
       "conditional_values     -0.002404   0.003788           -0.268790   \n",
       "paint_color_values      0.004466   0.000253            0.116262   \n",
       "\n",
       "                     vehicle_avg_mileage  conditional_values  \\\n",
       "price                           0.146455            0.221518   \n",
       "model_year                      0.432800            0.269698   \n",
       "cylinders                      -0.031314           -0.065661   \n",
       "odometer                        0.236989           -0.292016   \n",
       "is_4wd                          0.056645            0.012856   \n",
       "days_listed                    -0.006698           -0.002404   \n",
       "ad_placed                      -0.127237            0.003788   \n",
       "vehicle_age_for_ad             -0.441464           -0.268790   \n",
       "vehicle_avg_mileage             1.000000            0.039891   \n",
       "conditional_values              0.039891            1.000000   \n",
       "paint_color_values             -0.054217           -0.046413   \n",
       "\n",
       "                     paint_color_values  \n",
       "price                         -0.075426  \n",
       "model_year                    -0.116505  \n",
       "cylinders                     -0.005472  \n",
       "odometer                       0.061727  \n",
       "is_4wd                        -0.005168  \n",
       "days_listed                    0.004466  \n",
       "ad_placed                      0.000253  \n",
       "vehicle_age_for_ad             0.116262  \n",
       "vehicle_avg_mileage           -0.054217  \n",
       "conditional_values            -0.046413  \n",
       "paint_color_values             1.000000  "
      ]
     },
     "execution_count": 35,
     "metadata": {},
     "output_type": "execute_result"
    }
   ],
   "source": [
    "data.corr()\n",
    "# Model_year, and 4wd are the most correlated factors to price.\n",
    "#data2.boxplot(column='color')"
   ]
  },
  {
   "cell_type": "code",
   "execution_count": 36,
   "metadata": {},
   "outputs": [],
   "source": [
    "data_SUV_and_Sedan = data[(data['type'] == 'SUV') | (data['type'] == 'sedan')]\n",
    "\n"
   ]
  },
  {
   "cell_type": "code",
   "execution_count": 37,
   "metadata": {},
   "outputs": [
    {
     "data": {
      "text/plain": [
       "<seaborn.axisgrid.FacetGrid at 0x7f6cadabd1c0>"
      ]
     },
     "execution_count": 37,
     "metadata": {},
     "output_type": "execute_result"
    },
    {
     "data": {
      "image/png": "[encoded data removed]",
      "text/plain": [
       "<Figure size 360x360 with 1 Axes>"
      ]
     },
     "metadata": {
      "needs_background": "light"
     },
     "output_type": "display_data"
    }
   ],
   "source": [
    "import seaborn as sns\n",
    "sns.catplot(data=data_SUV_and_Sedan, x='type', y='price', kind=\"box\")\n"
   ]
  },
  {
   "cell_type": "code",
   "execution_count": 50,
   "metadata": {},
   "outputs": [
    {
     "data": {
      "image/png": "[encoded data removed]",
      "text/plain": [
       "<Figure size 360x360 with 1 Axes>"
      ]
     },
     "metadata": {
      "needs_background": "light"
     },
     "output_type": "display_data"
    },
    {
     "data": {
      "image/png": "[encoded data removed]",
      "text/plain": [
       "<Figure size 360x360 with 1 Axes>"
      ]
     },
     "metadata": {
      "needs_background": "light"
     },
     "output_type": "display_data"
    }
   ],
   "source": [
    "for i in ['transmission','paint_color_values']:\n",
    "       sns.catplot(data=data_SUV_and_Sedan, x=i, y='price', kind=\"box\")"
   ]
  },
  {
   "cell_type": "code",
   "execution_count": 48,
   "metadata": {},
   "outputs": [
    {
     "data": {
      "text/plain": [
       "<AxesSubplot:xlabel='type', ylabel='cylinders'>"
      ]
     },
     "execution_count": 48,
     "metadata": {},
     "output_type": "execute_result"
    },
    {
     "data": {
      "image/png": "[encoded data removed]",
      "text/plain": [
       "<Figure size 432x288 with 1 Axes>"
      ]
     },
     "metadata": {
      "needs_background": "light"
     },
     "output_type": "display_data"
    }
   ],
   "source": [
    "sns.boxplot(data=data_SUV_and_Sedan, x=\"type\", y=\"cylinders\")"
   ]
  },
  {
   "cell_type": "code",
   "execution_count": 49,
   "metadata": {},
   "outputs": [
    {
     "data": {
      "text/plain": [
       "<AxesSubplot:xlabel='type', ylabel='paint_color_values'>"
      ]
     },
     "execution_count": 49,
     "metadata": {},
     "output_type": "execute_result"
    },
    {
     "data": {
      "image/png": "[encoded data removed]",
      "text/plain": [
       "<Figure size 432x288 with 1 Axes>"
      ]
     },
     "metadata": {
      "needs_background": "light"
     },
     "output_type": "display_data"
    }
   ],
   "source": [
    "sns.boxplot(data=data_SUV_and_Sedan, x=\"type\", y=\"paint_color_values\")"
   ]
  },
  {
   "cell_type": "markdown",
   "metadata": {},
   "source": [
    "Graph Breakdown:\n",
    "    3 Histograms overlade each other that show the popularity of suv, sedans and trucks\n",
    "    3 Scatterplots that compare price to other variables\n",
    "    3 Catplots that compare color, transmission, and type of vehicle to price."
   ]
  },
  {
   "cell_type": "markdown",
   "metadata": {},
   "source": [
    "## General conclusion"
   ]
  },
  {
   "cell_type": "markdown",
   "metadata": {},
   "source": [
    "In this project we attempted to find what correlates to the price of a used vechile on the open market.I found that price and model_year reading is the most correlated measurement. The higher the model_year reading, the lower the value. Using a z-score apporach to removing outliers I learned works the quickest. I had assumed model_year would be the most correlated to price. I was correct. I was surpised to find that 4wd was also correlated, at least on a lower level. Missing values in most columns were converted into either the mean or median of the rest of the data after searching thorught the data's histograms"
   ]
  },
  {
   "cell_type": "markdown",
   "metadata": {},
   "source": [
    "General Conclusion:\n",
    "We have analyzed the data in vehicles_us.csv. The dataset had many missing values which we fixed with multiple techniques. We did this because we are a analyst for Crankshaft List and needed to determine the atributes of an advertisment. We learned that the price of a listed vehicle has many factors. Color, type, transmisin. The most correlated factor to price was odometer reading however."
   ]
  }
 ],
 "metadata": {
  "ExecuteTimeLog": [
   {
    "duration": 828,
    "start_time": "2021-11-16T09:21:11.304Z"
   },
   {
    "duration": 893,
    "start_time": "2021-11-16T09:21:17.728Z"
   },
   {
    "duration": 1150,
    "start_time": "2021-11-16T09:21:29.568Z"
   },
   {
    "duration": 3,
    "start_time": "2021-11-16T09:24:14.495Z"
   },
   {
    "duration": 120,
    "start_time": "2021-11-16T09:24:46.630Z"
   },
   {
    "duration": 3,
    "start_time": "2021-11-16T09:28:27.882Z"
   },
   {
    "duration": 4,
    "start_time": "2021-11-16T09:29:54.281Z"
   },
   {
    "duration": 3,
    "start_time": "2021-11-16T09:30:45.936Z"
   },
   {
    "duration": 4,
    "start_time": "2021-11-16T09:31:06.300Z"
   },
   {
    "duration": 113,
    "start_time": "2021-11-16T09:31:37.208Z"
   },
   {
    "duration": 143,
    "start_time": "2021-11-16T09:31:48.656Z"
   },
   {
    "duration": 98,
    "start_time": "2021-11-16T09:31:55.678Z"
   },
   {
    "duration": 3,
    "start_time": "2021-11-16T09:32:08.535Z"
   },
   {
    "duration": 111,
    "start_time": "2021-11-16T09:32:10.120Z"
   },
   {
    "duration": 3,
    "start_time": "2021-11-16T09:32:15.732Z"
   },
   {
    "duration": 4,
    "start_time": "2021-11-16T09:32:29.423Z"
   },
   {
    "duration": 3,
    "start_time": "2021-11-16T10:03:03.074Z"
   },
   {
    "duration": 3,
    "start_time": "2021-11-16T10:10:01.288Z"
   },
   {
    "duration": 3,
    "start_time": "2021-11-16T10:10:46.923Z"
   },
   {
    "duration": 121,
    "start_time": "2021-11-16T10:37:46.494Z"
   },
   {
    "duration": 125,
    "start_time": "2021-11-16T10:38:20.632Z"
   },
   {
    "duration": 112,
    "start_time": "2021-11-16T10:46:53.001Z"
   },
   {
    "duration": 110,
    "start_time": "2021-11-16T10:48:25.775Z"
   },
   {
    "duration": 3,
    "start_time": "2021-11-16T10:50:18.720Z"
   },
   {
    "duration": 4,
    "start_time": "2021-11-16T10:50:37.649Z"
   },
   {
    "duration": 2,
    "start_time": "2021-11-16T10:50:51.884Z"
   },
   {
    "duration": 3,
    "start_time": "2021-11-16T10:51:56.237Z"
   },
   {
    "duration": 101,
    "start_time": "2021-11-16T10:53:13.791Z"
   },
   {
    "duration": 3,
    "start_time": "2021-11-16T10:55:59.186Z"
   },
   {
    "duration": 3,
    "start_time": "2021-11-16T10:56:10.751Z"
   },
   {
    "duration": 3,
    "start_time": "2021-11-16T10:56:49.038Z"
   },
   {
    "duration": 3,
    "start_time": "2021-11-16T10:56:49.174Z"
   },
   {
    "duration": 4,
    "start_time": "2021-11-16T10:56:49.414Z"
   },
   {
    "duration": 3,
    "start_time": "2021-11-16T10:56:49.680Z"
   },
   {
    "duration": 3,
    "start_time": "2021-11-16T10:56:50.370Z"
   },
   {
    "duration": 114,
    "start_time": "2021-11-16T10:59:34.518Z"
   },
   {
    "duration": 3,
    "start_time": "2021-11-16T11:01:41.201Z"
   },
   {
    "duration": 116,
    "start_time": "2021-11-16T11:01:48.754Z"
   },
   {
    "duration": 3,
    "start_time": "2021-11-16T11:02:16.685Z"
   },
   {
    "duration": 3,
    "start_time": "2021-11-16T11:02:19.479Z"
   },
   {
    "duration": 3,
    "start_time": "2021-11-16T11:02:47.067Z"
   },
   {
    "duration": 3,
    "start_time": "2021-11-16T11:02:49.353Z"
   },
   {
    "duration": 3,
    "start_time": "2021-11-16T11:03:07.835Z"
   },
   {
    "duration": 3,
    "start_time": "2021-11-16T11:03:07.953Z"
   },
   {
    "duration": 112,
    "start_time": "2021-11-16T11:07:52.072Z"
   },
   {
    "duration": 187,
    "start_time": "2021-11-16T11:09:23.468Z"
   },
   {
    "duration": 4,
    "start_time": "2021-11-16T11:10:01.455Z"
   },
   {
    "duration": 3,
    "start_time": "2021-11-16T11:10:05.069Z"
   },
   {
    "duration": 4,
    "start_time": "2021-11-16T11:10:13.376Z"
   },
   {
    "duration": 3,
    "start_time": "2021-11-16T11:10:14.434Z"
   },
   {
    "duration": 3,
    "start_time": "2021-11-16T11:10:22.853Z"
   },
   {
    "duration": 4,
    "start_time": "2021-11-16T11:27:29.279Z"
   },
   {
    "duration": 4,
    "start_time": "2021-11-16T11:29:08.919Z"
   },
   {
    "duration": 118,
    "start_time": "2021-11-16T11:29:46.703Z"
   },
   {
    "duration": 437,
    "start_time": "2021-11-16T11:36:02.181Z"
   },
   {
    "duration": 157,
    "start_time": "2021-11-16T11:36:14.388Z"
   },
   {
    "duration": 207,
    "start_time": "2021-11-16T11:47:15.898Z"
   },
   {
    "duration": 3,
    "start_time": "2021-11-16T11:53:52.092Z"
   },
   {
    "duration": 3,
    "start_time": "2021-11-16T11:53:52.236Z"
   },
   {
    "duration": 3,
    "start_time": "2021-11-16T11:59:12.005Z"
   },
   {
    "duration": 112,
    "start_time": "2021-11-16T12:00:33.446Z"
   },
   {
    "duration": 3,
    "start_time": "2021-11-16T12:02:14.453Z"
   },
   {
    "duration": 3,
    "start_time": "2021-11-16T12:02:39.512Z"
   },
   {
    "duration": 106,
    "start_time": "2021-11-16T12:03:03.460Z"
   }
  ],
  "kernelspec": {
   "display_name": "Python 3 (ipykernel)",
   "language": "python",
   "name": "python3"
  },
  "language_info": {
   "codemirror_mode": {
    "name": "ipython",
    "version": 3
   },
   "file_extension": ".py",
   "mimetype": "text/x-python",
   "name": "python",
   "nbconvert_exporter": "python",
   "pygments_lexer": "ipython3",
   "version": "3.9.5"
  },
  "toc": {
   "base_numbering": 1,
   "nav_menu": {},
   "number_sections": true,
   "sideBar": true,
   "skip_h1_title": false,
   "title_cell": "Table of Contents",
   "title_sidebar": "Contents",
   "toc_cell": false,
   "toc_position": {},
   "toc_section_display": true,
   "toc_window_display": false
  }
 },
 "nbformat": 4,
 "nbformat_minor": 4
}
