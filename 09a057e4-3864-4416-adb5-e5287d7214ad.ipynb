{
 "cells": [
  {
   "cell_type": "markdown",
   "metadata": {
    "id": "E0vqbgi9ay0H"
   },
   "source": [
    "# Yandex.Music"
   ]
  },
  {
   "cell_type": "markdown",
   "metadata": {
    "id": "fhq_eyov_Zcs"
   },
   "source": [
    "# Contents <a id='back'></a>\n",
    "\n",
    "* [Introduction](#intro)\n",
    "* [Stage 1. Data overview](#data_review)\n",
    "    * [Conclusions](#data_review_conclusions)\n",
    "* [Stage 2. Data preprocessing](#data_preprocessing)\n",
    "    * [2.1 Header style](#header_style)\n",
    "    * [2.2 Missing values](#missing_values)\n",
    "    * [2.3 Duplicates](#duplicates)\n",
    "    * [2.4 Conclusions](#data_preprocessing_conclusions)\n",
    "* [Stage 3. Testing the hypotheses](#hypotheses)\n",
    "    * [3.1 Hypothesis 1: user activity in the two cities](#activity)\n",
    "    * [3.2 Hypothesis 2: music preferences on Monday and Friday](#week)\n",
    "    * [3.3 Hypothesis 3: genre preferences in Springfield and Shelbyville](#genre)\n",
    "* [Findings](#end)"
   ]
  },
  {
   "cell_type": "markdown",
   "metadata": {
    "id": "VUC88oWjTJw2"
   },
   "source": [
    "## Introduction <a id='intro'></a>\n",
    "Whenever we're doing research, we need to formulate hypotheses that we can then test. Sometimes we accept these hypotheses; other times, we reject them. To make the right decisions, a business must be able to understand whether or not it's making the right assumptions.\n",
    "\n",
    "In this project, you'll compare the music preferences of the cities of Springfield and Shelbyville. You'll study real Yandex.Music data to test the hypotheses below and compare user behavior for these two cities.\n",
    "\n",
    "### Goal: \n",
    "Test three hypotheses:\n",
    "1. User activity differs depending on the day of the week and from city to city. \n",
    "2. On Monday mornings, Springfield and Shelbyville residents listen to different genres. This is also true for Friday evenings. \n",
    "3. Springfield and Shelbyville listeners have different preferences. In Springfield, they prefer pop, while Shelbyville has more rap fans.\n",
    "\n",
    "### Stages \n",
    "Data on user behavior is stored in the file `/datasets/music_project_en.csv`. There is no information about the quality of the data, so you will need to explore it before testing the hypotheses. \n",
    "\n",
    "First, you'll evaluate the quality of the data and see whether its issues are significant. Then, during data preprocessing, you will try to account for the most critical problems.\n",
    " \n",
    "Your project will consist of three stages:\n",
    " 1. Data overview\n",
    " 2. Data preprocessing\n",
    " 3. Testing the hypotheses\n",
    " \n",
    "[Back to Contents](#back)"
   ]
  },
  {
   "cell_type": "markdown",
   "metadata": {
    "id": "Ml1hmfXC_Zcs"
   },
   "source": [
    "## Stage 1. Data overview <a id='data_review'></a>\n",
    "\n",
    "Open the data on Yandex.Music and explore it."
   ]
  },
  {
   "cell_type": "code",
   "execution_count": 1,
   "metadata": {
    "id": "AXN7PHPN_Zcs"
   },
   "outputs": [],
   "source": [
    "import pandas as pd\n"
   ]
  },
  {
   "cell_type": "markdown",
   "metadata": {
    "id": "SG23P8tt_Zcs"
   },
   "source": [
    "Read the file `music_project_en.csv` from the `/datasets/` folder and save it in the `df` variable:"
   ]
  },
  {
   "cell_type": "code",
   "execution_count": 2,
   "metadata": {
    "id": "fFVu7vqh_Zct"
   },
   "outputs": [
    {
     "data": {
      "text/html": [
       "<div>\n",
       "<style scoped>\n",
       "    .dataframe tbody tr th:only-of-type {\n",
       "        vertical-align: middle;\n",
       "    }\n",
       "\n",
       "    .dataframe tbody tr th {\n",
       "        vertical-align: top;\n",
       "    }\n",
       "\n",
       "    .dataframe thead th {\n",
       "        text-align: right;\n",
       "    }\n",
       "</style>\n",
       "<table border=\"1\" class=\"dataframe\">\n",
       "  <thead>\n",
       "    <tr style=\"text-align: right;\">\n",
       "      <th></th>\n",
       "      <th>userID</th>\n",
       "      <th>Track</th>\n",
       "      <th>artist</th>\n",
       "      <th>genre</th>\n",
       "      <th>City</th>\n",
       "      <th>time</th>\n",
       "      <th>Day</th>\n",
       "    </tr>\n",
       "  </thead>\n",
       "  <tbody>\n",
       "    <tr>\n",
       "      <th>count</th>\n",
       "      <td>65079</td>\n",
       "      <td>63736</td>\n",
       "      <td>57512</td>\n",
       "      <td>63881</td>\n",
       "      <td>65079</td>\n",
       "      <td>65079</td>\n",
       "      <td>65079</td>\n",
       "    </tr>\n",
       "    <tr>\n",
       "      <th>unique</th>\n",
       "      <td>41748</td>\n",
       "      <td>39666</td>\n",
       "      <td>37806</td>\n",
       "      <td>268</td>\n",
       "      <td>2</td>\n",
       "      <td>20392</td>\n",
       "      <td>3</td>\n",
       "    </tr>\n",
       "    <tr>\n",
       "      <th>top</th>\n",
       "      <td>A8AE9169</td>\n",
       "      <td>Brand</td>\n",
       "      <td>Kartvelli</td>\n",
       "      <td>pop</td>\n",
       "      <td>Springfield</td>\n",
       "      <td>21:51:22</td>\n",
       "      <td>Friday</td>\n",
       "    </tr>\n",
       "    <tr>\n",
       "      <th>freq</th>\n",
       "      <td>76</td>\n",
       "      <td>136</td>\n",
       "      <td>136</td>\n",
       "      <td>8850</td>\n",
       "      <td>45360</td>\n",
       "      <td>14</td>\n",
       "      <td>23149</td>\n",
       "    </tr>\n",
       "  </tbody>\n",
       "</table>\n",
       "</div>"
      ],
      "text/plain": [
       "          userID  Track     artist  genre       City        time     Day\n",
       "count      65079  63736      57512  63881        65079     65079   65079\n",
       "unique     41748  39666      37806    268            2     20392       3\n",
       "top     A8AE9169  Brand  Kartvelli    pop  Springfield  21:51:22  Friday\n",
       "freq          76    136        136   8850        45360        14   23149"
      ]
     },
     "execution_count": 2,
     "metadata": {},
     "output_type": "execute_result"
    }
   ],
   "source": [
    "df = pd.read_csv('/datasets/music_project_en.csv')\n",
    "df.describe()"
   ]
  },
  {
   "cell_type": "markdown",
   "metadata": {
    "id": "rDoOMd3uTqnZ"
   },
   "source": [
    "Print the first 10 table rows:"
   ]
  },
  {
   "cell_type": "code",
   "execution_count": 3,
   "metadata": {
    "id": "oWTVX3gW_Zct"
   },
   "outputs": [
    {
     "name": "stdout",
     "output_type": "stream",
     "text": [
      "     userID                        Track            artist   genre  \\\n",
      "0  FFB692EC            Kamigata To Boots  The Mass Missile    rock   \n",
      "1  55204538  Delayed Because of Accident  Andreas Rönnberg    rock   \n",
      "2    20EC38            Funiculì funiculà       Mario Lanza     pop   \n",
      "3  A3DD03C9        Dragons in the Sunset        Fire + Ice    folk   \n",
      "4  E2DC1FAE                  Soul People        Space Echo   dance   \n",
      "5  842029A1                       Chains          Obladaet  rusrap   \n",
      "6  4CB90AA5                         True      Roman Messer   dance   \n",
      "7  F03E1C1F             Feeling This Way   Polina Griffith   dance   \n",
      "8  8FA1D3BE                     L’estate       Julia Dalia  ruspop   \n",
      "9  E772D5C0                    Pessimist               NaN   dance   \n",
      "\n",
      "        City        time        Day  \n",
      "0  Shelbyville  20:28:33  Wednesday  \n",
      "1  Springfield  14:07:09     Friday  \n",
      "2  Shelbyville  20:58:07  Wednesday  \n",
      "3  Shelbyville  08:37:09     Monday  \n",
      "4  Springfield  08:34:34     Monday  \n",
      "5  Shelbyville  13:09:41     Friday  \n",
      "6  Springfield  13:00:07  Wednesday  \n",
      "7  Springfield  20:47:49  Wednesday  \n",
      "8  Springfield  09:17:40     Friday  \n",
      "9  Shelbyville  21:20:49  Wednesday  \n"
     ]
    }
   ],
   "source": [
    "print(df.head(10))"
   ]
  },
  {
   "cell_type": "markdown",
   "metadata": {
    "id": "EO73Kwic_Zct"
   },
   "source": [
    "Obtaining the general information about the table with one command:"
   ]
  },
  {
   "cell_type": "code",
   "execution_count": 4,
   "metadata": {
    "id": "DSf2kIb-_Zct"
   },
   "outputs": [
    {
     "data": {
      "text/plain": [
       "  userID    object\n",
       "Track       object\n",
       "artist      object\n",
       "genre       object\n",
       "  City      object\n",
       "time        object\n",
       "Day         object\n",
       "dtype: object"
      ]
     },
     "execution_count": 4,
     "metadata": {},
     "output_type": "execute_result"
    }
   ],
   "source": [
    "df.dtypes"
   ]
  },
  {
   "cell_type": "markdown",
   "metadata": {
    "id": "TaQ2Iwbr_Zct"
   },
   "source": [
    "The table contains seven columns. They all store the same data type: `object`.\n",
    "\n",
    "According to the documentation:\n",
    "- `'userID'` — user identifier\n",
    "- `'Track'` — track title\n",
    "- `'artist'` — artist's name\n",
    "- `'genre'`\n",
    "- `'City'` — user's city\n",
    "- `'time'` — the exact time the track was played\n",
    "- `'Day'` — day of the week\n",
    "\n",
    "We can see three issues with style in the column names:\n",
    "1. Some names are uppercase, some are lowercase.\n",
    "2. There are spaces in some names.\n",
    "3. They are not all the same data type.\n",
    "\n",
    "The number of column values is different. This means the data contains missing values.\n"
   ]
  },
  {
   "cell_type": "markdown",
   "metadata": {
    "id": "MCB6-dXG_Zct"
   },
   "source": [
    "### Conclusions <a id='data_review_conclusions'></a> \n",
    "\n",
    "Each row in the table stores data on a track that was played. Some columns describe the track itself: its title, artist and genre. The rest convey information about the user: the city they come from, the time they played the track. \n",
    "\n",
    "It's clear that the data is sufficient to test the hypotheses. However, there are missing values.\n",
    "\n",
    "To move forward, we need to preprocess the data."
   ]
  },
  {
   "cell_type": "markdown",
   "metadata": {
    "id": "3eL__vcwViOi"
   },
   "source": [
    "[Back to Contents](#back)"
   ]
  },
  {
   "cell_type": "markdown",
   "metadata": {
    "id": "SjYF6Ub9_Zct"
   },
   "source": [
    "## Stage 2. Data preprocessing <a id='data_preprocessing'></a>\n",
    "Correct the formatting in the column headers and deal with the missing values. Then, check whether there are duplicates in the data."
   ]
  },
  {
   "cell_type": "markdown",
   "metadata": {
    "id": "dIaKXr29_Zct"
   },
   "source": [
    "### Header style <a id='header_style'></a>\n",
    "Print the column header:"
   ]
  },
  {
   "cell_type": "code",
   "execution_count": 5,
   "metadata": {
    "id": "oKOTdF_Q_Zct"
   },
   "outputs": [
    {
     "name": "stdout",
     "output_type": "stream",
     "text": [
      "Index(['  userID', 'Track', 'artist', 'genre', '  City  ', 'time', 'Day'], dtype='object')\n"
     ]
    }
   ],
   "source": [
    "print(df.columns)"
   ]
  },
  {
   "cell_type": "markdown",
   "metadata": {
    "id": "zj5534cv_Zct"
   },
   "source": [
    "Change column names according to the rules of good style:\n",
    "* If the name has several words, use snake_case\n",
    "* All characters must be lowercase\n",
    "* Delete spaces"
   ]
  },
  {
   "cell_type": "code",
   "execution_count": 6,
   "metadata": {
    "id": "ISlFqs5y_Zct"
   },
   "outputs": [],
   "source": [
    "df.rename(columns=({'  userID':'user_id','Track':'track', 'artist':'artist', 'genre':'genre', '  City  ':'city', 'time':'time', 'Day':'day'}), inplace=True,)"
   ]
  },
  {
   "cell_type": "markdown",
   "metadata": {
    "id": "1dqbh00J_Zct"
   },
   "source": [
    "Check the result. Print the names of the columns once more:"
   ]
  },
  {
   "cell_type": "code",
   "execution_count": 7,
   "metadata": {
    "id": "d4NOAmTW_Zct"
   },
   "outputs": [
    {
     "name": "stdout",
     "output_type": "stream",
     "text": [
      "<bound method NDFrame.head of         user_id                              track            artist  \\\n",
      "0      FFB692EC                  Kamigata To Boots  The Mass Missile   \n",
      "1      55204538        Delayed Because of Accident  Andreas Rönnberg   \n",
      "2        20EC38                  Funiculì funiculà       Mario Lanza   \n",
      "3      A3DD03C9              Dragons in the Sunset        Fire + Ice   \n",
      "4      E2DC1FAE                        Soul People        Space Echo   \n",
      "...         ...                                ...               ...   \n",
      "65074  729CBB09                            My Name            McLean   \n",
      "65075  D08D4A55  Maybe One Day (feat. Black Spade)       Blu & Exile   \n",
      "65076  C5E3A0D5                          Jalopiina               NaN   \n",
      "65077  321D0506                      Freight Train     Chas McDevitt   \n",
      "65078  3A64EF84          Tell Me Sweet Little Lies      Monica Lopez   \n",
      "\n",
      "            genre         city      time        day  \n",
      "0            rock  Shelbyville  20:28:33  Wednesday  \n",
      "1            rock  Springfield  14:07:09     Friday  \n",
      "2             pop  Shelbyville  20:58:07  Wednesday  \n",
      "3            folk  Shelbyville  08:37:09     Monday  \n",
      "4           dance  Springfield  08:34:34     Monday  \n",
      "...           ...          ...       ...        ...  \n",
      "65074         rnb  Springfield  13:32:28  Wednesday  \n",
      "65075         hip  Shelbyville  10:00:00     Monday  \n",
      "65076  industrial  Springfield  20:09:26     Friday  \n",
      "65077        rock  Springfield  21:43:59     Friday  \n",
      "65078     country  Springfield  21:59:46     Friday  \n",
      "\n",
      "[65079 rows x 7 columns]>\n"
     ]
    }
   ],
   "source": [
    "print(df.head)"
   ]
  },
  {
   "cell_type": "markdown",
   "metadata": {
    "id": "xYJk6ksJVpOl"
   },
   "source": [
    "[Back to Contents](#back)"
   ]
  },
  {
   "cell_type": "markdown",
   "metadata": {
    "id": "5ISfbcfY_Zct"
   },
   "source": [
    "### Missing values <a id='missing_values'></a>\n",
    "First, find the number of missing values in the table. To do so, use two `pandas` methods:"
   ]
  },
  {
   "cell_type": "code",
   "execution_count": 8,
   "metadata": {
    "id": "RskX29qr_Zct"
   },
   "outputs": [
    {
     "name": "stdout",
     "output_type": "stream",
     "text": [
      "     user_id                                              track  \\\n",
      "0   FFB692EC                                  Kamigata To Boots   \n",
      "1   55204538                        Delayed Because of Accident   \n",
      "2     20EC38                                  Funiculì funiculà   \n",
      "3   A3DD03C9                              Dragons in the Sunset   \n",
      "4   E2DC1FAE                                        Soul People   \n",
      "5   842029A1                                             Chains   \n",
      "6   4CB90AA5                                               True   \n",
      "7   F03E1C1F                                   Feeling This Way   \n",
      "8   8FA1D3BE                                           L’estate   \n",
      "9   E772D5C0                                          Pessimist   \n",
      "10  BC5A3A29                                       Gool la Mita   \n",
      "11  8B5192C0  Is There Anybody Out There? (Panoramic Paralys...   \n",
      "\n",
      "                  artist       genre         city      time        day  \n",
      "0       The Mass Missile        rock  Shelbyville  20:28:33  Wednesday  \n",
      "1       Andreas Rönnberg        rock  Springfield  14:07:09     Friday  \n",
      "2            Mario Lanza         pop  Shelbyville  20:58:07  Wednesday  \n",
      "3             Fire + Ice        folk  Shelbyville  08:37:09     Monday  \n",
      "4             Space Echo       dance  Springfield  08:34:34     Monday  \n",
      "5               Obladaet      rusrap  Shelbyville  13:09:41     Friday  \n",
      "6           Roman Messer       dance  Springfield  13:00:07  Wednesday  \n",
      "7        Polina Griffith       dance  Springfield  20:47:49  Wednesday  \n",
      "8            Julia Dalia      ruspop  Springfield  09:17:40     Friday  \n",
      "9                    NaN       dance  Shelbyville  21:20:49  Wednesday  \n",
      "10   Shireen Abdul Wahab       world  Springfield  14:08:42     Monday  \n",
      "11  Pink Floyd Floydhead  electronic  Springfield  13:47:49     Monday  \n",
      "user_id       0\n",
      "track      1343\n",
      "artist     7567\n",
      "genre      1198\n",
      "city          0\n",
      "time          0\n",
      "day           0\n",
      "dtype: int64\n"
     ]
    }
   ],
   "source": [
    "print(df.head(12))\n",
    "print(df.isna().sum())"
   ]
  },
  {
   "cell_type": "markdown",
   "metadata": {
    "id": "qubhgnlO_Zct"
   },
   "source": [
    "Not all missing values affect the research. For instance, the missing values in `track` and `artist` are not critical. You can simply replace them with clear markers.\n",
    "\n",
    "But missing values in `'genre'` can affect the comparison of music preferences in Springfield and Shelbyville. In real life, it would be useful to learn the reasons why the data is missing and try to make up for them. But we do not have that opportunity in this project. So you will have to:\n",
    "* Fill in these missing values with markers\n",
    "* Evaluate how much the missing values may affect your computations"
   ]
  },
  {
   "cell_type": "markdown",
   "metadata": {
    "id": "fSv2laPA_Zct"
   },
   "source": [
    "Replace the missing values in `'track'`, `'artist'`, and `'genre'` with the string `'unknown'`. To do this, create the `columns_to_replace` list, loop over it with `for`, and replace the missing values in each of the columns:"
   ]
  },
  {
   "cell_type": "code",
   "execution_count": 9,
   "metadata": {
    "id": "KplB5qWs_Zct"
   },
   "outputs": [],
   "source": [
    "columns_to_replace = ['track', 'genre', 'artist']\n",
    "for columns in columns_to_replace:\n",
    "    df[columns] = df[columns].fillna('unknown')"
   ]
  },
  {
   "cell_type": "markdown",
   "metadata": {
    "id": "Ilsm-MZo_Zct"
   },
   "source": [
    "Make sure the table contains no more missing values. Count the missing values again."
   ]
  },
  {
   "cell_type": "code",
   "execution_count": 10,
   "metadata": {
    "id": "Tq4nYRX4_Zct"
   },
   "outputs": [
    {
     "name": "stdout",
     "output_type": "stream",
     "text": [
      "user_id    0\n",
      "track      0\n",
      "artist     0\n",
      "genre      0\n",
      "city       0\n",
      "time       0\n",
      "day        0\n",
      "dtype: int64\n"
     ]
    }
   ],
   "source": [
    "print(df.isna().sum())"
   ]
  },
  {
   "cell_type": "markdown",
   "metadata": {
    "id": "74ZIBmq9VrsK"
   },
   "source": [
    "[Back to Contents](#back)"
   ]
  },
  {
   "cell_type": "markdown",
   "metadata": {
    "id": "BWKRtBJ3_Zct"
   },
   "source": [
    "### Duplicates <a id='duplicates'></a>\n",
    "Find the number of obvious duplicates in the table using one command:"
   ]
  },
  {
   "cell_type": "code",
   "execution_count": 11,
   "metadata": {
    "id": "36eES_S0_Zct"
   },
   "outputs": [
    {
     "name": "stdout",
     "output_type": "stream",
     "text": [
      "3826\n"
     ]
    }
   ],
   "source": [
    "print(df.duplicated().sum())"
   ]
  },
  {
   "cell_type": "markdown",
   "metadata": {
    "id": "Ot25h6XR_Zct"
   },
   "source": [
    "Call the `pandas` method for getting rid of obvious duplicates:"
   ]
  },
  {
   "cell_type": "code",
   "execution_count": 12,
   "metadata": {
    "id": "exFHq6tt_Zct"
   },
   "outputs": [],
   "source": [
    "df = df.drop_duplicates()\n",
    "df = df.drop_duplicates().reset_index(drop=True)"
   ]
  },
  {
   "cell_type": "markdown",
   "metadata": {
    "id": "Im2YwBEG_Zct"
   },
   "source": [
    "Count obvious duplicates once more to make sure you have removed all of them:"
   ]
  },
  {
   "cell_type": "code",
   "execution_count": 13,
   "metadata": {
    "id": "-8PuNWQ0_Zct"
   },
   "outputs": [
    {
     "name": "stdout",
     "output_type": "stream",
     "text": [
      "0\n"
     ]
    }
   ],
   "source": [
    "print(df.duplicated().sum())"
   ]
  },
  {
   "cell_type": "markdown",
   "metadata": {
    "id": "QlFBsxAr_Zct"
   },
   "source": [
    "Now get rid of implicit duplicates in the `genre` column. For example, the name of a genre can be written in different ways. Such errors will also affect the result."
   ]
  },
  {
   "cell_type": "markdown",
   "metadata": {
    "id": "eSjWwsOh_Zct"
   },
   "source": [
    "Print a list of unique genre names, sorted in alphabetical order. To do so:\n",
    "* Retrieve the intended DataFrame column \n",
    "* Apply a sorting method to it\n",
    "* For the sorted column, call the method that will return all unique column values"
   ]
  },
  {
   "cell_type": "code",
   "execution_count": 14,
   "metadata": {
    "id": "JIUcqzZN_Zct"
   },
   "outputs": [
    {
     "name": "stdout",
     "output_type": "stream",
     "text": [
      "31916         acid\n",
      "3636      acoustic\n",
      "20264     acoustic\n",
      "37784     acoustic\n",
      "14611     acoustic\n",
      "           ...    \n",
      "6158         world\n",
      "17963        world\n",
      "27939    worldbeat\n",
      "39063    worldbeat\n",
      "8448           ïîï\n",
      "Name: genre, Length: 61253, dtype: object\n"
     ]
    }
   ],
   "source": [
    "df.sort_values(by = ['genre'],inplace = True)\n",
    "df['genre'].unique()\n",
    "print(df['genre'])\n"
   ]
  },
  {
   "cell_type": "markdown",
   "metadata": {
    "id": "qej-Qmuo_Zct"
   },
   "source": [
    "Look through the list to find implicit duplicates of the genre `hiphop`. These could be names written incorrectly or alternative names of the same genre.\n",
    "\n",
    "You will see the following implicit duplicates:\n",
    "* `hip`\n",
    "* `hop`\n",
    "* `hip-hop`\n",
    "\n",
    "To get rid of them, declare the function `replace_wrong_genres()` with two parameters: \n",
    "* `wrong_genres=` — the list of duplicates\n",
    "* `correct_genre=` — the string with the correct value\n",
    "\n",
    "The function should correct the names in the `'genre'` column from the `df` table, i.e. replace each value from the `wrong_genres` list with the value in `correct_genre`."
   ]
  },
  {
   "cell_type": "code",
   "execution_count": 15,
   "metadata": {
    "id": "ErNDkmns_Zct"
   },
   "outputs": [],
   "source": [
    "def replace_wrong_genres(wrong_genres, correct_genre):\n",
    "    for genre in df:\n",
    "        genre.replace(wrong_genres, correct_genre)"
   ]
  },
  {
   "cell_type": "markdown",
   "metadata": {
    "id": "aDoBJxbA_Zct"
   },
   "source": [
    "Call `replace_wrong_genres()` and pass it arguments so that it clears implicit duplcates (`hip`, `hop`, and `hip-hop`) and replaces them with `hiphop`:"
   ]
  },
  {
   "cell_type": "code",
   "execution_count": 16,
   "metadata": {
    "id": "YN5i2hpmSo09"
   },
   "outputs": [],
   "source": [
    "replace_wrong_genres('hip', 'hiphop')\n",
    "replace_wrong_genres('hop', 'hiphop')\n",
    "replace_wrong_genres('hip-hop', 'hiphop')"
   ]
  },
  {
   "cell_type": "markdown",
   "metadata": {
    "id": "zQKF16_RG15m"
   },
   "source": [
    "Make sure the duplicate names were removed. Print the list of unique values from the `'genre'` column:"
   ]
  },
  {
   "cell_type": "code",
   "execution_count": 17,
   "metadata": {
    "id": "wvixALnFG15m"
   },
   "outputs": [
    {
     "name": "stdout",
     "output_type": "stream",
     "text": [
      "['acid' 'acoustic' 'action' 'adult' 'africa' 'afrikaans' 'alternative'\n",
      " 'ambient' 'americana' 'animated' 'anime' 'arabesk' 'arabic' 'arena'\n",
      " 'argentinetango' 'art' 'audiobook' 'avantgarde' 'axé' 'baile' 'balkan'\n",
      " 'beats' 'bigroom' 'black' 'bluegrass' 'blues' 'bollywood' 'bossa'\n",
      " 'brazilian' 'breakbeat' 'breaks' 'broadway' 'cantautori' 'cantopop'\n",
      " 'canzone' 'caribbean' 'caucasian' 'celtic' 'chamber' 'children' 'chill'\n",
      " 'chinese' 'choral' 'christian' 'christmas' 'classical' 'classicmetal'\n",
      " 'club' 'colombian' 'comedy' 'conjazz' 'contemporary' 'country' 'cuban'\n",
      " 'dance' 'dancehall' 'dancepop' 'dark' 'death' 'deep' 'deutschrock'\n",
      " 'deutschspr' 'dirty' 'disco' 'dnb' 'documentary' 'downbeat' 'downtempo'\n",
      " 'drum' 'dub' 'dubstep' 'eastern' 'easy' 'electronic' 'electropop' 'emo'\n",
      " 'entehno' 'epicmetal' 'estrada' 'ethnic' 'eurofolk' 'european'\n",
      " 'experimental' 'extrememetal' 'fado' 'film' 'fitness' 'flamenco' 'folk'\n",
      " 'folklore' 'folkmetal' 'folkrock' 'folktronica' 'forró' 'frankreich'\n",
      " 'französisch' 'french' 'funk' 'future' 'gangsta' 'garage' 'german'\n",
      " 'ghazal' 'gitarre' 'glitch' 'gospel' 'gothic' 'grime' 'grunge' 'gypsy'\n",
      " 'handsup' \"hard'n'heavy\" 'hardcore' 'hardstyle' 'hardtechno' 'hip'\n",
      " 'hip-hop' 'hiphop' 'historisch' 'holiday' 'hop' 'horror' 'house' 'idm'\n",
      " 'independent' 'indian' 'indie' 'indipop' 'industrial' 'inspirational'\n",
      " 'instrumental' 'international' 'irish' 'jam' 'japanese' 'jazz' 'jewish'\n",
      " 'jpop' 'jungle' 'k-pop' 'karadeniz' 'karaoke' 'kayokyoku' 'korean'\n",
      " 'laiko' 'latin' 'latino' 'leftfield' 'local' 'lounge' 'loungeelectronic'\n",
      " 'lovers' 'malaysian' 'mandopop' 'marschmusik' 'meditative'\n",
      " 'mediterranean' 'melodic' 'metal' 'metalcore' 'mexican' 'middle'\n",
      " 'minimal' 'miscellaneous' 'modern' 'mood' 'mpb' 'muslim' 'native'\n",
      " 'neoklassik' 'neue' 'new' 'newage' 'newwave' 'nu' 'nujazz' 'numetal'\n",
      " 'oceania' 'old' 'opera' 'orchestral' 'other' 'piano' 'pop'\n",
      " 'popelectronic' 'popeurodance' 'post' 'posthardcore' 'postrock' 'power'\n",
      " 'progmetal' 'progressive' 'psychedelic' 'punjabi' 'punk' 'quebecois'\n",
      " 'ragga' 'ram' 'rancheras' 'rap' 'rave' 'reggae' 'reggaeton' 'regional'\n",
      " 'relax' 'religious' 'retro' 'rhythm' 'rnb' 'rnr' 'rock' 'rockabilly'\n",
      " 'romance' 'roots' 'ruspop' 'rusrap' 'rusrock' 'salsa' 'samba' 'schlager'\n",
      " 'self' 'sertanejo' 'shoegazing' 'showtunes' 'singer' 'ska' 'slow'\n",
      " 'smooth' 'soul' 'soulful' 'sound' 'soundtrack' 'southern' 'specialty'\n",
      " 'speech' 'spiritual' 'sport' 'stonerrock' 'surf' 'swing' 'synthpop'\n",
      " 'sängerportrait' 'tango' 'tanzorchester' 'taraftar' 'tech' 'techno'\n",
      " 'thrash' 'top' 'traditional' 'tradjazz' 'trance' 'tribal' 'trip'\n",
      " 'triphop' 'tropical' 'türk' 'türkçe' 'unknown' 'urban' 'uzbek' 'variété'\n",
      " 'vi' 'videogame' 'vocal' 'western' 'world' 'worldbeat' 'ïîï']\n"
     ]
    }
   ],
   "source": [
    "print(df['genre'].unique())"
   ]
  },
  {
   "cell_type": "markdown",
   "metadata": {
    "id": "ALgNbvF3VtPA"
   },
   "source": [
    "[Back to Contents](#back)"
   ]
  },
  {
   "cell_type": "markdown",
   "metadata": {
    "id": "jz6a9-7HQUDd"
   },
   "source": [
    "### Conclusions <a id='data_preprocessing_conclusions'></a>\n",
    "We detected three issues with the data:\n",
    "\n",
    "- Incorrect header styles\n",
    "- Missing values\n",
    "- Obvious and implicit duplicates\n",
    "\n",
    "The headers have been cleaned up to make processing the table simpler.\n",
    "\n",
    "All missing values have been replaced with `'unknown'`. But we still have to see whether the missing values in `'genre'` will affect our calculations.\n",
    "\n",
    "The absence of duplicates will make the results more precise and easier to understand.\n",
    "\n",
    "Now we can move on to testing hypotheses. "
   ]
  },
  {
   "cell_type": "markdown",
   "metadata": {
    "id": "eK1es74rVujj"
   },
   "source": [
    "[Back to Contents](#back)"
   ]
  },
  {
   "cell_type": "markdown",
   "metadata": {
    "id": "WttZHXH0SqKk"
   },
   "source": [
    "## Stage 3. Testing hypotheses <a id='hypotheses'></a>"
   ]
  },
  {
   "cell_type": "markdown",
   "metadata": {
    "id": "Im936VVi_Zcu"
   },
   "source": [
    "### Hypothesis 1: comparing user behavior in two cities <a id='activity'></a>"
   ]
  },
  {
   "cell_type": "markdown",
   "metadata": {
    "id": "nwt_MuaL_Zcu"
   },
   "source": [
    "According to the first hypothesis, users from Springfield and Shelbyville listen to music differently. Test this using the data on three days of the week: Monday, Wednesday, and Friday.\n",
    "\n",
    "* Divide the users into groups by city.\n",
    "* Compare how many tracks each group played on Monday, Wednesday, and Friday.\n"
   ]
  },
  {
   "cell_type": "markdown",
   "metadata": {
    "id": "8Dw_YMmT_Zcu"
   },
   "source": [
    "For the sake of practice, perform each computation separately. \n",
    "\n",
    "Evaluate user activity in each city. Group the data by city and find the number of songs played in each group.\n",
    "\n"
   ]
  },
  {
   "cell_type": "code",
   "execution_count": 18,
   "metadata": {
    "id": "0_Qs96oh_Zcu"
   },
   "outputs": [],
   "source": [
    "dfspringfield = df.query(\"city == 'Springfield'\")\n",
    "dfshelbyville = df.query(\"city == 'Shelbyville'\")"
   ]
  },
  {
   "cell_type": "markdown",
   "metadata": {
    "id": "dzli3w8o_Zcu"
   },
   "source": [
    "Springfield has more tracks played than Shelbyville. But that does not imply that citizens of Springfield listen to music more often. This city is simply bigger, and there are more users.\n",
    "\n",
    "Now group the data by day of the week and find the number of tracks played on Monday, Wednesday, and Friday.\n"
   ]
  },
  {
   "cell_type": "code",
   "execution_count": 19,
   "metadata": {
    "id": "uZMKjiJz_Zcu"
   },
   "outputs": [],
   "source": [
    "dfspringfield_mon = dfspringfield.query(\"day == 'Monday'\")\n",
    "dfspringfield_wed = dfspringfield.query(\"day == 'Wednesday'\")\n",
    "dfspringfield_fri = dfspringfield.query(\"day == 'Friday'\")\n",
    "dfshelbyville_mon = dfshelbyville.query(\"day == 'Monday'\")\n",
    "dfshelbyville_wed = dfshelbyville.query(\"day == 'Wednesday'\")\n",
    "dfshelbyville_fri = dfshelbyville.query(\"day == 'Friday'\")"
   ]
  },
  {
   "cell_type": "markdown",
   "metadata": {
    "id": "cC2tNrlL_Zcu"
   },
   "source": [
    "Wednesday is the quietest day overall. But if we consider the two cities separately, we might come to a different conclusion."
   ]
  },
  {
   "cell_type": "markdown",
   "metadata": {
    "id": "POzs8bGa_Zcu"
   },
   "source": [
    "You have seen how grouping by city or day works. Now write a function that will group by both.\n",
    "\n",
    "Create the `number_tracks()` function to calculate the number of songs played for a given day and city. It will require two parameters:\n",
    "* day of the week\n",
    "* name of the city\n",
    "\n",
    "In the function, use a variable to store the rows from the original table, where:\n",
    "  * `'day'` column value is equal to the `day` parameter\n",
    "  * `'city'` column value is equal to the `city` parameter\n",
    "\n",
    "Apply consecutive filtering with logical indexing.\n",
    "\n",
    "Then calculate the `'user_id'` column values in the resulting table. Store the result to a new variable. Return this variable from the function."
   ]
  },
  {
   "cell_type": "code",
   "execution_count": 20,
   "metadata": {},
   "outputs": [
    {
     "data": {
      "text/plain": [
       "Index(['user_id', 'track', 'artist', 'genre', 'city', 'time', 'day'], dtype='object')"
      ]
     },
     "execution_count": 20,
     "metadata": {},
     "output_type": "execute_result"
    }
   ],
   "source": [
    "df.columns"
   ]
  },
  {
   "cell_type": "code",
   "execution_count": 21,
   "metadata": {},
   "outputs": [],
   "source": [
    "dataframe = df\n",
    "day_of_the_wk_str = 'Friday'\n",
    "city = 'Springfield'\n",
    "\n",
    "#filter the input dataframe with input filters\n",
    "df_temp = dataframe[(dataframe['day']==day_of_the_wk_str) & (dataframe['city']==city) ]\n",
    "#for gross count\n",
    "song_count = len(df_temp)"
   ]
  },
  {
   "cell_type": "code",
   "execution_count": 22,
   "metadata": {},
   "outputs": [],
   "source": [
    "def get_song_count (dataframe, day_of_the_wk_str, city):\n",
    "    #filter the input dataframe with input filters\n",
    "    df_temp = dataframe[(dataframe['day']==day_of_the_wk_str) & (dataframe['city']==city) ]\n",
    "    #for gross count\n",
    "    song_count = len(df_temp)\n",
    "    #for unique count\n",
    "    song_count_unique = len(df_temp[['track','artist','time']].drop_duplicates)\n",
    "    return \n",
    "    \n",
    "def number_tracks(df, day_of_the_wk_str, city):\n",
    "    df_temp = dataframe[(dataframe['day']==day_of_the_wk_str) & (dataframe['city']==city) ]\n",
    "    song_count = len(df_temp)\n",
    "    return song_count"
   ]
  },
  {
   "cell_type": "markdown",
   "metadata": {
    "id": "ytf7xFrFJQ2r"
   },
   "source": [
    "Call `number_tracks()` six times, changing the parameter values, so that you retrieve the data on both cities for each of the three days."
   ]
  },
  {
   "cell_type": "code",
   "execution_count": 23,
   "metadata": {
    "id": "rJcRATNQ_Zcu"
   },
   "outputs": [
    {
     "data": {
      "text/plain": [
       "15740"
      ]
     },
     "execution_count": 23,
     "metadata": {},
     "output_type": "execute_result"
    }
   ],
   "source": [
    "# the number of songs played in Springfield on Monday\n",
    "number_tracks (df, 'Monday', 'Springfield')"
   ]
  },
  {
   "cell_type": "code",
   "execution_count": 24,
   "metadata": {
    "id": "hq_ncZ5T_Zcu"
   },
   "outputs": [
    {
     "data": {
      "text/plain": [
       "5614"
      ]
     },
     "execution_count": 24,
     "metadata": {},
     "output_type": "execute_result"
    }
   ],
   "source": [
    "# the number of songs played in Shelbyville on Monday\n",
    "number_tracks (df, 'Monday', 'Shelbyville')"
   ]
  },
  {
   "cell_type": "code",
   "execution_count": 25,
   "metadata": {
    "id": "_NTy2VPU_Zcu"
   },
   "outputs": [
    {
     "data": {
      "text/plain": [
       "11056"
      ]
     },
     "execution_count": 25,
     "metadata": {},
     "output_type": "execute_result"
    }
   ],
   "source": [
    "# the number of songs played in Springfield on Wednesday\n",
    "number_tracks (df, 'Wednesday', 'Springfield')"
   ]
  },
  {
   "cell_type": "code",
   "execution_count": 26,
   "metadata": {
    "id": "j2y3TAwo_Zcu"
   },
   "outputs": [
    {
     "data": {
      "text/plain": [
       "7003"
      ]
     },
     "execution_count": 26,
     "metadata": {},
     "output_type": "execute_result"
    }
   ],
   "source": [
    "# the number of songs played in Shelbyville on Wednesday\n",
    "number_tracks (df, 'Wednesday', 'Shelbyville')"
   ]
  },
  {
   "cell_type": "code",
   "execution_count": 27,
   "metadata": {
    "id": "vYDw5u_K_Zcu"
   },
   "outputs": [
    {
     "data": {
      "text/plain": [
       "15945"
      ]
     },
     "execution_count": 27,
     "metadata": {},
     "output_type": "execute_result"
    }
   ],
   "source": [
    "# the number of songs played in Springfield on Friday\n",
    "number_tracks (df, 'Friday', 'Springfield')"
   ]
  },
  {
   "cell_type": "code",
   "execution_count": 28,
   "metadata": {
    "id": "8_yzFtW3_Zcu"
   },
   "outputs": [
    {
     "data": {
      "text/plain": [
       "5895"
      ]
     },
     "execution_count": 28,
     "metadata": {},
     "output_type": "execute_result"
    }
   ],
   "source": [
    "# the number of songs played in Shelbyville on Friday\n",
    "number_tracks (df, 'Friday', 'Shelbyville')"
   ]
  },
  {
   "cell_type": "markdown",
   "metadata": {
    "id": "7QXffbO-_Zcu"
   },
   "source": [
    "Use `pd.DataFrame` to create a table, where\n",
    "* Column names are: `['city', 'monday', 'wednesday', 'friday']`\n",
    "* The data is the results you got from `number_tracks()`"
   ]
  },
  {
   "cell_type": "code",
   "execution_count": 29,
   "metadata": {
    "id": "APAcLpOr_Zcu"
   },
   "outputs": [
    {
     "data": {
      "text/html": [
       "<div>\n",
       "<style scoped>\n",
       "    .dataframe tbody tr th:only-of-type {\n",
       "        vertical-align: middle;\n",
       "    }\n",
       "\n",
       "    .dataframe tbody tr th {\n",
       "        vertical-align: top;\n",
       "    }\n",
       "\n",
       "    .dataframe thead th {\n",
       "        text-align: right;\n",
       "    }\n",
       "</style>\n",
       "<table border=\"1\" class=\"dataframe\">\n",
       "  <thead>\n",
       "    <tr style=\"text-align: right;\">\n",
       "      <th></th>\n",
       "      <th>city</th>\n",
       "      <th>monday</th>\n",
       "      <th>wednesday</th>\n",
       "      <th>friday</th>\n",
       "    </tr>\n",
       "  </thead>\n",
       "  <tbody>\n",
       "    <tr>\n",
       "      <th>0</th>\n",
       "      <td>Springfield</td>\n",
       "      <td>15740</td>\n",
       "      <td>11056</td>\n",
       "      <td>15945</td>\n",
       "    </tr>\n",
       "    <tr>\n",
       "      <th>1</th>\n",
       "      <td>Shelbyville</td>\n",
       "      <td>5614</td>\n",
       "      <td>7003</td>\n",
       "      <td>5895</td>\n",
       "    </tr>\n",
       "  </tbody>\n",
       "</table>\n",
       "</div>"
      ],
      "text/plain": [
       "          city  monday  wednesday  friday\n",
       "0  Springfield   15740      11056   15945\n",
       "1  Shelbyville    5614       7003    5895"
      ]
     },
     "execution_count": 29,
     "metadata": {},
     "output_type": "execute_result"
    }
   ],
   "source": [
    "# table with results\n",
    "pd.DataFrame(data= [['Springfield',15740,11056,15945],['Shelbyville',5614,7003,5895]], columns= ['city', 'monday', 'wednesday', 'friday'])"
   ]
  },
  {
   "cell_type": "markdown",
   "metadata": {
    "id": "-EgPIHYu_Zcu"
   },
   "source": [
    "**Conclusions**\n",
    "\n",
    "The data reveals differences in user behavior:\n",
    "\n",
    "- In Springfield, the number of songs played peaks on Mondays and Fridays, while on Wednesday there is a decrease in activity.\n",
    "- In Shelbyville, on the contrary, users listen to music more on Wednesday. User activity on Monday and Friday is smaller.\n",
    "\n",
    "So the first hypothesis seems to be correct."
   ]
  },
  {
   "cell_type": "markdown",
   "metadata": {
    "id": "p7nFQajCVw5B"
   },
   "source": [
    "[Back to Contents](#back)"
   ]
  },
  {
   "cell_type": "markdown",
   "metadata": {
    "id": "atZAxtq4_Zcu"
   },
   "source": [
    "### Hypothesis 2: music at the beginning and end of the week <a id='week'></a>"
   ]
  },
  {
   "cell_type": "markdown",
   "metadata": {
    "id": "eXrQqXFH_Zcu"
   },
   "source": [
    "According to the second hypothesis, on Monday morning and Friday night, citizens of Springfield listen to genres that differ from ones users from Shelbyville enjoy."
   ]
  },
  {
   "cell_type": "markdown",
   "metadata": {
    "id": "S8UcW6Hw_Zcu"
   },
   "source": [
    "Get tables (make sure that the name of your combined table matches the DataFrame given in the two code blocks below):\n",
    "* For Springfield — `spr_general`\n",
    "* For Shelbyville — `shel_general`"
   ]
  },
  {
   "cell_type": "code",
   "execution_count": 30,
   "metadata": {
    "id": "qeaFfM_P_Zcu",
    "pycharm": {
     "is_executing": true
    }
   },
   "outputs": [],
   "source": [
    "# create the spr_general table from the df rows, \n",
    "# where the value in the 'city' column is 'Springfield'\n",
    "spr_general = df.query(\"city == 'Springfield'\")\n"
   ]
  },
  {
   "cell_type": "code",
   "execution_count": 31,
   "metadata": {
    "id": "ORaVRKto_Zcu"
   },
   "outputs": [
    {
     "name": "stdout",
     "output_type": "stream",
     "text": [
      "        user_id                       track            artist     genre  \\\n",
      "31916  C40BC5DF            Shot in the Dark        Four80East      acid   \n",
      "3636   F10919ED          Ready For The Fire  Valley Of Wolves  acoustic   \n",
      "20264  B02ED3AB  Prelude – Ne Me Qui Te Pas           unknown  acoustic   \n",
      "37784  77D3A7D9  Prelude – Ne Me Qui Te Pas           unknown  acoustic   \n",
      "14611  1C7D9E90  Prelude – Ne Me Qui Te Pas           unknown  acoustic   \n",
      "\n",
      "              city      time        day  \n",
      "31916  Springfield  09:44:12     Friday  \n",
      "3636   Shelbyville  21:33:18     Monday  \n",
      "20264  Springfield  13:31:03  Wednesday  \n",
      "37784  Springfield  14:27:34     Monday  \n",
      "14611  Shelbyville  21:47:42     Friday  \n"
     ]
    }
   ],
   "source": [
    "# create the shel_general from the df rows,\n",
    "print(df.head(5))\n",
    "# where the value in the 'city' column is 'Shelbyville'\n",
    "shel_general = df.query(\"city == 'Shelbyville'\")"
   ]
  },
  {
   "cell_type": "markdown",
   "metadata": {
    "id": "MEJV-CX2_Zcu"
   },
   "source": [
    "Write the `genre_weekday()` function with four parameters:\n",
    "* A table for data (`df`)\n",
    "* The day of the week (`day`)\n",
    "* The first timestamp, in 'hh:mm' format (`time1`)\n",
    "* The last timestamp, in 'hh:mm' format (`time2`)\n",
    "\n",
    "The function should return info on the 15 most popular genres on a given day within the period between the two timestamps."
   ]
  },
  {
   "cell_type": "code",
   "execution_count": 32,
   "metadata": {
    "id": "laJT9BYl_Zcu"
   },
   "outputs": [],
   "source": [
    "# 1) Let the genre_df variable store the rows that meet several conditions:\n",
    "df['time'] = pd.to_datetime(df['time'], infer_datetime_format=True)\n",
    "df = dataframe\n",
    "#    - the value in the 'day' column is equal to the value of the day= argument\n",
    "day = 'friday'\n",
    "#    - the value in the 'time' column is greater than the value of the time1= argument\n",
    "time1 = df['time'].dt.hour\n",
    "#    - the value in the 'time' column is smaller than the value of the time2= argument\n",
    "time2 = df['time'].dt.hour\n",
    "#    Use consecutive filtering with logical indexing.\n",
    "    #genre_df = df[(df['day']==day) & (df['hh:mm']>=time1) & (df['hh:mm']<=time2)]\n",
    "# 2) Group genre_df by the 'genre' column, take one of its columns, \n",
    "#    and use the count() method to find the number of entries for each of \n",
    "#    the represented genres; store the resulting Series to the\n",
    "#    genre_df_count variable\n",
    "    #genre_df_count = genre_df.groupby('genre').count()\n",
    "# 3) Sort genre_df_count in descending order of frequency and store the result\n",
    "#    to the genre_df_sorted variable\n",
    "    #genre_df_sorted = genre_df_count.sort_values(ascending=False)\n",
    "# 4) Return a Series object with the first 15 genre_df_sorted value - the 15 most\n",
    "#    popular genres (on a given day, within a certain timeframe)\n",
    "    #genre_df_sorted.head(15)\n",
    "# Write your function here\n",
    "def genre_weekday(df, day, time1, time2):\n",
    "    # consecutive filtering\n",
    "    # Create the variable genre_df which will store only those df rows where the day is equal to day=\n",
    "    genre_df = df.loc[(df['day']==day)]\n",
    "\n",
    "    # filter again so that genre_df will store only those rows where the time is smaller than time2=\n",
    "    genre_df = genre_df.loc[(genre_df['time']<time2)]\n",
    "\n",
    "    # filter once more so that genre_df will store only rows where the time is greater than time1=\n",
    "    genre_df = genre_df.loc[(genre_df['time']>time1)]\n",
    "\n",
    "    # group the filtered DataFrame by the column with the names of genres, take the genre column, and find the number of rows for each genre with the count() method\n",
    "    genre_df_count = genre_df.groupby('genre').count()\n",
    "\n",
    "    # sort the result in descending order (so that the most popular genres come first in the Series object)\n",
    "    genre_df_sorted = genre_df_count['user_id'].sort_values(ascending=False)\n",
    "\n",
    "    # we will return the Series object storing the 15 most popular genres on a given day in a given timeframe\n",
    "    return genre_df_sorted[:15]"
   ]
  },
  {
   "cell_type": "markdown",
   "metadata": {
    "id": "la2s2_PF_Zcu"
   },
   "source": [
    "Compare the results of the `genre_weekday()` function for Springfield and Shelbyville on Monday morning (from 7AM to 11AM) and on Friday evening (from 17:00 to 23:00):"
   ]
  },
  {
   "cell_type": "code",
   "execution_count": 33,
   "metadata": {
    "id": "yz7itPUQ_Zcu"
   },
   "outputs": [
    {
     "data": {
      "text/plain": [
       "genre\n",
       "pop            781\n",
       "dance          549\n",
       "electronic     480\n",
       "rock           474\n",
       "hip            281\n",
       "ruspop         186\n",
       "world          181\n",
       "rusrap         175\n",
       "alternative    164\n",
       "unknown        161\n",
       "classical      157\n",
       "metal          120\n",
       "jazz           100\n",
       "folk            97\n",
       "soundtrack      95\n",
       "Name: user_id, dtype: int64"
      ]
     },
     "execution_count": 33,
     "metadata": {},
     "output_type": "execute_result"
    }
   ],
   "source": [
    "# calling the function for Monday morning in Springfield (use spr_general instead of the df table)\n",
    "genre_weekday(spr_general, 'Monday', '07:00:00', '11:00:00')"
   ]
  },
  {
   "cell_type": "code",
   "execution_count": 35,
   "metadata": {
    "id": "kwUcHPdy_Zcu"
   },
   "outputs": [
    {
     "data": {
      "text/plain": [
       "genre\n",
       "pop            218\n",
       "dance          182\n",
       "rock           162\n",
       "electronic     147\n",
       "hip             79\n",
       "ruspop          64\n",
       "alternative     58\n",
       "rusrap          55\n",
       "jazz            44\n",
       "classical       40\n",
       "world           36\n",
       "rap             32\n",
       "soundtrack      31\n",
       "rnb             27\n",
       "metal           27\n",
       "Name: user_id, dtype: int64"
      ]
     },
     "execution_count": 35,
     "metadata": {},
     "output_type": "execute_result"
    }
   ],
   "source": [
    "# calling the function for Monday morning in Shelbyville (use shel_general instead of the df table)\n",
    "genre_weekday(shel_general, 'Monday', '07:00:00', '11:00:00')"
   ]
  },
  {
   "cell_type": "code",
   "execution_count": 36,
   "metadata": {
    "id": "EzXVRE1o_Zcu"
   },
   "outputs": [
    {
     "data": {
      "text/plain": [
       "genre\n",
       "pop            713\n",
       "rock           517\n",
       "dance          495\n",
       "electronic     482\n",
       "hip            267\n",
       "world          208\n",
       "ruspop         170\n",
       "classical      163\n",
       "alternative    163\n",
       "rusrap         142\n",
       "jazz           111\n",
       "unknown        110\n",
       "soundtrack     105\n",
       "rnb             90\n",
       "metal           88\n",
       "Name: user_id, dtype: int64"
      ]
     },
     "execution_count": 36,
     "metadata": {},
     "output_type": "execute_result"
    }
   ],
   "source": [
    "# calling the function for Friday evening in Springfield\n",
    "genre_weekday(spr_general, 'Friday', '17:00:00', '23:00:00')"
   ]
  },
  {
   "cell_type": "code",
   "execution_count": 37,
   "metadata": {
    "id": "JZaEKu5v_Zcu"
   },
   "outputs": [
    {
     "data": {
      "text/plain": [
       "genre\n",
       "pop            256\n",
       "electronic     216\n",
       "rock           216\n",
       "dance          210\n",
       "hip             94\n",
       "alternative     63\n",
       "jazz            61\n",
       "classical       60\n",
       "rusrap          59\n",
       "world           54\n",
       "unknown         47\n",
       "ruspop          47\n",
       "soundtrack      40\n",
       "metal           39\n",
       "rap             36\n",
       "Name: user_id, dtype: int64"
      ]
     },
     "execution_count": 37,
     "metadata": {},
     "output_type": "execute_result"
    }
   ],
   "source": [
    "# calling the function for Friday evening in Shelbyville\n",
    "genre_weekday(shel_general, 'Friday', '17:00:00', '23:00:00')"
   ]
  },
  {
   "cell_type": "markdown",
   "metadata": {
    "id": "wrCe4MNX_Zcu"
   },
   "source": [
    "**Conclusion**\n",
    "\n",
    "Having compared the top 15 genres on Monday morning, we can draw the following conclusions:\n",
    "\n",
    "1. Users from Springfield and Shelbyville listen to similar music. The top five genres are the same, only rock and electronic have switched places.\n",
    "\n",
    "2. In Springfield, the number of missing values turned out to be so big that the value `'unknown'` came in 10th. This means that missing values make up a considerable portion of the data, which may be a basis for questioning the reliability of our conclusions.\n",
    "\n",
    "For Friday evening, the situation is similar. Individual genres vary somewhat, but on the whole, the top 15 is similar for the two cities.\n",
    "\n",
    "Thus, the second hypothesis has been partially proven true:\n",
    "* Users listen to similar music at the beginning and end of the week.\n",
    "* There is no major difference between Springfield and Shelbyville. In both cities, pop is the most popular genre.\n",
    "\n",
    "However, the number of missing values makes this result questionable. In Springfield, there are so many that they affect our top 15. Were we not missing these values, things might look different."
   ]
  },
  {
   "cell_type": "markdown",
   "metadata": {
    "id": "jLmXgdanVyhP"
   },
   "source": [
    "[Back to Contents](#back)"
   ]
  },
  {
   "cell_type": "markdown",
   "metadata": {
    "id": "JolODAqr_Zcu"
   },
   "source": [
    "### Hypothesis 3: genre preferences in Springfield and Shelbyville <a id='genre'></a>\n",
    "\n",
    "Hypothesis: Shelbyville loves rap music. Springfield's citizens are more into pop."
   ]
  },
  {
   "cell_type": "markdown",
   "metadata": {
    "id": "DlegSvaT_Zcu"
   },
   "source": [
    "Group the `spr_general` table by genre and find the number of songs played for each genre with the `count()` method. Then sort the result in descending order and store it to `spr_genres`."
   ]
  },
  {
   "cell_type": "code",
   "execution_count": 38,
   "metadata": {
    "id": "r19lIPke_Zcu"
   },
   "outputs": [],
   "source": [
    "# on one line: group the spr_general table by the 'genre' column, \n",
    "# count the 'genre' values with count() in the grouping, \n",
    "spr_genres = spr_general.groupby('genre')['user_id'].count().sort_values(ascending= False)\n",
    "# sort the resulting Series in descending order, and store it to spr_genres"
   ]
  },
  {
   "cell_type": "markdown",
   "metadata": {
    "id": "6kMuomxTiIr8"
   },
   "source": [
    "Print the first 10 rows from `spr_genres`:"
   ]
  },
  {
   "cell_type": "code",
   "execution_count": 39,
   "metadata": {
    "id": "WhCSooF8_Zcv"
   },
   "outputs": [
    {
     "name": "stdout",
     "output_type": "stream",
     "text": [
      "genre\n",
      "pop            5892\n",
      "dance          4435\n",
      "rock           3965\n",
      "electronic     3786\n",
      "hip            2041\n",
      "classical      1616\n",
      "world          1432\n",
      "alternative    1379\n",
      "ruspop         1372\n",
      "rusrap         1161\n",
      "Name: user_id, dtype: int64\n"
     ]
    }
   ],
   "source": [
    "# printing the first 10 rows of spr_genres\n",
    "print(spr_genres.head(10))"
   ]
  },
  {
   "cell_type": "markdown",
   "metadata": {
    "id": "cnPG2vnN_Zcv"
   },
   "source": [
    "Now do the same with the data on Shelbyville.\n",
    "\n",
    "Group the `shel_general` table by genre and find the number of songs played for each genre. Then sort the result in descending order and store it to the `shel_genres` table:\n"
   ]
  },
  {
   "cell_type": "code",
   "execution_count": 40,
   "metadata": {
    "id": "gluLIpE7_Zcv"
   },
   "outputs": [],
   "source": [
    "# on one line: group the shel_general table by the 'genre' column, \n",
    "# count the 'genre' values in the grouping with count(), \n",
    "# sort the resulting Series in descending order and store it to shel_genres\n",
    "shel_genres = shel_general.groupby('genre')['city'].count().sort_values(ascending= False)"
   ]
  },
  {
   "cell_type": "markdown",
   "metadata": {
    "id": "5Doha_ODgyQ8"
   },
   "source": [
    "Print the first 10 rows of `shel_genres`:"
   ]
  },
  {
   "cell_type": "code",
   "execution_count": 41,
   "metadata": {
    "id": "uaGJHjVU_Zcv"
   },
   "outputs": [
    {
     "name": "stdout",
     "output_type": "stream",
     "text": [
      "genre\n",
      "pop            2431\n",
      "dance          1932\n",
      "rock           1879\n",
      "electronic     1736\n",
      "hip             934\n",
      "alternative     649\n",
      "classical       646\n",
      "rusrap          564\n",
      "ruspop          538\n",
      "world           515\n",
      "Name: city, dtype: int64\n"
     ]
    }
   ],
   "source": [
    "# printing the first 10 rows from shel_genres\n",
    "print(shel_genres.head(10))"
   ]
  },
  {
   "cell_type": "markdown",
   "metadata": {
    "id": "RY51YJYu_Zcv"
   },
   "source": [
    "**Conclusion**"
   ]
  },
  {
   "cell_type": "markdown",
   "metadata": {
    "id": "nVhnJEm__Zcv"
   },
   "source": [
    "The hypothesis has been partially proven true:\n",
    "* Pop music is the most popular genre in Springfield, as expected.\n",
    "* However, pop music turned out to be equally popular in Springfield and Shelbyville, and rap wasn't in the top 5 for either city.\n"
   ]
  },
  {
   "cell_type": "markdown",
   "metadata": {
    "id": "Byr0RfpPVz14"
   },
   "source": [
    "[Back to Contents](#back)"
   ]
  },
  {
   "cell_type": "markdown",
   "metadata": {
    "id": "ykKQ0N65_Zcv"
   },
   "source": [
    "# Findings <a id='end'></a>"
   ]
  },
  {
   "cell_type": "markdown",
   "metadata": {
    "id": "tjUwbHb3_Zcv"
   },
   "source": [
    "We have tested the following three hypotheses:\n",
    "\n",
    "1. User activity differs depending on the day of the week and from city to city. \n",
    "2. On Monday mornings, Springfield and Shelbyville residents listen to different genres. This is also true for Friday evenings. \n",
    "3. Springfield and Shelbyville listeners have different preferences. In both Springfield and Shelbyville, they prefer pop.\n",
    "\n",
    "After analyzing the data, we concluded:\n",
    "\n",
    "1. User activity in Springfield and Shelbyville depends on the day of the week, though the cities vary in different ways. \n",
    "\n",
    "The first hypothesis is fully accepted.\n",
    "\n",
    "2. Musical preferences do not vary significantly over the course of the week in both Springfield and Shelbyville. We can see small differences in order on Mondays, but:\n",
    "* In Springfield and Shelbyville, people listen to pop music most.\n",
    "\n",
    "So we can't accept this hypothesis. We must also keep in mind that the result could have been different if not for the missing values.\n",
    "\n",
    "3. It turns out that the musical preferences of users from Springfield and Shelbyville are quite similar.\n",
    "\n",
    "The third hypothesis is rejected. If there is any difference in preferences, it cannot be seen from this data.\n",
    "\n",
    "### Note \n",
    "In real projects, research involves statistical hypothesis testing, which is more precise and more quantitative. Also note that you cannot always draw conclusions about an entire city based on the data from just one source.\n",
    "\n",
    "You will study hypothesis testing in the sprint on statistical data analysis."
   ]
  },
  {
   "cell_type": "markdown",
   "metadata": {
    "id": "Ju4AHDSgV1FE"
   },
   "source": [
    "[Back to Contents](#back)"
   ]
  }
 ],
 "metadata": {
  "ExecuteTimeLog": [
   {
    "duration": 426,
    "start_time": "2022-07-05T20:21:15.292Z"
   },
   {
    "duration": 49,
    "start_time": "2022-07-05T20:21:55.828Z"
   },
   {
    "duration": 55,
    "start_time": "2022-07-05T20:22:02.257Z"
   },
   {
    "duration": 60,
    "start_time": "2022-07-05T20:22:06.439Z"
   },
   {
    "duration": 65,
    "start_time": "2022-07-05T20:23:18.652Z"
   },
   {
    "duration": 64,
    "start_time": "2022-07-05T20:23:22.843Z"
   },
   {
    "duration": 59,
    "start_time": "2022-07-05T20:24:26.358Z"
   },
   {
    "duration": 48,
    "start_time": "2022-07-05T20:24:41.291Z"
   },
   {
    "duration": 8,
    "start_time": "2022-07-05T20:24:52.205Z"
   },
   {
    "duration": 7,
    "start_time": "2022-07-05T20:25:22.553Z"
   },
   {
    "duration": 353,
    "start_time": "2022-07-05T20:27:32.821Z"
   },
   {
    "duration": 7,
    "start_time": "2022-07-05T20:28:29.646Z"
   },
   {
    "duration": 4,
    "start_time": "2022-07-05T20:29:08.103Z"
   },
   {
    "duration": 4,
    "start_time": "2022-07-05T20:30:59.217Z"
   },
   {
    "duration": 4,
    "start_time": "2022-07-05T20:32:45.295Z"
   },
   {
    "duration": 11,
    "start_time": "2022-07-05T20:33:03.444Z"
   },
   {
    "duration": 8,
    "start_time": "2022-07-05T20:33:38.829Z"
   },
   {
    "duration": 16,
    "start_time": "2022-07-05T20:35:00.659Z"
   },
   {
    "duration": 10,
    "start_time": "2022-07-05T20:35:14.682Z"
   },
   {
    "duration": 11,
    "start_time": "2022-07-05T20:35:24.433Z"
   },
   {
    "duration": 20,
    "start_time": "2022-07-05T20:35:45.604Z"
   },
   {
    "duration": 1059,
    "start_time": "2022-07-05T20:40:04.134Z"
   },
   {
    "duration": 920,
    "start_time": "2022-07-05T20:41:48.845Z"
   },
   {
    "duration": 8,
    "start_time": "2022-07-05T20:41:55.863Z"
   },
   {
    "duration": 9,
    "start_time": "2022-07-05T20:44:54.097Z"
   },
   {
    "duration": 16,
    "start_time": "2022-07-05T20:45:26.745Z"
   },
   {
    "duration": 8,
    "start_time": "2022-07-05T20:45:39.881Z"
   },
   {
    "duration": 13,
    "start_time": "2022-07-05T20:46:06.375Z"
   },
   {
    "duration": 14,
    "start_time": "2022-07-05T20:46:43.976Z"
   },
   {
    "duration": 14,
    "start_time": "2022-07-05T20:46:55.584Z"
   },
   {
    "duration": 5,
    "start_time": "2022-07-05T20:47:38.525Z"
   },
   {
    "duration": 628,
    "start_time": "2022-07-05T20:48:26.630Z"
   },
   {
    "duration": 9,
    "start_time": "2022-07-05T20:48:37.957Z"
   },
   {
    "duration": 25,
    "start_time": "2022-07-05T20:48:43.889Z"
   },
   {
    "duration": 33,
    "start_time": "2022-07-05T20:53:06.879Z"
   },
   {
    "duration": 564,
    "start_time": "2022-07-05T20:53:53.952Z"
   },
   {
    "duration": 675,
    "start_time": "2022-07-05T20:54:19.843Z"
   },
   {
    "duration": 8,
    "start_time": "2022-07-05T20:54:42.329Z"
   },
   {
    "duration": 21,
    "start_time": "2022-07-05T20:55:20.314Z"
   },
   {
    "duration": 18,
    "start_time": "2022-07-05T20:55:26.899Z"
   },
   {
    "duration": 8,
    "start_time": "2022-07-05T20:55:46.617Z"
   },
   {
    "duration": 70,
    "start_time": "2022-07-05T20:56:14.950Z"
   },
   {
    "duration": 24,
    "start_time": "2022-07-05T20:56:18.961Z"
   },
   {
    "duration": 20,
    "start_time": "2022-07-05T20:56:29.207Z"
   },
   {
    "duration": 5,
    "start_time": "2022-07-05T20:57:30.647Z"
   },
   {
    "duration": 5,
    "start_time": "2022-07-05T20:57:37.035Z"
   },
   {
    "duration": 4,
    "start_time": "2022-07-05T20:57:51.729Z"
   },
   {
    "duration": 9,
    "start_time": "2022-07-05T20:58:25.315Z"
   },
   {
    "duration": 21,
    "start_time": "2022-07-05T20:58:33.090Z"
   },
   {
    "duration": 9,
    "start_time": "2022-07-05T21:00:37.577Z"
   },
   {
    "duration": 63,
    "start_time": "2022-07-05T21:01:03.347Z"
   },
   {
    "duration": 13,
    "start_time": "2022-07-05T21:01:26.944Z"
   },
   {
    "duration": 9,
    "start_time": "2022-07-05T21:02:17.586Z"
   },
   {
    "duration": 10,
    "start_time": "2022-07-05T21:03:16.707Z"
   },
   {
    "duration": 8,
    "start_time": "2022-07-05T21:03:30.224Z"
   },
   {
    "duration": 10,
    "start_time": "2022-07-05T21:03:40.572Z"
   },
   {
    "duration": 9,
    "start_time": "2022-07-05T21:05:44.036Z"
   },
   {
    "duration": 4,
    "start_time": "2022-07-05T21:06:18.108Z"
   },
   {
    "duration": 14,
    "start_time": "2022-07-05T21:06:31.592Z"
   },
   {
    "duration": 48,
    "start_time": "2022-07-05T21:06:37.480Z"
   },
   {
    "duration": 5,
    "start_time": "2022-07-05T21:06:40.532Z"
   },
   {
    "duration": 11,
    "start_time": "2022-07-05T21:07:08.974Z"
   },
   {
    "duration": 9,
    "start_time": "2022-07-05T21:07:12.579Z"
   },
   {
    "duration": 57,
    "start_time": "2022-07-05T21:13:24.365Z"
   },
   {
    "duration": 98,
    "start_time": "2022-07-05T21:13:45.276Z"
   },
   {
    "duration": 14,
    "start_time": "2022-07-05T21:13:48.793Z"
   },
   {
    "duration": 75,
    "start_time": "2022-07-05T21:14:21.421Z"
   },
   {
    "duration": 59,
    "start_time": "2022-07-05T21:14:25.415Z"
   },
   {
    "duration": 58,
    "start_time": "2022-07-05T21:14:36.657Z"
   },
   {
    "duration": 54,
    "start_time": "2022-07-05T21:14:39.263Z"
   },
   {
    "duration": 59,
    "start_time": "2022-07-05T21:14:44.133Z"
   },
   {
    "duration": 10,
    "start_time": "2022-07-05T21:14:48.179Z"
   },
   {
    "duration": 56,
    "start_time": "2022-07-05T21:15:35.207Z"
   },
   {
    "duration": 11,
    "start_time": "2022-07-05T21:15:59.903Z"
   },
   {
    "duration": 18,
    "start_time": "2022-07-05T21:16:09.054Z"
   },
   {
    "duration": 13,
    "start_time": "2022-07-05T21:16:30.207Z"
   },
   {
    "duration": 9,
    "start_time": "2022-07-05T21:16:53.300Z"
   },
   {
    "duration": 9,
    "start_time": "2022-07-05T21:21:16.800Z"
   },
   {
    "duration": 4,
    "start_time": "2022-07-05T21:25:35.219Z"
   },
   {
    "duration": 9,
    "start_time": "2022-07-05T21:25:57.873Z"
   },
   {
    "duration": 8,
    "start_time": "2022-07-05T21:29:58.636Z"
   },
   {
    "duration": 7,
    "start_time": "2022-07-05T21:30:10.019Z"
   },
   {
    "duration": 12,
    "start_time": "2022-07-05T21:30:14.833Z"
   },
   {
    "duration": 10,
    "start_time": "2022-07-05T21:30:33.698Z"
   },
   {
    "duration": 7,
    "start_time": "2022-07-05T21:30:56.665Z"
   },
   {
    "duration": 9,
    "start_time": "2022-07-05T21:35:39.549Z"
   },
   {
    "duration": 15,
    "start_time": "2022-07-05T21:36:37.648Z"
   },
   {
    "duration": 9,
    "start_time": "2022-07-05T21:39:07.904Z"
   },
   {
    "duration": 10,
    "start_time": "2022-07-05T21:39:53.425Z"
   },
   {
    "duration": 10,
    "start_time": "2022-07-05T21:40:15.969Z"
   },
   {
    "duration": 8,
    "start_time": "2022-07-05T21:44:31.794Z"
   },
   {
    "duration": 430,
    "start_time": "2022-07-05T22:06:25.819Z"
   },
   {
    "duration": 159,
    "start_time": "2022-07-05T22:06:26.251Z"
   },
   {
    "duration": 6,
    "start_time": "2022-07-05T22:06:26.411Z"
   },
   {
    "duration": 10,
    "start_time": "2022-07-05T22:06:26.419Z"
   },
   {
    "duration": 15,
    "start_time": "2022-07-05T22:06:26.430Z"
   },
   {
    "duration": 3,
    "start_time": "2022-07-05T22:06:26.447Z"
   },
   {
    "duration": 5,
    "start_time": "2022-07-05T22:06:26.452Z"
   },
   {
    "duration": 23,
    "start_time": "2022-07-05T22:06:26.459Z"
   },
   {
    "duration": 958,
    "start_time": "2022-07-05T22:06:26.484Z"
   },
   {
    "duration": 1,
    "start_time": "2022-07-05T22:06:27.447Z"
   },
   {
    "duration": 0,
    "start_time": "2022-07-05T22:06:27.449Z"
   },
   {
    "duration": 0,
    "start_time": "2022-07-05T22:06:27.451Z"
   },
   {
    "duration": 0,
    "start_time": "2022-07-05T22:06:27.452Z"
   },
   {
    "duration": 0,
    "start_time": "2022-07-05T22:06:27.454Z"
   },
   {
    "duration": 0,
    "start_time": "2022-07-05T22:06:27.455Z"
   },
   {
    "duration": 0,
    "start_time": "2022-07-05T22:06:27.456Z"
   },
   {
    "duration": 0,
    "start_time": "2022-07-05T22:06:27.458Z"
   },
   {
    "duration": 0,
    "start_time": "2022-07-05T22:06:27.459Z"
   },
   {
    "duration": 0,
    "start_time": "2022-07-05T22:06:27.460Z"
   },
   {
    "duration": 0,
    "start_time": "2022-07-05T22:06:27.462Z"
   },
   {
    "duration": 1,
    "start_time": "2022-07-05T22:06:27.463Z"
   },
   {
    "duration": 0,
    "start_time": "2022-07-05T22:06:27.465Z"
   },
   {
    "duration": 0,
    "start_time": "2022-07-05T22:06:27.467Z"
   },
   {
    "duration": 0,
    "start_time": "2022-07-05T22:06:27.468Z"
   },
   {
    "duration": 0,
    "start_time": "2022-07-05T22:06:27.469Z"
   },
   {
    "duration": 0,
    "start_time": "2022-07-05T22:06:27.471Z"
   },
   {
    "duration": 0,
    "start_time": "2022-07-05T22:06:27.472Z"
   },
   {
    "duration": 0,
    "start_time": "2022-07-05T22:06:27.473Z"
   },
   {
    "duration": 0,
    "start_time": "2022-07-05T22:06:27.474Z"
   },
   {
    "duration": 0,
    "start_time": "2022-07-05T22:06:27.475Z"
   },
   {
    "duration": 0,
    "start_time": "2022-07-05T22:06:27.476Z"
   },
   {
    "duration": 0,
    "start_time": "2022-07-05T22:06:27.477Z"
   },
   {
    "duration": 0,
    "start_time": "2022-07-05T22:06:27.479Z"
   },
   {
    "duration": 0,
    "start_time": "2022-07-05T22:06:27.480Z"
   },
   {
    "duration": 0,
    "start_time": "2022-07-05T22:06:27.481Z"
   },
   {
    "duration": 0,
    "start_time": "2022-07-05T22:06:27.482Z"
   },
   {
    "duration": 0,
    "start_time": "2022-07-05T22:06:27.483Z"
   },
   {
    "duration": 0,
    "start_time": "2022-07-05T22:06:27.484Z"
   },
   {
    "duration": 53,
    "start_time": "2022-07-05T22:06:40.890Z"
   },
   {
    "duration": 66,
    "start_time": "2022-07-05T22:10:10.400Z"
   },
   {
    "duration": 55,
    "start_time": "2022-07-05T22:10:48.265Z"
   },
   {
    "duration": 832,
    "start_time": "2022-07-05T22:13:51.566Z"
   },
   {
    "duration": 49,
    "start_time": "2022-07-05T22:16:28.745Z"
   },
   {
    "duration": 42,
    "start_time": "2022-07-05T22:16:34.736Z"
   },
   {
    "duration": 44,
    "start_time": "2022-07-05T22:16:55.508Z"
   },
   {
    "duration": 44,
    "start_time": "2022-07-05T22:21:06.917Z"
   },
   {
    "duration": 47,
    "start_time": "2022-07-05T23:18:41.216Z"
   },
   {
    "duration": 45,
    "start_time": "2022-07-05T23:18:56.158Z"
   },
   {
    "duration": 1064,
    "start_time": "2022-07-05T23:20:02.937Z"
   },
   {
    "duration": 721,
    "start_time": "2022-07-05T23:20:24.979Z"
   },
   {
    "duration": 15,
    "start_time": "2022-07-05T23:20:59.343Z"
   },
   {
    "duration": 823,
    "start_time": "2022-07-05T23:22:16.083Z"
   },
   {
    "duration": 859,
    "start_time": "2022-07-05T23:22:23.283Z"
   },
   {
    "duration": 417,
    "start_time": "2022-07-05T23:22:45.232Z"
   },
   {
    "duration": 157,
    "start_time": "2022-07-05T23:22:45.651Z"
   },
   {
    "duration": 6,
    "start_time": "2022-07-05T23:22:45.810Z"
   },
   {
    "duration": 9,
    "start_time": "2022-07-05T23:22:45.818Z"
   },
   {
    "duration": 5,
    "start_time": "2022-07-05T23:22:45.829Z"
   },
   {
    "duration": 3,
    "start_time": "2022-07-05T23:22:45.845Z"
   },
   {
    "duration": 5,
    "start_time": "2022-07-05T23:22:45.850Z"
   },
   {
    "duration": 23,
    "start_time": "2022-07-05T23:22:45.857Z"
   },
   {
    "duration": 827,
    "start_time": "2022-07-05T23:22:45.882Z"
   },
   {
    "duration": 0,
    "start_time": "2022-07-05T23:22:46.714Z"
   },
   {
    "duration": 0,
    "start_time": "2022-07-05T23:22:46.715Z"
   },
   {
    "duration": 0,
    "start_time": "2022-07-05T23:22:46.716Z"
   },
   {
    "duration": 0,
    "start_time": "2022-07-05T23:22:46.717Z"
   },
   {
    "duration": 0,
    "start_time": "2022-07-05T23:22:46.718Z"
   },
   {
    "duration": 0,
    "start_time": "2022-07-05T23:22:46.719Z"
   },
   {
    "duration": 0,
    "start_time": "2022-07-05T23:22:46.720Z"
   },
   {
    "duration": 0,
    "start_time": "2022-07-05T23:22:46.721Z"
   },
   {
    "duration": 0,
    "start_time": "2022-07-05T23:22:46.722Z"
   },
   {
    "duration": 0,
    "start_time": "2022-07-05T23:22:46.723Z"
   },
   {
    "duration": 0,
    "start_time": "2022-07-05T23:22:46.724Z"
   },
   {
    "duration": 0,
    "start_time": "2022-07-05T23:22:46.725Z"
   },
   {
    "duration": 0,
    "start_time": "2022-07-05T23:22:46.726Z"
   },
   {
    "duration": 0,
    "start_time": "2022-07-05T23:22:46.727Z"
   },
   {
    "duration": 0,
    "start_time": "2022-07-05T23:22:46.728Z"
   },
   {
    "duration": 0,
    "start_time": "2022-07-05T23:22:46.729Z"
   },
   {
    "duration": 0,
    "start_time": "2022-07-05T23:22:46.730Z"
   },
   {
    "duration": 0,
    "start_time": "2022-07-05T23:22:46.731Z"
   },
   {
    "duration": 0,
    "start_time": "2022-07-05T23:22:46.731Z"
   },
   {
    "duration": 0,
    "start_time": "2022-07-05T23:22:46.732Z"
   },
   {
    "duration": 0,
    "start_time": "2022-07-05T23:22:46.733Z"
   },
   {
    "duration": 0,
    "start_time": "2022-07-05T23:22:46.734Z"
   },
   {
    "duration": 0,
    "start_time": "2022-07-05T23:22:46.735Z"
   },
   {
    "duration": 0,
    "start_time": "2022-07-05T23:22:46.736Z"
   },
   {
    "duration": 0,
    "start_time": "2022-07-05T23:22:46.737Z"
   },
   {
    "duration": 0,
    "start_time": "2022-07-05T23:22:46.738Z"
   },
   {
    "duration": 0,
    "start_time": "2022-07-05T23:22:46.739Z"
   },
   {
    "duration": 0,
    "start_time": "2022-07-05T23:22:46.739Z"
   },
   {
    "duration": 0,
    "start_time": "2022-07-05T23:22:46.740Z"
   },
   {
    "duration": 12,
    "start_time": "2022-07-06T00:05:46.359Z"
   },
   {
    "duration": 44,
    "start_time": "2022-07-10T23:58:42.202Z"
   },
   {
    "duration": 3,
    "start_time": "2022-07-10T23:58:47.579Z"
   },
   {
    "duration": 7,
    "start_time": "2022-07-10T23:58:49.997Z"
   },
   {
    "duration": 8,
    "start_time": "2022-07-10T23:59:22.710Z"
   },
   {
    "duration": 8,
    "start_time": "2022-07-10T23:59:38.824Z"
   },
   {
    "duration": 360,
    "start_time": "2022-07-10T23:59:56.765Z"
   },
   {
    "duration": 272,
    "start_time": "2022-07-10T23:59:57.127Z"
   },
   {
    "duration": 5,
    "start_time": "2022-07-10T23:59:57.401Z"
   },
   {
    "duration": 10,
    "start_time": "2022-07-10T23:59:57.408Z"
   },
   {
    "duration": 6,
    "start_time": "2022-07-10T23:59:57.421Z"
   },
   {
    "duration": 7,
    "start_time": "2022-07-10T23:59:57.428Z"
   },
   {
    "duration": 6,
    "start_time": "2022-07-10T23:59:57.436Z"
   },
   {
    "duration": 19,
    "start_time": "2022-07-10T23:59:57.444Z"
   },
   {
    "duration": 35,
    "start_time": "2022-07-10T23:59:57.465Z"
   },
   {
    "duration": 19,
    "start_time": "2022-07-10T23:59:57.503Z"
   },
   {
    "duration": 47,
    "start_time": "2022-07-10T23:59:57.524Z"
   },
   {
    "duration": 120,
    "start_time": "2022-07-10T23:59:57.573Z"
   },
   {
    "duration": 52,
    "start_time": "2022-07-10T23:59:57.695Z"
   },
   {
    "duration": 52,
    "start_time": "2022-07-10T23:59:57.751Z"
   },
   {
    "duration": 2,
    "start_time": "2022-07-10T23:59:57.805Z"
   },
   {
    "duration": 60,
    "start_time": "2022-07-10T23:59:57.809Z"
   },
   {
    "duration": 0,
    "start_time": "2022-07-10T23:59:57.871Z"
   },
   {
    "duration": 0,
    "start_time": "2022-07-10T23:59:57.872Z"
   },
   {
    "duration": 0,
    "start_time": "2022-07-10T23:59:57.873Z"
   },
   {
    "duration": 0,
    "start_time": "2022-07-10T23:59:57.874Z"
   },
   {
    "duration": 1,
    "start_time": "2022-07-10T23:59:57.874Z"
   },
   {
    "duration": 0,
    "start_time": "2022-07-10T23:59:57.876Z"
   },
   {
    "duration": 0,
    "start_time": "2022-07-10T23:59:57.877Z"
   },
   {
    "duration": 0,
    "start_time": "2022-07-10T23:59:57.901Z"
   },
   {
    "duration": 0,
    "start_time": "2022-07-10T23:59:57.902Z"
   },
   {
    "duration": 0,
    "start_time": "2022-07-10T23:59:57.903Z"
   },
   {
    "duration": 0,
    "start_time": "2022-07-10T23:59:57.904Z"
   },
   {
    "duration": 0,
    "start_time": "2022-07-10T23:59:57.905Z"
   },
   {
    "duration": 0,
    "start_time": "2022-07-10T23:59:57.906Z"
   },
   {
    "duration": 0,
    "start_time": "2022-07-10T23:59:57.907Z"
   },
   {
    "duration": 0,
    "start_time": "2022-07-10T23:59:57.909Z"
   },
   {
    "duration": 0,
    "start_time": "2022-07-10T23:59:57.910Z"
   },
   {
    "duration": 0,
    "start_time": "2022-07-10T23:59:57.911Z"
   },
   {
    "duration": 0,
    "start_time": "2022-07-10T23:59:57.912Z"
   },
   {
    "duration": 0,
    "start_time": "2022-07-10T23:59:57.913Z"
   },
   {
    "duration": 0,
    "start_time": "2022-07-10T23:59:57.915Z"
   },
   {
    "duration": 0,
    "start_time": "2022-07-10T23:59:57.916Z"
   },
   {
    "duration": 0,
    "start_time": "2022-07-10T23:59:57.917Z"
   },
   {
    "duration": 7,
    "start_time": "2022-07-11T00:01:21.513Z"
   },
   {
    "duration": 10,
    "start_time": "2022-07-11T00:02:25.212Z"
   },
   {
    "duration": 3,
    "start_time": "2022-07-11T00:03:36.239Z"
   },
   {
    "duration": 8,
    "start_time": "2022-07-11T00:03:48.544Z"
   },
   {
    "duration": 8,
    "start_time": "2022-07-11T00:03:58.130Z"
   },
   {
    "duration": 8,
    "start_time": "2022-07-11T00:04:06.145Z"
   },
   {
    "duration": 9,
    "start_time": "2022-07-11T00:05:04.637Z"
   },
   {
    "duration": 56,
    "start_time": "2022-07-11T00:05:37.497Z"
   },
   {
    "duration": 3,
    "start_time": "2022-07-11T00:05:45.145Z"
   },
   {
    "duration": 8,
    "start_time": "2022-07-11T00:05:50.474Z"
   },
   {
    "duration": 8,
    "start_time": "2022-07-11T00:06:07.743Z"
   },
   {
    "duration": 2,
    "start_time": "2022-07-11T00:06:46.865Z"
   },
   {
    "duration": 10,
    "start_time": "2022-07-11T00:06:48.864Z"
   },
   {
    "duration": 2,
    "start_time": "2022-07-11T00:07:34.435Z"
   },
   {
    "duration": 9,
    "start_time": "2022-07-11T00:07:54.848Z"
   },
   {
    "duration": 3,
    "start_time": "2022-07-11T00:08:27.254Z"
   },
   {
    "duration": 9,
    "start_time": "2022-07-11T00:08:28.891Z"
   },
   {
    "duration": 4,
    "start_time": "2022-07-11T00:08:51.632Z"
   },
   {
    "duration": 3,
    "start_time": "2022-07-11T00:08:52.999Z"
   },
   {
    "duration": 8,
    "start_time": "2022-07-11T00:09:27.082Z"
   },
   {
    "duration": 6,
    "start_time": "2022-07-11T00:16:56.953Z"
   },
   {
    "duration": 14,
    "start_time": "2022-07-11T00:18:16.134Z"
   },
   {
    "duration": 8,
    "start_time": "2022-07-11T00:18:28.663Z"
   },
   {
    "duration": 9,
    "start_time": "2022-07-11T00:19:28.884Z"
   },
   {
    "duration": 9,
    "start_time": "2022-07-11T00:20:21.591Z"
   },
   {
    "duration": 9,
    "start_time": "2022-07-11T00:25:59.943Z"
   },
   {
    "duration": 9,
    "start_time": "2022-07-11T00:28:39.321Z"
   },
   {
    "duration": 6,
    "start_time": "2022-07-11T00:49:45.140Z"
   },
   {
    "duration": 10,
    "start_time": "2022-07-11T00:51:28.718Z"
   },
   {
    "duration": 10,
    "start_time": "2022-07-11T00:51:39.183Z"
   },
   {
    "duration": 9,
    "start_time": "2022-07-11T00:51:45.280Z"
   },
   {
    "duration": 411,
    "start_time": "2022-07-11T00:51:52.005Z"
   },
   {
    "duration": 156,
    "start_time": "2022-07-11T00:51:52.418Z"
   },
   {
    "duration": 7,
    "start_time": "2022-07-11T00:51:52.576Z"
   },
   {
    "duration": 12,
    "start_time": "2022-07-11T00:51:52.585Z"
   },
   {
    "duration": 10,
    "start_time": "2022-07-11T00:51:52.601Z"
   },
   {
    "duration": 6,
    "start_time": "2022-07-11T00:51:52.612Z"
   },
   {
    "duration": 5,
    "start_time": "2022-07-11T00:51:52.619Z"
   },
   {
    "duration": 22,
    "start_time": "2022-07-11T00:51:52.626Z"
   },
   {
    "duration": 15,
    "start_time": "2022-07-11T00:51:52.649Z"
   },
   {
    "duration": 15,
    "start_time": "2022-07-11T00:51:52.666Z"
   },
   {
    "duration": 69,
    "start_time": "2022-07-11T00:51:52.682Z"
   },
   {
    "duration": 113,
    "start_time": "2022-07-11T00:51:52.752Z"
   },
   {
    "duration": 68,
    "start_time": "2022-07-11T00:51:52.867Z"
   },
   {
    "duration": 45,
    "start_time": "2022-07-11T00:51:52.939Z"
   },
   {
    "duration": 16,
    "start_time": "2022-07-11T00:51:52.985Z"
   },
   {
    "duration": 7,
    "start_time": "2022-07-11T00:51:53.002Z"
   },
   {
    "duration": 10,
    "start_time": "2022-07-11T00:51:53.010Z"
   },
   {
    "duration": 64,
    "start_time": "2022-07-11T00:51:53.022Z"
   },
   {
    "duration": 0,
    "start_time": "2022-07-11T00:51:53.087Z"
   },
   {
    "duration": 0,
    "start_time": "2022-07-11T00:51:53.101Z"
   },
   {
    "duration": 0,
    "start_time": "2022-07-11T00:51:53.102Z"
   },
   {
    "duration": 0,
    "start_time": "2022-07-11T00:51:53.104Z"
   },
   {
    "duration": 0,
    "start_time": "2022-07-11T00:51:53.106Z"
   },
   {
    "duration": 0,
    "start_time": "2022-07-11T00:51:53.107Z"
   },
   {
    "duration": 0,
    "start_time": "2022-07-11T00:51:53.108Z"
   },
   {
    "duration": 0,
    "start_time": "2022-07-11T00:51:53.110Z"
   },
   {
    "duration": 0,
    "start_time": "2022-07-11T00:51:53.111Z"
   },
   {
    "duration": 0,
    "start_time": "2022-07-11T00:51:53.112Z"
   },
   {
    "duration": 0,
    "start_time": "2022-07-11T00:51:53.114Z"
   },
   {
    "duration": 0,
    "start_time": "2022-07-11T00:51:53.115Z"
   },
   {
    "duration": 0,
    "start_time": "2022-07-11T00:51:53.118Z"
   },
   {
    "duration": 0,
    "start_time": "2022-07-11T00:51:53.119Z"
   },
   {
    "duration": 0,
    "start_time": "2022-07-11T00:51:53.121Z"
   },
   {
    "duration": 0,
    "start_time": "2022-07-11T00:51:53.122Z"
   },
   {
    "duration": 0,
    "start_time": "2022-07-11T00:51:53.124Z"
   },
   {
    "duration": 0,
    "start_time": "2022-07-11T00:51:53.125Z"
   },
   {
    "duration": 0,
    "start_time": "2022-07-11T00:51:53.126Z"
   },
   {
    "duration": 0,
    "start_time": "2022-07-11T00:51:53.127Z"
   },
   {
    "duration": 791,
    "start_time": "2022-07-11T00:52:53.385Z"
   },
   {
    "duration": 8,
    "start_time": "2022-07-11T00:53:04.913Z"
   },
   {
    "duration": 843,
    "start_time": "2022-07-11T00:54:10.620Z"
   },
   {
    "duration": 4,
    "start_time": "2022-07-11T00:57:38.681Z"
   },
   {
    "duration": 3,
    "start_time": "2022-07-11T00:57:42.932Z"
   },
   {
    "duration": 27,
    "start_time": "2022-07-11T00:57:47.125Z"
   },
   {
    "duration": 413,
    "start_time": "2022-07-11T00:58:11.997Z"
   },
   {
    "duration": 161,
    "start_time": "2022-07-11T00:58:12.412Z"
   },
   {
    "duration": 7,
    "start_time": "2022-07-11T00:58:12.574Z"
   },
   {
    "duration": 7,
    "start_time": "2022-07-11T00:58:12.583Z"
   },
   {
    "duration": 11,
    "start_time": "2022-07-11T00:58:12.591Z"
   },
   {
    "duration": 8,
    "start_time": "2022-07-11T00:58:12.604Z"
   },
   {
    "duration": 6,
    "start_time": "2022-07-11T00:58:12.614Z"
   },
   {
    "duration": 25,
    "start_time": "2022-07-11T00:58:12.621Z"
   },
   {
    "duration": 17,
    "start_time": "2022-07-11T00:58:12.647Z"
   },
   {
    "duration": 22,
    "start_time": "2022-07-11T00:58:12.667Z"
   },
   {
    "duration": 60,
    "start_time": "2022-07-11T00:58:12.691Z"
   },
   {
    "duration": 135,
    "start_time": "2022-07-11T00:58:12.753Z"
   },
   {
    "duration": 61,
    "start_time": "2022-07-11T00:58:12.890Z"
   },
   {
    "duration": 53,
    "start_time": "2022-07-11T00:58:12.954Z"
   },
   {
    "duration": 3,
    "start_time": "2022-07-11T00:58:13.009Z"
   },
   {
    "duration": 6,
    "start_time": "2022-07-11T00:58:13.013Z"
   },
   {
    "duration": 9,
    "start_time": "2022-07-11T00:58:13.020Z"
   },
   {
    "duration": 2,
    "start_time": "2022-07-11T00:58:13.031Z"
   },
   {
    "duration": 6,
    "start_time": "2022-07-11T00:58:13.034Z"
   },
   {
    "duration": 7,
    "start_time": "2022-07-11T00:58:13.041Z"
   },
   {
    "duration": 5,
    "start_time": "2022-07-11T00:58:13.050Z"
   },
   {
    "duration": 4,
    "start_time": "2022-07-11T00:58:13.057Z"
   },
   {
    "duration": 4,
    "start_time": "2022-07-11T00:58:13.063Z"
   },
   {
    "duration": 5,
    "start_time": "2022-07-11T00:58:13.069Z"
   },
   {
    "duration": 3,
    "start_time": "2022-07-11T00:58:13.100Z"
   },
   {
    "duration": 9,
    "start_time": "2022-07-11T00:58:13.104Z"
   },
   {
    "duration": 8,
    "start_time": "2022-07-11T00:58:13.114Z"
   },
   {
    "duration": 5,
    "start_time": "2022-07-11T00:58:13.125Z"
   },
   {
    "duration": 48,
    "start_time": "2022-07-11T00:58:13.131Z"
   },
   {
    "duration": 0,
    "start_time": "2022-07-11T00:58:13.180Z"
   },
   {
    "duration": 0,
    "start_time": "2022-07-11T00:58:13.181Z"
   },
   {
    "duration": 0,
    "start_time": "2022-07-11T00:58:13.183Z"
   },
   {
    "duration": 0,
    "start_time": "2022-07-11T00:58:13.184Z"
   },
   {
    "duration": 0,
    "start_time": "2022-07-11T00:58:13.185Z"
   },
   {
    "duration": 0,
    "start_time": "2022-07-11T00:58:13.186Z"
   },
   {
    "duration": 0,
    "start_time": "2022-07-11T00:58:13.187Z"
   },
   {
    "duration": 0,
    "start_time": "2022-07-11T00:58:13.188Z"
   },
   {
    "duration": 362,
    "start_time": "2022-07-11T00:58:54.840Z"
   },
   {
    "duration": 171,
    "start_time": "2022-07-11T00:58:55.205Z"
   },
   {
    "duration": 5,
    "start_time": "2022-07-11T00:58:55.378Z"
   },
   {
    "duration": 8,
    "start_time": "2022-07-11T00:58:55.385Z"
   },
   {
    "duration": 6,
    "start_time": "2022-07-11T00:58:55.395Z"
   },
   {
    "duration": 9,
    "start_time": "2022-07-11T00:58:55.402Z"
   },
   {
    "duration": 11,
    "start_time": "2022-07-11T00:58:55.412Z"
   },
   {
    "duration": 45,
    "start_time": "2022-07-11T00:58:55.424Z"
   },
   {
    "duration": 28,
    "start_time": "2022-07-11T00:58:55.471Z"
   },
   {
    "duration": 26,
    "start_time": "2022-07-11T00:58:55.501Z"
   },
   {
    "duration": 58,
    "start_time": "2022-07-11T00:58:55.528Z"
   },
   {
    "duration": 112,
    "start_time": "2022-07-11T00:58:55.588Z"
   },
   {
    "duration": 51,
    "start_time": "2022-07-11T00:58:55.702Z"
   },
   {
    "duration": 50,
    "start_time": "2022-07-11T00:58:55.756Z"
   },
   {
    "duration": 3,
    "start_time": "2022-07-11T00:58:55.807Z"
   },
   {
    "duration": 11,
    "start_time": "2022-07-11T00:58:55.811Z"
   },
   {
    "duration": 20,
    "start_time": "2022-07-11T00:58:55.823Z"
   },
   {
    "duration": 15,
    "start_time": "2022-07-11T00:58:55.844Z"
   },
   {
    "duration": 23,
    "start_time": "2022-07-11T00:58:55.861Z"
   },
   {
    "duration": 21,
    "start_time": "2022-07-11T00:58:55.885Z"
   },
   {
    "duration": 25,
    "start_time": "2022-07-11T00:58:55.908Z"
   },
   {
    "duration": 13,
    "start_time": "2022-07-11T00:58:55.934Z"
   },
   {
    "duration": 29,
    "start_time": "2022-07-11T00:58:55.948Z"
   },
   {
    "duration": 43,
    "start_time": "2022-07-11T00:58:55.979Z"
   },
   {
    "duration": 10,
    "start_time": "2022-07-11T00:58:56.024Z"
   },
   {
    "duration": 25,
    "start_time": "2022-07-11T00:58:56.036Z"
   },
   {
    "duration": 18,
    "start_time": "2022-07-11T00:58:56.062Z"
   },
   {
    "duration": 22,
    "start_time": "2022-07-11T00:58:56.081Z"
   },
   {
    "duration": 105,
    "start_time": "2022-07-11T00:58:56.105Z"
   },
   {
    "duration": 0,
    "start_time": "2022-07-11T00:58:56.212Z"
   },
   {
    "duration": 0,
    "start_time": "2022-07-11T00:58:56.213Z"
   },
   {
    "duration": 0,
    "start_time": "2022-07-11T00:58:56.213Z"
   },
   {
    "duration": 0,
    "start_time": "2022-07-11T00:58:56.215Z"
   },
   {
    "duration": 0,
    "start_time": "2022-07-11T00:58:56.215Z"
   },
   {
    "duration": 0,
    "start_time": "2022-07-11T00:58:56.217Z"
   },
   {
    "duration": 0,
    "start_time": "2022-07-11T00:58:56.217Z"
   },
   {
    "duration": 0,
    "start_time": "2022-07-11T00:58:56.218Z"
   },
   {
    "duration": 28,
    "start_time": "2022-07-11T00:59:29.360Z"
   },
   {
    "duration": 344,
    "start_time": "2022-07-11T01:06:07.049Z"
   },
   {
    "duration": 297,
    "start_time": "2022-07-11T01:06:07.400Z"
   },
   {
    "duration": 6,
    "start_time": "2022-07-11T01:06:07.699Z"
   },
   {
    "duration": 7,
    "start_time": "2022-07-11T01:06:07.707Z"
   },
   {
    "duration": 5,
    "start_time": "2022-07-11T01:06:07.717Z"
   },
   {
    "duration": 6,
    "start_time": "2022-07-11T01:06:07.724Z"
   },
   {
    "duration": 6,
    "start_time": "2022-07-11T01:06:07.731Z"
   },
   {
    "duration": 26,
    "start_time": "2022-07-11T01:06:07.739Z"
   },
   {
    "duration": 979,
    "start_time": "2022-07-11T01:06:07.767Z"
   },
   {
    "duration": 0,
    "start_time": "2022-07-11T01:06:08.750Z"
   },
   {
    "duration": 0,
    "start_time": "2022-07-11T01:06:08.752Z"
   },
   {
    "duration": 0,
    "start_time": "2022-07-11T01:06:08.753Z"
   },
   {
    "duration": 0,
    "start_time": "2022-07-11T01:06:08.755Z"
   },
   {
    "duration": 0,
    "start_time": "2022-07-11T01:06:08.756Z"
   },
   {
    "duration": 0,
    "start_time": "2022-07-11T01:06:08.758Z"
   },
   {
    "duration": 0,
    "start_time": "2022-07-11T01:06:08.759Z"
   },
   {
    "duration": 0,
    "start_time": "2022-07-11T01:06:08.760Z"
   },
   {
    "duration": 0,
    "start_time": "2022-07-11T01:06:08.762Z"
   },
   {
    "duration": 0,
    "start_time": "2022-07-11T01:06:08.762Z"
   },
   {
    "duration": 0,
    "start_time": "2022-07-11T01:06:08.764Z"
   },
   {
    "duration": 0,
    "start_time": "2022-07-11T01:06:08.766Z"
   },
   {
    "duration": 0,
    "start_time": "2022-07-11T01:06:08.767Z"
   },
   {
    "duration": 0,
    "start_time": "2022-07-11T01:06:08.769Z"
   },
   {
    "duration": 0,
    "start_time": "2022-07-11T01:06:08.770Z"
   },
   {
    "duration": 0,
    "start_time": "2022-07-11T01:06:08.771Z"
   },
   {
    "duration": 0,
    "start_time": "2022-07-11T01:06:08.772Z"
   },
   {
    "duration": 0,
    "start_time": "2022-07-11T01:06:08.773Z"
   },
   {
    "duration": 0,
    "start_time": "2022-07-11T01:06:08.775Z"
   },
   {
    "duration": 0,
    "start_time": "2022-07-11T01:06:08.777Z"
   },
   {
    "duration": 0,
    "start_time": "2022-07-11T01:06:08.778Z"
   },
   {
    "duration": 0,
    "start_time": "2022-07-11T01:06:08.780Z"
   },
   {
    "duration": 0,
    "start_time": "2022-07-11T01:06:08.781Z"
   },
   {
    "duration": 0,
    "start_time": "2022-07-11T01:06:08.782Z"
   },
   {
    "duration": 0,
    "start_time": "2022-07-11T01:06:08.784Z"
   },
   {
    "duration": 0,
    "start_time": "2022-07-11T01:06:08.785Z"
   },
   {
    "duration": 0,
    "start_time": "2022-07-11T01:06:08.786Z"
   },
   {
    "duration": 0,
    "start_time": "2022-07-11T01:06:08.802Z"
   },
   {
    "duration": 12,
    "start_time": "2022-07-11T01:07:58.189Z"
   },
   {
    "duration": 9,
    "start_time": "2022-07-11T01:09:08.071Z"
   },
   {
    "duration": 9,
    "start_time": "2022-07-11T01:09:18.907Z"
   },
   {
    "duration": 9,
    "start_time": "2022-07-11T01:09:45.933Z"
   },
   {
    "duration": 3,
    "start_time": "2022-07-11T01:11:22.109Z"
   },
   {
    "duration": 4,
    "start_time": "2022-07-11T01:11:28.724Z"
   },
   {
    "duration": 27,
    "start_time": "2022-07-11T01:11:36.351Z"
   },
   {
    "duration": 13,
    "start_time": "2022-07-11T01:11:42.154Z"
   },
   {
    "duration": 25,
    "start_time": "2022-07-11T01:11:44.423Z"
   },
   {
    "duration": 67,
    "start_time": "2022-07-11T01:11:47.137Z"
   },
   {
    "duration": 158,
    "start_time": "2022-07-11T01:11:49.631Z"
   },
   {
    "duration": 61,
    "start_time": "2022-07-11T01:11:52.375Z"
   },
   {
    "duration": 45,
    "start_time": "2022-07-11T01:11:54.967Z"
   },
   {
    "duration": 3,
    "start_time": "2022-07-11T01:54:18.912Z"
   },
   {
    "duration": 2,
    "start_time": "2022-07-11T01:54:20.656Z"
   },
   {
    "duration": 8,
    "start_time": "2022-07-11T03:38:57.756Z"
   },
   {
    "duration": 9,
    "start_time": "2022-07-11T03:39:02.182Z"
   },
   {
    "duration": 10,
    "start_time": "2022-07-11T03:39:40.772Z"
   },
   {
    "duration": 11,
    "start_time": "2022-07-11T03:41:29.933Z"
   },
   {
    "duration": 10,
    "start_time": "2022-07-11T03:44:18.870Z"
   },
   {
    "duration": 457,
    "start_time": "2022-07-11T03:45:53.793Z"
   },
   {
    "duration": 323,
    "start_time": "2022-07-11T03:45:54.252Z"
   },
   {
    "duration": 8,
    "start_time": "2022-07-11T03:45:54.577Z"
   },
   {
    "duration": 20,
    "start_time": "2022-07-11T03:45:54.587Z"
   },
   {
    "duration": 19,
    "start_time": "2022-07-11T03:45:54.609Z"
   },
   {
    "duration": 21,
    "start_time": "2022-07-11T03:45:54.630Z"
   },
   {
    "duration": 16,
    "start_time": "2022-07-11T03:45:54.653Z"
   },
   {
    "duration": 63,
    "start_time": "2022-07-11T03:45:54.672Z"
   },
   {
    "duration": 19,
    "start_time": "2022-07-11T03:45:54.738Z"
   },
   {
    "duration": 41,
    "start_time": "2022-07-11T03:45:54.759Z"
   },
   {
    "duration": 86,
    "start_time": "2022-07-11T03:45:54.806Z"
   },
   {
    "duration": 181,
    "start_time": "2022-07-11T03:45:54.894Z"
   },
   {
    "duration": 71,
    "start_time": "2022-07-11T03:45:55.077Z"
   },
   {
    "duration": 74,
    "start_time": "2022-07-11T03:45:55.153Z"
   },
   {
    "duration": 12,
    "start_time": "2022-07-11T03:45:55.229Z"
   },
   {
    "duration": 40,
    "start_time": "2022-07-11T03:45:55.244Z"
   },
   {
    "duration": 12,
    "start_time": "2022-07-11T03:45:55.286Z"
   },
   {
    "duration": 146,
    "start_time": "2022-07-11T03:45:55.300Z"
   },
   {
    "duration": 0,
    "start_time": "2022-07-11T03:45:55.448Z"
   },
   {
    "duration": 0,
    "start_time": "2022-07-11T03:45:55.450Z"
   },
   {
    "duration": 0,
    "start_time": "2022-07-11T03:45:55.451Z"
   },
   {
    "duration": 0,
    "start_time": "2022-07-11T03:45:55.453Z"
   },
   {
    "duration": 0,
    "start_time": "2022-07-11T03:45:55.454Z"
   },
   {
    "duration": 0,
    "start_time": "2022-07-11T03:45:55.455Z"
   },
   {
    "duration": 0,
    "start_time": "2022-07-11T03:45:55.457Z"
   },
   {
    "duration": 0,
    "start_time": "2022-07-11T03:45:55.459Z"
   },
   {
    "duration": 0,
    "start_time": "2022-07-11T03:45:55.460Z"
   },
   {
    "duration": 0,
    "start_time": "2022-07-11T03:45:55.462Z"
   },
   {
    "duration": 0,
    "start_time": "2022-07-11T03:45:55.464Z"
   },
   {
    "duration": 0,
    "start_time": "2022-07-11T03:45:55.466Z"
   },
   {
    "duration": 0,
    "start_time": "2022-07-11T03:45:55.467Z"
   },
   {
    "duration": 0,
    "start_time": "2022-07-11T03:45:55.469Z"
   },
   {
    "duration": 0,
    "start_time": "2022-07-11T03:45:55.470Z"
   },
   {
    "duration": 0,
    "start_time": "2022-07-11T03:45:55.471Z"
   },
   {
    "duration": 0,
    "start_time": "2022-07-11T03:45:55.473Z"
   },
   {
    "duration": 0,
    "start_time": "2022-07-11T03:45:55.474Z"
   },
   {
    "duration": 0,
    "start_time": "2022-07-11T03:45:55.475Z"
   },
   {
    "duration": 0,
    "start_time": "2022-07-11T03:45:55.476Z"
   },
   {
    "duration": 11,
    "start_time": "2022-07-11T03:46:40.160Z"
   },
   {
    "duration": 14,
    "start_time": "2022-07-11T03:47:02.927Z"
   },
   {
    "duration": 4,
    "start_time": "2022-07-11T03:47:48.953Z"
   },
   {
    "duration": 283,
    "start_time": "2022-07-11T03:48:33.483Z"
   },
   {
    "duration": 451,
    "start_time": "2022-07-11T03:49:50.686Z"
   },
   {
    "duration": 45,
    "start_time": "2022-07-11T03:49:56.535Z"
   },
   {
    "duration": 114,
    "start_time": "2022-07-11T03:51:00.908Z"
   },
   {
    "duration": 137,
    "start_time": "2022-07-11T03:51:08.457Z"
   },
   {
    "duration": 208,
    "start_time": "2022-07-11T03:52:24.620Z"
   },
   {
    "duration": 9,
    "start_time": "2022-07-11T03:53:46.359Z"
   },
   {
    "duration": 57,
    "start_time": "2022-07-11T03:53:55.208Z"
   },
   {
    "duration": 50,
    "start_time": "2022-07-11T03:53:59.240Z"
   },
   {
    "duration": 76,
    "start_time": "2022-07-11T03:54:15.370Z"
   },
   {
    "duration": 57,
    "start_time": "2022-07-11T03:54:27.083Z"
   },
   {
    "duration": 58,
    "start_time": "2022-07-11T03:54:38.329Z"
   },
   {
    "duration": 81,
    "start_time": "2022-07-11T03:56:54.117Z"
   },
   {
    "duration": 3,
    "start_time": "2022-07-11T03:57:00.570Z"
   },
   {
    "duration": 348,
    "start_time": "2022-07-11T03:57:13.860Z"
   },
   {
    "duration": 3,
    "start_time": "2022-07-11T05:22:38.153Z"
   },
   {
    "duration": 4,
    "start_time": "2022-07-11T05:22:44.000Z"
   },
   {
    "duration": 20,
    "start_time": "2022-07-11T05:22:55.489Z"
   },
   {
    "duration": 24,
    "start_time": "2022-07-11T16:37:46.904Z"
   },
   {
    "duration": 5,
    "start_time": "2022-07-11T16:37:58.310Z"
   },
   {
    "duration": 146,
    "start_time": "2022-07-11T16:38:14.577Z"
   },
   {
    "duration": 13,
    "start_time": "2022-07-11T16:38:49.657Z"
   },
   {
    "duration": 10,
    "start_time": "2022-07-11T16:43:22.208Z"
   },
   {
    "duration": 11,
    "start_time": "2022-07-11T16:44:46.308Z"
   },
   {
    "duration": 33,
    "start_time": "2022-07-11T16:45:00.778Z"
   },
   {
    "duration": 15,
    "start_time": "2022-07-11T16:45:50.882Z"
   },
   {
    "duration": 8,
    "start_time": "2022-07-11T16:46:20.472Z"
   },
   {
    "duration": 9,
    "start_time": "2022-07-11T16:48:15.698Z"
   },
   {
    "duration": 44,
    "start_time": "2022-07-11T16:48:36.140Z"
   },
   {
    "duration": 6,
    "start_time": "2022-07-11T16:49:13.926Z"
   },
   {
    "duration": 3,
    "start_time": "2022-07-11T16:50:25.481Z"
   },
   {
    "duration": 4,
    "start_time": "2022-07-11T16:50:28.763Z"
   },
   {
    "duration": 8,
    "start_time": "2022-07-11T16:51:11.516Z"
   },
   {
    "duration": 7,
    "start_time": "2022-07-11T16:51:16.804Z"
   },
   {
    "duration": 8,
    "start_time": "2022-07-11T16:51:22.685Z"
   },
   {
    "duration": 7,
    "start_time": "2022-07-11T16:51:37.893Z"
   },
   {
    "duration": 58,
    "start_time": "2022-07-11T16:53:24.220Z"
   },
   {
    "duration": 9,
    "start_time": "2022-07-11T16:53:37.430Z"
   },
   {
    "duration": 51,
    "start_time": "2022-07-11T16:57:20.773Z"
   },
   {
    "duration": 48,
    "start_time": "2022-07-11T16:58:30.663Z"
   },
   {
    "duration": 54,
    "start_time": "2022-07-11T16:59:58.005Z"
   },
   {
    "duration": 3,
    "start_time": "2022-07-11T17:01:18.214Z"
   },
   {
    "duration": 58,
    "start_time": "2022-07-11T17:01:29.893Z"
   },
   {
    "duration": 4,
    "start_time": "2022-07-11T17:02:35.733Z"
   },
   {
    "duration": 190,
    "start_time": "2022-07-11T17:02:40.214Z"
   },
   {
    "duration": 141,
    "start_time": "2022-07-11T17:08:32.007Z"
   },
   {
    "duration": 99,
    "start_time": "2022-07-11T17:08:46.562Z"
   },
   {
    "duration": 57,
    "start_time": "2022-07-11T17:08:51.980Z"
   },
   {
    "duration": 60,
    "start_time": "2022-07-11T17:08:55.027Z"
   },
   {
    "duration": 76,
    "start_time": "2022-07-11T17:08:59.063Z"
   },
   {
    "duration": 102,
    "start_time": "2022-07-11T17:09:12.535Z"
   },
   {
    "duration": 7,
    "start_time": "2022-07-11T17:14:30.764Z"
   },
   {
    "duration": 64,
    "start_time": "2022-07-11T17:15:19.109Z"
   },
   {
    "duration": 59,
    "start_time": "2022-07-11T17:15:26.004Z"
   },
   {
    "duration": 52,
    "start_time": "2022-07-11T17:15:29.818Z"
   },
   {
    "duration": 44,
    "start_time": "2022-07-11T17:15:33.611Z"
   },
   {
    "duration": 73,
    "start_time": "2022-07-11T17:15:36.965Z"
   },
   {
    "duration": 60,
    "start_time": "2022-07-11T17:16:30.292Z"
   },
   {
    "duration": 46,
    "start_time": "2022-07-11T18:04:25.348Z"
   },
   {
    "duration": 8,
    "start_time": "2022-07-11T18:04:53.206Z"
   },
   {
    "duration": 12,
    "start_time": "2022-07-11T20:11:06.223Z"
   },
   {
    "duration": 403,
    "start_time": "2022-07-11T20:12:22.388Z"
   },
   {
    "duration": 261,
    "start_time": "2022-07-11T20:12:22.793Z"
   },
   {
    "duration": 7,
    "start_time": "2022-07-11T20:12:23.056Z"
   },
   {
    "duration": 17,
    "start_time": "2022-07-11T20:12:23.065Z"
   },
   {
    "duration": 11,
    "start_time": "2022-07-11T20:12:23.083Z"
   },
   {
    "duration": 38,
    "start_time": "2022-07-11T20:12:23.095Z"
   },
   {
    "duration": 55,
    "start_time": "2022-07-11T20:12:23.135Z"
   },
   {
    "duration": 42,
    "start_time": "2022-07-11T20:12:23.192Z"
   },
   {
    "duration": 14,
    "start_time": "2022-07-11T20:12:23.236Z"
   },
   {
    "duration": 55,
    "start_time": "2022-07-11T20:12:23.252Z"
   },
   {
    "duration": 88,
    "start_time": "2022-07-11T20:12:23.309Z"
   },
   {
    "duration": 178,
    "start_time": "2022-07-11T20:12:23.399Z"
   },
   {
    "duration": 71,
    "start_time": "2022-07-11T20:12:23.579Z"
   },
   {
    "duration": 44,
    "start_time": "2022-07-11T20:12:23.652Z"
   },
   {
    "duration": 12,
    "start_time": "2022-07-11T20:12:23.700Z"
   },
   {
    "duration": 8,
    "start_time": "2022-07-11T20:12:23.714Z"
   },
   {
    "duration": 9,
    "start_time": "2022-07-11T20:12:23.724Z"
   },
   {
    "duration": 6,
    "start_time": "2022-07-11T20:12:23.735Z"
   },
   {
    "duration": 8,
    "start_time": "2022-07-11T20:12:23.742Z"
   },
   {
    "duration": 7,
    "start_time": "2022-07-11T20:12:23.751Z"
   },
   {
    "duration": 5,
    "start_time": "2022-07-11T20:12:23.759Z"
   },
   {
    "duration": 7,
    "start_time": "2022-07-11T20:12:23.765Z"
   },
   {
    "duration": 5,
    "start_time": "2022-07-11T20:12:23.774Z"
   },
   {
    "duration": 6,
    "start_time": "2022-07-11T20:12:23.780Z"
   },
   {
    "duration": 5,
    "start_time": "2022-07-11T20:12:23.788Z"
   },
   {
    "duration": 8,
    "start_time": "2022-07-11T20:12:23.794Z"
   },
   {
    "duration": 18,
    "start_time": "2022-07-11T20:12:23.803Z"
   },
   {
    "duration": 14,
    "start_time": "2022-07-11T20:12:23.824Z"
   },
   {
    "duration": 8,
    "start_time": "2022-07-11T20:12:23.841Z"
   },
   {
    "duration": 63,
    "start_time": "2022-07-11T20:12:23.850Z"
   },
   {
    "duration": 0,
    "start_time": "2022-07-11T20:12:23.915Z"
   },
   {
    "duration": 0,
    "start_time": "2022-07-11T20:12:23.916Z"
   },
   {
    "duration": 0,
    "start_time": "2022-07-11T20:12:23.920Z"
   },
   {
    "duration": 0,
    "start_time": "2022-07-11T20:12:23.921Z"
   },
   {
    "duration": 0,
    "start_time": "2022-07-11T20:12:23.922Z"
   },
   {
    "duration": 0,
    "start_time": "2022-07-11T20:12:23.923Z"
   },
   {
    "duration": 0,
    "start_time": "2022-07-11T20:12:23.924Z"
   },
   {
    "duration": 0,
    "start_time": "2022-07-11T20:12:23.926Z"
   },
   {
    "duration": 73,
    "start_time": "2022-07-11T21:08:32.277Z"
   },
   {
    "duration": 10,
    "start_time": "2022-07-11T21:08:51.016Z"
   },
   {
    "duration": 11,
    "start_time": "2022-07-11T21:09:14.163Z"
   },
   {
    "duration": 9,
    "start_time": "2022-07-11T21:11:42.513Z"
   },
   {
    "duration": 25,
    "start_time": "2022-07-11T21:16:11.928Z"
   },
   {
    "duration": 3,
    "start_time": "2022-07-11T21:16:31.356Z"
   },
   {
    "duration": 8,
    "start_time": "2022-07-11T21:21:07.808Z"
   },
   {
    "duration": 4,
    "start_time": "2022-07-11T21:23:04.299Z"
   },
   {
    "duration": 7,
    "start_time": "2022-07-11T21:23:06.530Z"
   },
   {
    "duration": 387,
    "start_time": "2022-07-11T21:24:11.921Z"
   },
   {
    "duration": 266,
    "start_time": "2022-07-11T21:24:12.310Z"
   },
   {
    "duration": 7,
    "start_time": "2022-07-11T21:24:12.577Z"
   },
   {
    "duration": 15,
    "start_time": "2022-07-11T21:24:12.586Z"
   },
   {
    "duration": 8,
    "start_time": "2022-07-11T21:24:12.602Z"
   },
   {
    "duration": 8,
    "start_time": "2022-07-11T21:24:12.611Z"
   },
   {
    "duration": 16,
    "start_time": "2022-07-11T21:24:12.620Z"
   },
   {
    "duration": 30,
    "start_time": "2022-07-11T21:24:12.638Z"
   },
   {
    "duration": 899,
    "start_time": "2022-07-11T21:24:12.670Z"
   },
   {
    "duration": 0,
    "start_time": "2022-07-11T21:24:13.574Z"
   },
   {
    "duration": 0,
    "start_time": "2022-07-11T21:24:13.575Z"
   },
   {
    "duration": 0,
    "start_time": "2022-07-11T21:24:13.576Z"
   },
   {
    "duration": 0,
    "start_time": "2022-07-11T21:24:13.577Z"
   },
   {
    "duration": 0,
    "start_time": "2022-07-11T21:24:13.579Z"
   },
   {
    "duration": 0,
    "start_time": "2022-07-11T21:24:13.580Z"
   },
   {
    "duration": 0,
    "start_time": "2022-07-11T21:24:13.581Z"
   },
   {
    "duration": 0,
    "start_time": "2022-07-11T21:24:13.582Z"
   },
   {
    "duration": 0,
    "start_time": "2022-07-11T21:24:13.584Z"
   },
   {
    "duration": 0,
    "start_time": "2022-07-11T21:24:13.585Z"
   },
   {
    "duration": 0,
    "start_time": "2022-07-11T21:24:13.586Z"
   },
   {
    "duration": 0,
    "start_time": "2022-07-11T21:24:13.587Z"
   },
   {
    "duration": 0,
    "start_time": "2022-07-11T21:24:13.588Z"
   },
   {
    "duration": 0,
    "start_time": "2022-07-11T21:24:13.590Z"
   },
   {
    "duration": 0,
    "start_time": "2022-07-11T21:24:13.591Z"
   },
   {
    "duration": 0,
    "start_time": "2022-07-11T21:24:13.592Z"
   },
   {
    "duration": 0,
    "start_time": "2022-07-11T21:24:13.594Z"
   },
   {
    "duration": 0,
    "start_time": "2022-07-11T21:24:13.595Z"
   },
   {
    "duration": 0,
    "start_time": "2022-07-11T21:24:13.596Z"
   },
   {
    "duration": 0,
    "start_time": "2022-07-11T21:24:13.597Z"
   },
   {
    "duration": 0,
    "start_time": "2022-07-11T21:24:13.598Z"
   },
   {
    "duration": 0,
    "start_time": "2022-07-11T21:24:13.599Z"
   },
   {
    "duration": 0,
    "start_time": "2022-07-11T21:24:13.600Z"
   },
   {
    "duration": 0,
    "start_time": "2022-07-11T21:24:13.601Z"
   },
   {
    "duration": 0,
    "start_time": "2022-07-11T21:24:13.603Z"
   },
   {
    "duration": 0,
    "start_time": "2022-07-11T21:24:13.604Z"
   },
   {
    "duration": 0,
    "start_time": "2022-07-11T21:24:13.605Z"
   },
   {
    "duration": 0,
    "start_time": "2022-07-11T21:24:13.606Z"
   },
   {
    "duration": 0,
    "start_time": "2022-07-11T21:24:13.607Z"
   },
   {
    "duration": 11,
    "start_time": "2022-07-11T21:24:21.216Z"
   },
   {
    "duration": 20,
    "start_time": "2022-07-11T21:24:24.829Z"
   },
   {
    "duration": 23,
    "start_time": "2022-07-11T21:24:35.408Z"
   },
   {
    "duration": 59,
    "start_time": "2022-07-13T00:27:01.345Z"
   },
   {
    "duration": 6,
    "start_time": "2022-07-13T00:27:11.856Z"
   },
   {
    "duration": 378,
    "start_time": "2022-07-13T00:27:16.826Z"
   },
   {
    "duration": 365,
    "start_time": "2022-07-13T00:27:17.206Z"
   },
   {
    "duration": 7,
    "start_time": "2022-07-13T00:27:17.572Z"
   },
   {
    "duration": 8,
    "start_time": "2022-07-13T00:27:17.582Z"
   },
   {
    "duration": 13,
    "start_time": "2022-07-13T00:27:17.600Z"
   },
   {
    "duration": 8,
    "start_time": "2022-07-13T00:27:17.616Z"
   },
   {
    "duration": 10,
    "start_time": "2022-07-13T00:27:17.625Z"
   },
   {
    "duration": 27,
    "start_time": "2022-07-13T00:27:17.636Z"
   },
   {
    "duration": 11,
    "start_time": "2022-07-13T00:27:17.665Z"
   },
   {
    "duration": 45,
    "start_time": "2022-07-13T00:27:17.679Z"
   },
   {
    "duration": 63,
    "start_time": "2022-07-13T00:27:17.726Z"
   },
   {
    "duration": 150,
    "start_time": "2022-07-13T00:27:17.791Z"
   },
   {
    "duration": 59,
    "start_time": "2022-07-13T00:27:17.943Z"
   },
   {
    "duration": 47,
    "start_time": "2022-07-13T00:27:18.011Z"
   },
   {
    "duration": 2,
    "start_time": "2022-07-13T00:27:18.060Z"
   },
   {
    "duration": 8,
    "start_time": "2022-07-13T00:27:18.064Z"
   },
   {
    "duration": 13,
    "start_time": "2022-07-13T00:27:18.074Z"
   },
   {
    "duration": 16,
    "start_time": "2022-07-13T00:27:18.101Z"
   },
   {
    "duration": 5,
    "start_time": "2022-07-13T00:27:18.119Z"
   },
   {
    "duration": 9,
    "start_time": "2022-07-13T00:27:18.126Z"
   },
   {
    "duration": 18,
    "start_time": "2022-07-13T00:27:18.137Z"
   },
   {
    "duration": 10,
    "start_time": "2022-07-13T00:27:18.157Z"
   },
   {
    "duration": 11,
    "start_time": "2022-07-13T00:27:18.168Z"
   },
   {
    "duration": 6,
    "start_time": "2022-07-13T00:27:18.180Z"
   },
   {
    "duration": 8,
    "start_time": "2022-07-13T00:27:18.187Z"
   },
   {
    "duration": 21,
    "start_time": "2022-07-13T00:27:18.196Z"
   },
   {
    "duration": 9,
    "start_time": "2022-07-13T00:27:18.219Z"
   },
   {
    "duration": 5,
    "start_time": "2022-07-13T00:27:18.231Z"
   },
   {
    "duration": 8,
    "start_time": "2022-07-13T00:27:18.237Z"
   },
   {
    "duration": 45,
    "start_time": "2022-07-13T00:27:18.247Z"
   },
   {
    "duration": 0,
    "start_time": "2022-07-13T00:27:18.293Z"
   },
   {
    "duration": 0,
    "start_time": "2022-07-13T00:27:18.295Z"
   },
   {
    "duration": 0,
    "start_time": "2022-07-13T00:27:18.296Z"
   },
   {
    "duration": 0,
    "start_time": "2022-07-13T00:27:18.297Z"
   },
   {
    "duration": 0,
    "start_time": "2022-07-13T00:27:18.298Z"
   },
   {
    "duration": 0,
    "start_time": "2022-07-13T00:27:18.298Z"
   },
   {
    "duration": 0,
    "start_time": "2022-07-13T00:27:18.300Z"
   },
   {
    "duration": 0,
    "start_time": "2022-07-13T00:27:18.300Z"
   },
   {
    "duration": 13,
    "start_time": "2022-07-13T00:27:24.153Z"
   },
   {
    "duration": 19,
    "start_time": "2022-07-13T00:28:17.816Z"
   },
   {
    "duration": 9,
    "start_time": "2022-07-13T00:30:51.054Z"
   },
   {
    "duration": 10,
    "start_time": "2022-07-13T00:31:09.746Z"
   },
   {
    "duration": 11,
    "start_time": "2022-07-13T00:31:24.233Z"
   },
   {
    "duration": 9,
    "start_time": "2022-07-13T00:32:51.468Z"
   },
   {
    "duration": 13,
    "start_time": "2022-07-13T00:32:58.551Z"
   },
   {
    "duration": 34,
    "start_time": "2022-07-13T00:34:52.286Z"
   },
   {
    "duration": 12,
    "start_time": "2022-07-14T08:27:11.698Z"
   },
   {
    "duration": 3,
    "start_time": "2022-07-14T08:27:14.545Z"
   },
   {
    "duration": 5,
    "start_time": "2022-07-14T08:28:02.240Z"
   },
   {
    "duration": 42,
    "start_time": "2022-07-14T08:29:36.565Z"
   },
   {
    "duration": 9,
    "start_time": "2022-07-14T08:29:45.992Z"
   },
   {
    "duration": 51,
    "start_time": "2022-07-14T08:30:16.446Z"
   },
   {
    "duration": 9,
    "start_time": "2022-07-14T08:30:23.247Z"
   },
   {
    "duration": 54,
    "start_time": "2022-07-14T08:32:38.496Z"
   },
   {
    "duration": 43,
    "start_time": "2022-07-14T08:32:51.288Z"
   },
   {
    "duration": 7,
    "start_time": "2022-07-14T08:50:41.153Z"
   },
   {
    "duration": 349,
    "start_time": "2022-07-14T08:50:54.116Z"
   },
   {
    "duration": 307,
    "start_time": "2022-07-14T08:50:54.468Z"
   },
   {
    "duration": 6,
    "start_time": "2022-07-14T08:50:54.777Z"
   },
   {
    "duration": 12,
    "start_time": "2022-07-14T08:50:54.785Z"
   },
   {
    "duration": 17,
    "start_time": "2022-07-14T08:50:54.798Z"
   },
   {
    "duration": 12,
    "start_time": "2022-07-14T08:50:54.816Z"
   },
   {
    "duration": 10,
    "start_time": "2022-07-14T08:50:54.830Z"
   },
   {
    "duration": 36,
    "start_time": "2022-07-14T08:50:54.841Z"
   },
   {
    "duration": 17,
    "start_time": "2022-07-14T08:50:54.879Z"
   },
   {
    "duration": 24,
    "start_time": "2022-07-14T08:50:54.899Z"
   },
   {
    "duration": 68,
    "start_time": "2022-07-14T08:50:54.925Z"
   },
   {
    "duration": 134,
    "start_time": "2022-07-14T08:50:54.995Z"
   },
   {
    "duration": 55,
    "start_time": "2022-07-14T08:50:55.131Z"
   },
   {
    "duration": 47,
    "start_time": "2022-07-14T08:50:55.188Z"
   },
   {
    "duration": 3,
    "start_time": "2022-07-14T08:50:55.236Z"
   },
   {
    "duration": 10,
    "start_time": "2022-07-14T08:50:55.240Z"
   },
   {
    "duration": 9,
    "start_time": "2022-07-14T08:50:55.264Z"
   },
   {
    "duration": 19,
    "start_time": "2022-07-14T08:50:55.275Z"
   },
   {
    "duration": 24,
    "start_time": "2022-07-14T08:50:55.296Z"
   },
   {
    "duration": 89,
    "start_time": "2022-07-14T08:50:55.322Z"
   },
   {
    "duration": 0,
    "start_time": "2022-07-14T08:50:55.413Z"
   },
   {
    "duration": 0,
    "start_time": "2022-07-14T08:50:55.414Z"
   },
   {
    "duration": 0,
    "start_time": "2022-07-14T08:50:55.416Z"
   },
   {
    "duration": 0,
    "start_time": "2022-07-14T08:50:55.417Z"
   },
   {
    "duration": 0,
    "start_time": "2022-07-14T08:50:55.419Z"
   },
   {
    "duration": 0,
    "start_time": "2022-07-14T08:50:55.420Z"
   },
   {
    "duration": 0,
    "start_time": "2022-07-14T08:50:55.421Z"
   },
   {
    "duration": 0,
    "start_time": "2022-07-14T08:50:55.423Z"
   },
   {
    "duration": 0,
    "start_time": "2022-07-14T08:50:55.424Z"
   },
   {
    "duration": 0,
    "start_time": "2022-07-14T08:50:55.426Z"
   },
   {
    "duration": 0,
    "start_time": "2022-07-14T08:50:55.427Z"
   },
   {
    "duration": 0,
    "start_time": "2022-07-14T08:50:55.428Z"
   },
   {
    "duration": 0,
    "start_time": "2022-07-14T08:50:55.429Z"
   },
   {
    "duration": 0,
    "start_time": "2022-07-14T08:50:55.431Z"
   },
   {
    "duration": 0,
    "start_time": "2022-07-14T08:50:55.464Z"
   },
   {
    "duration": 0,
    "start_time": "2022-07-14T08:50:55.465Z"
   },
   {
    "duration": 0,
    "start_time": "2022-07-14T08:50:55.466Z"
   },
   {
    "duration": 0,
    "start_time": "2022-07-14T08:50:55.467Z"
   },
   {
    "duration": 13,
    "start_time": "2022-07-14T08:53:05.854Z"
   },
   {
    "duration": 14,
    "start_time": "2022-07-14T08:53:40.585Z"
   },
   {
    "duration": 13,
    "start_time": "2022-07-14T08:54:01.759Z"
   },
   {
    "duration": 12,
    "start_time": "2022-07-14T08:54:25.285Z"
   },
   {
    "duration": 53,
    "start_time": "2022-07-20T14:39:24.753Z"
   },
   {
    "duration": 423,
    "start_time": "2022-07-20T14:39:45.986Z"
   },
   {
    "duration": 391,
    "start_time": "2022-07-20T14:39:47.257Z"
   },
   {
    "duration": 15,
    "start_time": "2022-07-20T14:40:14.123Z"
   },
   {
    "duration": 850,
    "start_time": "2022-07-20T14:42:52.586Z"
   },
   {
    "duration": 16,
    "start_time": "2022-07-20T14:43:10.311Z"
   },
   {
    "duration": 4,
    "start_time": "2022-07-20T14:43:16.577Z"
   },
   {
    "duration": 3,
    "start_time": "2022-07-20T14:43:33.511Z"
   },
   {
    "duration": 23,
    "start_time": "2022-07-20T14:43:39.450Z"
   },
   {
    "duration": 374,
    "start_time": "2022-07-26T02:59:04.582Z"
   },
   {
    "duration": 338,
    "start_time": "2022-07-26T02:59:04.957Z"
   },
   {
    "duration": 7,
    "start_time": "2022-07-26T02:59:05.296Z"
   },
   {
    "duration": 6,
    "start_time": "2022-07-26T02:59:05.305Z"
   },
   {
    "duration": 5,
    "start_time": "2022-07-26T02:59:05.312Z"
   },
   {
    "duration": 18,
    "start_time": "2022-07-26T02:59:05.319Z"
   },
   {
    "duration": 11,
    "start_time": "2022-07-26T02:59:05.338Z"
   },
   {
    "duration": 28,
    "start_time": "2022-07-26T02:59:05.350Z"
   },
   {
    "duration": 12,
    "start_time": "2022-07-26T02:59:05.380Z"
   },
   {
    "duration": 23,
    "start_time": "2022-07-26T02:59:05.395Z"
   },
   {
    "duration": 60,
    "start_time": "2022-07-26T02:59:05.437Z"
   },
   {
    "duration": 134,
    "start_time": "2022-07-26T02:59:05.499Z"
   },
   {
    "duration": 50,
    "start_time": "2022-07-26T02:59:05.634Z"
   },
   {
    "duration": 60,
    "start_time": "2022-07-26T02:59:05.686Z"
   },
   {
    "duration": 2,
    "start_time": "2022-07-26T02:59:05.748Z"
   },
   {
    "duration": 8,
    "start_time": "2022-07-26T02:59:05.752Z"
   },
   {
    "duration": 11,
    "start_time": "2022-07-26T02:59:05.761Z"
   },
   {
    "duration": 27,
    "start_time": "2022-07-26T02:59:05.773Z"
   },
   {
    "duration": 24,
    "start_time": "2022-07-26T02:59:05.801Z"
   },
   {
    "duration": 73,
    "start_time": "2022-07-26T02:59:05.827Z"
   },
   {
    "duration": 0,
    "start_time": "2022-07-26T02:59:05.902Z"
   },
   {
    "duration": 0,
    "start_time": "2022-07-26T02:59:05.903Z"
   },
   {
    "duration": 0,
    "start_time": "2022-07-26T02:59:05.904Z"
   },
   {
    "duration": 0,
    "start_time": "2022-07-26T02:59:05.905Z"
   },
   {
    "duration": 0,
    "start_time": "2022-07-26T02:59:05.905Z"
   },
   {
    "duration": 0,
    "start_time": "2022-07-26T02:59:05.906Z"
   },
   {
    "duration": 0,
    "start_time": "2022-07-26T02:59:05.907Z"
   },
   {
    "duration": 0,
    "start_time": "2022-07-26T02:59:05.908Z"
   },
   {
    "duration": 0,
    "start_time": "2022-07-26T02:59:05.909Z"
   },
   {
    "duration": 0,
    "start_time": "2022-07-26T02:59:05.910Z"
   },
   {
    "duration": 0,
    "start_time": "2022-07-26T02:59:05.911Z"
   },
   {
    "duration": 0,
    "start_time": "2022-07-26T02:59:05.911Z"
   },
   {
    "duration": 0,
    "start_time": "2022-07-26T02:59:05.912Z"
   },
   {
    "duration": 0,
    "start_time": "2022-07-26T02:59:05.913Z"
   },
   {
    "duration": 0,
    "start_time": "2022-07-26T02:59:05.914Z"
   },
   {
    "duration": 0,
    "start_time": "2022-07-26T02:59:05.915Z"
   },
   {
    "duration": 0,
    "start_time": "2022-07-26T02:59:05.937Z"
   },
   {
    "duration": 0,
    "start_time": "2022-07-26T02:59:05.938Z"
   },
   {
    "duration": 0,
    "start_time": "2022-07-26T02:59:05.939Z"
   },
   {
    "duration": 0,
    "start_time": "2022-07-26T02:59:05.940Z"
   },
   {
    "duration": 0,
    "start_time": "2022-07-26T02:59:05.942Z"
   },
   {
    "duration": 7,
    "start_time": "2022-07-26T02:59:40.610Z"
   },
   {
    "duration": 7,
    "start_time": "2022-07-26T02:59:47.202Z"
   },
   {
    "duration": 343,
    "start_time": "2022-07-26T03:00:18.394Z"
   },
   {
    "duration": 300,
    "start_time": "2022-07-26T03:00:18.739Z"
   },
   {
    "duration": 6,
    "start_time": "2022-07-26T03:00:19.041Z"
   },
   {
    "duration": 6,
    "start_time": "2022-07-26T03:00:19.049Z"
   },
   {
    "duration": 5,
    "start_time": "2022-07-26T03:00:19.056Z"
   },
   {
    "duration": 4,
    "start_time": "2022-07-26T03:00:19.063Z"
   },
   {
    "duration": 10,
    "start_time": "2022-07-26T03:00:19.068Z"
   },
   {
    "duration": 28,
    "start_time": "2022-07-26T03:00:19.079Z"
   },
   {
    "duration": 39,
    "start_time": "2022-07-26T03:00:19.108Z"
   },
   {
    "duration": 22,
    "start_time": "2022-07-26T03:00:19.149Z"
   },
   {
    "duration": 73,
    "start_time": "2022-07-26T03:00:19.173Z"
   },
   {
    "duration": 125,
    "start_time": "2022-07-26T03:00:19.248Z"
   },
   {
    "duration": 50,
    "start_time": "2022-07-26T03:00:19.374Z"
   },
   {
    "duration": 54,
    "start_time": "2022-07-26T03:00:19.426Z"
   },
   {
    "duration": 2,
    "start_time": "2022-07-26T03:00:19.482Z"
   },
   {
    "duration": 9,
    "start_time": "2022-07-26T03:00:19.485Z"
   },
   {
    "duration": 13,
    "start_time": "2022-07-26T03:00:19.496Z"
   },
   {
    "duration": 33,
    "start_time": "2022-07-26T03:00:19.510Z"
   },
   {
    "duration": 26,
    "start_time": "2022-07-26T03:00:19.544Z"
   },
   {
    "duration": 75,
    "start_time": "2022-07-26T03:00:19.572Z"
   },
   {
    "duration": 0,
    "start_time": "2022-07-26T03:00:19.649Z"
   },
   {
    "duration": 0,
    "start_time": "2022-07-26T03:00:19.650Z"
   },
   {
    "duration": 0,
    "start_time": "2022-07-26T03:00:19.651Z"
   },
   {
    "duration": 0,
    "start_time": "2022-07-26T03:00:19.652Z"
   },
   {
    "duration": 0,
    "start_time": "2022-07-26T03:00:19.653Z"
   },
   {
    "duration": 0,
    "start_time": "2022-07-26T03:00:19.654Z"
   },
   {
    "duration": 0,
    "start_time": "2022-07-26T03:00:19.655Z"
   },
   {
    "duration": 0,
    "start_time": "2022-07-26T03:00:19.656Z"
   },
   {
    "duration": 0,
    "start_time": "2022-07-26T03:00:19.657Z"
   },
   {
    "duration": 0,
    "start_time": "2022-07-26T03:00:19.658Z"
   },
   {
    "duration": 0,
    "start_time": "2022-07-26T03:00:19.659Z"
   },
   {
    "duration": 0,
    "start_time": "2022-07-26T03:00:19.660Z"
   },
   {
    "duration": 0,
    "start_time": "2022-07-26T03:00:19.661Z"
   },
   {
    "duration": 0,
    "start_time": "2022-07-26T03:00:19.662Z"
   },
   {
    "duration": 0,
    "start_time": "2022-07-26T03:00:19.662Z"
   },
   {
    "duration": 0,
    "start_time": "2022-07-26T03:00:19.663Z"
   },
   {
    "duration": 0,
    "start_time": "2022-07-26T03:00:19.664Z"
   },
   {
    "duration": 0,
    "start_time": "2022-07-26T03:00:19.665Z"
   },
   {
    "duration": 0,
    "start_time": "2022-07-26T03:00:19.666Z"
   },
   {
    "duration": 0,
    "start_time": "2022-07-26T03:00:19.667Z"
   },
   {
    "duration": 0,
    "start_time": "2022-07-26T03:00:19.668Z"
   },
   {
    "duration": 6,
    "start_time": "2022-07-26T03:00:27.479Z"
   },
   {
    "duration": 7,
    "start_time": "2022-07-26T03:00:39.518Z"
   },
   {
    "duration": 384,
    "start_time": "2022-08-01T11:27:54.006Z"
   },
   {
    "duration": 538,
    "start_time": "2022-08-01T11:27:54.392Z"
   },
   {
    "duration": 5,
    "start_time": "2022-08-01T11:27:54.932Z"
   },
   {
    "duration": 5,
    "start_time": "2022-08-01T11:27:54.939Z"
   },
   {
    "duration": 4,
    "start_time": "2022-08-01T11:27:54.946Z"
   },
   {
    "duration": 7,
    "start_time": "2022-08-01T11:27:54.951Z"
   },
   {
    "duration": 8,
    "start_time": "2022-08-01T11:27:54.959Z"
   },
   {
    "duration": 51,
    "start_time": "2022-08-01T11:27:54.969Z"
   },
   {
    "duration": 10,
    "start_time": "2022-08-01T11:27:55.022Z"
   },
   {
    "duration": 19,
    "start_time": "2022-08-01T11:27:55.036Z"
   },
   {
    "duration": 91,
    "start_time": "2022-08-01T11:27:55.057Z"
   },
   {
    "duration": 134,
    "start_time": "2022-08-01T11:27:55.150Z"
   },
   {
    "duration": 57,
    "start_time": "2022-08-01T11:27:55.286Z"
   },
   {
    "duration": 41,
    "start_time": "2022-08-01T11:27:55.345Z"
   },
   {
    "duration": 15,
    "start_time": "2022-08-01T11:27:55.387Z"
   },
   {
    "duration": 7,
    "start_time": "2022-08-01T11:27:55.404Z"
   },
   {
    "duration": 8,
    "start_time": "2022-08-01T11:27:55.412Z"
   },
   {
    "duration": 17,
    "start_time": "2022-08-01T11:27:55.422Z"
   },
   {
    "duration": 25,
    "start_time": "2022-08-01T11:27:55.441Z"
   },
   {
    "duration": 87,
    "start_time": "2022-08-01T11:27:55.469Z"
   },
   {
    "duration": 0,
    "start_time": "2022-08-01T11:27:55.558Z"
   },
   {
    "duration": 0,
    "start_time": "2022-08-01T11:27:55.560Z"
   },
   {
    "duration": 0,
    "start_time": "2022-08-01T11:27:55.561Z"
   },
   {
    "duration": 0,
    "start_time": "2022-08-01T11:27:55.562Z"
   },
   {
    "duration": 1,
    "start_time": "2022-08-01T11:27:55.562Z"
   },
   {
    "duration": 0,
    "start_time": "2022-08-01T11:27:55.563Z"
   },
   {
    "duration": 0,
    "start_time": "2022-08-01T11:27:55.564Z"
   },
   {
    "duration": 0,
    "start_time": "2022-08-01T11:27:55.565Z"
   },
   {
    "duration": 0,
    "start_time": "2022-08-01T11:27:55.566Z"
   },
   {
    "duration": 0,
    "start_time": "2022-08-01T11:27:55.567Z"
   },
   {
    "duration": 0,
    "start_time": "2022-08-01T11:27:55.568Z"
   },
   {
    "duration": 0,
    "start_time": "2022-08-01T11:27:55.569Z"
   },
   {
    "duration": 0,
    "start_time": "2022-08-01T11:27:55.570Z"
   },
   {
    "duration": 0,
    "start_time": "2022-08-01T11:27:55.571Z"
   },
   {
    "duration": 0,
    "start_time": "2022-08-01T11:27:55.572Z"
   },
   {
    "duration": 0,
    "start_time": "2022-08-01T11:27:55.573Z"
   },
   {
    "duration": 0,
    "start_time": "2022-08-01T11:27:55.574Z"
   },
   {
    "duration": 0,
    "start_time": "2022-08-01T11:27:55.575Z"
   },
   {
    "duration": 0,
    "start_time": "2022-08-01T11:27:55.602Z"
   },
   {
    "duration": 0,
    "start_time": "2022-08-01T11:27:55.602Z"
   },
   {
    "duration": 0,
    "start_time": "2022-08-01T11:27:55.603Z"
   },
   {
    "duration": 5,
    "start_time": "2022-08-01T11:29:10.809Z"
   },
   {
    "duration": 24,
    "start_time": "2022-08-01T11:29:28.890Z"
   },
   {
    "duration": 6,
    "start_time": "2022-08-01T11:30:24.931Z"
   },
   {
    "duration": 3,
    "start_time": "2022-08-01T11:30:28.355Z"
   },
   {
    "duration": 6,
    "start_time": "2022-08-01T11:30:30.769Z"
   },
   {
    "duration": 3,
    "start_time": "2022-08-01T11:31:12.658Z"
   },
   {
    "duration": 7,
    "start_time": "2022-08-01T11:31:15.609Z"
   },
   {
    "duration": 7,
    "start_time": "2022-08-01T11:31:20.446Z"
   },
   {
    "duration": 19,
    "start_time": "2022-08-01T11:32:20.087Z"
   },
   {
    "duration": 3,
    "start_time": "2022-08-01T11:32:31.015Z"
   },
   {
    "duration": 3,
    "start_time": "2022-08-01T11:33:56.863Z"
   },
   {
    "duration": 1292,
    "start_time": "2022-08-01T11:33:59.071Z"
   },
   {
    "duration": 3,
    "start_time": "2022-08-01T11:34:15.359Z"
   },
   {
    "duration": 20,
    "start_time": "2022-08-01T11:34:18.811Z"
   },
   {
    "duration": 4,
    "start_time": "2022-08-01T11:35:24.949Z"
   },
   {
    "duration": 14,
    "start_time": "2022-08-01T11:35:27.123Z"
   },
   {
    "duration": 12,
    "start_time": "2022-08-01T11:35:29.892Z"
   },
   {
    "duration": 12,
    "start_time": "2022-08-01T11:36:53.904Z"
   },
   {
    "duration": 18,
    "start_time": "2022-08-01T11:36:55.488Z"
   },
   {
    "duration": 11,
    "start_time": "2022-08-01T11:36:57.256Z"
   },
   {
    "duration": 11,
    "start_time": "2022-08-01T11:36:59.760Z"
   },
   {
    "duration": 17,
    "start_time": "2022-08-01T11:37:02.493Z"
   },
   {
    "duration": 12,
    "start_time": "2022-08-01T11:37:04.458Z"
   },
   {
    "duration": 10,
    "start_time": "2022-08-01T11:39:27.454Z"
   },
   {
    "duration": 8,
    "start_time": "2022-08-01T11:42:44.712Z"
   },
   {
    "duration": 18,
    "start_time": "2022-08-01T11:43:02.281Z"
   },
   {
    "duration": 9,
    "start_time": "2022-08-01T11:43:15.847Z"
   },
   {
    "duration": 12,
    "start_time": "2022-08-01T11:44:10.753Z"
   },
   {
    "duration": 14,
    "start_time": "2022-08-01T11:45:07.003Z"
   },
   {
    "duration": 4,
    "start_time": "2022-08-01T11:59:10.347Z"
   },
   {
    "duration": 1270,
    "start_time": "2022-08-01T11:59:40.313Z"
   },
   {
    "duration": 9,
    "start_time": "2022-08-01T11:59:53.752Z"
   },
   {
    "duration": 7,
    "start_time": "2022-08-01T12:00:11.953Z"
   },
   {
    "duration": 12,
    "start_time": "2022-08-01T12:01:09.273Z"
   },
   {
    "duration": 11,
    "start_time": "2022-08-01T12:02:04.990Z"
   },
   {
    "duration": 7,
    "start_time": "2022-08-01T12:03:59.437Z"
   },
   {
    "duration": 15,
    "start_time": "2022-08-01T12:04:09.635Z"
   },
   {
    "duration": 14,
    "start_time": "2022-08-01T12:04:17.371Z"
   },
   {
    "duration": 11,
    "start_time": "2022-08-01T12:04:30.596Z"
   },
   {
    "duration": 13,
    "start_time": "2022-08-01T12:04:33.234Z"
   },
   {
    "duration": 3,
    "start_time": "2022-08-01T12:04:52.641Z"
   },
   {
    "duration": 12,
    "start_time": "2022-08-01T12:04:58.411Z"
   },
   {
    "duration": 11,
    "start_time": "2022-08-01T12:05:13.292Z"
   },
   {
    "duration": 5,
    "start_time": "2022-08-01T12:05:27.319Z"
   },
   {
    "duration": 2,
    "start_time": "2022-08-01T12:06:25.559Z"
   },
   {
    "duration": 9,
    "start_time": "2022-08-01T12:06:42.694Z"
   },
   {
    "duration": 2270,
    "start_time": "2022-08-01T12:07:37.148Z"
   },
   {
    "duration": 1311,
    "start_time": "2022-08-01T12:07:44.271Z"
   },
   {
    "duration": 8,
    "start_time": "2022-08-01T12:08:59.669Z"
   },
   {
    "duration": 15,
    "start_time": "2022-08-01T12:09:17.287Z"
   },
   {
    "duration": 11,
    "start_time": "2022-08-01T12:09:51.440Z"
   },
   {
    "duration": 4,
    "start_time": "2022-08-01T12:10:30.196Z"
   },
   {
    "duration": 29,
    "start_time": "2022-08-01T12:11:13.447Z"
   },
   {
    "duration": 12,
    "start_time": "2022-08-01T12:11:34.879Z"
   },
   {
    "duration": 4,
    "start_time": "2022-08-01T12:11:39.090Z"
   },
   {
    "duration": 19,
    "start_time": "2022-08-01T12:13:31.971Z"
   },
   {
    "duration": 6,
    "start_time": "2022-08-01T12:13:35.201Z"
   },
   {
    "duration": 13,
    "start_time": "2022-08-01T12:13:50.853Z"
   },
   {
    "duration": 17,
    "start_time": "2022-08-01T12:13:53.493Z"
   },
   {
    "duration": 14,
    "start_time": "2022-08-01T12:14:10.984Z"
   },
   {
    "duration": 12,
    "start_time": "2022-08-01T12:14:47.248Z"
   },
   {
    "duration": 12,
    "start_time": "2022-08-01T12:14:49.228Z"
   },
   {
    "duration": 12,
    "start_time": "2022-08-01T12:14:51.186Z"
   },
   {
    "duration": 14,
    "start_time": "2022-08-01T12:14:53.068Z"
   },
   {
    "duration": 12,
    "start_time": "2022-08-01T12:14:54.987Z"
   },
   {
    "duration": 8,
    "start_time": "2022-08-01T12:15:12.133Z"
   },
   {
    "duration": 13,
    "start_time": "2022-08-01T12:16:22.865Z"
   },
   {
    "duration": 6,
    "start_time": "2022-08-01T12:16:39.287Z"
   },
   {
    "duration": 13,
    "start_time": "2022-08-01T12:17:12.868Z"
   },
   {
    "duration": 15,
    "start_time": "2022-08-01T12:17:15.169Z"
   },
   {
    "duration": 21,
    "start_time": "2022-08-01T12:18:59.306Z"
   },
   {
    "duration": 16,
    "start_time": "2022-08-01T12:19:04.284Z"
   },
   {
    "duration": 12,
    "start_time": "2022-08-01T12:19:10.075Z"
   },
   {
    "duration": 14,
    "start_time": "2022-08-01T12:19:13.299Z"
   },
   {
    "duration": 12,
    "start_time": "2022-08-01T12:19:15.416Z"
   },
   {
    "duration": 8,
    "start_time": "2022-08-01T12:19:17.639Z"
   },
   {
    "duration": 7,
    "start_time": "2022-08-01T12:20:22.177Z"
   },
   {
    "duration": 7,
    "start_time": "2022-08-01T12:20:35.254Z"
   },
   {
    "duration": 7,
    "start_time": "2022-08-01T12:20:59.786Z"
   },
   {
    "duration": 9,
    "start_time": "2022-08-01T12:21:06.008Z"
   },
   {
    "duration": 5,
    "start_time": "2022-08-01T12:23:07.032Z"
   },
   {
    "duration": 21,
    "start_time": "2022-08-01T12:23:09.186Z"
   },
   {
    "duration": 19,
    "start_time": "2022-08-01T12:23:12.903Z"
   },
   {
    "duration": 21,
    "start_time": "2022-08-01T12:23:15.704Z"
   },
   {
    "duration": 19,
    "start_time": "2022-08-01T12:23:17.847Z"
   },
   {
    "duration": 19,
    "start_time": "2022-08-01T12:23:20.087Z"
   },
   {
    "duration": 18,
    "start_time": "2022-08-01T12:23:22.571Z"
   },
   {
    "duration": 7,
    "start_time": "2022-08-01T12:23:28.860Z"
   },
   {
    "duration": 338,
    "start_time": "2022-08-03T04:50:02.252Z"
   },
   {
    "duration": 302,
    "start_time": "2022-08-03T04:50:02.591Z"
   },
   {
    "duration": 8,
    "start_time": "2022-08-03T04:50:02.895Z"
   },
   {
    "duration": 26,
    "start_time": "2022-08-03T04:50:02.904Z"
   },
   {
    "duration": 17,
    "start_time": "2022-08-03T04:50:02.932Z"
   },
   {
    "duration": 13,
    "start_time": "2022-08-03T04:50:02.950Z"
   },
   {
    "duration": 26,
    "start_time": "2022-08-03T04:50:02.964Z"
   },
   {
    "duration": 39,
    "start_time": "2022-08-03T04:50:02.991Z"
   },
   {
    "duration": 15,
    "start_time": "2022-08-03T04:50:03.031Z"
   },
   {
    "duration": 48,
    "start_time": "2022-08-03T04:50:03.048Z"
   },
   {
    "duration": 58,
    "start_time": "2022-08-03T04:50:03.097Z"
   },
   {
    "duration": 121,
    "start_time": "2022-08-03T04:50:03.157Z"
   },
   {
    "duration": 53,
    "start_time": "2022-08-03T04:50:03.280Z"
   },
   {
    "duration": 41,
    "start_time": "2022-08-03T04:50:03.335Z"
   },
   {
    "duration": 3,
    "start_time": "2022-08-03T04:50:03.377Z"
   },
   {
    "duration": 6,
    "start_time": "2022-08-03T04:50:03.381Z"
   },
   {
    "duration": 16,
    "start_time": "2022-08-03T04:50:03.400Z"
   },
   {
    "duration": 32,
    "start_time": "2022-08-03T04:50:03.418Z"
   },
   {
    "duration": 26,
    "start_time": "2022-08-03T04:50:03.452Z"
   },
   {
    "duration": 3,
    "start_time": "2022-08-03T04:50:03.480Z"
   },
   {
    "duration": 18,
    "start_time": "2022-08-03T04:50:03.484Z"
   },
   {
    "duration": 8,
    "start_time": "2022-08-03T04:50:03.503Z"
   },
   {
    "duration": 27,
    "start_time": "2022-08-03T04:50:03.512Z"
   },
   {
    "duration": 18,
    "start_time": "2022-08-03T04:50:03.540Z"
   },
   {
    "duration": 18,
    "start_time": "2022-08-03T04:50:03.559Z"
   },
   {
    "duration": 32,
    "start_time": "2022-08-03T04:50:03.578Z"
   },
   {
    "duration": 19,
    "start_time": "2022-08-03T04:50:03.611Z"
   },
   {
    "duration": 25,
    "start_time": "2022-08-03T04:50:03.633Z"
   },
   {
    "duration": 74,
    "start_time": "2022-08-03T04:50:03.660Z"
   },
   {
    "duration": 0,
    "start_time": "2022-08-03T04:50:03.736Z"
   },
   {
    "duration": 0,
    "start_time": "2022-08-03T04:50:03.737Z"
   },
   {
    "duration": 0,
    "start_time": "2022-08-03T04:50:03.738Z"
   },
   {
    "duration": 0,
    "start_time": "2022-08-03T04:50:03.740Z"
   },
   {
    "duration": 0,
    "start_time": "2022-08-03T04:50:03.741Z"
   },
   {
    "duration": 0,
    "start_time": "2022-08-03T04:50:03.742Z"
   },
   {
    "duration": 0,
    "start_time": "2022-08-03T04:50:03.744Z"
   },
   {
    "duration": 0,
    "start_time": "2022-08-03T04:50:03.745Z"
   },
   {
    "duration": 0,
    "start_time": "2022-08-03T04:50:03.746Z"
   },
   {
    "duration": 0,
    "start_time": "2022-08-03T04:50:03.747Z"
   },
   {
    "duration": 0,
    "start_time": "2022-08-03T04:50:03.749Z"
   },
   {
    "duration": 7,
    "start_time": "2022-08-03T04:53:08.318Z"
   },
   {
    "duration": 433,
    "start_time": "2022-08-10T19:11:52.472Z"
   },
   {
    "duration": 379,
    "start_time": "2022-08-10T19:11:52.907Z"
   },
   {
    "duration": 6,
    "start_time": "2022-08-10T19:11:53.288Z"
   },
   {
    "duration": 8,
    "start_time": "2022-08-10T19:11:53.296Z"
   },
   {
    "duration": 6,
    "start_time": "2022-08-10T19:11:53.307Z"
   },
   {
    "duration": 19,
    "start_time": "2022-08-10T19:11:53.314Z"
   },
   {
    "duration": 10,
    "start_time": "2022-08-10T19:11:53.334Z"
   },
   {
    "duration": 35,
    "start_time": "2022-08-10T19:11:53.360Z"
   },
   {
    "duration": 14,
    "start_time": "2022-08-10T19:11:53.397Z"
   },
   {
    "duration": 31,
    "start_time": "2022-08-10T19:11:53.413Z"
   },
   {
    "duration": 98,
    "start_time": "2022-08-10T19:11:53.461Z"
   },
   {
    "duration": 151,
    "start_time": "2022-08-10T19:11:53.562Z"
   },
   {
    "duration": 62,
    "start_time": "2022-08-10T19:11:53.715Z"
   },
   {
    "duration": 46,
    "start_time": "2022-08-10T19:11:53.780Z"
   },
   {
    "duration": 26,
    "start_time": "2022-08-10T19:11:53.828Z"
   },
   {
    "duration": 11,
    "start_time": "2022-08-10T19:11:53.856Z"
   },
   {
    "duration": 19,
    "start_time": "2022-08-10T19:11:53.869Z"
   },
   {
    "duration": 25,
    "start_time": "2022-08-10T19:11:53.890Z"
   },
   {
    "duration": 29,
    "start_time": "2022-08-10T19:11:53.917Z"
   },
   {
    "duration": 11,
    "start_time": "2022-08-10T19:11:53.948Z"
   },
   {
    "duration": 26,
    "start_time": "2022-08-10T19:11:53.961Z"
   },
   {
    "duration": 10,
    "start_time": "2022-08-10T19:11:53.989Z"
   },
   {
    "duration": 25,
    "start_time": "2022-08-10T19:11:54.002Z"
   },
   {
    "duration": 17,
    "start_time": "2022-08-10T19:11:54.029Z"
   },
   {
    "duration": 122,
    "start_time": "2022-08-10T19:11:54.059Z"
   },
   {
    "duration": 55,
    "start_time": "2022-08-10T19:11:54.183Z"
   },
   {
    "duration": 14,
    "start_time": "2022-08-10T19:11:54.239Z"
   },
   {
    "duration": 15,
    "start_time": "2022-08-10T19:11:54.255Z"
   },
   {
    "duration": 96,
    "start_time": "2022-08-10T19:11:54.271Z"
   },
   {
    "duration": 0,
    "start_time": "2022-08-10T19:11:54.372Z"
   },
   {
    "duration": 0,
    "start_time": "2022-08-10T19:11:54.376Z"
   },
   {
    "duration": 0,
    "start_time": "2022-08-10T19:11:54.377Z"
   },
   {
    "duration": 0,
    "start_time": "2022-08-10T19:11:54.380Z"
   },
   {
    "duration": 1,
    "start_time": "2022-08-10T19:11:54.383Z"
   },
   {
    "duration": 0,
    "start_time": "2022-08-10T19:11:54.385Z"
   },
   {
    "duration": 0,
    "start_time": "2022-08-10T19:11:54.386Z"
   },
   {
    "duration": 0,
    "start_time": "2022-08-10T19:11:54.387Z"
   },
   {
    "duration": 0,
    "start_time": "2022-08-10T19:11:54.388Z"
   },
   {
    "duration": 0,
    "start_time": "2022-08-10T19:11:54.389Z"
   },
   {
    "duration": 0,
    "start_time": "2022-08-10T19:11:54.390Z"
   },
   {
    "duration": 10,
    "start_time": "2022-08-10T19:16:39.916Z"
   },
   {
    "duration": 42,
    "start_time": "2022-08-12T19:33:32.684Z"
   },
   {
    "duration": 6,
    "start_time": "2022-08-12T19:33:39.007Z"
   },
   {
    "duration": 398,
    "start_time": "2022-08-12T19:33:52.080Z"
   },
   {
    "duration": 554,
    "start_time": "2022-08-12T19:33:52.480Z"
   },
   {
    "duration": 6,
    "start_time": "2022-08-12T19:33:53.035Z"
   },
   {
    "duration": 8,
    "start_time": "2022-08-12T19:33:53.042Z"
   },
   {
    "duration": 4,
    "start_time": "2022-08-12T19:33:53.055Z"
   },
   {
    "duration": 7,
    "start_time": "2022-08-12T19:33:53.060Z"
   },
   {
    "duration": 13,
    "start_time": "2022-08-12T19:33:53.068Z"
   },
   {
    "duration": 32,
    "start_time": "2022-08-12T19:33:53.082Z"
   },
   {
    "duration": 12,
    "start_time": "2022-08-12T19:33:53.116Z"
   },
   {
    "duration": 41,
    "start_time": "2022-08-12T19:33:53.130Z"
   },
   {
    "duration": 60,
    "start_time": "2022-08-12T19:33:53.173Z"
   },
   {
    "duration": 124,
    "start_time": "2022-08-12T19:33:53.235Z"
   },
   {
    "duration": 49,
    "start_time": "2022-08-12T19:33:53.361Z"
   },
   {
    "duration": 50,
    "start_time": "2022-08-12T19:33:53.412Z"
   },
   {
    "duration": 4,
    "start_time": "2022-08-12T19:33:53.463Z"
   },
   {
    "duration": 5,
    "start_time": "2022-08-12T19:33:53.468Z"
   },
   {
    "duration": 7,
    "start_time": "2022-08-12T19:33:53.475Z"
   },
   {
    "duration": 16,
    "start_time": "2022-08-12T19:33:53.484Z"
   },
   {
    "duration": 22,
    "start_time": "2022-08-12T19:33:53.501Z"
   },
   {
    "duration": 3,
    "start_time": "2022-08-12T19:33:53.524Z"
   },
   {
    "duration": 33,
    "start_time": "2022-08-12T19:33:53.528Z"
   },
   {
    "duration": 6,
    "start_time": "2022-08-12T19:33:53.563Z"
   },
   {
    "duration": 15,
    "start_time": "2022-08-12T19:33:53.570Z"
   },
   {
    "duration": 12,
    "start_time": "2022-08-12T19:33:53.586Z"
   },
   {
    "duration": 13,
    "start_time": "2022-08-12T19:33:53.599Z"
   },
   {
    "duration": 12,
    "start_time": "2022-08-12T19:33:53.613Z"
   },
   {
    "duration": 14,
    "start_time": "2022-08-12T19:33:53.655Z"
   },
   {
    "duration": 11,
    "start_time": "2022-08-12T19:33:53.670Z"
   },
   {
    "duration": 8,
    "start_time": "2022-08-12T19:33:53.683Z"
   },
   {
    "duration": 85,
    "start_time": "2022-08-12T19:33:53.692Z"
   },
   {
    "duration": 0,
    "start_time": "2022-08-12T19:33:53.779Z"
   },
   {
    "duration": 0,
    "start_time": "2022-08-12T19:33:53.780Z"
   },
   {
    "duration": 0,
    "start_time": "2022-08-12T19:33:53.781Z"
   },
   {
    "duration": 0,
    "start_time": "2022-08-12T19:33:53.782Z"
   },
   {
    "duration": 0,
    "start_time": "2022-08-12T19:33:53.783Z"
   },
   {
    "duration": 0,
    "start_time": "2022-08-12T19:33:53.784Z"
   },
   {
    "duration": 0,
    "start_time": "2022-08-12T19:33:53.785Z"
   },
   {
    "duration": 0,
    "start_time": "2022-08-12T19:33:53.786Z"
   },
   {
    "duration": 0,
    "start_time": "2022-08-12T19:33:53.787Z"
   },
   {
    "duration": 0,
    "start_time": "2022-08-12T19:33:53.788Z"
   },
   {
    "duration": 9,
    "start_time": "2022-08-12T19:34:07.766Z"
   },
   {
    "duration": 7,
    "start_time": "2022-08-12T19:34:17.232Z"
   },
   {
    "duration": 7,
    "start_time": "2022-08-12T19:34:39.246Z"
   },
   {
    "duration": 6,
    "start_time": "2022-08-12T19:34:45.110Z"
   },
   {
    "duration": 6,
    "start_time": "2022-08-12T19:35:09.754Z"
   },
   {
    "duration": 5079,
    "start_time": "2022-08-12T19:35:16.403Z"
   },
   {
    "duration": 1627,
    "start_time": "2022-08-12T19:36:08.833Z"
   },
   {
    "duration": 14,
    "start_time": "2022-08-12T19:38:42.356Z"
   },
   {
    "duration": 10,
    "start_time": "2022-08-12T19:38:50.529Z"
   },
   {
    "duration": 9,
    "start_time": "2022-08-12T19:39:00.305Z"
   },
   {
    "duration": 10,
    "start_time": "2022-08-12T19:48:33.971Z"
   },
   {
    "duration": 12,
    "start_time": "2022-08-12T19:51:33.886Z"
   },
   {
    "duration": 9,
    "start_time": "2022-08-12T19:52:05.587Z"
   },
   {
    "duration": 72,
    "start_time": "2022-08-12T20:08:27.280Z"
   },
   {
    "duration": 78,
    "start_time": "2022-08-12T20:08:45.861Z"
   },
   {
    "duration": 82,
    "start_time": "2022-08-12T20:08:50.901Z"
   },
   {
    "duration": 80,
    "start_time": "2022-08-12T20:09:17.299Z"
   },
   {
    "duration": 75,
    "start_time": "2022-08-12T20:13:58.245Z"
   },
   {
    "duration": 90,
    "start_time": "2022-08-12T20:16:46.399Z"
   },
   {
    "duration": 4,
    "start_time": "2022-08-12T20:17:03.853Z"
   },
   {
    "duration": 12,
    "start_time": "2022-08-12T20:17:10.049Z"
   },
   {
    "duration": 10,
    "start_time": "2022-08-12T20:21:10.225Z"
   },
   {
    "duration": 11,
    "start_time": "2022-08-12T20:21:58.137Z"
   },
   {
    "duration": 10,
    "start_time": "2022-08-12T20:22:54.393Z"
   },
   {
    "duration": 17,
    "start_time": "2022-08-12T21:10:25.844Z"
   },
   {
    "duration": 78,
    "start_time": "2022-08-12T21:12:21.094Z"
   },
   {
    "duration": 9,
    "start_time": "2022-08-12T21:12:59.292Z"
   },
   {
    "duration": 9,
    "start_time": "2022-08-12T21:14:17.511Z"
   },
   {
    "duration": 9,
    "start_time": "2022-08-13T02:34:25.553Z"
   },
   {
    "duration": 9,
    "start_time": "2022-08-13T02:34:32.400Z"
   },
   {
    "duration": 11,
    "start_time": "2022-08-13T02:35:06.870Z"
   },
   {
    "duration": 13,
    "start_time": "2022-08-13T02:35:14.472Z"
   },
   {
    "duration": 1700,
    "start_time": "2022-08-13T02:35:28.726Z"
   },
   {
    "duration": 49,
    "start_time": "2022-08-14T03:08:48.027Z"
   },
   {
    "duration": 8,
    "start_time": "2022-08-14T03:08:56.685Z"
   },
   {
    "duration": 8,
    "start_time": "2022-08-14T03:09:10.628Z"
   },
   {
    "duration": 8,
    "start_time": "2022-08-14T03:09:20.598Z"
   },
   {
    "duration": 396,
    "start_time": "2022-08-14T03:09:31.795Z"
   },
   {
    "duration": 379,
    "start_time": "2022-08-14T03:09:32.193Z"
   },
   {
    "duration": 8,
    "start_time": "2022-08-14T03:09:32.574Z"
   },
   {
    "duration": 13,
    "start_time": "2022-08-14T03:09:32.584Z"
   },
   {
    "duration": 14,
    "start_time": "2022-08-14T03:09:32.600Z"
   },
   {
    "duration": 22,
    "start_time": "2022-08-14T03:09:32.615Z"
   },
   {
    "duration": 15,
    "start_time": "2022-08-14T03:09:32.639Z"
   },
   {
    "duration": 41,
    "start_time": "2022-08-14T03:09:32.656Z"
   },
   {
    "duration": 48,
    "start_time": "2022-08-14T03:09:32.699Z"
   },
   {
    "duration": 46,
    "start_time": "2022-08-14T03:09:32.748Z"
   },
   {
    "duration": 69,
    "start_time": "2022-08-14T03:09:32.796Z"
   },
   {
    "duration": 124,
    "start_time": "2022-08-14T03:09:32.867Z"
   },
   {
    "duration": 61,
    "start_time": "2022-08-14T03:09:32.992Z"
   },
   {
    "duration": 42,
    "start_time": "2022-08-14T03:09:33.056Z"
   },
   {
    "duration": 23,
    "start_time": "2022-08-14T03:09:33.099Z"
   },
   {
    "duration": 3,
    "start_time": "2022-08-14T03:09:33.124Z"
   },
   {
    "duration": 11,
    "start_time": "2022-08-14T03:09:33.128Z"
   },
   {
    "duration": 16,
    "start_time": "2022-08-14T03:09:33.141Z"
   },
   {
    "duration": 24,
    "start_time": "2022-08-14T03:09:33.159Z"
   },
   {
    "duration": 4,
    "start_time": "2022-08-14T03:09:33.185Z"
   },
   {
    "duration": 13,
    "start_time": "2022-08-14T03:09:33.221Z"
   },
   {
    "duration": 3,
    "start_time": "2022-08-14T03:09:33.236Z"
   },
   {
    "duration": 15,
    "start_time": "2022-08-14T03:09:33.241Z"
   },
   {
    "duration": 11,
    "start_time": "2022-08-14T03:09:33.258Z"
   },
   {
    "duration": 12,
    "start_time": "2022-08-14T03:09:33.270Z"
   },
   {
    "duration": 40,
    "start_time": "2022-08-14T03:09:33.283Z"
   },
   {
    "duration": 13,
    "start_time": "2022-08-14T03:09:33.325Z"
   },
   {
    "duration": 11,
    "start_time": "2022-08-14T03:09:33.340Z"
   },
   {
    "duration": 7,
    "start_time": "2022-08-14T03:09:33.353Z"
   },
   {
    "duration": 11,
    "start_time": "2022-08-14T03:09:33.361Z"
   },
   {
    "duration": 13,
    "start_time": "2022-08-14T03:09:33.374Z"
   },
   {
    "duration": 2150,
    "start_time": "2022-08-14T03:09:33.388Z"
   },
   {
    "duration": 76,
    "start_time": "2022-08-14T03:09:35.540Z"
   },
   {
    "duration": 0,
    "start_time": "2022-08-14T03:09:35.622Z"
   },
   {
    "duration": 0,
    "start_time": "2022-08-14T03:09:35.624Z"
   },
   {
    "duration": 0,
    "start_time": "2022-08-14T03:09:35.626Z"
   },
   {
    "duration": 0,
    "start_time": "2022-08-14T03:09:35.627Z"
   },
   {
    "duration": 0,
    "start_time": "2022-08-14T03:09:35.629Z"
   },
   {
    "duration": 0,
    "start_time": "2022-08-14T03:09:35.630Z"
   },
   {
    "duration": 0,
    "start_time": "2022-08-14T03:09:35.631Z"
   },
   {
    "duration": 8,
    "start_time": "2022-08-14T03:09:40.124Z"
   },
   {
    "duration": 19,
    "start_time": "2022-08-14T03:10:28.658Z"
   },
   {
    "duration": 19,
    "start_time": "2022-08-14T03:11:25.953Z"
   },
   {
    "duration": 53,
    "start_time": "2022-08-14T03:11:33.171Z"
   },
   {
    "duration": 18,
    "start_time": "2022-08-14T03:11:35.453Z"
   },
   {
    "duration": 406,
    "start_time": "2022-08-14T20:31:47.626Z"
   },
   {
    "duration": 345,
    "start_time": "2022-08-14T20:31:48.034Z"
   },
   {
    "duration": 6,
    "start_time": "2022-08-14T20:31:48.381Z"
   },
   {
    "duration": 7,
    "start_time": "2022-08-14T20:31:48.389Z"
   },
   {
    "duration": 6,
    "start_time": "2022-08-14T20:31:48.397Z"
   },
   {
    "duration": 5,
    "start_time": "2022-08-14T20:31:48.404Z"
   },
   {
    "duration": 12,
    "start_time": "2022-08-14T20:31:48.411Z"
   },
   {
    "duration": 27,
    "start_time": "2022-08-14T20:31:48.425Z"
   },
   {
    "duration": 43,
    "start_time": "2022-08-14T20:31:48.454Z"
   },
   {
    "duration": 23,
    "start_time": "2022-08-14T20:31:48.501Z"
   },
   {
    "duration": 80,
    "start_time": "2022-08-14T20:31:48.526Z"
   },
   {
    "duration": 134,
    "start_time": "2022-08-14T20:31:48.608Z"
   },
   {
    "duration": 64,
    "start_time": "2022-08-14T20:31:48.743Z"
   },
   {
    "duration": 50,
    "start_time": "2022-08-14T20:31:48.809Z"
   },
   {
    "duration": 3,
    "start_time": "2022-08-14T20:31:48.861Z"
   },
   {
    "duration": 20,
    "start_time": "2022-08-14T20:31:48.866Z"
   },
   {
    "duration": 9,
    "start_time": "2022-08-14T20:31:48.888Z"
   },
   {
    "duration": 21,
    "start_time": "2022-08-14T20:31:48.899Z"
   },
   {
    "duration": 24,
    "start_time": "2022-08-14T20:31:48.921Z"
   },
   {
    "duration": 4,
    "start_time": "2022-08-14T20:31:48.946Z"
   },
   {
    "duration": 45,
    "start_time": "2022-08-14T20:31:48.952Z"
   },
   {
    "duration": 5,
    "start_time": "2022-08-14T20:31:48.999Z"
   },
   {
    "duration": 23,
    "start_time": "2022-08-14T20:31:49.006Z"
   },
   {
    "duration": 13,
    "start_time": "2022-08-14T20:31:49.031Z"
   },
   {
    "duration": 13,
    "start_time": "2022-08-14T20:31:49.045Z"
   },
   {
    "duration": 35,
    "start_time": "2022-08-14T20:31:49.060Z"
   },
   {
    "duration": 14,
    "start_time": "2022-08-14T20:31:49.097Z"
   },
   {
    "duration": 13,
    "start_time": "2022-08-14T20:31:49.114Z"
   },
   {
    "duration": 8,
    "start_time": "2022-08-14T20:31:49.129Z"
   },
   {
    "duration": 18,
    "start_time": "2022-08-14T20:31:49.138Z"
   },
   {
    "duration": 39,
    "start_time": "2022-08-14T20:31:49.158Z"
   },
   {
    "duration": 31,
    "start_time": "2022-08-14T20:32:11.184Z"
   },
   {
    "duration": 23,
    "start_time": "2022-08-14T20:32:58.574Z"
   },
   {
    "duration": 54,
    "start_time": "2022-08-14T20:33:01.717Z"
   },
   {
    "duration": 15,
    "start_time": "2022-08-14T20:33:03.818Z"
   },
   {
    "duration": 61,
    "start_time": "2022-08-14T20:34:47.120Z"
   },
   {
    "duration": 28,
    "start_time": "2022-08-14T20:34:49.968Z"
   },
   {
    "duration": 70,
    "start_time": "2022-08-14T20:55:05.240Z"
   },
   {
    "duration": 8,
    "start_time": "2022-08-14T20:55:08.667Z"
   },
   {
    "duration": 31,
    "start_time": "2022-08-14T20:55:20.524Z"
   },
   {
    "duration": 28,
    "start_time": "2022-08-14T20:55:35.245Z"
   },
   {
    "duration": 6,
    "start_time": "2022-08-14T20:55:37.812Z"
   },
   {
    "duration": 22,
    "start_time": "2022-08-14T20:56:11.387Z"
   },
   {
    "duration": 5,
    "start_time": "2022-08-14T20:56:27.574Z"
   },
   {
    "duration": 437,
    "start_time": "2022-08-15T16:23:58.808Z"
   },
   {
    "duration": 362,
    "start_time": "2022-08-15T16:23:59.252Z"
   },
   {
    "duration": 6,
    "start_time": "2022-08-15T16:23:59.616Z"
   },
   {
    "duration": 14,
    "start_time": "2022-08-15T16:23:59.623Z"
   },
   {
    "duration": 19,
    "start_time": "2022-08-15T16:23:59.640Z"
   },
   {
    "duration": 6,
    "start_time": "2022-08-15T16:23:59.661Z"
   },
   {
    "duration": 11,
    "start_time": "2022-08-15T16:23:59.669Z"
   },
   {
    "duration": 37,
    "start_time": "2022-08-15T16:23:59.682Z"
   },
   {
    "duration": 24,
    "start_time": "2022-08-15T16:23:59.721Z"
   },
   {
    "duration": 35,
    "start_time": "2022-08-15T16:23:59.746Z"
   },
   {
    "duration": 67,
    "start_time": "2022-08-15T16:23:59.783Z"
   },
   {
    "duration": 141,
    "start_time": "2022-08-15T16:23:59.857Z"
   },
   {
    "duration": 62,
    "start_time": "2022-08-15T16:23:59.999Z"
   },
   {
    "duration": 44,
    "start_time": "2022-08-15T16:24:00.064Z"
   },
   {
    "duration": 2,
    "start_time": "2022-08-15T16:24:00.110Z"
   },
   {
    "duration": 13,
    "start_time": "2022-08-15T16:24:00.114Z"
   },
   {
    "duration": 48,
    "start_time": "2022-08-15T16:24:00.129Z"
   },
   {
    "duration": 29,
    "start_time": "2022-08-15T16:24:00.178Z"
   },
   {
    "duration": 27,
    "start_time": "2022-08-15T16:24:00.209Z"
   },
   {
    "duration": 18,
    "start_time": "2022-08-15T16:24:00.237Z"
   },
   {
    "duration": 18,
    "start_time": "2022-08-15T16:24:00.257Z"
   },
   {
    "duration": 25,
    "start_time": "2022-08-15T16:24:00.276Z"
   },
   {
    "duration": 69,
    "start_time": "2022-08-15T16:24:00.302Z"
   },
   {
    "duration": 42,
    "start_time": "2022-08-15T16:24:00.373Z"
   },
   {
    "duration": 44,
    "start_time": "2022-08-15T16:24:00.417Z"
   },
   {
    "duration": 26,
    "start_time": "2022-08-15T16:24:00.463Z"
   },
   {
    "duration": 17,
    "start_time": "2022-08-15T16:24:00.491Z"
   },
   {
    "duration": 26,
    "start_time": "2022-08-15T16:24:00.509Z"
   },
   {
    "duration": 30,
    "start_time": "2022-08-15T16:24:00.536Z"
   },
   {
    "duration": 27,
    "start_time": "2022-08-15T16:24:00.567Z"
   },
   {
    "duration": 25,
    "start_time": "2022-08-15T16:24:00.595Z"
   },
   {
    "duration": 1947,
    "start_time": "2022-08-15T16:24:00.622Z"
   },
   {
    "duration": 52,
    "start_time": "2022-08-15T16:24:02.570Z"
   },
   {
    "duration": 45,
    "start_time": "2022-08-15T16:24:02.624Z"
   },
   {
    "duration": 38,
    "start_time": "2022-08-15T16:24:02.671Z"
   },
   {
    "duration": 39,
    "start_time": "2022-08-15T16:24:02.711Z"
   },
   {
    "duration": 28,
    "start_time": "2022-08-15T16:24:02.751Z"
   },
   {
    "duration": 5,
    "start_time": "2022-08-15T16:24:02.781Z"
   },
   {
    "duration": 26,
    "start_time": "2022-08-15T16:24:02.787Z"
   },
   {
    "duration": 7,
    "start_time": "2022-08-15T16:24:02.814Z"
   },
   {
    "duration": 52,
    "start_time": "2022-08-15T16:49:27.641Z"
   },
   {
    "duration": 27,
    "start_time": "2022-08-15T16:49:27.999Z"
   },
   {
    "duration": 42,
    "start_time": "2022-08-20T22:24:32.429Z"
   },
   {
    "duration": 388,
    "start_time": "2022-08-20T22:24:36.656Z"
   },
   {
    "duration": 360,
    "start_time": "2022-08-20T22:24:37.047Z"
   },
   {
    "duration": 6,
    "start_time": "2022-08-20T22:24:37.409Z"
   },
   {
    "duration": 9,
    "start_time": "2022-08-20T22:24:37.418Z"
   },
   {
    "duration": 14,
    "start_time": "2022-08-20T22:24:37.429Z"
   },
   {
    "duration": 6,
    "start_time": "2022-08-20T22:24:37.445Z"
   },
   {
    "duration": 13,
    "start_time": "2022-08-20T22:24:37.452Z"
   },
   {
    "duration": 42,
    "start_time": "2022-08-20T22:24:37.467Z"
   },
   {
    "duration": 13,
    "start_time": "2022-08-20T22:24:37.511Z"
   },
   {
    "duration": 21,
    "start_time": "2022-08-20T22:24:37.527Z"
   },
   {
    "duration": 84,
    "start_time": "2022-08-20T22:24:37.550Z"
   },
   {
    "duration": 148,
    "start_time": "2022-08-20T22:24:37.636Z"
   },
   {
    "duration": 60,
    "start_time": "2022-08-20T22:24:37.785Z"
   },
   {
    "duration": 53,
    "start_time": "2022-08-20T22:24:37.847Z"
   },
   {
    "duration": 3,
    "start_time": "2022-08-20T22:24:37.902Z"
   },
   {
    "duration": 8,
    "start_time": "2022-08-20T22:24:37.907Z"
   },
   {
    "duration": 14,
    "start_time": "2022-08-20T22:24:37.917Z"
   },
   {
    "duration": 21,
    "start_time": "2022-08-20T22:24:37.932Z"
   },
   {
    "duration": 46,
    "start_time": "2022-08-20T22:24:37.954Z"
   },
   {
    "duration": 4,
    "start_time": "2022-08-20T22:24:38.002Z"
   },
   {
    "duration": 14,
    "start_time": "2022-08-20T22:24:38.008Z"
   },
   {
    "duration": 4,
    "start_time": "2022-08-20T22:24:38.024Z"
   },
   {
    "duration": 21,
    "start_time": "2022-08-20T22:24:38.030Z"
   },
   {
    "duration": 13,
    "start_time": "2022-08-20T22:24:38.052Z"
   },
   {
    "duration": 41,
    "start_time": "2022-08-20T22:24:38.067Z"
   },
   {
    "duration": 22,
    "start_time": "2022-08-20T22:24:38.110Z"
   },
   {
    "duration": 21,
    "start_time": "2022-08-20T22:24:38.134Z"
   },
   {
    "duration": 16,
    "start_time": "2022-08-20T22:24:38.159Z"
   },
   {
    "duration": 12,
    "start_time": "2022-08-20T22:24:38.207Z"
   },
   {
    "duration": 22,
    "start_time": "2022-08-20T22:24:38.221Z"
   },
   {
    "duration": 13,
    "start_time": "2022-08-20T22:24:38.245Z"
   },
   {
    "duration": 2096,
    "start_time": "2022-08-20T22:24:38.260Z"
   },
   {
    "duration": 72,
    "start_time": "2022-08-20T22:24:40.358Z"
   },
   {
    "duration": 31,
    "start_time": "2022-08-20T22:24:40.433Z"
   },
   {
    "duration": 54,
    "start_time": "2022-08-20T22:24:40.466Z"
   },
   {
    "duration": 26,
    "start_time": "2022-08-20T22:24:40.522Z"
   },
   {
    "duration": 52,
    "start_time": "2022-08-20T22:24:40.549Z"
   },
   {
    "duration": 6,
    "start_time": "2022-08-20T22:24:40.603Z"
   },
   {
    "duration": 24,
    "start_time": "2022-08-20T22:24:40.610Z"
   },
   {
    "duration": 5,
    "start_time": "2022-08-20T22:24:40.636Z"
   },
   {
    "duration": 66,
    "start_time": "2022-08-20T22:59:25.190Z"
   },
   {
    "duration": 3294,
    "start_time": "2022-08-20T23:00:30.313Z"
   },
   {
    "duration": 981,
    "start_time": "2022-08-20T23:01:39.735Z"
   },
   {
    "duration": 39,
    "start_time": "2022-08-20T23:02:31.436Z"
   },
   {
    "duration": 26,
    "start_time": "2022-08-20T23:02:45.676Z"
   },
   {
    "duration": 22,
    "start_time": "2022-08-20T23:04:41.034Z"
   },
   {
    "duration": 25,
    "start_time": "2022-08-20T23:04:43.414Z"
   },
   {
    "duration": 7,
    "start_time": "2022-08-21T00:58:26.661Z"
   },
   {
    "duration": 7,
    "start_time": "2022-08-21T00:58:49.103Z"
   },
   {
    "duration": 25,
    "start_time": "2022-08-21T01:27:16.168Z"
   },
   {
    "duration": 31,
    "start_time": "2022-08-21T01:27:18.679Z"
   },
   {
    "duration": 24,
    "start_time": "2022-08-21T01:27:30.815Z"
   },
   {
    "duration": 19,
    "start_time": "2022-08-21T01:28:06.427Z"
   },
   {
    "duration": 34,
    "start_time": "2022-08-21T01:28:08.159Z"
   },
   {
    "duration": 65,
    "start_time": "2022-08-21T01:32:26.364Z"
   },
   {
    "duration": 30,
    "start_time": "2022-08-21T01:32:28.628Z"
   },
   {
    "duration": 24,
    "start_time": "2022-08-21T01:51:32.814Z"
   },
   {
    "duration": 42,
    "start_time": "2022-08-21T01:51:35.128Z"
   },
   {
    "duration": 24,
    "start_time": "2022-08-21T01:52:07.811Z"
   },
   {
    "duration": 25,
    "start_time": "2022-08-21T01:52:19.128Z"
   },
   {
    "duration": 66,
    "start_time": "2022-08-21T01:52:21.413Z"
   },
   {
    "duration": 11,
    "start_time": "2022-08-21T01:57:06.478Z"
   },
   {
    "duration": 40,
    "start_time": "2022-08-21T01:58:26.091Z"
   },
   {
    "duration": 5,
    "start_time": "2022-08-21T01:58:28.093Z"
   },
   {
    "duration": 30,
    "start_time": "2022-08-21T01:58:35.821Z"
   },
   {
    "duration": 6,
    "start_time": "2022-08-21T01:58:37.467Z"
   },
   {
    "duration": 14,
    "start_time": "2022-08-21T01:58:56.325Z"
   },
   {
    "duration": 5,
    "start_time": "2022-08-21T01:59:00.091Z"
   },
   {
    "duration": 13,
    "start_time": "2022-08-21T01:59:24.760Z"
   },
   {
    "duration": 4,
    "start_time": "2022-08-21T01:59:26.717Z"
   },
   {
    "duration": 48,
    "start_time": "2022-08-21T04:53:37.049Z"
   },
   {
    "duration": 32,
    "start_time": "2022-08-21T04:53:40.224Z"
   },
   {
    "duration": 92,
    "start_time": "2022-08-21T04:53:41.728Z"
   },
   {
    "duration": 28,
    "start_time": "2022-08-21T04:54:35.490Z"
   },
   {
    "duration": 106,
    "start_time": "2022-08-21T04:54:37.556Z"
   },
   {
    "duration": 29,
    "start_time": "2022-08-21T04:55:41.228Z"
   },
   {
    "duration": 40,
    "start_time": "2022-08-21T04:55:42.923Z"
   },
   {
    "duration": 28,
    "start_time": "2022-08-21T05:00:08.752Z"
   },
   {
    "duration": 57,
    "start_time": "2022-08-21T05:00:11.360Z"
   },
   {
    "duration": 40,
    "start_time": "2022-08-21T05:00:41.320Z"
   },
   {
    "duration": 59,
    "start_time": "2022-08-21T05:00:43.361Z"
   },
   {
    "duration": 30,
    "start_time": "2022-08-21T05:01:09.620Z"
   },
   {
    "duration": 79,
    "start_time": "2022-08-21T05:01:11.828Z"
   },
   {
    "duration": 51,
    "start_time": "2022-08-21T05:02:35.200Z"
   },
   {
    "duration": 33,
    "start_time": "2022-08-21T05:03:37.889Z"
   },
   {
    "duration": 70,
    "start_time": "2022-08-21T05:03:39.751Z"
   },
   {
    "duration": 80,
    "start_time": "2022-08-21T05:04:12.743Z"
   },
   {
    "duration": 60,
    "start_time": "2022-08-21T05:04:14.528Z"
   },
   {
    "duration": 39,
    "start_time": "2022-08-21T05:04:26.794Z"
   },
   {
    "duration": 32,
    "start_time": "2022-08-21T05:04:28.946Z"
   },
   {
    "duration": 446,
    "start_time": "2022-08-21T05:05:12.678Z"
   },
   {
    "duration": 395,
    "start_time": "2022-08-21T05:05:13.127Z"
   },
   {
    "duration": 11,
    "start_time": "2022-08-21T05:05:13.524Z"
   },
   {
    "duration": 58,
    "start_time": "2022-08-21T05:05:13.537Z"
   },
   {
    "duration": 77,
    "start_time": "2022-08-21T05:05:13.599Z"
   },
   {
    "duration": 12,
    "start_time": "2022-08-21T05:05:13.678Z"
   },
   {
    "duration": 24,
    "start_time": "2022-08-21T05:05:13.692Z"
   },
   {
    "duration": 80,
    "start_time": "2022-08-21T05:05:13.718Z"
   },
   {
    "duration": 66,
    "start_time": "2022-08-21T05:05:13.805Z"
   },
   {
    "duration": 73,
    "start_time": "2022-08-21T05:05:13.876Z"
   },
   {
    "duration": 115,
    "start_time": "2022-08-21T05:05:13.956Z"
   },
   {
    "duration": 216,
    "start_time": "2022-08-21T05:05:14.073Z"
   },
   {
    "duration": 98,
    "start_time": "2022-08-21T05:05:14.291Z"
   },
   {
    "duration": 77,
    "start_time": "2022-08-21T05:05:14.391Z"
   },
   {
    "duration": 6,
    "start_time": "2022-08-21T05:05:14.470Z"
   },
   {
    "duration": 6,
    "start_time": "2022-08-21T05:05:14.478Z"
   },
   {
    "duration": 27,
    "start_time": "2022-08-21T05:05:14.486Z"
   },
   {
    "duration": 71,
    "start_time": "2022-08-21T05:05:14.515Z"
   },
   {
    "duration": 41,
    "start_time": "2022-08-21T05:05:14.588Z"
   },
   {
    "duration": 34,
    "start_time": "2022-08-21T05:05:14.631Z"
   },
   {
    "duration": 36,
    "start_time": "2022-08-21T05:05:14.668Z"
   },
   {
    "duration": 55,
    "start_time": "2022-08-21T05:05:14.708Z"
   },
   {
    "duration": 33,
    "start_time": "2022-08-21T05:05:14.765Z"
   },
   {
    "duration": 23,
    "start_time": "2022-08-21T05:05:14.800Z"
   },
   {
    "duration": 55,
    "start_time": "2022-08-21T05:05:14.825Z"
   },
   {
    "duration": 21,
    "start_time": "2022-08-21T05:05:14.882Z"
   },
   {
    "duration": 66,
    "start_time": "2022-08-21T05:05:14.906Z"
   },
   {
    "duration": 17,
    "start_time": "2022-08-21T05:05:14.978Z"
   },
   {
    "duration": 35,
    "start_time": "2022-08-21T05:05:14.997Z"
   },
   {
    "duration": 51,
    "start_time": "2022-08-21T05:05:15.034Z"
   },
   {
    "duration": 20,
    "start_time": "2022-08-21T05:05:15.087Z"
   },
   {
    "duration": 2505,
    "start_time": "2022-08-21T05:05:15.109Z"
   },
   {
    "duration": 74,
    "start_time": "2022-08-21T05:05:17.616Z"
   },
   {
    "duration": 58,
    "start_time": "2022-08-21T05:05:17.691Z"
   },
   {
    "duration": 56,
    "start_time": "2022-08-21T05:05:17.751Z"
   },
   {
    "duration": 31,
    "start_time": "2022-08-21T05:05:17.813Z"
   },
   {
    "duration": 26,
    "start_time": "2022-08-21T05:05:17.846Z"
   },
   {
    "duration": 3,
    "start_time": "2022-08-21T05:05:17.874Z"
   },
   {
    "duration": 27,
    "start_time": "2022-08-21T05:05:17.879Z"
   },
   {
    "duration": 9,
    "start_time": "2022-08-21T05:05:17.907Z"
   },
   {
    "duration": 61,
    "start_time": "2022-08-21T05:07:32.428Z"
   },
   {
    "duration": 21,
    "start_time": "2022-08-21T05:07:34.762Z"
   },
   {
    "duration": 27,
    "start_time": "2022-08-21T05:07:42.497Z"
   },
   {
    "duration": 25,
    "start_time": "2022-08-21T05:08:05.860Z"
   },
   {
    "duration": 47,
    "start_time": "2022-08-21T05:08:07.802Z"
   },
   {
    "duration": 35,
    "start_time": "2022-08-21T05:08:35.541Z"
   },
   {
    "duration": 27,
    "start_time": "2022-08-21T05:08:38.728Z"
   },
   {
    "duration": 21,
    "start_time": "2022-08-21T05:08:40.639Z"
   },
   {
    "duration": 16,
    "start_time": "2022-08-21T05:08:47.080Z"
   },
   {
    "duration": 16,
    "start_time": "2022-08-21T05:08:52.272Z"
   },
   {
    "duration": 12,
    "start_time": "2022-08-21T06:50:57.827Z"
   },
   {
    "duration": 18,
    "start_time": "2022-08-21T06:51:00.094Z"
   },
   {
    "duration": 21,
    "start_time": "2022-08-21T06:51:13.999Z"
   },
   {
    "duration": 15,
    "start_time": "2022-08-21T06:51:16.117Z"
   },
   {
    "duration": 11,
    "start_time": "2022-08-21T06:51:20.298Z"
   },
   {
    "duration": 16,
    "start_time": "2022-08-21T06:51:22.441Z"
   },
   {
    "duration": 13,
    "start_time": "2022-08-21T06:51:24.667Z"
   },
   {
    "duration": 25,
    "start_time": "2022-08-21T06:52:17.682Z"
   },
   {
    "duration": 19,
    "start_time": "2022-08-21T06:52:20.250Z"
   },
   {
    "duration": 22,
    "start_time": "2022-08-21T06:52:28.629Z"
   },
   {
    "duration": 23,
    "start_time": "2022-08-21T06:52:41.736Z"
   },
   {
    "duration": 55,
    "start_time": "2022-08-21T06:52:44.100Z"
   },
   {
    "duration": 28,
    "start_time": "2022-08-21T06:53:21.589Z"
   },
   {
    "duration": 47,
    "start_time": "2022-08-21T06:53:23.443Z"
   },
   {
    "duration": 23,
    "start_time": "2022-08-21T06:53:26.761Z"
   },
   {
    "duration": 30,
    "start_time": "2022-08-21T06:53:29.131Z"
   },
   {
    "duration": 20,
    "start_time": "2022-08-21T06:53:31.355Z"
   },
   {
    "duration": 10,
    "start_time": "2022-08-21T06:53:57.171Z"
   },
   {
    "duration": 4,
    "start_time": "2022-08-21T06:53:58.851Z"
   },
   {
    "duration": 6,
    "start_time": "2022-08-21T06:54:02.426Z"
   },
   {
    "duration": 60,
    "start_time": "2022-08-21T06:54:21.937Z"
   },
   {
    "duration": 11,
    "start_time": "2022-08-21T06:54:32.729Z"
   },
   {
    "duration": 7,
    "start_time": "2022-08-21T06:54:40.201Z"
   },
   {
    "duration": 4,
    "start_time": "2022-08-21T06:54:42.678Z"
   },
   {
    "duration": 380,
    "start_time": "2022-08-25T15:19:32.339Z"
   },
   {
    "duration": 354,
    "start_time": "2022-08-25T15:19:32.722Z"
   },
   {
    "duration": 7,
    "start_time": "2022-08-25T15:19:33.077Z"
   },
   {
    "duration": 19,
    "start_time": "2022-08-25T15:19:33.086Z"
   },
   {
    "duration": 7,
    "start_time": "2022-08-25T15:19:33.107Z"
   },
   {
    "duration": 7,
    "start_time": "2022-08-25T15:19:33.116Z"
   },
   {
    "duration": 12,
    "start_time": "2022-08-25T15:19:33.124Z"
   },
   {
    "duration": 35,
    "start_time": "2022-08-25T15:19:33.137Z"
   },
   {
    "duration": 29,
    "start_time": "2022-08-25T15:19:33.174Z"
   },
   {
    "duration": 24,
    "start_time": "2022-08-25T15:19:33.207Z"
   },
   {
    "duration": 84,
    "start_time": "2022-08-25T15:19:33.232Z"
   },
   {
    "duration": 150,
    "start_time": "2022-08-25T15:19:33.317Z"
   },
   {
    "duration": 63,
    "start_time": "2022-08-25T15:19:33.469Z"
   },
   {
    "duration": 47,
    "start_time": "2022-08-25T15:19:33.534Z"
   },
   {
    "duration": 3,
    "start_time": "2022-08-25T15:19:33.583Z"
   },
   {
    "duration": 17,
    "start_time": "2022-08-25T15:19:33.587Z"
   },
   {
    "duration": 18,
    "start_time": "2022-08-25T15:19:33.606Z"
   },
   {
    "duration": 21,
    "start_time": "2022-08-25T15:19:33.626Z"
   },
   {
    "duration": 31,
    "start_time": "2022-08-25T15:19:33.649Z"
   },
   {
    "duration": 22,
    "start_time": "2022-08-25T15:19:33.682Z"
   },
   {
    "duration": 17,
    "start_time": "2022-08-25T15:19:33.706Z"
   },
   {
    "duration": 9,
    "start_time": "2022-08-25T15:19:33.725Z"
   },
   {
    "duration": 24,
    "start_time": "2022-08-25T15:19:33.736Z"
   },
   {
    "duration": 16,
    "start_time": "2022-08-25T15:19:33.761Z"
   },
   {
    "duration": 34,
    "start_time": "2022-08-25T15:19:33.779Z"
   },
   {
    "duration": 14,
    "start_time": "2022-08-25T15:19:33.815Z"
   },
   {
    "duration": 18,
    "start_time": "2022-08-25T15:19:33.831Z"
   },
   {
    "duration": 15,
    "start_time": "2022-08-25T15:19:33.853Z"
   },
   {
    "duration": 39,
    "start_time": "2022-08-25T15:19:33.870Z"
   },
   {
    "duration": 17,
    "start_time": "2022-08-25T15:19:33.911Z"
   },
   {
    "duration": 15,
    "start_time": "2022-08-25T15:19:33.930Z"
   },
   {
    "duration": 2113,
    "start_time": "2022-08-25T15:19:33.947Z"
   },
   {
    "duration": 58,
    "start_time": "2022-08-25T15:19:36.061Z"
   },
   {
    "duration": 2,
    "start_time": "2022-08-25T15:19:36.121Z"
   },
   {
    "duration": 30,
    "start_time": "2022-08-25T15:19:36.125Z"
   },
   {
    "duration": 48,
    "start_time": "2022-08-25T15:19:36.156Z"
   },
   {
    "duration": 21,
    "start_time": "2022-08-25T15:19:36.205Z"
   },
   {
    "duration": 11,
    "start_time": "2022-08-25T15:19:36.227Z"
   },
   {
    "duration": 4,
    "start_time": "2022-08-25T15:19:36.239Z"
   },
   {
    "duration": 13,
    "start_time": "2022-08-25T15:19:36.244Z"
   },
   {
    "duration": 7,
    "start_time": "2022-08-25T15:19:36.258Z"
   },
   {
    "duration": 59,
    "start_time": "2022-08-25T15:23:00.754Z"
   },
   {
    "duration": 52,
    "start_time": "2022-08-25T15:23:50.091Z"
   },
   {
    "duration": 50,
    "start_time": "2022-08-25T15:24:00.834Z"
   },
   {
    "duration": 66,
    "start_time": "2022-08-25T15:28:00.975Z"
   },
   {
    "duration": 10,
    "start_time": "2022-08-25T15:28:01.477Z"
   },
   {
    "duration": 26,
    "start_time": "2022-08-25T15:28:06.286Z"
   },
   {
    "duration": 50,
    "start_time": "2022-08-25T15:28:06.803Z"
   },
   {
    "duration": 387,
    "start_time": "2022-08-26T10:20:23.312Z"
   },
   {
    "duration": 309,
    "start_time": "2022-08-26T10:20:23.701Z"
   },
   {
    "duration": 6,
    "start_time": "2022-08-26T10:20:24.012Z"
   },
   {
    "duration": 6,
    "start_time": "2022-08-26T10:20:24.019Z"
   },
   {
    "duration": 4,
    "start_time": "2022-08-26T10:20:24.027Z"
   },
   {
    "duration": 6,
    "start_time": "2022-08-26T10:20:24.032Z"
   },
   {
    "duration": 12,
    "start_time": "2022-08-26T10:20:24.039Z"
   },
   {
    "duration": 24,
    "start_time": "2022-08-26T10:20:24.052Z"
   },
   {
    "duration": 31,
    "start_time": "2022-08-26T10:20:24.077Z"
   },
   {
    "duration": 18,
    "start_time": "2022-08-26T10:20:24.109Z"
   },
   {
    "duration": 57,
    "start_time": "2022-08-26T10:20:24.128Z"
   },
   {
    "duration": 115,
    "start_time": "2022-08-26T10:20:24.198Z"
   },
   {
    "duration": 49,
    "start_time": "2022-08-26T10:20:24.314Z"
   },
   {
    "duration": 63,
    "start_time": "2022-08-26T10:20:24.366Z"
   },
   {
    "duration": 3,
    "start_time": "2022-08-26T10:20:24.431Z"
   },
   {
    "duration": 10,
    "start_time": "2022-08-26T10:20:24.436Z"
   },
   {
    "duration": 14,
    "start_time": "2022-08-26T10:20:24.448Z"
   },
   {
    "duration": 20,
    "start_time": "2022-08-26T10:20:24.463Z"
   },
   {
    "duration": 30,
    "start_time": "2022-08-26T10:20:24.485Z"
   },
   {
    "duration": 4,
    "start_time": "2022-08-26T10:20:24.517Z"
   },
   {
    "duration": 24,
    "start_time": "2022-08-26T10:20:24.523Z"
   },
   {
    "duration": 9,
    "start_time": "2022-08-26T10:20:24.549Z"
   },
   {
    "duration": 21,
    "start_time": "2022-08-26T10:20:24.560Z"
   },
   {
    "duration": 22,
    "start_time": "2022-08-26T10:20:24.583Z"
   },
   {
    "duration": 15,
    "start_time": "2022-08-26T10:20:24.606Z"
   },
   {
    "duration": 12,
    "start_time": "2022-08-26T10:20:24.622Z"
   },
   {
    "duration": 13,
    "start_time": "2022-08-26T10:20:24.636Z"
   },
   {
    "duration": 16,
    "start_time": "2022-08-26T10:20:24.650Z"
   },
   {
    "duration": 7,
    "start_time": "2022-08-26T10:20:24.667Z"
   },
   {
    "duration": 28,
    "start_time": "2022-08-26T10:20:24.676Z"
   },
   {
    "duration": 10,
    "start_time": "2022-08-26T10:20:24.705Z"
   },
   {
    "duration": 2064,
    "start_time": "2022-08-26T10:20:24.716Z"
   },
   {
    "duration": 9,
    "start_time": "2022-08-26T10:20:26.781Z"
   },
   {
    "duration": 9,
    "start_time": "2022-08-26T10:20:26.791Z"
   },
   {
    "duration": 9,
    "start_time": "2022-08-26T10:20:26.801Z"
   },
   {
    "duration": 10,
    "start_time": "2022-08-26T10:20:26.811Z"
   },
   {
    "duration": 14,
    "start_time": "2022-08-26T10:20:26.822Z"
   },
   {
    "duration": 13,
    "start_time": "2022-08-26T10:20:26.837Z"
   },
   {
    "duration": 3,
    "start_time": "2022-08-26T10:20:26.851Z"
   },
   {
    "duration": 7,
    "start_time": "2022-08-26T10:20:26.855Z"
   },
   {
    "duration": 2,
    "start_time": "2022-08-26T10:20:26.865Z"
   },
   {
    "duration": 7,
    "start_time": "2022-08-26T10:21:40.181Z"
   },
   {
    "duration": 12,
    "start_time": "2022-08-26T10:21:45.925Z"
   },
   {
    "duration": 18,
    "start_time": "2022-08-26T10:22:23.816Z"
   },
   {
    "duration": 19,
    "start_time": "2022-08-26T10:22:28.164Z"
   },
   {
    "duration": 12,
    "start_time": "2022-08-26T10:22:30.717Z"
   },
   {
    "duration": 402,
    "start_time": "2022-08-26T16:12:35.176Z"
   },
   {
    "duration": 302,
    "start_time": "2022-08-26T16:12:35.579Z"
   },
   {
    "duration": 5,
    "start_time": "2022-08-26T16:12:35.883Z"
   },
   {
    "duration": 11,
    "start_time": "2022-08-26T16:12:35.890Z"
   },
   {
    "duration": 24,
    "start_time": "2022-08-26T16:12:35.903Z"
   },
   {
    "duration": 6,
    "start_time": "2022-08-26T16:12:35.929Z"
   },
   {
    "duration": 11,
    "start_time": "2022-08-26T16:12:35.936Z"
   },
   {
    "duration": 39,
    "start_time": "2022-08-26T16:12:35.948Z"
   },
   {
    "duration": 17,
    "start_time": "2022-08-26T16:12:35.988Z"
   },
   {
    "duration": 19,
    "start_time": "2022-08-26T16:12:36.007Z"
   },
   {
    "duration": 56,
    "start_time": "2022-08-26T16:12:36.028Z"
   },
   {
    "duration": 128,
    "start_time": "2022-08-26T16:12:36.086Z"
   },
   {
    "duration": 49,
    "start_time": "2022-08-26T16:12:36.216Z"
   },
   {
    "duration": 53,
    "start_time": "2022-08-26T16:12:36.266Z"
   },
   {
    "duration": 2,
    "start_time": "2022-08-26T16:12:36.320Z"
   },
   {
    "duration": 4,
    "start_time": "2022-08-26T16:12:36.324Z"
   },
   {
    "duration": 7,
    "start_time": "2022-08-26T16:12:36.329Z"
   },
   {
    "duration": 14,
    "start_time": "2022-08-26T16:12:36.338Z"
   },
   {
    "duration": 22,
    "start_time": "2022-08-26T16:12:36.353Z"
   },
   {
    "duration": 22,
    "start_time": "2022-08-26T16:12:36.377Z"
   },
   {
    "duration": 17,
    "start_time": "2022-08-26T16:12:36.401Z"
   },
   {
    "duration": 7,
    "start_time": "2022-08-26T16:12:36.419Z"
   },
   {
    "duration": 17,
    "start_time": "2022-08-26T16:12:36.427Z"
   },
   {
    "duration": 11,
    "start_time": "2022-08-26T16:12:36.446Z"
   },
   {
    "duration": 12,
    "start_time": "2022-08-26T16:12:36.458Z"
   },
   {
    "duration": 36,
    "start_time": "2022-08-26T16:12:36.472Z"
   },
   {
    "duration": 16,
    "start_time": "2022-08-26T16:12:36.510Z"
   },
   {
    "duration": 16,
    "start_time": "2022-08-26T16:12:36.529Z"
   },
   {
    "duration": 8,
    "start_time": "2022-08-26T16:12:36.546Z"
   },
   {
    "duration": 11,
    "start_time": "2022-08-26T16:12:36.555Z"
   },
   {
    "duration": 31,
    "start_time": "2022-08-26T16:12:36.567Z"
   },
   {
    "duration": 2058,
    "start_time": "2022-08-26T16:12:36.599Z"
   },
   {
    "duration": 15,
    "start_time": "2022-08-26T16:12:38.659Z"
   },
   {
    "duration": 3,
    "start_time": "2022-08-26T16:12:38.675Z"
   },
   {
    "duration": 24,
    "start_time": "2022-08-26T16:12:38.679Z"
   },
   {
    "duration": 17,
    "start_time": "2022-08-26T16:12:38.704Z"
   },
   {
    "duration": 10,
    "start_time": "2022-08-26T16:12:38.722Z"
   },
   {
    "duration": 9,
    "start_time": "2022-08-26T16:12:38.733Z"
   },
   {
    "duration": 4,
    "start_time": "2022-08-26T16:12:38.743Z"
   },
   {
    "duration": 9,
    "start_time": "2022-08-26T16:12:38.748Z"
   },
   {
    "duration": 3,
    "start_time": "2022-08-26T16:12:38.758Z"
   }
  ],
  "colab": {
   "collapsed_sections": [
    "E0vqbgi9ay0H",
    "VUC88oWjTJw2",
    "atZAxtq4_Zcu"
   ],
   "name": "EmptyFinalProject.ipynb\"",
   "provenance": []
  },
  "kernelspec": {
   "display_name": "Python 3 (ipykernel)",
   "language": "python",
   "name": "python3"
  },
  "language_info": {
   "codemirror_mode": {
    "name": "ipython",
    "version": 3
   },
   "file_extension": ".py",
   "mimetype": "text/x-python",
   "name": "python",
   "nbconvert_exporter": "python",
   "pygments_lexer": "ipython3",
   "version": "3.9.5"
  },
  "toc": {
   "base_numbering": 1,
   "nav_menu": {},
   "number_sections": true,
   "sideBar": true,
   "skip_h1_title": true,
   "title_cell": "Table of Contents",
   "title_sidebar": "Contents",
   "toc_cell": false,
   "toc_position": {},
   "toc_section_display": true,
   "toc_window_display": false
  }
 },
 "nbformat": 4,
 "nbformat_minor": 4
}
