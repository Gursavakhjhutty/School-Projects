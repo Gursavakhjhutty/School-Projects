{
 "cells": [
  {
   "cell_type": "markdown",
   "metadata": {},
   "source": [
    "# Analyzing borrowers’ risk of defaulting\n",
    "\n",
    "Your project is to prepare a report for a bank’s loan division. You’ll need to find out if a customer’s marital status and number of children has an impact on whether they will default on a loan. The bank already has some data on customers’ credit worthiness.\n",
    "\n",
    "Your report will be considered when building the **credit score** of a potential customer. The **credit score** is used to evaluate the ability of a potential borrower to repay their loan.\n",
    "\n",
    "\n",
    "Finding patterns in the data as well as evaluating the ability of a borrower to repay their loan\n"
   ]
  },
  {
   "cell_type": "code",
   "execution_count": 1,
   "metadata": {
    "scrolled": false
   },
   "outputs": [
    {
     "data": {
      "text/html": [
       "<div>\n",
       "<style scoped>\n",
       "    .dataframe tbody tr th:only-of-type {\n",
       "        vertical-align: middle;\n",
       "    }\n",
       "\n",
       "    .dataframe tbody tr th {\n",
       "        vertical-align: top;\n",
       "    }\n",
       "\n",
       "    .dataframe thead th {\n",
       "        text-align: right;\n",
       "    }\n",
       "</style>\n",
       "<table border=\"1\" class=\"dataframe\">\n",
       "  <thead>\n",
       "    <tr style=\"text-align: right;\">\n",
       "      <th></th>\n",
       "      <th>children</th>\n",
       "      <th>days_employed</th>\n",
       "      <th>dob_years</th>\n",
       "      <th>education</th>\n",
       "      <th>education_id</th>\n",
       "      <th>family_status</th>\n",
       "      <th>family_status_id</th>\n",
       "      <th>gender</th>\n",
       "      <th>income_type</th>\n",
       "      <th>debt</th>\n",
       "      <th>total_income</th>\n",
       "      <th>purpose</th>\n",
       "    </tr>\n",
       "  </thead>\n",
       "  <tbody>\n",
       "    <tr>\n",
       "      <th>0</th>\n",
       "      <td>1</td>\n",
       "      <td>-8437.673028</td>\n",
       "      <td>42</td>\n",
       "      <td>bachelor's degree</td>\n",
       "      <td>0</td>\n",
       "      <td>married</td>\n",
       "      <td>0</td>\n",
       "      <td>F</td>\n",
       "      <td>employee</td>\n",
       "      <td>0</td>\n",
       "      <td>40620.102</td>\n",
       "      <td>purchase of the house</td>\n",
       "    </tr>\n",
       "    <tr>\n",
       "      <th>1</th>\n",
       "      <td>1</td>\n",
       "      <td>-4024.803754</td>\n",
       "      <td>36</td>\n",
       "      <td>secondary education</td>\n",
       "      <td>1</td>\n",
       "      <td>married</td>\n",
       "      <td>0</td>\n",
       "      <td>F</td>\n",
       "      <td>employee</td>\n",
       "      <td>0</td>\n",
       "      <td>17932.802</td>\n",
       "      <td>car purchase</td>\n",
       "    </tr>\n",
       "    <tr>\n",
       "      <th>2</th>\n",
       "      <td>0</td>\n",
       "      <td>-5623.422610</td>\n",
       "      <td>33</td>\n",
       "      <td>Secondary Education</td>\n",
       "      <td>1</td>\n",
       "      <td>married</td>\n",
       "      <td>0</td>\n",
       "      <td>M</td>\n",
       "      <td>employee</td>\n",
       "      <td>0</td>\n",
       "      <td>23341.752</td>\n",
       "      <td>purchase of the house</td>\n",
       "    </tr>\n",
       "  </tbody>\n",
       "</table>\n",
       "</div>"
      ],
      "text/plain": [
       "   children  days_employed  dob_years            education  education_id  \\\n",
       "0         1   -8437.673028         42    bachelor's degree             0   \n",
       "1         1   -4024.803754         36  secondary education             1   \n",
       "2         0   -5623.422610         33  Secondary Education             1   \n",
       "\n",
       "  family_status  family_status_id gender income_type  debt  total_income  \\\n",
       "0       married                 0      F    employee     0     40620.102   \n",
       "1       married                 0      F    employee     0     17932.802   \n",
       "2       married                 0      M    employee     0     23341.752   \n",
       "\n",
       "                 purpose  \n",
       "0  purchase of the house  \n",
       "1           car purchase  \n",
       "2  purchase of the house  "
      ]
     },
     "execution_count": 1,
     "metadata": {},
     "output_type": "execute_result"
    }
   ],
   "source": [
    "import pandas as pd\n",
    "data = pd.read_csv('/datasets/credit_scoring_eng.csv')\n",
    "data.head(3)"
   ]
  },
  {
   "cell_type": "markdown",
   "metadata": {},
   "source": [
    "## Task 1. Data exploration"
   ]
  },
  {
   "cell_type": "code",
   "execution_count": 2,
   "metadata": {
    "scrolled": true
   },
   "outputs": [
    {
     "name": "stdout",
     "output_type": "stream",
     "text": [
      "<class 'pandas.core.frame.DataFrame'>\n",
      "RangeIndex: 21525 entries, 0 to 21524\n",
      "Data columns (total 12 columns):\n",
      " #   Column            Non-Null Count  Dtype  \n",
      "---  ------            --------------  -----  \n",
      " 0   children          21525 non-null  int64  \n",
      " 1   days_employed     19351 non-null  float64\n",
      " 2   dob_years         21525 non-null  int64  \n",
      " 3   education         21525 non-null  object \n",
      " 4   education_id      21525 non-null  int64  \n",
      " 5   family_status     21525 non-null  object \n",
      " 6   family_status_id  21525 non-null  int64  \n",
      " 7   gender            21525 non-null  object \n",
      " 8   income_type       21525 non-null  object \n",
      " 9   debt              21525 non-null  int64  \n",
      " 10  total_income      19351 non-null  float64\n",
      " 11  purpose           21525 non-null  object \n",
      "dtypes: float64(2), int64(5), object(5)\n",
      "memory usage: 2.0+ MB\n"
     ]
    }
   ],
   "source": [
    "# Let's see how many rows and columns our dataset has\n",
    "data.info()\n",
    "# Looks pretty interesting, there is some rows with less values"
   ]
  },
  {
   "cell_type": "code",
   "execution_count": 3,
   "metadata": {
    "scrolled": true
   },
   "outputs": [
    {
     "data": {
      "text/html": [
       "<div>\n",
       "<style scoped>\n",
       "    .dataframe tbody tr th:only-of-type {\n",
       "        vertical-align: middle;\n",
       "    }\n",
       "\n",
       "    .dataframe tbody tr th {\n",
       "        vertical-align: top;\n",
       "    }\n",
       "\n",
       "    .dataframe thead th {\n",
       "        text-align: right;\n",
       "    }\n",
       "</style>\n",
       "<table border=\"1\" class=\"dataframe\">\n",
       "  <thead>\n",
       "    <tr style=\"text-align: right;\">\n",
       "      <th></th>\n",
       "      <th>children</th>\n",
       "      <th>days_employed</th>\n",
       "      <th>dob_years</th>\n",
       "      <th>education</th>\n",
       "      <th>education_id</th>\n",
       "      <th>family_status</th>\n",
       "      <th>family_status_id</th>\n",
       "      <th>gender</th>\n",
       "      <th>income_type</th>\n",
       "      <th>debt</th>\n",
       "      <th>total_income</th>\n",
       "      <th>purpose</th>\n",
       "    </tr>\n",
       "  </thead>\n",
       "  <tbody>\n",
       "    <tr>\n",
       "      <th>0</th>\n",
       "      <td>1</td>\n",
       "      <td>-8437.673028</td>\n",
       "      <td>42</td>\n",
       "      <td>bachelor's degree</td>\n",
       "      <td>0</td>\n",
       "      <td>married</td>\n",
       "      <td>0</td>\n",
       "      <td>F</td>\n",
       "      <td>employee</td>\n",
       "      <td>0</td>\n",
       "      <td>40620.102</td>\n",
       "      <td>purchase of the house</td>\n",
       "    </tr>\n",
       "    <tr>\n",
       "      <th>1</th>\n",
       "      <td>1</td>\n",
       "      <td>-4024.803754</td>\n",
       "      <td>36</td>\n",
       "      <td>secondary education</td>\n",
       "      <td>1</td>\n",
       "      <td>married</td>\n",
       "      <td>0</td>\n",
       "      <td>F</td>\n",
       "      <td>employee</td>\n",
       "      <td>0</td>\n",
       "      <td>17932.802</td>\n",
       "      <td>car purchase</td>\n",
       "    </tr>\n",
       "    <tr>\n",
       "      <th>2</th>\n",
       "      <td>0</td>\n",
       "      <td>-5623.422610</td>\n",
       "      <td>33</td>\n",
       "      <td>Secondary Education</td>\n",
       "      <td>1</td>\n",
       "      <td>married</td>\n",
       "      <td>0</td>\n",
       "      <td>M</td>\n",
       "      <td>employee</td>\n",
       "      <td>0</td>\n",
       "      <td>23341.752</td>\n",
       "      <td>purchase of the house</td>\n",
       "    </tr>\n",
       "    <tr>\n",
       "      <th>3</th>\n",
       "      <td>3</td>\n",
       "      <td>-4124.747207</td>\n",
       "      <td>32</td>\n",
       "      <td>secondary education</td>\n",
       "      <td>1</td>\n",
       "      <td>married</td>\n",
       "      <td>0</td>\n",
       "      <td>M</td>\n",
       "      <td>employee</td>\n",
       "      <td>0</td>\n",
       "      <td>42820.568</td>\n",
       "      <td>supplementary education</td>\n",
       "    </tr>\n",
       "    <tr>\n",
       "      <th>4</th>\n",
       "      <td>0</td>\n",
       "      <td>340266.072047</td>\n",
       "      <td>53</td>\n",
       "      <td>secondary education</td>\n",
       "      <td>1</td>\n",
       "      <td>civil partnership</td>\n",
       "      <td>1</td>\n",
       "      <td>F</td>\n",
       "      <td>retiree</td>\n",
       "      <td>0</td>\n",
       "      <td>25378.572</td>\n",
       "      <td>to have a wedding</td>\n",
       "    </tr>\n",
       "    <tr>\n",
       "      <th>5</th>\n",
       "      <td>0</td>\n",
       "      <td>-926.185831</td>\n",
       "      <td>27</td>\n",
       "      <td>bachelor's degree</td>\n",
       "      <td>0</td>\n",
       "      <td>civil partnership</td>\n",
       "      <td>1</td>\n",
       "      <td>M</td>\n",
       "      <td>business</td>\n",
       "      <td>0</td>\n",
       "      <td>40922.170</td>\n",
       "      <td>purchase of the house</td>\n",
       "    </tr>\n",
       "    <tr>\n",
       "      <th>6</th>\n",
       "      <td>0</td>\n",
       "      <td>-2879.202052</td>\n",
       "      <td>43</td>\n",
       "      <td>bachelor's degree</td>\n",
       "      <td>0</td>\n",
       "      <td>married</td>\n",
       "      <td>0</td>\n",
       "      <td>F</td>\n",
       "      <td>business</td>\n",
       "      <td>0</td>\n",
       "      <td>38484.156</td>\n",
       "      <td>housing transactions</td>\n",
       "    </tr>\n",
       "    <tr>\n",
       "      <th>7</th>\n",
       "      <td>0</td>\n",
       "      <td>-152.779569</td>\n",
       "      <td>50</td>\n",
       "      <td>SECONDARY EDUCATION</td>\n",
       "      <td>1</td>\n",
       "      <td>married</td>\n",
       "      <td>0</td>\n",
       "      <td>M</td>\n",
       "      <td>employee</td>\n",
       "      <td>0</td>\n",
       "      <td>21731.829</td>\n",
       "      <td>education</td>\n",
       "    </tr>\n",
       "    <tr>\n",
       "      <th>8</th>\n",
       "      <td>2</td>\n",
       "      <td>-6929.865299</td>\n",
       "      <td>35</td>\n",
       "      <td>BACHELOR'S DEGREE</td>\n",
       "      <td>0</td>\n",
       "      <td>civil partnership</td>\n",
       "      <td>1</td>\n",
       "      <td>F</td>\n",
       "      <td>employee</td>\n",
       "      <td>0</td>\n",
       "      <td>15337.093</td>\n",
       "      <td>having a wedding</td>\n",
       "    </tr>\n",
       "    <tr>\n",
       "      <th>9</th>\n",
       "      <td>0</td>\n",
       "      <td>-2188.756445</td>\n",
       "      <td>41</td>\n",
       "      <td>secondary education</td>\n",
       "      <td>1</td>\n",
       "      <td>married</td>\n",
       "      <td>0</td>\n",
       "      <td>M</td>\n",
       "      <td>employee</td>\n",
       "      <td>0</td>\n",
       "      <td>23108.150</td>\n",
       "      <td>purchase of the house for my family</td>\n",
       "    </tr>\n",
       "  </tbody>\n",
       "</table>\n",
       "</div>"
      ],
      "text/plain": [
       "   children  days_employed  dob_years            education  education_id  \\\n",
       "0         1   -8437.673028         42    bachelor's degree             0   \n",
       "1         1   -4024.803754         36  secondary education             1   \n",
       "2         0   -5623.422610         33  Secondary Education             1   \n",
       "3         3   -4124.747207         32  secondary education             1   \n",
       "4         0  340266.072047         53  secondary education             1   \n",
       "5         0    -926.185831         27    bachelor's degree             0   \n",
       "6         0   -2879.202052         43    bachelor's degree             0   \n",
       "7         0    -152.779569         50  SECONDARY EDUCATION             1   \n",
       "8         2   -6929.865299         35    BACHELOR'S DEGREE             0   \n",
       "9         0   -2188.756445         41  secondary education             1   \n",
       "\n",
       "       family_status  family_status_id gender income_type  debt  total_income  \\\n",
       "0            married                 0      F    employee     0     40620.102   \n",
       "1            married                 0      F    employee     0     17932.802   \n",
       "2            married                 0      M    employee     0     23341.752   \n",
       "3            married                 0      M    employee     0     42820.568   \n",
       "4  civil partnership                 1      F     retiree     0     25378.572   \n",
       "5  civil partnership                 1      M    business     0     40922.170   \n",
       "6            married                 0      F    business     0     38484.156   \n",
       "7            married                 0      M    employee     0     21731.829   \n",
       "8  civil partnership                 1      F    employee     0     15337.093   \n",
       "9            married                 0      M    employee     0     23108.150   \n",
       "\n",
       "                               purpose  \n",
       "0                purchase of the house  \n",
       "1                         car purchase  \n",
       "2                purchase of the house  \n",
       "3              supplementary education  \n",
       "4                    to have a wedding  \n",
       "5                purchase of the house  \n",
       "6                 housing transactions  \n",
       "7                            education  \n",
       "8                     having a wedding  \n",
       "9  purchase of the house for my family  "
      ]
     },
     "execution_count": 3,
     "metadata": {},
     "output_type": "execute_result"
    }
   ],
   "source": [
    "# let's print the first N rows\n",
    "data.head(10)\n"
   ]
  },
  {
   "cell_type": "code",
   "execution_count": 4,
   "metadata": {
    "scrolled": false
   },
   "outputs": [],
   "source": [
    "# Get info on data\n",
    "#Some of the days_employed values are negative. thats not possible. \n",
    "#Some of the education data is completely capitaized. \n",
    "#Purpose is kinda vague like purchase of the house vs purchase of the house for my family. These are similar enough to combine\n"
   ]
  },
  {
   "cell_type": "code",
   "execution_count": 5,
   "metadata": {
    "scrolled": true
   },
   "outputs": [
    {
     "name": "stdout",
     "output_type": "stream",
     "text": [
      "12\n",
      "12\n"
     ]
    }
   ],
   "source": [
    "# Let's look in the filtered table at the the first column with missing data\n",
    "# I dont see any missing values when I use isnull so I think the problem may be more complcated then I am being lead on to believe.\n",
    "data.isnull()\n",
    "print(len(data.isnull().sum()))\n",
    "print(len(data.sum()))"
   ]
  },
  {
   "cell_type": "code",
   "execution_count": 6,
   "metadata": {},
   "outputs": [
    {
     "data": {
      "text/html": [
       "<div>\n",
       "<style scoped>\n",
       "    .dataframe tbody tr th:only-of-type {\n",
       "        vertical-align: middle;\n",
       "    }\n",
       "\n",
       "    .dataframe tbody tr th {\n",
       "        vertical-align: top;\n",
       "    }\n",
       "\n",
       "    .dataframe thead th {\n",
       "        text-align: right;\n",
       "    }\n",
       "</style>\n",
       "<table border=\"1\" class=\"dataframe\">\n",
       "  <thead>\n",
       "    <tr style=\"text-align: right;\">\n",
       "      <th></th>\n",
       "      <th>children</th>\n",
       "      <th>days_employed</th>\n",
       "      <th>dob_years</th>\n",
       "      <th>education</th>\n",
       "      <th>education_id</th>\n",
       "      <th>family_status</th>\n",
       "      <th>family_status_id</th>\n",
       "      <th>gender</th>\n",
       "      <th>income_type</th>\n",
       "      <th>debt</th>\n",
       "      <th>total_income</th>\n",
       "      <th>purpose</th>\n",
       "    </tr>\n",
       "  </thead>\n",
       "  <tbody>\n",
       "    <tr>\n",
       "      <th>12</th>\n",
       "      <td>0</td>\n",
       "      <td>NaN</td>\n",
       "      <td>65</td>\n",
       "      <td>secondary education</td>\n",
       "      <td>1</td>\n",
       "      <td>civil partnership</td>\n",
       "      <td>1</td>\n",
       "      <td>M</td>\n",
       "      <td>retiree</td>\n",
       "      <td>0</td>\n",
       "      <td>NaN</td>\n",
       "      <td>to have a wedding</td>\n",
       "    </tr>\n",
       "    <tr>\n",
       "      <th>26</th>\n",
       "      <td>0</td>\n",
       "      <td>NaN</td>\n",
       "      <td>41</td>\n",
       "      <td>secondary education</td>\n",
       "      <td>1</td>\n",
       "      <td>married</td>\n",
       "      <td>0</td>\n",
       "      <td>M</td>\n",
       "      <td>civil servant</td>\n",
       "      <td>0</td>\n",
       "      <td>NaN</td>\n",
       "      <td>education</td>\n",
       "    </tr>\n",
       "    <tr>\n",
       "      <th>29</th>\n",
       "      <td>0</td>\n",
       "      <td>NaN</td>\n",
       "      <td>63</td>\n",
       "      <td>secondary education</td>\n",
       "      <td>1</td>\n",
       "      <td>unmarried</td>\n",
       "      <td>4</td>\n",
       "      <td>F</td>\n",
       "      <td>retiree</td>\n",
       "      <td>0</td>\n",
       "      <td>NaN</td>\n",
       "      <td>building a real estate</td>\n",
       "    </tr>\n",
       "    <tr>\n",
       "      <th>41</th>\n",
       "      <td>0</td>\n",
       "      <td>NaN</td>\n",
       "      <td>50</td>\n",
       "      <td>secondary education</td>\n",
       "      <td>1</td>\n",
       "      <td>married</td>\n",
       "      <td>0</td>\n",
       "      <td>F</td>\n",
       "      <td>civil servant</td>\n",
       "      <td>0</td>\n",
       "      <td>NaN</td>\n",
       "      <td>second-hand car purchase</td>\n",
       "    </tr>\n",
       "    <tr>\n",
       "      <th>55</th>\n",
       "      <td>0</td>\n",
       "      <td>NaN</td>\n",
       "      <td>54</td>\n",
       "      <td>secondary education</td>\n",
       "      <td>1</td>\n",
       "      <td>civil partnership</td>\n",
       "      <td>1</td>\n",
       "      <td>F</td>\n",
       "      <td>retiree</td>\n",
       "      <td>1</td>\n",
       "      <td>NaN</td>\n",
       "      <td>to have a wedding</td>\n",
       "    </tr>\n",
       "    <tr>\n",
       "      <th>...</th>\n",
       "      <td>...</td>\n",
       "      <td>...</td>\n",
       "      <td>...</td>\n",
       "      <td>...</td>\n",
       "      <td>...</td>\n",
       "      <td>...</td>\n",
       "      <td>...</td>\n",
       "      <td>...</td>\n",
       "      <td>...</td>\n",
       "      <td>...</td>\n",
       "      <td>...</td>\n",
       "      <td>...</td>\n",
       "    </tr>\n",
       "    <tr>\n",
       "      <th>21489</th>\n",
       "      <td>2</td>\n",
       "      <td>NaN</td>\n",
       "      <td>47</td>\n",
       "      <td>Secondary Education</td>\n",
       "      <td>1</td>\n",
       "      <td>married</td>\n",
       "      <td>0</td>\n",
       "      <td>M</td>\n",
       "      <td>business</td>\n",
       "      <td>0</td>\n",
       "      <td>NaN</td>\n",
       "      <td>purchase of a car</td>\n",
       "    </tr>\n",
       "    <tr>\n",
       "      <th>21495</th>\n",
       "      <td>1</td>\n",
       "      <td>NaN</td>\n",
       "      <td>50</td>\n",
       "      <td>secondary education</td>\n",
       "      <td>1</td>\n",
       "      <td>civil partnership</td>\n",
       "      <td>1</td>\n",
       "      <td>F</td>\n",
       "      <td>employee</td>\n",
       "      <td>0</td>\n",
       "      <td>NaN</td>\n",
       "      <td>wedding ceremony</td>\n",
       "    </tr>\n",
       "    <tr>\n",
       "      <th>21497</th>\n",
       "      <td>0</td>\n",
       "      <td>NaN</td>\n",
       "      <td>48</td>\n",
       "      <td>BACHELOR'S DEGREE</td>\n",
       "      <td>0</td>\n",
       "      <td>married</td>\n",
       "      <td>0</td>\n",
       "      <td>F</td>\n",
       "      <td>business</td>\n",
       "      <td>0</td>\n",
       "      <td>NaN</td>\n",
       "      <td>building a property</td>\n",
       "    </tr>\n",
       "    <tr>\n",
       "      <th>21502</th>\n",
       "      <td>1</td>\n",
       "      <td>NaN</td>\n",
       "      <td>42</td>\n",
       "      <td>secondary education</td>\n",
       "      <td>1</td>\n",
       "      <td>married</td>\n",
       "      <td>0</td>\n",
       "      <td>F</td>\n",
       "      <td>employee</td>\n",
       "      <td>0</td>\n",
       "      <td>NaN</td>\n",
       "      <td>building a real estate</td>\n",
       "    </tr>\n",
       "    <tr>\n",
       "      <th>21510</th>\n",
       "      <td>2</td>\n",
       "      <td>NaN</td>\n",
       "      <td>28</td>\n",
       "      <td>secondary education</td>\n",
       "      <td>1</td>\n",
       "      <td>married</td>\n",
       "      <td>0</td>\n",
       "      <td>F</td>\n",
       "      <td>employee</td>\n",
       "      <td>0</td>\n",
       "      <td>NaN</td>\n",
       "      <td>car purchase</td>\n",
       "    </tr>\n",
       "  </tbody>\n",
       "</table>\n",
       "<p>2174 rows × 12 columns</p>\n",
       "</div>"
      ],
      "text/plain": [
       "       children  days_employed  dob_years            education  education_id  \\\n",
       "12            0            NaN         65  secondary education             1   \n",
       "26            0            NaN         41  secondary education             1   \n",
       "29            0            NaN         63  secondary education             1   \n",
       "41            0            NaN         50  secondary education             1   \n",
       "55            0            NaN         54  secondary education             1   \n",
       "...         ...            ...        ...                  ...           ...   \n",
       "21489         2            NaN         47  Secondary Education             1   \n",
       "21495         1            NaN         50  secondary education             1   \n",
       "21497         0            NaN         48    BACHELOR'S DEGREE             0   \n",
       "21502         1            NaN         42  secondary education             1   \n",
       "21510         2            NaN         28  secondary education             1   \n",
       "\n",
       "           family_status  family_status_id gender    income_type  debt  \\\n",
       "12     civil partnership                 1      M        retiree     0   \n",
       "26               married                 0      M  civil servant     0   \n",
       "29             unmarried                 4      F        retiree     0   \n",
       "41               married                 0      F  civil servant     0   \n",
       "55     civil partnership                 1      F        retiree     1   \n",
       "...                  ...               ...    ...            ...   ...   \n",
       "21489            married                 0      M       business     0   \n",
       "21495  civil partnership                 1      F       employee     0   \n",
       "21497            married                 0      F       business     0   \n",
       "21502            married                 0      F       employee     0   \n",
       "21510            married                 0      F       employee     0   \n",
       "\n",
       "       total_income                   purpose  \n",
       "12              NaN         to have a wedding  \n",
       "26              NaN                 education  \n",
       "29              NaN    building a real estate  \n",
       "41              NaN  second-hand car purchase  \n",
       "55              NaN         to have a wedding  \n",
       "...             ...                       ...  \n",
       "21489           NaN         purchase of a car  \n",
       "21495           NaN          wedding ceremony  \n",
       "21497           NaN       building a property  \n",
       "21502           NaN    building a real estate  \n",
       "21510           NaN              car purchase  \n",
       "\n",
       "[2174 rows x 12 columns]"
      ]
     },
     "execution_count": 6,
     "metadata": {},
     "output_type": "execute_result"
    }
   ],
   "source": [
    "# Let's apply multiple conditions for filtering data and look at the number of rows in the filtered table.\n",
    "\n",
    "data[data['days_employed'].isnull()]\n",
    "# rows with days_employed and total_income with NaN should be declined for a credit check immediatily"
   ]
  },
  {
   "cell_type": "code",
   "execution_count": 7,
   "metadata": {},
   "outputs": [
    {
     "name": "stdout",
     "output_type": "stream",
     "text": [
      "10.099883855981417\n"
     ]
    }
   ],
   "source": [
    "# Let's investigate clients who do not have data on identified characteristic and the column with the missing values.\n",
    "# Lets find the percentage of clients with missing values, as well as check if there is a dependence on missing values\n",
    "missing_data_percentage = data['days_employed'].isnull().sum() * 100 / len(data)\n",
    "print(missing_data_percentage)\n",
    "# Since its about 10% of the data that has missing values I think its best to replace them with 0, both in days_employed and total_income\n",
    "data['days_employed'].fillna(0, inplace=True)\n",
    "data['total_income'].fillna(0, inplace=True)"
   ]
  },
  {
   "cell_type": "code",
   "execution_count": 8,
   "metadata": {},
   "outputs": [],
   "source": [
    "# Checking distribution\n",
    "data.describe()\n",
    "# There is a few extreme outliers. Checking the std of days_employed is over double the mean. So we have to check that. \n",
    "# There is also a odd phenomemon of negative values showing up for days_employed and children. \n",
    "data['days_employed'] = data['days_employed'].abs()\n",
    "data['children'] = data['children'].abs()"
   ]
  },
  {
   "cell_type": "code",
   "execution_count": 9,
   "metadata": {},
   "outputs": [
    {
     "name": "stdout",
     "output_type": "stream",
     "text": [
      "           children  days_employed     dob_years  education_id  \\\n",
      "count  21525.000000   21525.000000  21525.000000  21525.000000   \n",
      "mean       0.543275   60156.419005     43.293380      0.817236   \n",
      "std        1.379876  133355.929525     12.574584      0.548138   \n",
      "min        0.000000       0.000000      0.000000      0.000000   \n",
      "25%        0.000000     610.652074     33.000000      1.000000   \n",
      "50%        0.000000    1808.053434     42.000000      1.000000   \n",
      "75%        1.000000    4779.587738     53.000000      1.000000   \n",
      "max       20.000000  401755.400475     75.000000      4.000000   \n",
      "\n",
      "       family_status_id          debt   total_income  \n",
      "count      21525.000000  21525.000000   21525.000000  \n",
      "mean           0.972544      0.080883   24082.055063  \n",
      "std            1.420324      0.272661   17583.554088  \n",
      "min            0.000000      0.000000       0.000000  \n",
      "25%            0.000000      0.000000   14178.053000  \n",
      "50%            0.000000      0.000000   21682.354000  \n",
      "75%            1.000000      0.000000   31286.979000  \n",
      "max            4.000000      1.000000  362496.645000  \n"
     ]
    }
   ],
   "source": [
    "# Checking the distribution in the whole dataset\n",
    "# I think the missing data may be a client side issue. The data may have been inputed wrong, im not really sure. \n",
    "# The percentage of missing values was hovering around 10%, \n",
    "# replaceing them with N/A shouldnt mess with the overall distribution to much\n",
    "print(data.describe())\n",
    "# As you can see there is still the issue of the std of days_employed being larger then the mean. \n",
    "# There must be a massive outlier. I will check for that next.\n",
    "data['days_employed'].max()\n",
    "# So there is the problem. Someone has 401755 days_employed. This is not possible. Consider the conversion 401755 / 365\n",
    "# It is simply not possible for a single client to live/ work 1100 years. I think removing this data is acceptable.\n",
    "# After a second review, I think removing any rows where days_employed is more then 84 years or 30660 days should be dropped.\n",
    "data = data.loc[data['days_employed'] <=30660]\n",
    "data = data.loc[data['days_employed'] > 0]"
   ]
  },
  {
   "cell_type": "code",
   "execution_count": 10,
   "metadata": {},
   "outputs": [
    {
     "data": {
      "text/plain": [
       "17437       24.141633\n",
       "8336        24.240695\n",
       "6157        30.195337\n",
       "9683        33.520665\n",
       "2127        34.701045\n",
       "             ...     \n",
       "16825    16119.687737\n",
       "17838    16264.699501\n",
       "7329     16593.472817\n",
       "4299     17615.563266\n",
       "16335    18388.949901\n",
       "Name: days_employed, Length: 15906, dtype: float64"
      ]
     },
     "execution_count": 10,
     "metadata": {},
     "output_type": "execute_result"
    }
   ],
   "source": [
    "data['days_employed'].sort_values()"
   ]
  },
  {
   "cell_type": "code",
   "execution_count": 11,
   "metadata": {},
   "outputs": [
    {
     "data": {
      "text/html": [
       "<div>\n",
       "<style scoped>\n",
       "    .dataframe tbody tr th:only-of-type {\n",
       "        vertical-align: middle;\n",
       "    }\n",
       "\n",
       "    .dataframe tbody tr th {\n",
       "        vertical-align: top;\n",
       "    }\n",
       "\n",
       "    .dataframe thead th {\n",
       "        text-align: right;\n",
       "    }\n",
       "</style>\n",
       "<table border=\"1\" class=\"dataframe\">\n",
       "  <thead>\n",
       "    <tr style=\"text-align: right;\">\n",
       "      <th></th>\n",
       "      <th>children</th>\n",
       "      <th>days_employed</th>\n",
       "      <th>dob_years</th>\n",
       "      <th>education_id</th>\n",
       "      <th>family_status_id</th>\n",
       "      <th>debt</th>\n",
       "      <th>total_income</th>\n",
       "    </tr>\n",
       "  </thead>\n",
       "  <tbody>\n",
       "    <tr>\n",
       "      <th>count</th>\n",
       "      <td>15832.000000</td>\n",
       "      <td>15832.000000</td>\n",
       "      <td>15832.000000</td>\n",
       "      <td>15832.000000</td>\n",
       "      <td>15832.000000</td>\n",
       "      <td>15832.000000</td>\n",
       "      <td>15832.000000</td>\n",
       "    </tr>\n",
       "    <tr>\n",
       "      <th>mean</th>\n",
       "      <td>0.629548</td>\n",
       "      <td>2353.729384</td>\n",
       "      <td>40.004358</td>\n",
       "      <td>0.799078</td>\n",
       "      <td>0.968734</td>\n",
       "      <td>0.087292</td>\n",
       "      <td>27845.801445</td>\n",
       "    </tr>\n",
       "    <tr>\n",
       "      <th>std</th>\n",
       "      <td>1.422459</td>\n",
       "      <td>2304.833760</td>\n",
       "      <td>10.333870</td>\n",
       "      <td>0.554859</td>\n",
       "      <td>1.441937</td>\n",
       "      <td>0.282271</td>\n",
       "      <td>17002.377475</td>\n",
       "    </tr>\n",
       "    <tr>\n",
       "      <th>min</th>\n",
       "      <td>0.000000</td>\n",
       "      <td>24.141633</td>\n",
       "      <td>19.000000</td>\n",
       "      <td>0.000000</td>\n",
       "      <td>0.000000</td>\n",
       "      <td>0.000000</td>\n",
       "      <td>3418.824000</td>\n",
       "    </tr>\n",
       "    <tr>\n",
       "      <th>25%</th>\n",
       "      <td>0.000000</td>\n",
       "      <td>755.647947</td>\n",
       "      <td>32.000000</td>\n",
       "      <td>0.000000</td>\n",
       "      <td>0.000000</td>\n",
       "      <td>0.000000</td>\n",
       "      <td>17333.593750</td>\n",
       "    </tr>\n",
       "    <tr>\n",
       "      <th>50%</th>\n",
       "      <td>0.000000</td>\n",
       "      <td>1630.691372</td>\n",
       "      <td>39.000000</td>\n",
       "      <td>1.000000</td>\n",
       "      <td>0.000000</td>\n",
       "      <td>0.000000</td>\n",
       "      <td>24178.614500</td>\n",
       "    </tr>\n",
       "    <tr>\n",
       "      <th>75%</th>\n",
       "      <td>1.000000</td>\n",
       "      <td>3157.797080</td>\n",
       "      <td>48.000000</td>\n",
       "      <td>1.000000</td>\n",
       "      <td>1.000000</td>\n",
       "      <td>0.000000</td>\n",
       "      <td>33834.833500</td>\n",
       "    </tr>\n",
       "    <tr>\n",
       "      <th>max</th>\n",
       "      <td>20.000000</td>\n",
       "      <td>18388.949901</td>\n",
       "      <td>75.000000</td>\n",
       "      <td>4.000000</td>\n",
       "      <td>4.000000</td>\n",
       "      <td>1.000000</td>\n",
       "      <td>362496.645000</td>\n",
       "    </tr>\n",
       "  </tbody>\n",
       "</table>\n",
       "</div>"
      ],
      "text/plain": [
       "           children  days_employed     dob_years  education_id  \\\n",
       "count  15832.000000   15832.000000  15832.000000  15832.000000   \n",
       "mean       0.629548    2353.729384     40.004358      0.799078   \n",
       "std        1.422459    2304.833760     10.333870      0.554859   \n",
       "min        0.000000      24.141633     19.000000      0.000000   \n",
       "25%        0.000000     755.647947     32.000000      0.000000   \n",
       "50%        0.000000    1630.691372     39.000000      1.000000   \n",
       "75%        1.000000    3157.797080     48.000000      1.000000   \n",
       "max       20.000000   18388.949901     75.000000      4.000000   \n",
       "\n",
       "       family_status_id          debt   total_income  \n",
       "count      15832.000000  15832.000000   15832.000000  \n",
       "mean           0.968734      0.087292   27845.801445  \n",
       "std            1.441937      0.282271   17002.377475  \n",
       "min            0.000000      0.000000    3418.824000  \n",
       "25%            0.000000      0.000000   17333.593750  \n",
       "50%            0.000000      0.000000   24178.614500  \n",
       "75%            1.000000      0.000000   33834.833500  \n",
       "max            4.000000      1.000000  362496.645000  "
      ]
     },
     "execution_count": 11,
     "metadata": {},
     "output_type": "execute_result"
    }
   ],
   "source": [
    "# Check for other reasons and patterns that could lead to missing values\n",
    "\n",
    "data['dob_years'].min()\n",
    "# There should not be any clients with 0 for age. \n",
    "data = data.loc[data['dob_years'] > 0]\n",
    "data.describe()"
   ]
  },
  {
   "cell_type": "markdown",
   "metadata": {},
   "source": [
    "I think that concludes all the missing values. I believe that most of them are accidental.\n",
    "Although dob_years having people at age 0 makes me think that the clients may have input there data incorrectly\n",
    "The loss of almost 6000 data points after corrections to issues in the data is a lot. 26% of our data is gone.\n",
    "However now the data is accurate. Less extremes at both the head end and the tail end.\n",
    "We are gonna focus on spelling mistakes and double checking the values we fixed earlier. Checking distributions, etc..."
   ]
  },
  {
   "cell_type": "code",
   "execution_count": 12,
   "metadata": {},
   "outputs": [
    {
     "data": {
      "text/plain": [
       "array([\"bachelor's degree\", 'secondary education', 'some college',\n",
       "       'primary education', 'graduate degree'], dtype=object)"
      ]
     },
     "execution_count": 12,
     "metadata": {},
     "output_type": "execute_result"
    }
   ],
   "source": [
    "# Let's see all values in education column to check if and what spellings will need to be fixed\n",
    "data['education'].unique()\n",
    "# There is 14 unique ids in 'education' 9 are duplicate ids. \n",
    "data['education'] = data['education'].str.lower()\n",
    "# That should solve the issue. Lets double check.\n",
    "data['education'].unique()\n",
    "# Awesome, looks like there is 5 ids left. 14-9 = 5"
   ]
  },
  {
   "cell_type": "code",
   "execution_count": 13,
   "metadata": {
    "scrolled": true
   },
   "outputs": [
    {
     "data": {
      "text/html": [
       "<div>\n",
       "<style scoped>\n",
       "    .dataframe tbody tr th:only-of-type {\n",
       "        vertical-align: middle;\n",
       "    }\n",
       "\n",
       "    .dataframe tbody tr th {\n",
       "        vertical-align: top;\n",
       "    }\n",
       "\n",
       "    .dataframe thead th {\n",
       "        text-align: right;\n",
       "    }\n",
       "</style>\n",
       "<table border=\"1\" class=\"dataframe\">\n",
       "  <thead>\n",
       "    <tr style=\"text-align: right;\">\n",
       "      <th></th>\n",
       "      <th>children</th>\n",
       "      <th>days_employed</th>\n",
       "      <th>dob_years</th>\n",
       "      <th>education</th>\n",
       "      <th>education_id</th>\n",
       "      <th>family_status</th>\n",
       "      <th>family_status_id</th>\n",
       "      <th>gender</th>\n",
       "      <th>income_type</th>\n",
       "      <th>debt</th>\n",
       "      <th>total_income</th>\n",
       "      <th>purpose</th>\n",
       "    </tr>\n",
       "  </thead>\n",
       "  <tbody>\n",
       "    <tr>\n",
       "      <th>0</th>\n",
       "      <td>1</td>\n",
       "      <td>8437.673028</td>\n",
       "      <td>42</td>\n",
       "      <td>bachelor's degree</td>\n",
       "      <td>0</td>\n",
       "      <td>married</td>\n",
       "      <td>0</td>\n",
       "      <td>F</td>\n",
       "      <td>employee</td>\n",
       "      <td>0</td>\n",
       "      <td>40620.102</td>\n",
       "      <td>purchase of the house</td>\n",
       "    </tr>\n",
       "    <tr>\n",
       "      <th>1</th>\n",
       "      <td>1</td>\n",
       "      <td>4024.803754</td>\n",
       "      <td>36</td>\n",
       "      <td>secondary education</td>\n",
       "      <td>1</td>\n",
       "      <td>married</td>\n",
       "      <td>0</td>\n",
       "      <td>F</td>\n",
       "      <td>employee</td>\n",
       "      <td>0</td>\n",
       "      <td>17932.802</td>\n",
       "      <td>car purchase</td>\n",
       "    </tr>\n",
       "    <tr>\n",
       "      <th>2</th>\n",
       "      <td>0</td>\n",
       "      <td>5623.422610</td>\n",
       "      <td>33</td>\n",
       "      <td>secondary education</td>\n",
       "      <td>1</td>\n",
       "      <td>married</td>\n",
       "      <td>0</td>\n",
       "      <td>M</td>\n",
       "      <td>employee</td>\n",
       "      <td>0</td>\n",
       "      <td>23341.752</td>\n",
       "      <td>purchase of the house</td>\n",
       "    </tr>\n",
       "    <tr>\n",
       "      <th>3</th>\n",
       "      <td>3</td>\n",
       "      <td>4124.747207</td>\n",
       "      <td>32</td>\n",
       "      <td>secondary education</td>\n",
       "      <td>1</td>\n",
       "      <td>married</td>\n",
       "      <td>0</td>\n",
       "      <td>M</td>\n",
       "      <td>employee</td>\n",
       "      <td>0</td>\n",
       "      <td>42820.568</td>\n",
       "      <td>supplementary education</td>\n",
       "    </tr>\n",
       "    <tr>\n",
       "      <th>5</th>\n",
       "      <td>0</td>\n",
       "      <td>926.185831</td>\n",
       "      <td>27</td>\n",
       "      <td>bachelor's degree</td>\n",
       "      <td>0</td>\n",
       "      <td>civil partnership</td>\n",
       "      <td>1</td>\n",
       "      <td>M</td>\n",
       "      <td>business</td>\n",
       "      <td>0</td>\n",
       "      <td>40922.170</td>\n",
       "      <td>purchase of the house</td>\n",
       "    </tr>\n",
       "    <tr>\n",
       "      <th>6</th>\n",
       "      <td>0</td>\n",
       "      <td>2879.202052</td>\n",
       "      <td>43</td>\n",
       "      <td>bachelor's degree</td>\n",
       "      <td>0</td>\n",
       "      <td>married</td>\n",
       "      <td>0</td>\n",
       "      <td>F</td>\n",
       "      <td>business</td>\n",
       "      <td>0</td>\n",
       "      <td>38484.156</td>\n",
       "      <td>housing transactions</td>\n",
       "    </tr>\n",
       "    <tr>\n",
       "      <th>7</th>\n",
       "      <td>0</td>\n",
       "      <td>152.779569</td>\n",
       "      <td>50</td>\n",
       "      <td>secondary education</td>\n",
       "      <td>1</td>\n",
       "      <td>married</td>\n",
       "      <td>0</td>\n",
       "      <td>M</td>\n",
       "      <td>employee</td>\n",
       "      <td>0</td>\n",
       "      <td>21731.829</td>\n",
       "      <td>education</td>\n",
       "    </tr>\n",
       "    <tr>\n",
       "      <th>8</th>\n",
       "      <td>2</td>\n",
       "      <td>6929.865299</td>\n",
       "      <td>35</td>\n",
       "      <td>bachelor's degree</td>\n",
       "      <td>0</td>\n",
       "      <td>civil partnership</td>\n",
       "      <td>1</td>\n",
       "      <td>F</td>\n",
       "      <td>employee</td>\n",
       "      <td>0</td>\n",
       "      <td>15337.093</td>\n",
       "      <td>having a wedding</td>\n",
       "    </tr>\n",
       "    <tr>\n",
       "      <th>9</th>\n",
       "      <td>0</td>\n",
       "      <td>2188.756445</td>\n",
       "      <td>41</td>\n",
       "      <td>secondary education</td>\n",
       "      <td>1</td>\n",
       "      <td>married</td>\n",
       "      <td>0</td>\n",
       "      <td>M</td>\n",
       "      <td>employee</td>\n",
       "      <td>0</td>\n",
       "      <td>23108.150</td>\n",
       "      <td>purchase of the house for my family</td>\n",
       "    </tr>\n",
       "    <tr>\n",
       "      <th>10</th>\n",
       "      <td>2</td>\n",
       "      <td>4171.483647</td>\n",
       "      <td>36</td>\n",
       "      <td>bachelor's degree</td>\n",
       "      <td>0</td>\n",
       "      <td>married</td>\n",
       "      <td>0</td>\n",
       "      <td>M</td>\n",
       "      <td>business</td>\n",
       "      <td>0</td>\n",
       "      <td>18230.959</td>\n",
       "      <td>buy real estate</td>\n",
       "    </tr>\n",
       "  </tbody>\n",
       "</table>\n",
       "</div>"
      ],
      "text/plain": [
       "    children  days_employed  dob_years            education  education_id  \\\n",
       "0          1    8437.673028         42    bachelor's degree             0   \n",
       "1          1    4024.803754         36  secondary education             1   \n",
       "2          0    5623.422610         33  secondary education             1   \n",
       "3          3    4124.747207         32  secondary education             1   \n",
       "5          0     926.185831         27    bachelor's degree             0   \n",
       "6          0    2879.202052         43    bachelor's degree             0   \n",
       "7          0     152.779569         50  secondary education             1   \n",
       "8          2    6929.865299         35    bachelor's degree             0   \n",
       "9          0    2188.756445         41  secondary education             1   \n",
       "10         2    4171.483647         36    bachelor's degree             0   \n",
       "\n",
       "        family_status  family_status_id gender income_type  debt  \\\n",
       "0             married                 0      F    employee     0   \n",
       "1             married                 0      F    employee     0   \n",
       "2             married                 0      M    employee     0   \n",
       "3             married                 0      M    employee     0   \n",
       "5   civil partnership                 1      M    business     0   \n",
       "6             married                 0      F    business     0   \n",
       "7             married                 0      M    employee     0   \n",
       "8   civil partnership                 1      F    employee     0   \n",
       "9             married                 0      M    employee     0   \n",
       "10            married                 0      M    business     0   \n",
       "\n",
       "    total_income                              purpose  \n",
       "0      40620.102                purchase of the house  \n",
       "1      17932.802                         car purchase  \n",
       "2      23341.752                purchase of the house  \n",
       "3      42820.568              supplementary education  \n",
       "5      40922.170                purchase of the house  \n",
       "6      38484.156                 housing transactions  \n",
       "7      21731.829                            education  \n",
       "8      15337.093                     having a wedding  \n",
       "9      23108.150  purchase of the house for my family  \n",
       "10     18230.959                      buy real estate  "
      ]
     },
     "execution_count": 13,
     "metadata": {},
     "output_type": "execute_result"
    }
   ],
   "source": [
    "# Fix the registers if required\n",
    "data.head(10)"
   ]
  },
  {
   "cell_type": "code",
   "execution_count": 15,
   "metadata": {},
   "outputs": [
    {
     "data": {
      "text/plain": [
       "count    15832.000000\n",
       "mean         0.629548\n",
       "std          1.422459\n",
       "min          0.000000\n",
       "25%          0.000000\n",
       "50%          0.000000\n",
       "75%          1.000000\n",
       "max         20.000000\n",
       "Name: children, dtype: float64"
      ]
     },
     "execution_count": 15,
     "metadata": {},
     "output_type": "execute_result"
    }
   ],
   "source": [
    "# Let's see the distribution of values in the `children` column\n",
    "data['children'].describe()"
   ]
  },
  {
   "cell_type": "code",
   "execution_count": 16,
   "metadata": {},
   "outputs": [
    {
     "data": {
      "text/plain": [
       "count    15773.000000\n",
       "mean         0.557091\n",
       "std          0.788736\n",
       "min          0.000000\n",
       "25%          0.000000\n",
       "50%          0.000000\n",
       "75%          1.000000\n",
       "max          5.000000\n",
       "Name: children, dtype: float64"
      ]
     },
     "execution_count": 16,
     "metadata": {},
     "output_type": "execute_result"
    }
   ],
   "source": [
    "# [fix the data based on your decision]\n",
    "# The data in the children column is pretty independant. Althought the std is much bigger then the mean.\n",
    "# I dont think that removing the 0's will not represent the data accurately. I think we should look at the top end.\n",
    "# Looking at the 20 max of children. We should cap it out at 15 children. Clients with 20 children have more to worry about.\n",
    "data['children'].sort_values()\n",
    "data = data.loc[data['children'] < 15]\n",
    "data['children'].describe()"
   ]
  },
  {
   "cell_type": "code",
   "execution_count": 17,
   "metadata": {},
   "outputs": [
    {
     "data": {
      "text/plain": [
       "count    15156.000000\n",
       "mean      2040.113640\n",
       "std       1689.907755\n",
       "min         24.141633\n",
       "25%        725.968190\n",
       "50%       1556.526599\n",
       "75%       2933.045951\n",
       "max       7814.557192\n",
       "Name: days_employed, dtype: float64"
      ]
     },
     "execution_count": 17,
     "metadata": {},
     "output_type": "execute_result"
    },
    {
     "data": {
      "image/png": "[encoded data removed]",
      "text/plain": [
       "<Figure size 432x288 with 1 Axes>"
      ]
     },
     "metadata": {
      "needs_background": "light"
     },
     "output_type": "display_data"
    }
   ],
   "source": [
    "# Find problematic data in `days_employed`, if they exist, and calculate the percentage\n",
    "\n",
    "# We should remove our data above 7815 days. This is the Q3 * 2.5\n",
    "data = data.loc[data['days_employed'] < 7815]\n",
    "data['days_employed'].hist(bins=1000)\n",
    "data['days_employed'].describe()"
   ]
  },
  {
   "cell_type": "code",
   "execution_count": 20,
   "metadata": {
    "scrolled": true
   },
   "outputs": [
    {
     "data": {
      "text/plain": [
       "count    15156.000000\n",
       "mean        39.561428\n",
       "std         10.214117\n",
       "min         19.000000\n",
       "25%         31.000000\n",
       "50%         39.000000\n",
       "75%         47.000000\n",
       "max         75.000000\n",
       "Name: dob_years, dtype: float64"
      ]
     },
     "execution_count": 20,
     "metadata": {},
     "output_type": "execute_result"
    }
   ],
   "source": [
    "# Check the `dob_years` for suspicious values and count the percentage\n",
    "data['dob_years'].describe()\n",
    "# dob_years there should be no minimum of 0, at least 18\n",
    "data = data.loc[data['dob_years'] > 18]\n",
    "data['dob_years'].describe()\n"
   ]
  },
  {
   "cell_type": "code",
   "execution_count": 21,
   "metadata": {},
   "outputs": [
    {
     "data": {
      "text/plain": [
       "array([19, 20, 21, 22, 23, 24, 25, 26, 27, 28, 29, 30, 31, 32, 33, 34, 35,\n",
       "       36, 37, 38, 39, 40, 41, 42, 43, 44, 45, 46, 47, 48, 49, 50, 51, 52,\n",
       "       53, 54, 55, 56, 57, 58, 59, 60, 61, 62, 63, 64, 65, 66, 67, 68, 69,\n",
       "       70, 71, 72, 73, 74, 75])"
      ]
     },
     "execution_count": 21,
     "metadata": {},
     "output_type": "execute_result"
    }
   ],
   "source": [
    "# Address the issues in the `dob_years` column, if they exist\n",
    "data['dob_years'].sort_values().unique()\n",
    "# There is no other problems in the dob years column"
   ]
  },
  {
   "cell_type": "code",
   "execution_count": 22,
   "metadata": {},
   "outputs": [
    {
     "data": {
      "text/plain": [
       "array(['civil partnership', 'divorced', 'married', 'unmarried',\n",
       "       'widow / widower'], dtype=object)"
      ]
     },
     "execution_count": 22,
     "metadata": {},
     "output_type": "execute_result"
    }
   ],
   "source": [
    "# Let's see the values for the column\n",
    "data['family_status'].sort_values().unique()\n",
    "# I don't see any problems with the data"
   ]
  },
  {
   "cell_type": "code",
   "execution_count": 23,
   "metadata": {},
   "outputs": [
    {
     "data": {
      "text/plain": [
       "array(['F', 'M', 'XNA'], dtype=object)"
      ]
     },
     "execution_count": 23,
     "metadata": {},
     "output_type": "execute_result"
    }
   ],
   "source": [
    "# Let's see the values in the column\n",
    "data['gender'].describe()\n",
    "# There are 3 unique values\n",
    "data['gender'].unique()"
   ]
  },
  {
   "cell_type": "code",
   "execution_count": 25,
   "metadata": {},
   "outputs": [
    {
     "data": {
      "text/plain": [
       "array(['employee', 'business', 'civil servant', 'student', 'entrepreneur',\n",
       "       'paternity / maternity leave'], dtype=object)"
      ]
     },
     "execution_count": 25,
     "metadata": {},
     "output_type": "execute_result"
    }
   ],
   "source": [
    "# Let's see the values in the column\n",
    "data['income_type'].describe()\n",
    "data['income_type'].unique()"
   ]
  },
  {
   "cell_type": "code",
   "execution_count": 27,
   "metadata": {},
   "outputs": [
    {
     "data": {
      "text/plain": [
       "0"
      ]
     },
     "execution_count": 27,
     "metadata": {},
     "output_type": "execute_result"
    }
   ],
   "source": [
    "# Checking duplicates\n",
    "data.duplicated().sum()\n"
   ]
  },
  {
   "cell_type": "code",
   "execution_count": 28,
   "metadata": {},
   "outputs": [
    {
     "data": {
      "text/plain": [
       "15156"
      ]
     },
     "execution_count": 28,
     "metadata": {},
     "output_type": "execute_result"
    }
   ],
   "source": [
    "# Check the size of the dataset that you now have after your first manipulations with it\n",
    "len(data)\n",
    "# 21525 => 14828 so a decrease of 31% of data points"
   ]
  },
  {
   "cell_type": "code",
   "execution_count": 29,
   "metadata": {},
   "outputs": [],
   "source": [
    "# Most of the extreme outliers have been removed, as well as data that didnt make sense.\n",
    "# Like people working more days then the human lifespan. \n",
    "# People's ages being younger then an age for a credit check."
   ]
  },
  {
   "cell_type": "markdown",
   "metadata": {},
   "source": [
    "# Working with missing values"
   ]
  },
  {
   "cell_type": "markdown",
   "metadata": {},
   "source": [
    "### Restoring missing values in `total_income`"
   ]
  },
  {
   "cell_type": "code",
   "execution_count": 31,
   "metadata": {},
   "outputs": [
    {
     "data": {
      "text/plain": [
       "1        17932.802\n",
       "2        23341.752\n",
       "3        42820.568\n",
       "5        40922.170\n",
       "6        38484.156\n",
       "           ...    \n",
       "21519    18551.846\n",
       "21520    35966.698\n",
       "21522    14347.610\n",
       "21523    39054.888\n",
       "21524    13127.587\n",
       "Name: total_income, Length: 15156, dtype: float64"
      ]
     },
     "execution_count": 31,
     "metadata": {},
     "output_type": "execute_result"
    }
   ],
   "source": [
    "# Let's write a function that calculates the age category\n",
    "data['age'] = data['dob_years']\n",
    "data['total_income'].mean()\n",
    "data['total_income'].replace(to_replace= 0, value= data['total_income'].mean())\n",
    "# We replaced all zero values in total_income to the mean for the column. This is because there is not to big of a spread,\n",
    "# in distrubtion. If it was wider, I would have used median."
   ]
  },
  {
   "cell_type": "code",
   "execution_count": 32,
   "metadata": {},
   "outputs": [
    {
     "data": {
      "text/plain": [
       "1     36\n",
       "2     33\n",
       "3     32\n",
       "5     27\n",
       "6     43\n",
       "7     50\n",
       "8     35\n",
       "9     41\n",
       "10    36\n",
       "11    40\n",
       "Name: age, dtype: int64"
      ]
     },
     "execution_count": 32,
     "metadata": {},
     "output_type": "execute_result"
    }
   ],
   "source": [
    "# Test if the function works\n",
    "data['age'].head(10)"
   ]
  },
  {
   "cell_type": "code",
   "execution_count": 36,
   "metadata": {},
   "outputs": [
    {
     "data": {
      "text/plain": [
       "27882.398210543673"
      ]
     },
     "execution_count": 36,
     "metadata": {},
     "output_type": "execute_result"
    },
    {
     "data": {
      "image/png": "[encoded data removed]",
      "text/plain": [
       "<Figure size 432x288 with 1 Axes>"
      ]
     },
     "metadata": {
      "needs_background": "light"
     },
     "output_type": "display_data"
    }
   ],
   "source": [
    "# Look at the mean values for income based on your identified factors\n",
    "data['total_income'].hist()\n",
    "data['total_income'].mean()"
   ]
  },
  {
   "cell_type": "code",
   "execution_count": 37,
   "metadata": {
    "scrolled": true
   },
   "outputs": [
    {
     "data": {
      "text/plain": [
       "24224.872499999998"
      ]
     },
     "execution_count": 37,
     "metadata": {},
     "output_type": "execute_result"
    }
   ],
   "source": [
    "# Look at the median values for income based on your identified factors\n",
    "data['total_income'].median()\n",
    "# The data is not spread out very much, it is consolidated in the 0 - 50000 range.\n",
    "# I think the mean would be best because of the high volume of data in that range."
   ]
  },
  {
   "cell_type": "code",
   "execution_count": 39,
   "metadata": {},
   "outputs": [
    {
     "data": {
      "text/plain": [
       "15156"
      ]
     },
     "execution_count": 39,
     "metadata": {},
     "output_type": "execute_result"
    }
   ],
   "source": [
    "# Checking the number of entries in the columns\n",
    "len(data['total_income'])\n",
    "len(data['age'])\n",
    "# Matches all other columns\n"
   ]
  },
  {
   "cell_type": "markdown",
   "metadata": {},
   "source": [
    "###  Restoring values in `days_employed`"
   ]
  },
  {
   "cell_type": "code",
   "execution_count": 40,
   "metadata": {
    "pycharm": {
     "name": "#%%\n"
    }
   },
   "outputs": [
    {
     "data": {
      "text/plain": [
       "<AxesSubplot:>"
      ]
     },
     "execution_count": 40,
     "metadata": {},
     "output_type": "execute_result"
    },
    {
     "data": {
      "image/png": "[encoded data removed]",
      "text/plain": [
       "<Figure size 432x288 with 1 Axes>"
      ]
     },
     "metadata": {
      "needs_background": "light"
     },
     "output_type": "display_data"
    }
   ],
   "source": [
    "# Distribution of `days_employed` medians based on your identified parameters\n",
    "data['days_employed'].describe()\n",
    "data['days_employed'].hist()\n",
    "\n"
   ]
  },
  {
   "cell_type": "code",
   "execution_count": 41,
   "metadata": {},
   "outputs": [],
   "source": [
    "# Let's write a function that calculates means or medians (depending on your decision) based on your identified parameter\n",
    "# since there is a portion of the data that is grouped on the low end I think a mean should work best."
   ]
  },
  {
   "cell_type": "code",
   "execution_count": 42,
   "metadata": {},
   "outputs": [
    {
     "data": {
      "text/plain": [
       "1556.5265993694752"
      ]
     },
     "execution_count": 42,
     "metadata": {},
     "output_type": "execute_result"
    }
   ],
   "source": [
    "# Check that the function works\n",
    "data['days_employed'].median()\n"
   ]
  },
  {
   "cell_type": "markdown",
   "metadata": {},
   "source": [
    "With the spread of data being more distributed. I believe that the median would be a better measurement of the data."
   ]
  },
  {
   "cell_type": "code",
   "execution_count": 44,
   "metadata": {},
   "outputs": [
    {
     "data": {
      "text/plain": [
       "1        4024.803754\n",
       "2        5623.422610\n",
       "3        4124.747207\n",
       "5         926.185831\n",
       "6        2879.202052\n",
       "            ...     \n",
       "21519    2351.431934\n",
       "21520    4529.316663\n",
       "21522    2113.346888\n",
       "21523    3112.481705\n",
       "21524    1984.507589\n",
       "Name: days_employed, Length: 15156, dtype: float64"
      ]
     },
     "execution_count": 44,
     "metadata": {},
     "output_type": "execute_result"
    }
   ],
   "source": [
    "# Apply function to the income_type\n",
    "data['days_employed'].replace(to_replace= 0, value= 1556.5265993694752)\n"
   ]
  },
  {
   "cell_type": "code",
   "execution_count": 45,
   "metadata": {},
   "outputs": [
    {
     "data": {
      "text/plain": [
       "<AxesSubplot:>"
      ]
     },
     "execution_count": 45,
     "metadata": {},
     "output_type": "execute_result"
    },
    {
     "data": {
      "image/png": "[encoded data removed]",
      "text/plain": [
       "<Figure size 432x288 with 1 Axes>"
      ]
     },
     "metadata": {
      "needs_background": "light"
     },
     "output_type": "display_data"
    }
   ],
   "source": [
    "# Check if function worked\n",
    "\n",
    "data['days_employed'].hist()"
   ]
  },
  {
   "cell_type": "code",
   "execution_count": 46,
   "metadata": {},
   "outputs": [
    {
     "name": "stdout",
     "output_type": "stream",
     "text": [
      "362496.645\n"
     ]
    }
   ],
   "source": [
    "# Replacing missing values\n",
    "\n",
    "print(data['total_income'].max())"
   ]
  },
  {
   "cell_type": "code",
   "execution_count": 47,
   "metadata": {},
   "outputs": [
    {
     "data": {
      "text/plain": [
       "15156"
      ]
     },
     "execution_count": 47,
     "metadata": {},
     "output_type": "execute_result"
    }
   ],
   "source": [
    "# Check the entries in all columns - make sure we fixed all missing values\n",
    "# Looks good to me\n",
    "len(data['total_income'])"
   ]
  },
  {
   "cell_type": "markdown",
   "metadata": {},
   "source": [
    "## Categorization of data\n",
    "\n",
    "[To answer the questions and test the hypotheses, you will want to work with categorized data. Look at the questions that were posed to you and that you should answer. Think about which of the data will need to be categorized to answer these questions. Below you will find a template through which you can work your way when categorizing data. The first step-by-step processing covers the text data; the second one addresses the numerical data that needs to be categorized. You can use both or none of the suggested instructions - it's up to you.]\n",
    "\n",
    "[Despite of how you decide to address the categorization, make sure to provide clear explanation of why you made your decision. Remember: this is your work and you make all decisions in it.]\n"
   ]
  },
  {
   "cell_type": "code",
   "execution_count": 48,
   "metadata": {
    "scrolled": true
   },
   "outputs": [],
   "source": [
    "# Print the values for your selected data for categorization\n",
    "# I decided to categorize total_income into 5 distinct categories.\n",
    "# Each of the distinct categories are at 25%, 50%, 75% and max \n",
    "def categorization_of_income(income):\n",
    "    if income <= 17374:\n",
    "        return 'low'\n",
    "    elif income <= 24224 and income > 17374:\n",
    "        return 'medium'\n",
    "    elif income <= 33872 and income > 24224:\n",
    "        return 'high'\n",
    "    elif income > 33872:\n",
    "        return 'exceptionally high'"
   ]
  },
  {
   "cell_type": "code",
   "execution_count": 49,
   "metadata": {},
   "outputs": [],
   "source": [
    "data['categorized_income'] = data['total_income'].apply(categorization_of_income)"
   ]
  },
  {
   "cell_type": "code",
   "execution_count": 50,
   "metadata": {},
   "outputs": [
    {
     "data": {
      "text/plain": [
       "count                  15156\n",
       "unique                     4\n",
       "top       exceptionally high\n",
       "freq                    3790\n",
       "Name: categorized_income, dtype: object"
      ]
     },
     "execution_count": 50,
     "metadata": {},
     "output_type": "execute_result"
    }
   ],
   "source": [
    "data['categorized_income'].describe()\n"
   ]
  },
  {
   "cell_type": "code",
   "execution_count": 51,
   "metadata": {},
   "outputs": [
    {
     "name": "stdout",
     "output_type": "stream",
     "text": [
      "categorized_income  exceptionally high  high   low  medium\n",
      "debt                                                      \n",
      "0                                 3510  3440  3432    3425\n",
      "1                                  280   349   357     363\n"
     ]
    }
   ],
   "source": [
    "\n",
    "cat_incomedebt_crosstab = pd.crosstab(\n",
    "    index= data['debt'], columns = data['categorized_income']\n",
    ")\n",
    "print(cat_incomedebt_crosstab)\n",
    "# low and 0.10\n",
    "# medium and 0.105\n",
    "# high and 0.101\n",
    "# ehigh and 0.07"
   ]
  },
  {
   "cell_type": "code",
   "execution_count": 52,
   "metadata": {
    "scrolled": true
   },
   "outputs": [
    {
     "data": {
      "text/plain": [
       "count                  15156\n",
       "unique                     4\n",
       "top       exceptionally high\n",
       "freq                    3790\n",
       "Name: categorized_income, dtype: object"
      ]
     },
     "execution_count": 52,
     "metadata": {},
     "output_type": "execute_result"
    }
   ],
   "source": [
    "# Count each categories values to see the distribution\n",
    "data['categorized_income'].describe()"
   ]
  },
  {
   "cell_type": "code",
   "execution_count": 53,
   "metadata": {},
   "outputs": [],
   "source": [
    "def categorization_of_purpose(purpose):\n",
    "    if 'car' in purpose:\n",
    "        return 'car-related'\n",
    "    elif 'property' in purpose:\n",
    "        return 'property-related'\n",
    "    elif 'education' in purpose:\n",
    "        return 'education-related'\n",
    "    elif 'estate' in purpose:\n",
    "        return 'estate-related'\n",
    "    elif 'housing' in purpose:\n",
    "        return 'property-related'\n",
    "    elif 'university' in purpose:\n",
    "        return 'education-related'\n",
    "    elif 'wedding' in purpose:\n",
    "        return 'wedding-related'\n",
    "    elif 'house' in purpose:\n",
    "        return 'property-related'\n",
    "data['categorized_purpose'] = data['purpose'].apply(categorization_of_purpose)"
   ]
  },
  {
   "cell_type": "code",
   "execution_count": 54,
   "metadata": {},
   "outputs": [
    {
     "data": {
      "text/plain": [
       "array(['car purchase', 'purchase of the house', 'supplementary education',\n",
       "       'housing transactions', 'education', 'having a wedding',\n",
       "       'purchase of the house for my family', 'buy real estate',\n",
       "       'buy commercial real estate', 'buy residential real estate',\n",
       "       'construction of own property', 'property', 'building a property',\n",
       "       'buying a second-hand car', 'to have a wedding', 'housing',\n",
       "       'transactions with my real estate', 'cars', 'to become educated',\n",
       "       'getting an education', 'buying my own car',\n",
       "       'second-hand car purchase', 'car', 'wedding ceremony',\n",
       "       'to get a supplementary education', 'purchase of my own house',\n",
       "       'real estate transactions',\n",
       "       'transactions with commercial real estate', 'to own a car',\n",
       "       'purchase of a car', 'profile education', 'university education',\n",
       "       'to buy a car', 'buying property for renting out',\n",
       "       'building a real estate', 'housing renovation',\n",
       "       'getting higher education', 'going to university'], dtype=object)"
      ]
     },
     "execution_count": 54,
     "metadata": {},
     "output_type": "execute_result"
    }
   ],
   "source": [
    "data['purpose'].unique()"
   ]
  },
  {
   "cell_type": "markdown",
   "metadata": {},
   "source": [
    "## Checking the Hypotheses\n"
   ]
  },
  {
   "cell_type": "markdown",
   "metadata": {},
   "source": [
    "**Is there a correlation between having children and paying back on time?**"
   ]
  },
  {
   "cell_type": "code",
   "execution_count": 55,
   "metadata": {},
   "outputs": [
    {
     "name": "stdout",
     "output_type": "stream",
     "text": [
      "children     0     1     2    3   4  5\n",
      "debt                                  \n",
      "0         8257  3623  1623  266  30  8\n",
      "1          762   388   175   21   3  0\n"
     ]
    },
    {
     "data": {
      "text/html": [
       "<div>\n",
       "<style scoped>\n",
       "    .dataframe tbody tr th:only-of-type {\n",
       "        vertical-align: middle;\n",
       "    }\n",
       "\n",
       "    .dataframe tbody tr th {\n",
       "        vertical-align: top;\n",
       "    }\n",
       "\n",
       "    .dataframe thead th {\n",
       "        text-align: right;\n",
       "    }\n",
       "</style>\n",
       "<table border=\"1\" class=\"dataframe\">\n",
       "  <thead>\n",
       "    <tr style=\"text-align: right;\">\n",
       "      <th></th>\n",
       "      <th>children</th>\n",
       "      <th>days_employed</th>\n",
       "      <th>dob_years</th>\n",
       "      <th>education_id</th>\n",
       "      <th>family_status_id</th>\n",
       "      <th>debt</th>\n",
       "      <th>total_income</th>\n",
       "      <th>age</th>\n",
       "    </tr>\n",
       "  </thead>\n",
       "  <tbody>\n",
       "    <tr>\n",
       "      <th>children</th>\n",
       "      <td>1.000000</td>\n",
       "      <td>-0.005044</td>\n",
       "      <td>-0.220890</td>\n",
       "      <td>-0.006444</td>\n",
       "      <td>-0.186916</td>\n",
       "      <td>0.012810</td>\n",
       "      <td>-0.005687</td>\n",
       "      <td>-0.220890</td>\n",
       "    </tr>\n",
       "    <tr>\n",
       "      <th>days_employed</th>\n",
       "      <td>-0.005044</td>\n",
       "      <td>1.000000</td>\n",
       "      <td>0.247937</td>\n",
       "      <td>-0.025912</td>\n",
       "      <td>-0.086357</td>\n",
       "      <td>-0.065240</td>\n",
       "      <td>0.051811</td>\n",
       "      <td>0.247937</td>\n",
       "    </tr>\n",
       "    <tr>\n",
       "      <th>dob_years</th>\n",
       "      <td>-0.220890</td>\n",
       "      <td>0.247937</td>\n",
       "      <td>1.000000</td>\n",
       "      <td>0.014388</td>\n",
       "      <td>-0.108276</td>\n",
       "      <td>-0.052118</td>\n",
       "      <td>0.049128</td>\n",
       "      <td>1.000000</td>\n",
       "    </tr>\n",
       "    <tr>\n",
       "      <th>education_id</th>\n",
       "      <td>-0.006444</td>\n",
       "      <td>-0.025912</td>\n",
       "      <td>0.014388</td>\n",
       "      <td>1.000000</td>\n",
       "      <td>0.015012</td>\n",
       "      <td>0.066279</td>\n",
       "      <td>-0.171763</td>\n",
       "      <td>0.014388</td>\n",
       "    </tr>\n",
       "    <tr>\n",
       "      <th>family_status_id</th>\n",
       "      <td>-0.186916</td>\n",
       "      <td>-0.086357</td>\n",
       "      <td>-0.108276</td>\n",
       "      <td>0.015012</td>\n",
       "      <td>1.000000</td>\n",
       "      <td>0.025691</td>\n",
       "      <td>-0.012766</td>\n",
       "      <td>-0.108276</td>\n",
       "    </tr>\n",
       "    <tr>\n",
       "      <th>debt</th>\n",
       "      <td>0.012810</td>\n",
       "      <td>-0.065240</td>\n",
       "      <td>-0.052118</td>\n",
       "      <td>0.066279</td>\n",
       "      <td>0.025691</td>\n",
       "      <td>1.000000</td>\n",
       "      <td>-0.022205</td>\n",
       "      <td>-0.052118</td>\n",
       "    </tr>\n",
       "    <tr>\n",
       "      <th>total_income</th>\n",
       "      <td>-0.005687</td>\n",
       "      <td>0.051811</td>\n",
       "      <td>0.049128</td>\n",
       "      <td>-0.171763</td>\n",
       "      <td>-0.012766</td>\n",
       "      <td>-0.022205</td>\n",
       "      <td>1.000000</td>\n",
       "      <td>0.049128</td>\n",
       "    </tr>\n",
       "    <tr>\n",
       "      <th>age</th>\n",
       "      <td>-0.220890</td>\n",
       "      <td>0.247937</td>\n",
       "      <td>1.000000</td>\n",
       "      <td>0.014388</td>\n",
       "      <td>-0.108276</td>\n",
       "      <td>-0.052118</td>\n",
       "      <td>0.049128</td>\n",
       "      <td>1.000000</td>\n",
       "    </tr>\n",
       "  </tbody>\n",
       "</table>\n",
       "</div>"
      ],
      "text/plain": [
       "                  children  days_employed  dob_years  education_id  \\\n",
       "children          1.000000      -0.005044  -0.220890     -0.006444   \n",
       "days_employed    -0.005044       1.000000   0.247937     -0.025912   \n",
       "dob_years        -0.220890       0.247937   1.000000      0.014388   \n",
       "education_id     -0.006444      -0.025912   0.014388      1.000000   \n",
       "family_status_id -0.186916      -0.086357  -0.108276      0.015012   \n",
       "debt              0.012810      -0.065240  -0.052118      0.066279   \n",
       "total_income     -0.005687       0.051811   0.049128     -0.171763   \n",
       "age              -0.220890       0.247937   1.000000      0.014388   \n",
       "\n",
       "                  family_status_id      debt  total_income       age  \n",
       "children                 -0.186916  0.012810     -0.005687 -0.220890  \n",
       "days_employed            -0.086357 -0.065240      0.051811  0.247937  \n",
       "dob_years                -0.108276 -0.052118      0.049128  1.000000  \n",
       "education_id              0.015012  0.066279     -0.171763  0.014388  \n",
       "family_status_id          1.000000  0.025691     -0.012766 -0.108276  \n",
       "debt                      0.025691  1.000000     -0.022205 -0.052118  \n",
       "total_income             -0.012766 -0.022205      1.000000  0.049128  \n",
       "age                      -0.108276 -0.052118      0.049128  1.000000  "
      ]
     },
     "execution_count": 55,
     "metadata": {},
     "output_type": "execute_result"
    }
   ],
   "source": [
    "# Check the children data and paying back on time\n",
    "childrendebt_crosstab = pd.crosstab(\n",
    "    index= data['debt'], columns = data['children']\n",
    ")\n",
    "# Calculating default-rate based on the number of children\n",
    "\n",
    "print(childrendebt_crosstab)\n",
    "# I am gonna record the percentages of debt/children here\n",
    "# children=0 debt ratio= 0.09\n",
    "# children=1 debt ratio= 0.107\n",
    "# children=2 debt ratio= 0.107\n",
    "# children=3 debt ratio= 0.078\n",
    "# children=4 debt ratio= 0.1\n",
    "# children=5 debt ratio= 0\n",
    "data.corr()\n",
    "# children and debt have a very small positive correlation"
   ]
  },
  {
   "cell_type": "markdown",
   "metadata": {},
   "source": [
    "**Is there a correlation between family status and paying back on time?**"
   ]
  },
  {
   "cell_type": "code",
   "execution_count": 56,
   "metadata": {},
   "outputs": [
    {
     "data": {
      "text/html": [
       "<div>\n",
       "<style scoped>\n",
       "    .dataframe tbody tr th:only-of-type {\n",
       "        vertical-align: middle;\n",
       "    }\n",
       "\n",
       "    .dataframe tbody tr th {\n",
       "        vertical-align: top;\n",
       "    }\n",
       "\n",
       "    .dataframe thead th {\n",
       "        text-align: right;\n",
       "    }\n",
       "</style>\n",
       "<table border=\"1\" class=\"dataframe\">\n",
       "  <thead>\n",
       "    <tr style=\"text-align: right;\">\n",
       "      <th></th>\n",
       "      <th>Count</th>\n",
       "      <th>Sum</th>\n",
       "      <th>Mean</th>\n",
       "    </tr>\n",
       "    <tr>\n",
       "      <th>family_status_id</th>\n",
       "      <th></th>\n",
       "      <th></th>\n",
       "      <th></th>\n",
       "    </tr>\n",
       "  </thead>\n",
       "  <tbody>\n",
       "    <tr>\n",
       "      <th>0</th>\n",
       "      <td>8817</td>\n",
       "      <td>727</td>\n",
       "      <td>0.082454</td>\n",
       "    </tr>\n",
       "    <tr>\n",
       "      <th>1</th>\n",
       "      <td>3010</td>\n",
       "      <td>301</td>\n",
       "      <td>0.100000</td>\n",
       "    </tr>\n",
       "    <tr>\n",
       "      <th>2</th>\n",
       "      <td>350</td>\n",
       "      <td>23</td>\n",
       "      <td>0.065714</td>\n",
       "    </tr>\n",
       "    <tr>\n",
       "      <th>3</th>\n",
       "      <td>836</td>\n",
       "      <td>62</td>\n",
       "      <td>0.074163</td>\n",
       "    </tr>\n",
       "    <tr>\n",
       "      <th>4</th>\n",
       "      <td>2143</td>\n",
       "      <td>236</td>\n",
       "      <td>0.110126</td>\n",
       "    </tr>\n",
       "  </tbody>\n",
       "</table>\n",
       "</div>"
      ],
      "text/plain": [
       "                  Count  Sum      Mean\n",
       "family_status_id                      \n",
       "0                  8817  727  0.082454\n",
       "1                  3010  301  0.100000\n",
       "2                   350   23  0.065714\n",
       "3                   836   62  0.074163\n",
       "4                  2143  236  0.110126"
      ]
     },
     "execution_count": 56,
     "metadata": {},
     "output_type": "execute_result"
    }
   ],
   "source": [
    "# Check the family status data and paying back on time\n",
    "# There is a very small correlation between family status and debt\n",
    "data.groupby('family_status_id')['debt'].agg(Count='count', Sum='sum', Mean = 'mean')\n",
    "# Calculating default-rate based on family status\n",
    "# 0 and 0.089\n",
    "# 1 and 0.111\n",
    "# 2 and 0.07\n",
    "# 3 and 0.08\n",
    "# 4 and 0.12"
   ]
  },
  {
   "cell_type": "markdown",
   "metadata": {},
   "source": [
    "**Is there a correlation between income level and paying back on time?**"
   ]
  },
  {
   "cell_type": "code",
   "execution_count": 57,
   "metadata": {},
   "outputs": [
    {
     "name": "stdout",
     "output_type": "stream",
     "text": [
      "categorized_income  exceptionally high  high   low  medium\n",
      "debt                                                      \n",
      "0                                 3510  3440  3432    3425\n",
      "1                                  280   349   357     363\n"
     ]
    }
   ],
   "source": [
    "# Check the income level data and paying back on time\n",
    "cat_incomedebt_crosstab = pd.crosstab(\n",
    "    index= data['debt'], columns = data['categorized_income']\n",
    ")\n",
    "print(cat_incomedebt_crosstab)\n",
    "# low and 0.10\n",
    "# medium and 0.105\n",
    "# high and 0.101\n",
    "# ehigh and 0.07\n",
    "\n",
    "\n",
    "# Calculating default-rate based on income level\n",
    "# There is a small correlation with increased income level and a lower chance of debt\n"
   ]
  },
  {
   "cell_type": "markdown",
   "metadata": {},
   "source": [
    "**How does credit purpose affect the default rate?**"
   ]
  },
  {
   "cell_type": "code",
   "execution_count": 58,
   "metadata": {},
   "outputs": [
    {
     "name": "stdout",
     "output_type": "stream",
     "text": [
      "debt                    0    1\n",
      "categorized_purpose           \n",
      "car-related          2715  311\n",
      "education-related    2280  254\n",
      "estate-related       2877  274\n",
      "property-related     4181  350\n",
      "wedding-related      1499  132\n",
      "categorized_purpose\n",
      "car-related          0.114549\n",
      "education-related    0.111404\n",
      "estate-related       0.095238\n",
      "property-related     0.083712\n",
      "wedding-related      0.088059\n",
      "Name: new_col, dtype: float64\n"
     ]
    }
   ],
   "source": [
    "# Check the percentages for default rate for each credit purpose and analyze them\n",
    "creditdebt_crosstab = pd.crosstab(\n",
    "    index= data['categorized_purpose'], columns = data['debt']\n",
    ")\n",
    "print(creditdebt_crosstab)\n",
    "creditdebt_crosstab.reset_index()\n",
    "creditdebt_crosstab['new_col'] = creditdebt_crosstab[1]/creditdebt_crosstab[0]\n",
    "# Percentages are stored in creditdebt_crosstab['new_col']\n",
    "print(creditdebt_crosstab['new_col'])"
   ]
  },
  {
   "cell_type": "markdown",
   "metadata": {},
   "source": [
    "# General Conclusion \n",
    "\n",
    "[We replaced missing values with the mean or median of the column based on our intuition and the distirbuiton of the data. After completing that task we then categorized the data within the dataset to allow analysis to happen in a much easier way. We discovered that after categorizing the data that people who financed a new car/ a second hand car had the highest probablilty to have debt.I recommened not approving loans on cars without further information.]\n",
    "\n",
    "[List your conclusions regarding the posed questions here as well.]\n"
   ]
  }
 ],
 "metadata": {
  "ExecuteTimeLog": [
   {
    "duration": 2741,
    "start_time": "2021-10-21T01:08:49.480Z"
   },
   {
    "duration": 52,
    "start_time": "2021-10-21T01:08:53.315Z"
   },
   {
    "duration": 49,
    "start_time": "2021-10-21T01:08:57.432Z"
   },
   {
    "duration": 70,
    "start_time": "2021-10-21T01:09:07.706Z"
   },
   {
    "duration": 537,
    "start_time": "2022-08-27T16:18:00.218Z"
   },
   {
    "duration": 78,
    "start_time": "2022-08-27T16:18:59.489Z"
   },
   {
    "duration": 91,
    "start_time": "2022-08-27T16:19:13.926Z"
   },
   {
    "duration": 177,
    "start_time": "2022-08-27T16:20:15.558Z"
   },
   {
    "duration": 56,
    "start_time": "2022-08-27T16:21:09.910Z"
   },
   {
    "duration": 92,
    "start_time": "2022-08-27T16:23:19.509Z"
   },
   {
    "duration": 75,
    "start_time": "2022-08-27T16:23:26.032Z"
   },
   {
    "duration": 40,
    "start_time": "2022-08-27T16:24:26.659Z"
   },
   {
    "duration": 430,
    "start_time": "2022-08-27T16:24:36.577Z"
   },
   {
    "duration": 533,
    "start_time": "2022-08-27T16:36:00.830Z"
   },
   {
    "duration": 0,
    "start_time": "2022-08-27T16:36:01.367Z"
   },
   {
    "duration": 0,
    "start_time": "2022-08-27T16:36:01.368Z"
   },
   {
    "duration": 0,
    "start_time": "2022-08-27T16:36:01.369Z"
   },
   {
    "duration": 0,
    "start_time": "2022-08-27T16:36:01.370Z"
   },
   {
    "duration": 0,
    "start_time": "2022-08-27T16:36:01.371Z"
   },
   {
    "duration": 0,
    "start_time": "2022-08-27T16:36:01.372Z"
   },
   {
    "duration": 0,
    "start_time": "2022-08-27T16:36:01.373Z"
   },
   {
    "duration": 0,
    "start_time": "2022-08-27T16:36:01.374Z"
   },
   {
    "duration": 0,
    "start_time": "2022-08-27T16:36:01.375Z"
   },
   {
    "duration": 0,
    "start_time": "2022-08-27T16:36:01.376Z"
   },
   {
    "duration": 0,
    "start_time": "2022-08-27T16:36:01.377Z"
   },
   {
    "duration": 0,
    "start_time": "2022-08-27T16:36:01.378Z"
   },
   {
    "duration": 0,
    "start_time": "2022-08-27T16:36:01.392Z"
   },
   {
    "duration": 0,
    "start_time": "2022-08-27T16:36:01.393Z"
   },
   {
    "duration": 0,
    "start_time": "2022-08-27T16:36:01.394Z"
   },
   {
    "duration": 0,
    "start_time": "2022-08-27T16:36:01.395Z"
   },
   {
    "duration": 0,
    "start_time": "2022-08-27T16:36:01.395Z"
   },
   {
    "duration": 0,
    "start_time": "2022-08-27T16:36:01.396Z"
   },
   {
    "duration": 0,
    "start_time": "2022-08-27T16:36:01.397Z"
   },
   {
    "duration": 0,
    "start_time": "2022-08-27T16:36:01.398Z"
   },
   {
    "duration": 0,
    "start_time": "2022-08-27T16:36:01.399Z"
   },
   {
    "duration": 0,
    "start_time": "2022-08-27T16:36:01.400Z"
   },
   {
    "duration": 0,
    "start_time": "2022-08-27T16:36:01.401Z"
   },
   {
    "duration": 1,
    "start_time": "2022-08-27T16:36:01.402Z"
   },
   {
    "duration": 1,
    "start_time": "2022-08-27T16:36:01.403Z"
   },
   {
    "duration": 0,
    "start_time": "2022-08-27T16:36:01.404Z"
   },
   {
    "duration": 0,
    "start_time": "2022-08-27T16:36:01.405Z"
   },
   {
    "duration": 0,
    "start_time": "2022-08-27T16:36:01.406Z"
   },
   {
    "duration": 0,
    "start_time": "2022-08-27T16:36:01.407Z"
   },
   {
    "duration": 0,
    "start_time": "2022-08-27T16:36:01.408Z"
   },
   {
    "duration": 0,
    "start_time": "2022-08-27T16:36:01.409Z"
   },
   {
    "duration": 0,
    "start_time": "2022-08-27T16:36:01.410Z"
   },
   {
    "duration": 0,
    "start_time": "2022-08-27T16:36:01.411Z"
   },
   {
    "duration": 0,
    "start_time": "2022-08-27T16:36:01.412Z"
   },
   {
    "duration": 0,
    "start_time": "2022-08-27T16:36:01.413Z"
   },
   {
    "duration": 0,
    "start_time": "2022-08-27T16:36:01.414Z"
   },
   {
    "duration": 0,
    "start_time": "2022-08-27T16:36:01.415Z"
   },
   {
    "duration": 0,
    "start_time": "2022-08-27T16:36:01.416Z"
   },
   {
    "duration": 0,
    "start_time": "2022-08-27T16:36:01.417Z"
   },
   {
    "duration": 0,
    "start_time": "2022-08-27T16:36:01.418Z"
   },
   {
    "duration": 0,
    "start_time": "2022-08-27T16:36:01.419Z"
   },
   {
    "duration": 0,
    "start_time": "2022-08-27T16:36:01.420Z"
   },
   {
    "duration": 0,
    "start_time": "2022-08-27T16:36:01.421Z"
   },
   {
    "duration": 0,
    "start_time": "2022-08-27T16:36:01.424Z"
   },
   {
    "duration": 0,
    "start_time": "2022-08-27T16:36:01.425Z"
   },
   {
    "duration": 0,
    "start_time": "2022-08-27T16:36:01.426Z"
   },
   {
    "duration": 0,
    "start_time": "2022-08-27T16:36:01.427Z"
   },
   {
    "duration": 0,
    "start_time": "2022-08-27T16:36:01.428Z"
   },
   {
    "duration": 0,
    "start_time": "2022-08-27T16:36:01.429Z"
   },
   {
    "duration": 0,
    "start_time": "2022-08-27T16:36:01.430Z"
   },
   {
    "duration": 0,
    "start_time": "2022-08-27T16:36:01.492Z"
   },
   {
    "duration": 0,
    "start_time": "2022-08-27T16:36:01.493Z"
   },
   {
    "duration": 0,
    "start_time": "2022-08-27T16:36:01.494Z"
   },
   {
    "duration": 0,
    "start_time": "2022-08-27T16:36:01.496Z"
   },
   {
    "duration": 0,
    "start_time": "2022-08-27T16:36:01.497Z"
   },
   {
    "duration": 0,
    "start_time": "2022-08-27T16:36:01.498Z"
   },
   {
    "duration": 0,
    "start_time": "2022-08-27T16:36:01.499Z"
   },
   {
    "duration": 0,
    "start_time": "2022-08-27T16:36:01.500Z"
   },
   {
    "duration": 0,
    "start_time": "2022-08-27T16:36:01.502Z"
   },
   {
    "duration": 0,
    "start_time": "2022-08-27T16:36:01.503Z"
   },
   {
    "duration": 0,
    "start_time": "2022-08-27T16:36:01.504Z"
   },
   {
    "duration": 0,
    "start_time": "2022-08-27T16:36:01.505Z"
   },
   {
    "duration": 0,
    "start_time": "2022-08-27T16:36:01.506Z"
   },
   {
    "duration": 0,
    "start_time": "2022-08-27T16:36:01.507Z"
   },
   {
    "duration": 0,
    "start_time": "2022-08-27T16:36:01.508Z"
   },
   {
    "duration": 0,
    "start_time": "2022-08-27T16:36:01.509Z"
   },
   {
    "duration": 0,
    "start_time": "2022-08-27T16:36:01.510Z"
   },
   {
    "duration": 0,
    "start_time": "2022-08-27T16:36:01.511Z"
   },
   {
    "duration": 1,
    "start_time": "2022-08-27T16:36:01.512Z"
   },
   {
    "duration": 0,
    "start_time": "2022-08-27T16:36:01.514Z"
   },
   {
    "duration": 47,
    "start_time": "2022-08-27T16:42:57.391Z"
   },
   {
    "duration": 3,
    "start_time": "2022-08-27T16:43:06.089Z"
   },
   {
    "duration": 673,
    "start_time": "2022-09-01T04:56:11.648Z"
   },
   {
    "duration": 63,
    "start_time": "2022-09-01T04:56:25.045Z"
   },
   {
    "duration": 7,
    "start_time": "2022-09-01T04:56:36.195Z"
   },
   {
    "duration": 7,
    "start_time": "2022-09-01T04:56:54.329Z"
   },
   {
    "duration": 60,
    "start_time": "2022-09-01T04:57:28.434Z"
   },
   {
    "duration": 13,
    "start_time": "2022-09-01T04:57:58.188Z"
   },
   {
    "duration": 17,
    "start_time": "2022-09-01T04:58:31.543Z"
   },
   {
    "duration": 12,
    "start_time": "2022-09-01T05:00:33.894Z"
   },
   {
    "duration": 6,
    "start_time": "2022-09-01T05:04:33.643Z"
   },
   {
    "duration": 24,
    "start_time": "2022-09-01T05:05:34.404Z"
   },
   {
    "duration": 7,
    "start_time": "2022-09-01T05:07:41.870Z"
   },
   {
    "duration": 3,
    "start_time": "2022-09-01T05:09:47.551Z"
   },
   {
    "duration": 46,
    "start_time": "2022-09-01T05:09:50.095Z"
   },
   {
    "duration": 451,
    "start_time": "2022-09-01T05:09:53.970Z"
   },
   {
    "duration": 13,
    "start_time": "2022-09-01T05:09:57.909Z"
   },
   {
    "duration": 16,
    "start_time": "2022-09-01T05:09:59.853Z"
   },
   {
    "duration": 18,
    "start_time": "2022-09-01T05:11:55.041Z"
   },
   {
    "duration": 11,
    "start_time": "2022-09-01T05:13:31.636Z"
   },
   {
    "duration": 11,
    "start_time": "2022-09-01T05:13:42.287Z"
   },
   {
    "duration": 12,
    "start_time": "2022-09-01T05:14:02.852Z"
   },
   {
    "duration": 26,
    "start_time": "2022-09-01T05:14:56.828Z"
   },
   {
    "duration": 15,
    "start_time": "2022-09-01T05:15:04.634Z"
   },
   {
    "duration": 11,
    "start_time": "2022-09-01T06:24:15.199Z"
   },
   {
    "duration": 4,
    "start_time": "2022-09-01T06:27:00.986Z"
   },
   {
    "duration": 40,
    "start_time": "2022-09-01T06:27:08.918Z"
   },
   {
    "duration": 424,
    "start_time": "2022-09-01T19:37:53.679Z"
   },
   {
    "duration": 5,
    "start_time": "2022-09-01T19:38:59.184Z"
   },
   {
    "duration": 4,
    "start_time": "2022-09-01T19:40:10.627Z"
   },
   {
    "duration": 10,
    "start_time": "2022-09-01T19:40:27.687Z"
   },
   {
    "duration": 25,
    "start_time": "2022-09-01T19:42:02.097Z"
   },
   {
    "duration": 4,
    "start_time": "2022-09-01T19:43:31.590Z"
   },
   {
    "duration": 957,
    "start_time": "2022-09-01T19:43:37.820Z"
   },
   {
    "duration": 23,
    "start_time": "2022-09-01T19:43:45.477Z"
   },
   {
    "duration": 138,
    "start_time": "2022-09-02T03:41:36.091Z"
   },
   {
    "duration": 138,
    "start_time": "2022-09-02T03:42:02.475Z"
   },
   {
    "duration": 3,
    "start_time": "2022-09-02T04:20:52.151Z"
   },
   {
    "duration": 3,
    "start_time": "2022-09-02T04:21:03.409Z"
   },
   {
    "duration": 5,
    "start_time": "2022-09-02T04:25:33.643Z"
   },
   {
    "duration": 5,
    "start_time": "2022-09-02T04:26:05.189Z"
   },
   {
    "duration": 28,
    "start_time": "2022-09-02T04:28:25.804Z"
   },
   {
    "duration": 1308,
    "start_time": "2022-09-02T04:29:52.242Z"
   },
   {
    "duration": 582,
    "start_time": "2022-09-02T04:30:04.800Z"
   },
   {
    "duration": 28,
    "start_time": "2022-09-02T04:31:30.401Z"
   },
   {
    "duration": 47,
    "start_time": "2022-09-02T04:38:28.866Z"
   },
   {
    "duration": 78,
    "start_time": "2022-09-02T04:40:03.770Z"
   },
   {
    "duration": 59,
    "start_time": "2022-09-02T04:40:13.060Z"
   },
   {
    "duration": 112,
    "start_time": "2022-09-02T04:40:19.501Z"
   },
   {
    "duration": 23,
    "start_time": "2022-09-02T05:22:52.956Z"
   },
   {
    "duration": 32,
    "start_time": "2022-09-02T05:33:37.446Z"
   },
   {
    "duration": 23,
    "start_time": "2022-09-02T05:34:02.460Z"
   },
   {
    "duration": 25,
    "start_time": "2022-09-02T05:34:37.385Z"
   },
   {
    "duration": 26,
    "start_time": "2022-09-02T05:34:47.468Z"
   },
   {
    "duration": 25,
    "start_time": "2022-09-02T05:39:15.489Z"
   },
   {
    "duration": 23,
    "start_time": "2022-09-02T05:39:31.008Z"
   },
   {
    "duration": 25,
    "start_time": "2022-09-02T05:39:44.329Z"
   },
   {
    "duration": 39,
    "start_time": "2022-09-02T05:42:28.015Z"
   },
   {
    "duration": 28,
    "start_time": "2022-09-02T05:42:38.433Z"
   },
   {
    "duration": 25,
    "start_time": "2022-09-02T05:42:44.759Z"
   },
   {
    "duration": 30,
    "start_time": "2022-09-02T05:47:28.362Z"
   },
   {
    "duration": 25,
    "start_time": "2022-09-02T05:47:50.573Z"
   },
   {
    "duration": 8,
    "start_time": "2022-09-02T05:49:02.064Z"
   },
   {
    "duration": 33,
    "start_time": "2022-09-02T05:50:06.520Z"
   },
   {
    "duration": 27,
    "start_time": "2022-09-02T05:50:13.085Z"
   },
   {
    "duration": 7,
    "start_time": "2022-09-02T05:50:27.246Z"
   },
   {
    "duration": 34,
    "start_time": "2022-09-02T05:59:03.807Z"
   },
   {
    "duration": 73,
    "start_time": "2022-09-02T06:31:09.880Z"
   },
   {
    "duration": 7,
    "start_time": "2022-09-02T06:31:24.680Z"
   },
   {
    "duration": 26,
    "start_time": "2022-09-02T06:31:43.025Z"
   },
   {
    "duration": 25,
    "start_time": "2022-09-02T06:34:35.349Z"
   },
   {
    "duration": 7,
    "start_time": "2022-09-02T06:34:40.262Z"
   },
   {
    "duration": 8,
    "start_time": "2022-09-02T06:34:44.496Z"
   },
   {
    "duration": 27,
    "start_time": "2022-09-02T06:34:47.825Z"
   },
   {
    "duration": 29,
    "start_time": "2022-09-02T06:35:23.401Z"
   },
   {
    "duration": 7,
    "start_time": "2022-09-02T06:35:28.719Z"
   },
   {
    "duration": 25,
    "start_time": "2022-09-02T06:35:31.452Z"
   },
   {
    "duration": 27,
    "start_time": "2022-09-02T06:35:43.217Z"
   },
   {
    "duration": 26,
    "start_time": "2022-09-02T06:35:46.652Z"
   },
   {
    "duration": 22,
    "start_time": "2022-09-02T06:38:52.403Z"
   },
   {
    "duration": 20,
    "start_time": "2022-09-02T06:39:56.688Z"
   },
   {
    "duration": 25,
    "start_time": "2022-09-02T06:40:18.661Z"
   },
   {
    "duration": 8,
    "start_time": "2022-09-02T06:48:27.062Z"
   },
   {
    "duration": 8,
    "start_time": "2022-09-02T06:49:04.554Z"
   },
   {
    "duration": 5,
    "start_time": "2022-09-02T06:50:11.179Z"
   },
   {
    "duration": 8,
    "start_time": "2022-09-02T06:52:20.349Z"
   },
   {
    "duration": 10,
    "start_time": "2022-09-02T06:52:29.081Z"
   },
   {
    "duration": 11,
    "start_time": "2022-09-02T06:53:10.937Z"
   },
   {
    "duration": 10,
    "start_time": "2022-09-02T06:53:30.580Z"
   },
   {
    "duration": 12,
    "start_time": "2022-09-02T06:55:03.719Z"
   },
   {
    "duration": 7,
    "start_time": "2022-09-02T06:56:09.469Z"
   },
   {
    "duration": 53,
    "start_time": "2022-09-02T19:29:19.490Z"
   },
   {
    "duration": 732,
    "start_time": "2022-09-02T19:29:31.887Z"
   },
   {
    "duration": 15,
    "start_time": "2022-09-02T19:29:32.621Z"
   },
   {
    "duration": 19,
    "start_time": "2022-09-02T19:29:32.638Z"
   },
   {
    "duration": 5,
    "start_time": "2022-09-02T19:29:32.659Z"
   },
   {
    "duration": 514,
    "start_time": "2022-09-02T19:29:32.665Z"
   },
   {
    "duration": 27,
    "start_time": "2022-09-02T19:29:33.181Z"
   },
   {
    "duration": 6,
    "start_time": "2022-09-02T19:29:33.210Z"
   },
   {
    "duration": 27,
    "start_time": "2022-09-02T19:29:33.217Z"
   },
   {
    "duration": 839,
    "start_time": "2022-09-02T19:29:33.246Z"
   },
   {
    "duration": 0,
    "start_time": "2022-09-02T19:29:34.089Z"
   },
   {
    "duration": 0,
    "start_time": "2022-09-02T19:29:34.090Z"
   },
   {
    "duration": 0,
    "start_time": "2022-09-02T19:29:34.091Z"
   },
   {
    "duration": 0,
    "start_time": "2022-09-02T19:29:34.092Z"
   },
   {
    "duration": 0,
    "start_time": "2022-09-02T19:29:34.094Z"
   },
   {
    "duration": 0,
    "start_time": "2022-09-02T19:29:34.094Z"
   },
   {
    "duration": 0,
    "start_time": "2022-09-02T19:29:34.095Z"
   },
   {
    "duration": 0,
    "start_time": "2022-09-02T19:29:34.096Z"
   },
   {
    "duration": 0,
    "start_time": "2022-09-02T19:29:34.097Z"
   },
   {
    "duration": 0,
    "start_time": "2022-09-02T19:29:34.098Z"
   },
   {
    "duration": 0,
    "start_time": "2022-09-02T19:29:34.099Z"
   },
   {
    "duration": 0,
    "start_time": "2022-09-02T19:29:34.100Z"
   },
   {
    "duration": 0,
    "start_time": "2022-09-02T19:29:34.101Z"
   },
   {
    "duration": 0,
    "start_time": "2022-09-02T19:29:34.102Z"
   },
   {
    "duration": 0,
    "start_time": "2022-09-02T19:29:34.103Z"
   },
   {
    "duration": 0,
    "start_time": "2022-09-02T19:29:34.104Z"
   },
   {
    "duration": 0,
    "start_time": "2022-09-02T19:29:34.105Z"
   },
   {
    "duration": 0,
    "start_time": "2022-09-02T19:29:34.106Z"
   },
   {
    "duration": 0,
    "start_time": "2022-09-02T19:29:34.107Z"
   },
   {
    "duration": 0,
    "start_time": "2022-09-02T19:29:34.108Z"
   },
   {
    "duration": 0,
    "start_time": "2022-09-02T19:29:34.108Z"
   },
   {
    "duration": 0,
    "start_time": "2022-09-02T19:29:34.110Z"
   },
   {
    "duration": 1,
    "start_time": "2022-09-02T19:29:34.110Z"
   },
   {
    "duration": 0,
    "start_time": "2022-09-02T19:29:34.111Z"
   },
   {
    "duration": 0,
    "start_time": "2022-09-02T19:29:34.112Z"
   },
   {
    "duration": 0,
    "start_time": "2022-09-02T19:29:34.114Z"
   },
   {
    "duration": 0,
    "start_time": "2022-09-02T19:29:34.115Z"
   },
   {
    "duration": 0,
    "start_time": "2022-09-02T19:29:34.116Z"
   },
   {
    "duration": 0,
    "start_time": "2022-09-02T19:29:34.117Z"
   },
   {
    "duration": 0,
    "start_time": "2022-09-02T19:29:34.118Z"
   },
   {
    "duration": 0,
    "start_time": "2022-09-02T19:29:34.119Z"
   },
   {
    "duration": 0,
    "start_time": "2022-09-02T19:29:34.120Z"
   },
   {
    "duration": 0,
    "start_time": "2022-09-02T19:29:34.121Z"
   },
   {
    "duration": 0,
    "start_time": "2022-09-02T19:29:34.122Z"
   },
   {
    "duration": 0,
    "start_time": "2022-09-02T19:29:34.124Z"
   },
   {
    "duration": 0,
    "start_time": "2022-09-02T19:29:34.124Z"
   },
   {
    "duration": 0,
    "start_time": "2022-09-02T19:29:34.125Z"
   },
   {
    "duration": 0,
    "start_time": "2022-09-02T19:29:34.126Z"
   },
   {
    "duration": 0,
    "start_time": "2022-09-02T19:29:34.128Z"
   },
   {
    "duration": 0,
    "start_time": "2022-09-02T19:29:34.128Z"
   },
   {
    "duration": 0,
    "start_time": "2022-09-02T19:29:34.129Z"
   },
   {
    "duration": 0,
    "start_time": "2022-09-02T19:29:34.130Z"
   },
   {
    "duration": 0,
    "start_time": "2022-09-02T19:29:34.131Z"
   },
   {
    "duration": 0,
    "start_time": "2022-09-02T19:29:34.133Z"
   },
   {
    "duration": 0,
    "start_time": "2022-09-02T19:29:34.134Z"
   },
   {
    "duration": 0,
    "start_time": "2022-09-02T19:29:34.135Z"
   },
   {
    "duration": 0,
    "start_time": "2022-09-02T19:29:34.136Z"
   },
   {
    "duration": 0,
    "start_time": "2022-09-02T19:29:34.137Z"
   },
   {
    "duration": 0,
    "start_time": "2022-09-02T19:29:34.138Z"
   },
   {
    "duration": 0,
    "start_time": "2022-09-02T19:29:34.139Z"
   },
   {
    "duration": 0,
    "start_time": "2022-09-02T19:29:34.140Z"
   },
   {
    "duration": 0,
    "start_time": "2022-09-02T19:29:34.202Z"
   },
   {
    "duration": 0,
    "start_time": "2022-09-02T19:29:34.204Z"
   },
   {
    "duration": 0,
    "start_time": "2022-09-02T19:29:34.205Z"
   },
   {
    "duration": 0,
    "start_time": "2022-09-02T19:29:34.206Z"
   },
   {
    "duration": 1,
    "start_time": "2022-09-02T19:29:34.207Z"
   },
   {
    "duration": 0,
    "start_time": "2022-09-02T19:29:34.209Z"
   },
   {
    "duration": 0,
    "start_time": "2022-09-02T19:29:34.210Z"
   },
   {
    "duration": 0,
    "start_time": "2022-09-02T19:29:34.211Z"
   },
   {
    "duration": 0,
    "start_time": "2022-09-02T19:29:34.212Z"
   },
   {
    "duration": 0,
    "start_time": "2022-09-02T19:29:34.213Z"
   },
   {
    "duration": 0,
    "start_time": "2022-09-02T19:29:34.214Z"
   },
   {
    "duration": 0,
    "start_time": "2022-09-02T19:29:34.215Z"
   },
   {
    "duration": 0,
    "start_time": "2022-09-02T19:29:34.215Z"
   },
   {
    "duration": 7,
    "start_time": "2022-09-02T19:29:39.380Z"
   },
   {
    "duration": 6,
    "start_time": "2022-09-02T19:31:23.604Z"
   },
   {
    "duration": 12,
    "start_time": "2022-09-02T19:32:17.618Z"
   },
   {
    "duration": 13,
    "start_time": "2022-09-02T19:32:51.252Z"
   },
   {
    "duration": 12,
    "start_time": "2022-09-02T19:32:57.368Z"
   },
   {
    "duration": 11,
    "start_time": "2022-09-02T19:33:03.126Z"
   },
   {
    "duration": 14,
    "start_time": "2022-09-02T19:33:11.734Z"
   },
   {
    "duration": 12,
    "start_time": "2022-09-02T19:33:30.396Z"
   },
   {
    "duration": 8,
    "start_time": "2022-09-02T19:33:40.890Z"
   },
   {
    "duration": 9,
    "start_time": "2022-09-02T19:34:06.025Z"
   },
   {
    "duration": 565,
    "start_time": "2022-09-02T19:35:13.340Z"
   },
   {
    "duration": 153,
    "start_time": "2022-09-02T19:35:25.233Z"
   },
   {
    "duration": 2162,
    "start_time": "2022-09-02T19:36:02.944Z"
   },
   {
    "duration": 1792,
    "start_time": "2022-09-02T19:36:14.170Z"
   },
   {
    "duration": 1540,
    "start_time": "2022-09-02T19:36:30.620Z"
   },
   {
    "duration": 1574,
    "start_time": "2022-09-02T19:38:33.462Z"
   },
   {
    "duration": 1700,
    "start_time": "2022-09-02T19:38:48.096Z"
   },
   {
    "duration": 1587,
    "start_time": "2022-09-02T19:39:14.533Z"
   },
   {
    "duration": 1649,
    "start_time": "2022-09-02T19:41:02.911Z"
   },
   {
    "duration": 31,
    "start_time": "2022-09-02T19:43:26.969Z"
   },
   {
    "duration": 9,
    "start_time": "2022-09-02T19:43:58.412Z"
   },
   {
    "duration": 9,
    "start_time": "2022-09-02T19:45:20.310Z"
   },
   {
    "duration": 8,
    "start_time": "2022-09-02T19:45:24.631Z"
   },
   {
    "duration": 13,
    "start_time": "2022-09-02T19:45:41.157Z"
   },
   {
    "duration": 4,
    "start_time": "2022-09-02T19:46:45.434Z"
   },
   {
    "duration": 6,
    "start_time": "2022-09-02T19:47:03.305Z"
   },
   {
    "duration": 8,
    "start_time": "2022-09-02T19:48:02.526Z"
   },
   {
    "duration": 11,
    "start_time": "2022-09-02T19:48:25.451Z"
   },
   {
    "duration": 25,
    "start_time": "2022-09-02T19:50:13.937Z"
   },
   {
    "duration": 15,
    "start_time": "2022-09-02T19:50:20.849Z"
   },
   {
    "duration": 21,
    "start_time": "2022-09-02T19:50:38.322Z"
   },
   {
    "duration": 10,
    "start_time": "2022-09-02T19:51:03.496Z"
   },
   {
    "duration": 8,
    "start_time": "2022-09-02T19:51:36.739Z"
   },
   {
    "duration": 10,
    "start_time": "2022-09-02T19:52:16.829Z"
   },
   {
    "duration": 9,
    "start_time": "2022-09-03T03:54:10.142Z"
   },
   {
    "duration": 9,
    "start_time": "2022-09-03T03:54:33.777Z"
   },
   {
    "duration": 16,
    "start_time": "2022-09-03T03:56:13.741Z"
   },
   {
    "duration": 14,
    "start_time": "2022-09-03T03:56:22.305Z"
   },
   {
    "duration": 4,
    "start_time": "2022-09-03T03:56:48.560Z"
   },
   {
    "duration": 3,
    "start_time": "2022-09-03T04:02:23.157Z"
   },
   {
    "duration": 5,
    "start_time": "2022-09-03T04:02:41.497Z"
   },
   {
    "duration": 73,
    "start_time": "2022-09-03T18:32:01.875Z"
   },
   {
    "duration": 841,
    "start_time": "2022-09-03T18:32:09.214Z"
   },
   {
    "duration": 20,
    "start_time": "2022-09-03T18:32:10.057Z"
   },
   {
    "duration": 26,
    "start_time": "2022-09-03T18:32:10.079Z"
   },
   {
    "duration": 27,
    "start_time": "2022-09-03T18:32:10.107Z"
   },
   {
    "duration": 573,
    "start_time": "2022-09-03T18:32:10.137Z"
   },
   {
    "duration": 40,
    "start_time": "2022-09-03T18:32:10.717Z"
   },
   {
    "duration": 6,
    "start_time": "2022-09-03T18:32:10.759Z"
   },
   {
    "duration": 53,
    "start_time": "2022-09-03T18:32:10.768Z"
   },
   {
    "duration": 38,
    "start_time": "2022-09-03T18:32:10.823Z"
   },
   {
    "duration": 7,
    "start_time": "2022-09-03T18:32:10.864Z"
   },
   {
    "duration": 49,
    "start_time": "2022-09-03T18:32:10.873Z"
   },
   {
    "duration": 2,
    "start_time": "2022-09-03T18:32:10.924Z"
   },
   {
    "duration": 4,
    "start_time": "2022-09-03T18:32:10.928Z"
   },
   {
    "duration": 17,
    "start_time": "2022-09-03T18:32:10.934Z"
   },
   {
    "duration": 13,
    "start_time": "2022-09-03T18:32:10.953Z"
   },
   {
    "duration": 15,
    "start_time": "2022-09-03T18:32:10.991Z"
   },
   {
    "duration": 26,
    "start_time": "2022-09-03T18:32:11.008Z"
   },
   {
    "duration": 10,
    "start_time": "2022-09-03T18:32:11.037Z"
   },
   {
    "duration": 3,
    "start_time": "2022-09-03T18:32:11.049Z"
   },
   {
    "duration": 2192,
    "start_time": "2022-09-03T18:32:11.054Z"
   },
   {
    "duration": 3,
    "start_time": "2022-09-03T18:32:13.248Z"
   },
   {
    "duration": 24,
    "start_time": "2022-09-03T18:32:13.253Z"
   },
   {
    "duration": 45,
    "start_time": "2022-09-03T18:32:13.279Z"
   },
   {
    "duration": 15,
    "start_time": "2022-09-03T18:32:13.326Z"
   },
   {
    "duration": 14,
    "start_time": "2022-09-03T18:32:13.343Z"
   },
   {
    "duration": 24,
    "start_time": "2022-09-03T18:32:13.359Z"
   },
   {
    "duration": 34,
    "start_time": "2022-09-03T18:32:13.392Z"
   },
   {
    "duration": 23,
    "start_time": "2022-09-03T18:32:13.431Z"
   },
   {
    "duration": 22,
    "start_time": "2022-09-03T18:32:13.456Z"
   },
   {
    "duration": 58,
    "start_time": "2022-09-03T18:32:13.480Z"
   },
   {
    "duration": 17,
    "start_time": "2022-09-03T18:32:13.540Z"
   },
   {
    "duration": 18,
    "start_time": "2022-09-03T18:32:13.560Z"
   },
   {
    "duration": 40,
    "start_time": "2022-09-03T18:32:13.580Z"
   },
   {
    "duration": 26,
    "start_time": "2022-09-03T18:32:13.623Z"
   },
   {
    "duration": 77,
    "start_time": "2022-09-03T18:32:13.652Z"
   },
   {
    "duration": 5,
    "start_time": "2022-09-03T18:32:13.732Z"
   },
   {
    "duration": 18,
    "start_time": "2022-09-03T18:32:13.740Z"
   },
   {
    "duration": 29,
    "start_time": "2022-09-03T18:32:13.761Z"
   },
   {
    "duration": 46,
    "start_time": "2022-09-03T18:32:13.791Z"
   },
   {
    "duration": 30,
    "start_time": "2022-09-03T18:32:13.839Z"
   },
   {
    "duration": 52,
    "start_time": "2022-09-03T18:32:13.872Z"
   },
   {
    "duration": 22,
    "start_time": "2022-09-03T18:32:13.926Z"
   },
   {
    "duration": 16,
    "start_time": "2022-09-03T18:32:13.949Z"
   },
   {
    "duration": 47,
    "start_time": "2022-09-03T18:32:13.967Z"
   },
   {
    "duration": 38,
    "start_time": "2022-09-03T18:32:14.016Z"
   },
   {
    "duration": 22,
    "start_time": "2022-09-03T18:32:14.057Z"
   },
   {
    "duration": 56,
    "start_time": "2022-09-03T18:32:14.080Z"
   },
   {
    "duration": 20,
    "start_time": "2022-09-03T18:32:14.139Z"
   },
   {
    "duration": 21,
    "start_time": "2022-09-03T18:32:14.161Z"
   },
   {
    "duration": 65,
    "start_time": "2022-09-03T18:32:14.184Z"
   },
   {
    "duration": 17,
    "start_time": "2022-09-03T18:32:14.251Z"
   },
   {
    "duration": 50,
    "start_time": "2022-09-03T18:32:14.269Z"
   },
   {
    "duration": 21,
    "start_time": "2022-09-03T18:32:14.321Z"
   },
   {
    "duration": 16,
    "start_time": "2022-09-03T18:32:14.344Z"
   },
   {
    "duration": 29,
    "start_time": "2022-09-03T18:32:14.362Z"
   },
   {
    "duration": 78,
    "start_time": "2022-09-03T18:32:14.393Z"
   },
   {
    "duration": 65,
    "start_time": "2022-09-03T18:32:14.473Z"
   },
   {
    "duration": 31,
    "start_time": "2022-09-03T18:32:14.540Z"
   },
   {
    "duration": 72,
    "start_time": "2022-09-03T18:32:14.573Z"
   },
   {
    "duration": 14,
    "start_time": "2022-09-03T18:32:14.648Z"
   },
   {
    "duration": 65,
    "start_time": "2022-09-03T18:32:14.664Z"
   },
   {
    "duration": 15,
    "start_time": "2022-09-03T18:32:14.734Z"
   },
   {
    "duration": 65,
    "start_time": "2022-09-03T18:32:14.752Z"
   },
   {
    "duration": 21,
    "start_time": "2022-09-03T18:32:14.819Z"
   },
   {
    "duration": 20,
    "start_time": "2022-09-03T18:32:14.842Z"
   },
   {
    "duration": 54,
    "start_time": "2022-09-03T18:32:14.864Z"
   },
   {
    "duration": 14,
    "start_time": "2022-09-03T18:32:14.920Z"
   },
   {
    "duration": 10,
    "start_time": "2022-09-03T18:32:14.936Z"
   },
   {
    "duration": 6,
    "start_time": "2022-09-03T18:32:14.948Z"
   },
   {
    "duration": 8,
    "start_time": "2022-09-03T18:32:14.956Z"
   },
   {
    "duration": 17,
    "start_time": "2022-09-03T18:32:14.966Z"
   },
   {
    "duration": 37,
    "start_time": "2022-09-03T18:32:14.992Z"
   },
   {
    "duration": 11,
    "start_time": "2022-09-03T18:32:15.031Z"
   },
   {
    "duration": 7,
    "start_time": "2022-09-03T18:32:15.043Z"
   },
   {
    "duration": 166,
    "start_time": "2022-09-03T18:32:31.662Z"
   },
   {
    "duration": 12,
    "start_time": "2022-09-03T18:32:40.302Z"
   },
   {
    "duration": 8,
    "start_time": "2022-09-03T18:34:54.167Z"
   },
   {
    "duration": 4,
    "start_time": "2022-09-03T18:41:15.212Z"
   },
   {
    "duration": 8,
    "start_time": "2022-09-03T21:40:08.629Z"
   },
   {
    "duration": 8,
    "start_time": "2022-09-03T21:40:25.500Z"
   },
   {
    "duration": 9,
    "start_time": "2022-09-03T21:40:33.837Z"
   },
   {
    "duration": 165,
    "start_time": "2022-09-03T21:40:57.483Z"
   },
   {
    "duration": 41,
    "start_time": "2022-09-05T22:42:24.774Z"
   },
   {
    "duration": 587,
    "start_time": "2022-09-05T22:42:31.660Z"
   },
   {
    "duration": 16,
    "start_time": "2022-09-05T22:42:32.249Z"
   },
   {
    "duration": 46,
    "start_time": "2022-09-05T22:42:32.266Z"
   },
   {
    "duration": 21,
    "start_time": "2022-09-05T22:42:32.313Z"
   },
   {
    "duration": 488,
    "start_time": "2022-09-05T22:42:32.336Z"
   },
   {
    "duration": 29,
    "start_time": "2022-09-05T22:42:32.826Z"
   },
   {
    "duration": 7,
    "start_time": "2022-09-05T22:42:32.857Z"
   },
   {
    "duration": 36,
    "start_time": "2022-09-05T22:42:32.884Z"
   },
   {
    "duration": 34,
    "start_time": "2022-09-05T22:42:32.921Z"
   },
   {
    "duration": 7,
    "start_time": "2022-09-05T22:42:32.958Z"
   },
   {
    "duration": 47,
    "start_time": "2022-09-05T22:42:32.966Z"
   },
   {
    "duration": 2,
    "start_time": "2022-09-05T22:42:33.015Z"
   },
   {
    "duration": 26,
    "start_time": "2022-09-05T22:42:33.018Z"
   },
   {
    "duration": 39,
    "start_time": "2022-09-05T22:42:33.046Z"
   },
   {
    "duration": 30,
    "start_time": "2022-09-05T22:42:33.087Z"
   },
   {
    "duration": 17,
    "start_time": "2022-09-05T22:42:33.119Z"
   },
   {
    "duration": 21,
    "start_time": "2022-09-05T22:42:33.138Z"
   },
   {
    "duration": 24,
    "start_time": "2022-09-05T22:42:33.161Z"
   },
   {
    "duration": 12,
    "start_time": "2022-09-05T22:42:33.187Z"
   },
   {
    "duration": 1716,
    "start_time": "2022-09-05T22:42:33.201Z"
   },
   {
    "duration": 3,
    "start_time": "2022-09-05T22:42:34.919Z"
   },
   {
    "duration": 25,
    "start_time": "2022-09-05T22:42:34.923Z"
   },
   {
    "duration": 29,
    "start_time": "2022-09-05T22:42:34.949Z"
   },
   {
    "duration": 29,
    "start_time": "2022-09-05T22:42:34.979Z"
   },
   {
    "duration": 19,
    "start_time": "2022-09-05T22:42:35.010Z"
   },
   {
    "duration": 23,
    "start_time": "2022-09-05T22:42:35.030Z"
   },
   {
    "duration": 23,
    "start_time": "2022-09-05T22:42:35.054Z"
   },
   {
    "duration": 17,
    "start_time": "2022-09-05T22:42:35.081Z"
   },
   {
    "duration": 29,
    "start_time": "2022-09-05T22:42:35.099Z"
   },
   {
    "duration": 21,
    "start_time": "2022-09-05T22:42:35.129Z"
   },
   {
    "duration": 26,
    "start_time": "2022-09-05T22:42:35.151Z"
   },
   {
    "duration": 32,
    "start_time": "2022-09-05T22:42:35.178Z"
   },
   {
    "duration": 24,
    "start_time": "2022-09-05T22:42:35.212Z"
   },
   {
    "duration": 26,
    "start_time": "2022-09-05T22:42:35.237Z"
   },
   {
    "duration": 29,
    "start_time": "2022-09-05T22:42:35.265Z"
   },
   {
    "duration": 14,
    "start_time": "2022-09-05T22:42:35.296Z"
   },
   {
    "duration": 21,
    "start_time": "2022-09-05T22:42:35.311Z"
   },
   {
    "duration": 21,
    "start_time": "2022-09-05T22:42:35.333Z"
   },
   {
    "duration": 24,
    "start_time": "2022-09-05T22:42:35.355Z"
   },
   {
    "duration": 13,
    "start_time": "2022-09-05T22:42:35.381Z"
   },
   {
    "duration": 27,
    "start_time": "2022-09-05T22:42:35.395Z"
   },
   {
    "duration": 8,
    "start_time": "2022-09-05T22:42:35.424Z"
   },
   {
    "duration": 38,
    "start_time": "2022-09-05T22:42:35.433Z"
   },
   {
    "duration": 36,
    "start_time": "2022-09-05T22:42:35.473Z"
   },
   {
    "duration": 20,
    "start_time": "2022-09-05T22:42:35.511Z"
   },
   {
    "duration": 19,
    "start_time": "2022-09-05T22:42:35.533Z"
   },
   {
    "duration": 26,
    "start_time": "2022-09-05T22:42:35.553Z"
   },
   {
    "duration": 20,
    "start_time": "2022-09-05T22:42:35.580Z"
   },
   {
    "duration": 28,
    "start_time": "2022-09-05T22:42:35.601Z"
   },
   {
    "duration": 18,
    "start_time": "2022-09-05T22:42:35.630Z"
   },
   {
    "duration": 27,
    "start_time": "2022-09-05T22:42:35.649Z"
   },
   {
    "duration": 23,
    "start_time": "2022-09-05T22:42:35.677Z"
   },
   {
    "duration": 19,
    "start_time": "2022-09-05T22:42:35.701Z"
   },
   {
    "duration": 165,
    "start_time": "2022-09-05T22:42:35.722Z"
   },
   {
    "duration": 3,
    "start_time": "2022-09-05T22:42:35.889Z"
   },
   {
    "duration": 25,
    "start_time": "2022-09-05T22:42:35.894Z"
   },
   {
    "duration": 10,
    "start_time": "2022-09-05T22:42:35.921Z"
   },
   {
    "duration": 16,
    "start_time": "2022-09-05T22:42:35.932Z"
   },
   {
    "duration": 14,
    "start_time": "2022-09-05T22:42:35.950Z"
   },
   {
    "duration": 18,
    "start_time": "2022-09-05T22:42:35.965Z"
   },
   {
    "duration": 32,
    "start_time": "2022-09-05T22:42:35.985Z"
   },
   {
    "duration": 17,
    "start_time": "2022-09-05T22:42:36.018Z"
   },
   {
    "duration": 27,
    "start_time": "2022-09-05T22:42:36.036Z"
   },
   {
    "duration": 9,
    "start_time": "2022-09-05T22:42:36.065Z"
   },
   {
    "duration": 30,
    "start_time": "2022-09-05T22:42:36.076Z"
   },
   {
    "duration": 33,
    "start_time": "2022-09-05T22:42:36.108Z"
   },
   {
    "duration": 14,
    "start_time": "2022-09-05T22:42:36.143Z"
   },
   {
    "duration": 23,
    "start_time": "2022-09-05T22:42:36.158Z"
   },
   {
    "duration": 10,
    "start_time": "2022-09-05T22:42:36.182Z"
   },
   {
    "duration": 14,
    "start_time": "2022-09-05T22:42:36.193Z"
   },
   {
    "duration": 12,
    "start_time": "2022-09-05T22:42:36.208Z"
   },
   {
    "duration": 39,
    "start_time": "2022-09-05T22:42:36.221Z"
   },
   {
    "duration": 31,
    "start_time": "2022-09-05T22:42:36.261Z"
   },
   {
    "duration": 24,
    "start_time": "2022-09-05T22:42:36.293Z"
   },
   {
    "duration": 34,
    "start_time": "2022-09-05T22:42:36.320Z"
   },
   {
    "duration": 8,
    "start_time": "2022-09-05T22:45:50.808Z"
   },
   {
    "duration": 135,
    "start_time": "2022-09-05T22:46:09.020Z"
   },
   {
    "duration": 47,
    "start_time": "2022-09-06T11:08:26.729Z"
   },
   {
    "duration": 557,
    "start_time": "2022-09-06T11:08:33.721Z"
   },
   {
    "duration": 13,
    "start_time": "2022-09-06T11:08:34.280Z"
   },
   {
    "duration": 17,
    "start_time": "2022-09-06T11:08:34.294Z"
   },
   {
    "duration": 6,
    "start_time": "2022-09-06T11:08:34.313Z"
   },
   {
    "duration": 458,
    "start_time": "2022-09-06T11:08:34.322Z"
   },
   {
    "duration": 24,
    "start_time": "2022-09-06T11:08:34.781Z"
   },
   {
    "duration": 4,
    "start_time": "2022-09-06T11:08:34.806Z"
   },
   {
    "duration": 34,
    "start_time": "2022-09-06T11:08:34.811Z"
   },
   {
    "duration": 29,
    "start_time": "2022-09-06T11:08:34.846Z"
   },
   {
    "duration": 7,
    "start_time": "2022-09-06T11:08:34.876Z"
   },
   {
    "duration": 33,
    "start_time": "2022-09-06T11:08:34.898Z"
   },
   {
    "duration": 2,
    "start_time": "2022-09-06T11:08:34.933Z"
   },
   {
    "duration": 6,
    "start_time": "2022-09-06T11:08:34.937Z"
   },
   {
    "duration": 14,
    "start_time": "2022-09-06T11:08:34.946Z"
   },
   {
    "duration": 12,
    "start_time": "2022-09-06T11:08:34.961Z"
   },
   {
    "duration": 24,
    "start_time": "2022-09-06T11:08:34.974Z"
   },
   {
    "duration": 22,
    "start_time": "2022-09-06T11:08:35.000Z"
   },
   {
    "duration": 11,
    "start_time": "2022-09-06T11:08:35.023Z"
   },
   {
    "duration": 5,
    "start_time": "2022-09-06T11:08:35.035Z"
   },
   {
    "duration": 1547,
    "start_time": "2022-09-06T11:08:35.041Z"
   },
   {
    "duration": 2,
    "start_time": "2022-09-06T11:08:36.589Z"
   },
   {
    "duration": 7,
    "start_time": "2022-09-06T11:08:36.592Z"
   },
   {
    "duration": 13,
    "start_time": "2022-09-06T11:08:36.600Z"
   },
   {
    "duration": 6,
    "start_time": "2022-09-06T11:08:36.615Z"
   },
   {
    "duration": 2,
    "start_time": "2022-09-06T11:08:36.622Z"
   },
   {
    "duration": 12,
    "start_time": "2022-09-06T11:08:36.625Z"
   },
   {
    "duration": 3,
    "start_time": "2022-09-06T11:08:36.638Z"
   },
   {
    "duration": 4,
    "start_time": "2022-09-06T11:08:36.642Z"
   },
   {
    "duration": 8,
    "start_time": "2022-09-06T11:08:36.647Z"
   },
   {
    "duration": 3,
    "start_time": "2022-09-06T11:08:36.656Z"
   },
   {
    "duration": 3,
    "start_time": "2022-09-06T11:08:36.697Z"
   },
   {
    "duration": 13,
    "start_time": "2022-09-06T11:08:36.701Z"
   },
   {
    "duration": 8,
    "start_time": "2022-09-06T11:08:36.715Z"
   },
   {
    "duration": 7,
    "start_time": "2022-09-06T11:08:36.724Z"
   },
   {
    "duration": 16,
    "start_time": "2022-09-06T11:08:36.733Z"
   },
   {
    "duration": 2,
    "start_time": "2022-09-06T11:08:36.751Z"
   },
   {
    "duration": 8,
    "start_time": "2022-09-06T11:08:36.754Z"
   },
   {
    "duration": 6,
    "start_time": "2022-09-06T11:08:36.763Z"
   },
   {
    "duration": 4,
    "start_time": "2022-09-06T11:08:36.771Z"
   },
   {
    "duration": 4,
    "start_time": "2022-09-06T11:08:36.776Z"
   },
   {
    "duration": 7,
    "start_time": "2022-09-06T11:08:36.784Z"
   },
   {
    "duration": 4,
    "start_time": "2022-09-06T11:08:36.792Z"
   },
   {
    "duration": 3,
    "start_time": "2022-09-06T11:08:36.797Z"
   },
   {
    "duration": 4,
    "start_time": "2022-09-06T11:08:36.801Z"
   },
   {
    "duration": 6,
    "start_time": "2022-09-06T11:08:36.806Z"
   },
   {
    "duration": 4,
    "start_time": "2022-09-06T11:08:36.813Z"
   },
   {
    "duration": 3,
    "start_time": "2022-09-06T11:08:36.819Z"
   },
   {
    "duration": 6,
    "start_time": "2022-09-06T11:08:36.824Z"
   },
   {
    "duration": 6,
    "start_time": "2022-09-06T11:08:36.831Z"
   },
   {
    "duration": 7,
    "start_time": "2022-09-06T11:08:36.838Z"
   },
   {
    "duration": 5,
    "start_time": "2022-09-06T11:08:36.846Z"
   },
   {
    "duration": 4,
    "start_time": "2022-09-06T11:08:36.852Z"
   },
   {
    "duration": 5,
    "start_time": "2022-09-06T11:08:36.857Z"
   },
   {
    "duration": 138,
    "start_time": "2022-09-06T11:08:36.863Z"
   },
   {
    "duration": 2,
    "start_time": "2022-09-06T11:08:37.003Z"
   },
   {
    "duration": 5,
    "start_time": "2022-09-06T11:08:37.006Z"
   },
   {
    "duration": 6,
    "start_time": "2022-09-06T11:08:37.012Z"
   },
   {
    "duration": 5,
    "start_time": "2022-09-06T11:08:37.019Z"
   },
   {
    "duration": 123,
    "start_time": "2022-09-06T11:08:37.025Z"
   },
   {
    "duration": 2,
    "start_time": "2022-09-06T11:08:37.150Z"
   },
   {
    "duration": 6,
    "start_time": "2022-09-06T11:08:37.153Z"
   },
   {
    "duration": 5,
    "start_time": "2022-09-06T11:08:37.161Z"
   },
   {
    "duration": 6,
    "start_time": "2022-09-06T11:08:37.167Z"
   },
   {
    "duration": 6,
    "start_time": "2022-09-06T11:08:37.174Z"
   },
   {
    "duration": 7,
    "start_time": "2022-09-06T11:08:37.181Z"
   },
   {
    "duration": 4,
    "start_time": "2022-09-06T11:08:37.189Z"
   },
   {
    "duration": 4,
    "start_time": "2022-09-06T11:08:37.194Z"
   },
   {
    "duration": 4,
    "start_time": "2022-09-06T11:08:37.199Z"
   },
   {
    "duration": 4,
    "start_time": "2022-09-06T11:08:37.205Z"
   },
   {
    "duration": 7,
    "start_time": "2022-09-06T11:08:37.210Z"
   },
   {
    "duration": 3,
    "start_time": "2022-09-06T11:08:37.219Z"
   },
   {
    "duration": 8,
    "start_time": "2022-09-06T11:08:37.224Z"
   },
   {
    "duration": 8,
    "start_time": "2022-09-06T11:08:37.233Z"
   },
   {
    "duration": 4,
    "start_time": "2022-09-06T11:08:37.242Z"
   },
   {
    "duration": 4,
    "start_time": "2022-09-06T11:16:02.346Z"
   },
   {
    "duration": 75,
    "start_time": "2022-09-06T11:17:08.961Z"
   },
   {
    "duration": 7,
    "start_time": "2022-09-06T11:17:39.341Z"
   },
   {
    "duration": 486,
    "start_time": "2022-09-06T11:17:44.918Z"
   },
   {
    "duration": 14,
    "start_time": "2022-09-06T11:17:45.407Z"
   },
   {
    "duration": 20,
    "start_time": "2022-09-06T11:17:45.422Z"
   },
   {
    "duration": 3,
    "start_time": "2022-09-06T11:17:45.443Z"
   },
   {
    "duration": 442,
    "start_time": "2022-09-06T11:17:45.448Z"
   },
   {
    "duration": 21,
    "start_time": "2022-09-06T11:17:45.891Z"
   },
   {
    "duration": 5,
    "start_time": "2022-09-06T11:17:45.913Z"
   },
   {
    "duration": 24,
    "start_time": "2022-09-06T11:17:45.919Z"
   },
   {
    "duration": 53,
    "start_time": "2022-09-06T11:17:45.945Z"
   },
   {
    "duration": 7,
    "start_time": "2022-09-06T11:17:46.000Z"
   },
   {
    "duration": 30,
    "start_time": "2022-09-06T11:17:46.009Z"
   },
   {
    "duration": 2,
    "start_time": "2022-09-06T11:17:46.040Z"
   },
   {
    "duration": 4,
    "start_time": "2022-09-06T11:17:46.044Z"
   },
   {
    "duration": 12,
    "start_time": "2022-09-06T11:17:46.050Z"
   },
   {
    "duration": 36,
    "start_time": "2022-09-06T11:17:46.063Z"
   },
   {
    "duration": 2,
    "start_time": "2022-09-06T11:17:46.100Z"
   },
   {
    "duration": 11,
    "start_time": "2022-09-06T11:17:46.103Z"
   },
   {
    "duration": 11,
    "start_time": "2022-09-06T11:17:46.115Z"
   },
   {
    "duration": 1353,
    "start_time": "2022-09-06T11:17:46.127Z"
   },
   {
    "duration": 3,
    "start_time": "2022-09-06T11:17:47.481Z"
   },
   {
    "duration": 13,
    "start_time": "2022-09-06T11:17:47.485Z"
   },
   {
    "duration": 15,
    "start_time": "2022-09-06T11:17:47.499Z"
   },
   {
    "duration": 9,
    "start_time": "2022-09-06T11:17:47.516Z"
   },
   {
    "duration": 12,
    "start_time": "2022-09-06T11:17:47.527Z"
   },
   {
    "duration": 11,
    "start_time": "2022-09-06T11:17:47.540Z"
   },
   {
    "duration": 8,
    "start_time": "2022-09-06T11:17:47.552Z"
   },
   {
    "duration": 12,
    "start_time": "2022-09-06T11:17:47.562Z"
   },
   {
    "duration": 2,
    "start_time": "2022-09-06T11:17:47.576Z"
   },
   {
    "duration": 14,
    "start_time": "2022-09-06T11:17:47.597Z"
   },
   {
    "duration": 3,
    "start_time": "2022-09-06T11:17:47.613Z"
   },
   {
    "duration": 5,
    "start_time": "2022-09-06T11:17:47.617Z"
   },
   {
    "duration": 4,
    "start_time": "2022-09-06T11:17:47.624Z"
   },
   {
    "duration": 8,
    "start_time": "2022-09-06T11:17:47.630Z"
   },
   {
    "duration": 5,
    "start_time": "2022-09-06T11:17:47.639Z"
   },
   {
    "duration": 8,
    "start_time": "2022-09-06T11:17:47.645Z"
   },
   {
    "duration": 9,
    "start_time": "2022-09-06T11:17:47.654Z"
   },
   {
    "duration": 5,
    "start_time": "2022-09-06T11:17:47.665Z"
   },
   {
    "duration": 4,
    "start_time": "2022-09-06T11:17:47.672Z"
   },
   {
    "duration": 6,
    "start_time": "2022-09-06T11:17:47.677Z"
   },
   {
    "duration": 13,
    "start_time": "2022-09-06T11:17:47.685Z"
   },
   {
    "duration": 2,
    "start_time": "2022-09-06T11:17:47.702Z"
   },
   {
    "duration": 5,
    "start_time": "2022-09-06T11:17:47.705Z"
   },
   {
    "duration": 5,
    "start_time": "2022-09-06T11:17:47.711Z"
   },
   {
    "duration": 11,
    "start_time": "2022-09-06T11:17:47.717Z"
   },
   {
    "duration": 6,
    "start_time": "2022-09-06T11:17:47.729Z"
   },
   {
    "duration": 136,
    "start_time": "2022-09-06T11:17:47.736Z"
   },
   {
    "duration": 2,
    "start_time": "2022-09-06T11:17:47.873Z"
   },
   {
    "duration": 14,
    "start_time": "2022-09-06T11:17:47.877Z"
   },
   {
    "duration": 21,
    "start_time": "2022-09-06T11:17:47.893Z"
   },
   {
    "duration": 6,
    "start_time": "2022-09-06T11:17:47.915Z"
   },
   {
    "duration": 132,
    "start_time": "2022-09-06T11:17:47.923Z"
   },
   {
    "duration": 2,
    "start_time": "2022-09-06T11:17:48.056Z"
   },
   {
    "duration": 6,
    "start_time": "2022-09-06T11:17:48.060Z"
   },
   {
    "duration": 3,
    "start_time": "2022-09-06T11:17:48.068Z"
   },
   {
    "duration": 88,
    "start_time": "2022-09-06T11:17:48.072Z"
   },
   {
    "duration": 0,
    "start_time": "2022-09-06T11:17:48.162Z"
   },
   {
    "duration": 0,
    "start_time": "2022-09-06T11:17:48.163Z"
   },
   {
    "duration": 0,
    "start_time": "2022-09-06T11:17:48.163Z"
   },
   {
    "duration": 0,
    "start_time": "2022-09-06T11:17:48.164Z"
   },
   {
    "duration": 0,
    "start_time": "2022-09-06T11:17:48.165Z"
   },
   {
    "duration": 0,
    "start_time": "2022-09-06T11:17:48.166Z"
   },
   {
    "duration": 0,
    "start_time": "2022-09-06T11:17:48.167Z"
   },
   {
    "duration": 0,
    "start_time": "2022-09-06T11:17:48.168Z"
   },
   {
    "duration": 0,
    "start_time": "2022-09-06T11:17:48.169Z"
   },
   {
    "duration": 0,
    "start_time": "2022-09-06T11:17:48.169Z"
   },
   {
    "duration": 0,
    "start_time": "2022-09-06T11:17:48.170Z"
   },
   {
    "duration": 7,
    "start_time": "2022-09-06T11:18:47.359Z"
   },
   {
    "duration": 7,
    "start_time": "2022-09-06T11:19:02.887Z"
   },
   {
    "duration": 7,
    "start_time": "2022-09-06T11:19:14.130Z"
   },
   {
    "duration": 7,
    "start_time": "2022-09-06T11:19:18.875Z"
   },
   {
    "duration": 4,
    "start_time": "2022-09-06T11:26:21.815Z"
   },
   {
    "duration": 42,
    "start_time": "2022-09-06T22:46:11.564Z"
   },
   {
    "duration": 658,
    "start_time": "2022-09-06T22:46:17.161Z"
   },
   {
    "duration": 14,
    "start_time": "2022-09-06T22:46:17.821Z"
   },
   {
    "duration": 17,
    "start_time": "2022-09-06T22:46:17.836Z"
   },
   {
    "duration": 2,
    "start_time": "2022-09-06T22:46:17.854Z"
   },
   {
    "duration": 452,
    "start_time": "2022-09-06T22:46:17.858Z"
   },
   {
    "duration": 28,
    "start_time": "2022-09-06T22:46:18.311Z"
   },
   {
    "duration": 5,
    "start_time": "2022-09-06T22:46:18.340Z"
   },
   {
    "duration": 29,
    "start_time": "2022-09-06T22:46:18.346Z"
   },
   {
    "duration": 31,
    "start_time": "2022-09-06T22:46:18.377Z"
   },
   {
    "duration": 7,
    "start_time": "2022-09-06T22:46:18.409Z"
   },
   {
    "duration": 32,
    "start_time": "2022-09-06T22:46:18.437Z"
   },
   {
    "duration": 2,
    "start_time": "2022-09-06T22:46:18.470Z"
   },
   {
    "duration": 10,
    "start_time": "2022-09-06T22:46:18.474Z"
   },
   {
    "duration": 27,
    "start_time": "2022-09-06T22:46:18.487Z"
   },
   {
    "duration": 12,
    "start_time": "2022-09-06T22:46:18.516Z"
   },
   {
    "duration": 10,
    "start_time": "2022-09-06T22:46:18.529Z"
   },
   {
    "duration": 11,
    "start_time": "2022-09-06T22:46:18.540Z"
   },
   {
    "duration": 9,
    "start_time": "2022-09-06T22:46:18.552Z"
   },
   {
    "duration": 1641,
    "start_time": "2022-09-06T22:46:18.563Z"
   },
   {
    "duration": 2,
    "start_time": "2022-09-06T22:46:20.206Z"
   },
   {
    "duration": 16,
    "start_time": "2022-09-06T22:46:20.209Z"
   },
   {
    "duration": 16,
    "start_time": "2022-09-06T22:46:20.226Z"
   },
   {
    "duration": 12,
    "start_time": "2022-09-06T22:46:20.243Z"
   },
   {
    "duration": 22,
    "start_time": "2022-09-06T22:46:20.256Z"
   },
   {
    "duration": 12,
    "start_time": "2022-09-06T22:46:20.280Z"
   },
   {
    "duration": 4,
    "start_time": "2022-09-06T22:46:20.294Z"
   },
   {
    "duration": 14,
    "start_time": "2022-09-06T22:46:20.299Z"
   },
   {
    "duration": 15,
    "start_time": "2022-09-06T22:46:20.314Z"
   },
   {
    "duration": 19,
    "start_time": "2022-09-06T22:46:20.330Z"
   },
   {
    "duration": 5,
    "start_time": "2022-09-06T22:46:20.360Z"
   },
   {
    "duration": 15,
    "start_time": "2022-09-06T22:46:20.366Z"
   },
   {
    "duration": 5,
    "start_time": "2022-09-06T22:46:20.383Z"
   },
   {
    "duration": 18,
    "start_time": "2022-09-06T22:46:20.390Z"
   },
   {
    "duration": 6,
    "start_time": "2022-09-06T22:46:20.409Z"
   },
   {
    "duration": 8,
    "start_time": "2022-09-06T22:46:20.416Z"
   },
   {
    "duration": 9,
    "start_time": "2022-09-06T22:46:20.426Z"
   },
   {
    "duration": 6,
    "start_time": "2022-09-06T22:46:20.436Z"
   },
   {
    "duration": 12,
    "start_time": "2022-09-06T22:46:20.443Z"
   },
   {
    "duration": 5,
    "start_time": "2022-09-06T22:46:20.457Z"
   },
   {
    "duration": 9,
    "start_time": "2022-09-06T22:46:20.463Z"
   },
   {
    "duration": 5,
    "start_time": "2022-09-06T22:46:20.475Z"
   },
   {
    "duration": 7,
    "start_time": "2022-09-06T22:46:20.481Z"
   },
   {
    "duration": 4,
    "start_time": "2022-09-06T22:46:20.489Z"
   },
   {
    "duration": 5,
    "start_time": "2022-09-06T22:46:20.495Z"
   },
   {
    "duration": 8,
    "start_time": "2022-09-06T22:46:20.501Z"
   },
   {
    "duration": 136,
    "start_time": "2022-09-06T22:46:20.510Z"
   },
   {
    "duration": 2,
    "start_time": "2022-09-06T22:46:20.648Z"
   },
   {
    "duration": 8,
    "start_time": "2022-09-06T22:46:20.651Z"
   },
   {
    "duration": 16,
    "start_time": "2022-09-06T22:46:20.660Z"
   },
   {
    "duration": 8,
    "start_time": "2022-09-06T22:46:20.678Z"
   },
   {
    "duration": 140,
    "start_time": "2022-09-06T22:46:20.687Z"
   },
   {
    "duration": 135,
    "start_time": "2022-09-06T22:46:20.829Z"
   },
   {
    "duration": 4,
    "start_time": "2022-09-06T22:46:20.965Z"
   },
   {
    "duration": 79,
    "start_time": "2022-09-06T22:46:20.971Z"
   },
   {
    "duration": 0,
    "start_time": "2022-09-06T22:46:21.052Z"
   },
   {
    "duration": 0,
    "start_time": "2022-09-06T22:46:21.053Z"
   },
   {
    "duration": 0,
    "start_time": "2022-09-06T22:46:21.055Z"
   },
   {
    "duration": 0,
    "start_time": "2022-09-06T22:46:21.056Z"
   },
   {
    "duration": 0,
    "start_time": "2022-09-06T22:46:21.058Z"
   },
   {
    "duration": 0,
    "start_time": "2022-09-06T22:46:21.059Z"
   },
   {
    "duration": 0,
    "start_time": "2022-09-06T22:46:21.061Z"
   },
   {
    "duration": 0,
    "start_time": "2022-09-06T22:46:21.062Z"
   },
   {
    "duration": 0,
    "start_time": "2022-09-06T22:46:21.064Z"
   },
   {
    "duration": 0,
    "start_time": "2022-09-06T22:46:21.065Z"
   },
   {
    "duration": 0,
    "start_time": "2022-09-06T22:46:21.067Z"
   },
   {
    "duration": 0,
    "start_time": "2022-09-06T22:46:21.068Z"
   },
   {
    "duration": 35488,
    "start_time": "2022-09-06T22:47:47.722Z"
   },
   {
    "duration": 8,
    "start_time": "2022-09-06T22:48:23.212Z"
   },
   {
    "duration": 44,
    "start_time": "2022-09-06T22:54:54.962Z"
   },
   {
    "duration": 8,
    "start_time": "2022-09-06T22:55:54.087Z"
   },
   {
    "duration": 55,
    "start_time": "2022-09-07T00:57:09.639Z"
   },
   {
    "duration": 3,
    "start_time": "2022-09-07T00:57:16.271Z"
   },
   {
    "duration": 51,
    "start_time": "2022-09-07T01:15:34.175Z"
   },
   {
    "duration": 655,
    "start_time": "2022-09-08T02:29:42.085Z"
   },
   {
    "duration": 13,
    "start_time": "2022-09-08T02:29:42.741Z"
   },
   {
    "duration": 16,
    "start_time": "2022-09-08T02:29:42.756Z"
   },
   {
    "duration": 2,
    "start_time": "2022-09-08T02:29:42.774Z"
   },
   {
    "duration": 451,
    "start_time": "2022-09-08T02:29:42.777Z"
   },
   {
    "duration": 24,
    "start_time": "2022-09-08T02:29:43.230Z"
   },
   {
    "duration": 5,
    "start_time": "2022-09-08T02:29:43.255Z"
   },
   {
    "duration": 23,
    "start_time": "2022-09-08T02:29:43.261Z"
   },
   {
    "duration": 27,
    "start_time": "2022-09-08T02:29:43.286Z"
   },
   {
    "duration": 24,
    "start_time": "2022-09-08T02:29:43.316Z"
   },
   {
    "duration": 30,
    "start_time": "2022-09-08T02:29:43.341Z"
   },
   {
    "duration": 2,
    "start_time": "2022-09-08T02:29:43.373Z"
   },
   {
    "duration": 6,
    "start_time": "2022-09-08T02:29:43.376Z"
   },
   {
    "duration": 14,
    "start_time": "2022-09-08T02:29:43.383Z"
   },
   {
    "duration": 11,
    "start_time": "2022-09-08T02:29:43.398Z"
   },
   {
    "duration": 5,
    "start_time": "2022-09-08T02:29:43.410Z"
   },
   {
    "duration": 23,
    "start_time": "2022-09-08T02:29:43.416Z"
   },
   {
    "duration": 13,
    "start_time": "2022-09-08T02:29:43.440Z"
   },
   {
    "duration": 1556,
    "start_time": "2022-09-08T02:29:43.454Z"
   },
   {
    "duration": 2,
    "start_time": "2022-09-08T02:29:45.012Z"
   },
   {
    "duration": 16,
    "start_time": "2022-09-08T02:29:45.015Z"
   },
   {
    "duration": 20,
    "start_time": "2022-09-08T02:29:45.033Z"
   },
   {
    "duration": 14,
    "start_time": "2022-09-08T02:29:45.054Z"
   },
   {
    "duration": 27,
    "start_time": "2022-09-08T02:29:45.070Z"
   },
   {
    "duration": 29,
    "start_time": "2022-09-08T02:29:45.098Z"
   },
   {
    "duration": 24,
    "start_time": "2022-09-08T02:29:45.128Z"
   },
   {
    "duration": 16,
    "start_time": "2022-09-08T02:29:45.153Z"
   },
   {
    "duration": 7,
    "start_time": "2022-09-08T02:29:45.173Z"
   },
   {
    "duration": 33,
    "start_time": "2022-09-08T02:29:45.181Z"
   },
   {
    "duration": 6,
    "start_time": "2022-09-08T02:29:45.216Z"
   },
   {
    "duration": 22,
    "start_time": "2022-09-08T02:29:45.223Z"
   },
   {
    "duration": 22,
    "start_time": "2022-09-08T02:29:45.246Z"
   },
   {
    "duration": 32,
    "start_time": "2022-09-08T02:29:45.270Z"
   },
   {
    "duration": 13,
    "start_time": "2022-09-08T02:29:45.304Z"
   },
   {
    "duration": 6,
    "start_time": "2022-09-08T02:29:45.318Z"
   },
   {
    "duration": 7,
    "start_time": "2022-09-08T02:29:45.325Z"
   },
   {
    "duration": 6,
    "start_time": "2022-09-08T02:29:45.334Z"
   },
   {
    "duration": 6,
    "start_time": "2022-09-08T02:29:45.341Z"
   },
   {
    "duration": 4,
    "start_time": "2022-09-08T02:29:45.348Z"
   },
   {
    "duration": 5,
    "start_time": "2022-09-08T02:29:45.354Z"
   },
   {
    "duration": 5,
    "start_time": "2022-09-08T02:29:45.360Z"
   },
   {
    "duration": 8,
    "start_time": "2022-09-08T02:29:45.366Z"
   },
   {
    "duration": 5,
    "start_time": "2022-09-08T02:29:45.375Z"
   },
   {
    "duration": 10,
    "start_time": "2022-09-08T02:29:45.381Z"
   },
   {
    "duration": 12,
    "start_time": "2022-09-08T02:29:45.392Z"
   },
   {
    "duration": 143,
    "start_time": "2022-09-08T02:29:45.406Z"
   },
   {
    "duration": 2,
    "start_time": "2022-09-08T02:29:45.551Z"
   },
   {
    "duration": 6,
    "start_time": "2022-09-08T02:29:45.554Z"
   },
   {
    "duration": 7,
    "start_time": "2022-09-08T02:29:45.561Z"
   },
   {
    "duration": 6,
    "start_time": "2022-09-08T02:29:45.569Z"
   },
   {
    "duration": 152,
    "start_time": "2022-09-08T02:29:45.576Z"
   },
   {
    "duration": 9,
    "start_time": "2022-09-08T02:29:45.729Z"
   },
   {
    "duration": 6,
    "start_time": "2022-09-08T02:29:45.740Z"
   },
   {
    "duration": 50,
    "start_time": "2022-09-08T02:29:45.748Z"
   },
   {
    "duration": 0,
    "start_time": "2022-09-08T02:29:45.799Z"
   },
   {
    "duration": 0,
    "start_time": "2022-09-08T02:29:45.801Z"
   },
   {
    "duration": 0,
    "start_time": "2022-09-08T02:29:45.802Z"
   },
   {
    "duration": 0,
    "start_time": "2022-09-08T02:29:45.803Z"
   },
   {
    "duration": 0,
    "start_time": "2022-09-08T02:29:45.805Z"
   },
   {
    "duration": 0,
    "start_time": "2022-09-08T02:29:45.806Z"
   },
   {
    "duration": 0,
    "start_time": "2022-09-08T02:29:45.807Z"
   },
   {
    "duration": 0,
    "start_time": "2022-09-08T02:29:45.809Z"
   },
   {
    "duration": 0,
    "start_time": "2022-09-08T02:29:45.810Z"
   },
   {
    "duration": 0,
    "start_time": "2022-09-08T02:29:45.812Z"
   },
   {
    "duration": 0,
    "start_time": "2022-09-08T02:29:45.813Z"
   },
   {
    "duration": 0,
    "start_time": "2022-09-08T02:29:45.814Z"
   },
   {
    "duration": 67,
    "start_time": "2022-09-08T04:26:34.834Z"
   }
  ],
  "celltoolbar": "Edit Metadata",
  "kernelspec": {
   "display_name": "Python 3 (ipykernel)",
   "language": "python",
   "name": "python3"
  },
  "language_info": {
   "codemirror_mode": {
    "name": "ipython",
    "version": 3
   },
   "file_extension": ".py",
   "mimetype": "text/x-python",
   "name": "python",
   "nbconvert_exporter": "python",
   "pygments_lexer": "ipython3",
   "version": "3.9.5"
  },
  "toc": {
   "base_numbering": 1,
   "nav_menu": {},
   "number_sections": true,
   "sideBar": true,
   "skip_h1_title": true,
   "title_cell": "Table of Contents",
   "title_sidebar": "Contents",
   "toc_cell": false,
   "toc_position": {},
   "toc_section_display": true,
   "toc_window_display": false
  }
 },
 "nbformat": 4,
 "nbformat_minor": 2
}
